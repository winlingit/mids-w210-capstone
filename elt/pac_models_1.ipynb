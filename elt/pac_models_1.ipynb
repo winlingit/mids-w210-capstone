{
 "cells": [
  {
   "cell_type": "code",
   "execution_count": 1,
   "metadata": {
    "collapsed": true
   },
   "outputs": [],
   "source": [
    "import pandas as pd\n",
    "import numpy as np\n",
    "import pickle\n",
    "import os\n",
    "from sklearn import metrics\n",
    "from sklearn.preprocessing import PolynomialFeatures\n",
    "from sklearn.linear_model import LogisticRegression\n",
    "import seaborn as sns\n",
    "from sklearn.ensemble import RandomForestClassifier\n",
    "%matplotlib inline"
   ]
  },
  {
   "cell_type": "markdown",
   "metadata": {},
   "source": [
    "# PAC Contribution Similarity Model\n",
    "\n",
    "This model will examine the PAC contribution similarity between each member and the bill cosponsors"
   ]
  },
  {
   "cell_type": "markdown",
   "metadata": {},
   "source": [
    "## Format the bills file\n",
    "- Combine sponsors with cosponsors\n",
    "- pull in amendment sponsors"
   ]
  },
  {
   "cell_type": "code",
   "execution_count": 13,
   "metadata": {
    "collapsed": false
   },
   "outputs": [
    {
     "name": "stderr",
     "output_type": "stream",
     "text": [
      "C:\\Users\\Steve\\Anaconda3\\lib\\site-packages\\IPython\\core\\interactiveshell.py:2717: DtypeWarning: Columns (8) have mixed types. Specify dtype option on import or set low_memory=False.\n",
      "  interactivity=interactivity, compiler=compiler, result=result)\n"
     ]
    }
   ],
   "source": [
    "cols =['body','session','bill_id','date',\n",
    "       'sponsor_party','cs_count_r','cs_count_d', 'cosponsors',\n",
    "       'topic','sponsor','bill_slug_official','bill_title','bill_slug','committee']\n",
    "bills = pd.read_csv('../../propublica/bills.csv', names=cols)\n",
    "bills.dropna(subset=['sponsor'], inplace = True)"
   ]
  },
  {
   "cell_type": "code",
   "execution_count": 21,
   "metadata": {
    "collapsed": true
   },
   "outputs": [],
   "source": [
    "def combine_sponsor(row):\n",
    "    \"\"\"Adds sponsor to list of cosponsors. Updates party count\"\"\"\n",
    "    \n",
    "    cosponsors = eval(row.cosponsors)[0]\n",
    "    cs_count_r = row.cs_count_r\n",
    "    cs_count_d = row.cs_count_d\n",
    "    \n",
    "    if row.sponsor not in cosponsors:\n",
    "        cosponsors.append(row.sponsor)\n",
    "\n",
    "        if row.sponsor_party == \"R\":\n",
    "            cs_count_r += 1\n",
    "        elif row.sponsor_party == \"D\":\n",
    "            cs_count_d += 1\n",
    "    return [row.bill_id, cosponsors, cs_count_r, cs_count_d]"
   ]
  },
  {
   "cell_type": "code",
   "execution_count": 22,
   "metadata": {
    "collapsed": false
   },
   "outputs": [],
   "source": [
    "bills = bills.apply(combine_sponsor, axis = 1).tolist()\n",
    "bills = pd.DataFrame(bills, columns=['bill_id', 'cosponsors', 'cs_count_r', 'cs_count_d'])"
   ]
  },
  {
   "cell_type": "code",
   "execution_count": 24,
   "metadata": {
    "collapsed": false
   },
   "outputs": [
    {
     "data": {
      "text/html": [
       "<div>\n",
       "<table border=\"1\" class=\"dataframe\">\n",
       "  <thead>\n",
       "    <tr style=\"text-align: right;\">\n",
       "      <th></th>\n",
       "      <th>bill_id</th>\n",
       "      <th>cosponsors</th>\n",
       "      <th>cs_count_r</th>\n",
       "      <th>cs_count_d</th>\n",
       "    </tr>\n",
       "  </thead>\n",
       "  <tbody>\n",
       "    <tr>\n",
       "      <th>0</th>\n",
       "      <td>hr4437-115</td>\n",
       "      <td>[W000799, A000374, B001291, C001087, K000378, ...</td>\n",
       "      <td>8</td>\n",
       "      <td>1</td>\n",
       "    </tr>\n",
       "    <tr>\n",
       "      <th>1</th>\n",
       "      <td>hjres121-115</td>\n",
       "      <td>[B001305, D000615, N000184, W000798, C001105, ...</td>\n",
       "      <td>16</td>\n",
       "      <td>0</td>\n",
       "    </tr>\n",
       "    <tr>\n",
       "      <th>2</th>\n",
       "      <td>hr4450-115</td>\n",
       "      <td>[J000255, C001094, N000147, V000131]</td>\n",
       "      <td>2</td>\n",
       "      <td>2</td>\n",
       "    </tr>\n",
       "    <tr>\n",
       "      <th>3</th>\n",
       "      <td>hr4436-115</td>\n",
       "      <td>[G000582]</td>\n",
       "      <td>1</td>\n",
       "      <td>0</td>\n",
       "    </tr>\n",
       "    <tr>\n",
       "      <th>4</th>\n",
       "      <td>hr4448-115</td>\n",
       "      <td>[S001148]</td>\n",
       "      <td>1</td>\n",
       "      <td>0</td>\n",
       "    </tr>\n",
       "  </tbody>\n",
       "</table>\n",
       "</div>"
      ],
      "text/plain": [
       "        bill_id                                         cosponsors  \\\n",
       "0    hr4437-115  [W000799, A000374, B001291, C001087, K000378, ...   \n",
       "1  hjres121-115  [B001305, D000615, N000184, W000798, C001105, ...   \n",
       "2    hr4450-115               [J000255, C001094, N000147, V000131]   \n",
       "3    hr4436-115                                          [G000582]   \n",
       "4    hr4448-115                                          [S001148]   \n",
       "\n",
       "   cs_count_r  cs_count_d  \n",
       "0           8           1  \n",
       "1          16           0  \n",
       "2           2           2  \n",
       "3           1           0  \n",
       "4           1           0  "
      ]
     },
     "execution_count": 24,
     "metadata": {},
     "output_type": "execute_result"
    }
   ],
   "source": [
    "bills.head()"
   ]
  },
  {
   "cell_type": "code",
   "execution_count": 25,
   "metadata": {
    "collapsed": true
   },
   "outputs": [],
   "source": [
    "amendments = pd.read_csv('../../propublica/amendments.csv')\n",
    "amendments = amendments[['bill_id', 'accepted']]\n",
    "bills = pd.merge(bills, amendments, how = 'left', on='bill_id')"
   ]
  },
  {
   "cell_type": "code",
   "execution_count": 45,
   "metadata": {
    "collapsed": false
   },
   "outputs": [],
   "source": [
    "members = pd.read_csv('../../propublica/members_all.csv', encoding='latin1')"
   ]
  },
  {
   "cell_type": "code",
   "execution_count": 52,
   "metadata": {
    "collapsed": false,
    "scrolled": true
   },
   "outputs": [],
   "source": [
    "party_lookup = {}\n",
    "for i in members.session.unique():\n",
    "    party_lookup[i] = {}\n",
    "for i, row in members.iterrows():\n",
    "    party_lookup[row.session][row.id] = row.party"
   ]
  },
  {
   "cell_type": "code",
   "execution_count": 62,
   "metadata": {
    "collapsed": false
   },
   "outputs": [],
   "source": [
    "def amendment_party(row):\n",
    "    am_count_r = 0\n",
    "    am_count_d = 0\n",
    "    if pd.isnull(row.accepted):\n",
    "        return [np.nan, np.nan]\n",
    "\n",
    "    else:\n",
    "        for mem_id in eval(row.accepted):\n",
    "            p = party_lookup[int(row.bill_id.split(\"-\")[1])]\n",
    "            if p == 'D':\n",
    "                am_count_d += 1\n",
    "            elif p == 'R':\n",
    "                am_count_r += 1\n",
    "        return [am_count_r, am_count_d]\n",
    "amendments = bills.apply(amendment_party, axis = 1).tolist()\n",
    "amendments = pd.DataFrame(amendments, columns=['am_count_r', 'am_count_d'])\n",
    "bills.reset_index(inplace=True, drop=True)\n",
    "bills = pd.concat([bills, amendments], axis = 1)\n",
    "bills.drop_duplicates(subset=['bill_id'], inplace=True)\n",
    "bills.to_csv('../../propublica/bills_cosponsors.csv', index = False)"
   ]
  },
  {
   "cell_type": "code",
   "execution_count": 71,
   "metadata": {
    "collapsed": false
   },
   "outputs": [
    {
     "data": {
      "text/html": [
       "<div>\n",
       "<table border=\"1\" class=\"dataframe\">\n",
       "  <thead>\n",
       "    <tr style=\"text-align: right;\">\n",
       "      <th></th>\n",
       "      <th>bill_id</th>\n",
       "      <th>cosponsors</th>\n",
       "      <th>cs_count_r</th>\n",
       "      <th>cs_count_d</th>\n",
       "      <th>accepted</th>\n",
       "      <th>am_count_r</th>\n",
       "      <th>am_count_d</th>\n",
       "    </tr>\n",
       "  </thead>\n",
       "  <tbody>\n",
       "    <tr>\n",
       "      <th>0</th>\n",
       "      <td>hr4437-115</td>\n",
       "      <td>[W000799, A000374, B001291, C001087, K000378, ...</td>\n",
       "      <td>8</td>\n",
       "      <td>1</td>\n",
       "      <td>NaN</td>\n",
       "      <td>NaN</td>\n",
       "      <td>NaN</td>\n",
       "    </tr>\n",
       "  </tbody>\n",
       "</table>\n",
       "</div>"
      ],
      "text/plain": [
       "      bill_id                                         cosponsors  cs_count_r  \\\n",
       "0  hr4437-115  [W000799, A000374, B001291, C001087, K000378, ...           8   \n",
       "\n",
       "   cs_count_d accepted  am_count_r  am_count_d  \n",
       "0           1      NaN         NaN         NaN  "
      ]
     },
     "execution_count": 71,
     "metadata": {},
     "output_type": "execute_result"
    }
   ],
   "source": [
    "bills.head(1)"
   ]
  },
  {
   "cell_type": "markdown",
   "metadata": {},
   "source": [
    "## Get Overall PAC cosine similarity\n",
    "\n",
    "We are going to get cosine similarity between each member and all cosponsors for all PAC contributions (regardless of industry) in:\n",
    "1. The previous election year.\n",
    "2. The previous three election years.\n",
    "\n",
    "These have already been calculated in a different notebook, so we just need to look them up. We will get central tendency statistics using pandas describe for each member X cosponsor set."
   ]
  },
  {
   "cell_type": "code",
   "execution_count": 73,
   "metadata": {
    "collapsed": false
   },
   "outputs": [],
   "source": [
    "with open('../../campaign_contributions/open_secrets/processed/cosign_all_congress.pickle', 'rb') as f:\n",
    "    contributions = pickle.load(f)\n",
    "test = pd.read_csv('../test.csv')\n",
    "train = pd.read_csv('../train.csv')\n",
    "dev = pd.read_csv('../dev.csv')\n",
    "dfs = [train, dev, test]"
   ]
  },
  {
   "cell_type": "code",
   "execution_count": 95,
   "metadata": {
    "collapsed": false
   },
   "outputs": [
    {
     "data": {
      "text/plain": [
       "[1164371, 582186, 194062]"
      ]
     },
     "execution_count": 95,
     "metadata": {},
     "output_type": "execute_result"
    }
   ],
   "source": [
    "[len(df) for df in dfs]"
   ]
  },
  {
   "cell_type": "code",
   "execution_count": 97,
   "metadata": {
    "collapsed": false
   },
   "outputs": [],
   "source": [
    "test = pd.merge(test, bills, how = 'left', on = 'bill_id')\n",
    "train = pd.merge(train, bills, how = 'left', on = 'bill_id')\n",
    "dev = pd.merge(dev, bills, how = 'left', on = 'bill_id')"
   ]
  },
  {
   "cell_type": "code",
   "execution_count": 105,
   "metadata": {
    "collapsed": false
   },
   "outputs": [
    {
     "data": {
      "text/plain": [
       "[0.15967247552541244, 0.15921372207507567, 0.15999010625470211]"
      ]
     },
     "execution_count": 105,
     "metadata": {},
     "output_type": "execute_result"
    }
   ],
   "source": [
    "# missing 15% of data\n",
    "dfs = [train, dev, test]\n",
    "[df.cosponsors.isnull().sum() / len(df) for df in dfs]"
   ]
  },
  {
   "cell_type": "code",
   "execution_count": 109,
   "metadata": {
    "collapsed": true
   },
   "outputs": [],
   "source": [
    "for df in dfs:\n",
    "    df['cs_count'] = df.cs_count_r + df.cs_count_d\n",
    "    df.dropna(subset=['cosponsors'], inplace = True)"
   ]
  },
  {
   "cell_type": "code",
   "execution_count": 110,
   "metadata": {
    "collapsed": false
   },
   "outputs": [
    {
     "data": {
      "text/html": [
       "<div>\n",
       "<table border=\"1\" class=\"dataframe\">\n",
       "  <thead>\n",
       "    <tr style=\"text-align: right;\">\n",
       "      <th></th>\n",
       "      <th>full_set_id</th>\n",
       "      <th>member_id</th>\n",
       "      <th>party</th>\n",
       "      <th>vote_position</th>\n",
       "      <th>congress</th>\n",
       "      <th>roll_call</th>\n",
       "      <th>chamber</th>\n",
       "      <th>session</th>\n",
       "      <th>bill_id</th>\n",
       "      <th>majority_pos_rep</th>\n",
       "      <th>majority_pos_dem</th>\n",
       "      <th>broke_from_party</th>\n",
       "      <th>cosponsors</th>\n",
       "      <th>cs_count_r</th>\n",
       "      <th>cs_count_d</th>\n",
       "      <th>accepted</th>\n",
       "      <th>am_count_r</th>\n",
       "      <th>am_count_d</th>\n",
       "      <th>cs_count</th>\n",
       "    </tr>\n",
       "  </thead>\n",
       "  <tbody>\n",
       "    <tr>\n",
       "      <th>0</th>\n",
       "      <td>1688860</td>\n",
       "      <td>P000449</td>\n",
       "      <td>R</td>\n",
       "      <td>Yes</td>\n",
       "      <td>114.0</td>\n",
       "      <td>179.0</td>\n",
       "      <td>Senate</td>\n",
       "      <td>1.0</td>\n",
       "      <td>hr644-114</td>\n",
       "      <td>Yes</td>\n",
       "      <td>Yes</td>\n",
       "      <td>0</td>\n",
       "      <td>[T000462, S001179, C001106, K000376, G000564, ...</td>\n",
       "      <td>8.0</td>\n",
       "      <td>0.0</td>\n",
       "      <td>['H000338']</td>\n",
       "      <td>0.0</td>\n",
       "      <td>0.0</td>\n",
       "      <td>8.0</td>\n",
       "    </tr>\n",
       "    <tr>\n",
       "      <th>2</th>\n",
       "      <td>1805766</td>\n",
       "      <td>W000812</td>\n",
       "      <td>R</td>\n",
       "      <td>Yes</td>\n",
       "      <td>114.0</td>\n",
       "      <td>398.0</td>\n",
       "      <td>House</td>\n",
       "      <td>2.0</td>\n",
       "      <td>hr5485-114</td>\n",
       "      <td>Yes</td>\n",
       "      <td>No</td>\n",
       "      <td>0</td>\n",
       "      <td>[C001045]</td>\n",
       "      <td>1.0</td>\n",
       "      <td>0.0</td>\n",
       "      <td>['D000626', 'B001243', 'A000369', 'H001053', '...</td>\n",
       "      <td>0.0</td>\n",
       "      <td>0.0</td>\n",
       "      <td>1.0</td>\n",
       "    </tr>\n",
       "    <tr>\n",
       "      <th>3</th>\n",
       "      <td>370303</td>\n",
       "      <td>H000067</td>\n",
       "      <td>D</td>\n",
       "      <td>No</td>\n",
       "      <td>105.0</td>\n",
       "      <td>589.0</td>\n",
       "      <td>House</td>\n",
       "      <td>1.0</td>\n",
       "      <td>hres305-105</td>\n",
       "      <td>Yes</td>\n",
       "      <td>No</td>\n",
       "      <td>0</td>\n",
       "      <td>[S000675]</td>\n",
       "      <td>1.0</td>\n",
       "      <td>0.0</td>\n",
       "      <td>[]</td>\n",
       "      <td>0.0</td>\n",
       "      <td>0.0</td>\n",
       "      <td>1.0</td>\n",
       "    </tr>\n",
       "    <tr>\n",
       "      <th>4</th>\n",
       "      <td>515194</td>\n",
       "      <td>J000032</td>\n",
       "      <td>D</td>\n",
       "      <td>Yes</td>\n",
       "      <td>106.0</td>\n",
       "      <td>295.0</td>\n",
       "      <td>House</td>\n",
       "      <td>2.0</td>\n",
       "      <td>hr4201-106</td>\n",
       "      <td>Yes</td>\n",
       "      <td>No</td>\n",
       "      <td>1</td>\n",
       "      <td>[T000058, L000096, S000822, S000364, G000210, ...</td>\n",
       "      <td>31.0</td>\n",
       "      <td>2.0</td>\n",
       "      <td>['']</td>\n",
       "      <td>0.0</td>\n",
       "      <td>0.0</td>\n",
       "      <td>33.0</td>\n",
       "    </tr>\n",
       "    <tr>\n",
       "      <th>5</th>\n",
       "      <td>368515</td>\n",
       "      <td>B000556</td>\n",
       "      <td>R</td>\n",
       "      <td>Yes</td>\n",
       "      <td>105.0</td>\n",
       "      <td>601.0</td>\n",
       "      <td>House</td>\n",
       "      <td>1.0</td>\n",
       "      <td>hr2386-105</td>\n",
       "      <td>Yes</td>\n",
       "      <td>No</td>\n",
       "      <td>0</td>\n",
       "      <td>[C000830, G000152, G000212, J000174, M000481, ...</td>\n",
       "      <td>14.0</td>\n",
       "      <td>0.0</td>\n",
       "      <td>['', 'B000403']</td>\n",
       "      <td>0.0</td>\n",
       "      <td>0.0</td>\n",
       "      <td>14.0</td>\n",
       "    </tr>\n",
       "  </tbody>\n",
       "</table>\n",
       "</div>"
      ],
      "text/plain": [
       "   full_set_id member_id party vote_position  congress  roll_call chamber  \\\n",
       "0      1688860   P000449     R           Yes     114.0      179.0  Senate   \n",
       "2      1805766   W000812     R           Yes     114.0      398.0   House   \n",
       "3       370303   H000067     D            No     105.0      589.0   House   \n",
       "4       515194   J000032     D           Yes     106.0      295.0   House   \n",
       "5       368515   B000556     R           Yes     105.0      601.0   House   \n",
       "\n",
       "   session      bill_id majority_pos_rep majority_pos_dem  broke_from_party  \\\n",
       "0      1.0    hr644-114              Yes              Yes                 0   \n",
       "2      2.0   hr5485-114              Yes               No                 0   \n",
       "3      1.0  hres305-105              Yes               No                 0   \n",
       "4      2.0   hr4201-106              Yes               No                 1   \n",
       "5      1.0   hr2386-105              Yes               No                 0   \n",
       "\n",
       "                                          cosponsors  cs_count_r  cs_count_d  \\\n",
       "0  [T000462, S001179, C001106, K000376, G000564, ...         8.0         0.0   \n",
       "2                                          [C001045]         1.0         0.0   \n",
       "3                                          [S000675]         1.0         0.0   \n",
       "4  [T000058, L000096, S000822, S000364, G000210, ...        31.0         2.0   \n",
       "5  [C000830, G000152, G000212, J000174, M000481, ...        14.0         0.0   \n",
       "\n",
       "                                            accepted  am_count_r  am_count_d  \\\n",
       "0                                        ['H000338']         0.0         0.0   \n",
       "2  ['D000626', 'B001243', 'A000369', 'H001053', '...         0.0         0.0   \n",
       "3                                                 []         0.0         0.0   \n",
       "4                                               ['']         0.0         0.0   \n",
       "5                                    ['', 'B000403']         0.0         0.0   \n",
       "\n",
       "   cs_count  \n",
       "0       8.0  \n",
       "2       1.0  \n",
       "3       1.0  \n",
       "4      33.0  \n",
       "5      14.0  "
      ]
     },
     "execution_count": 110,
     "metadata": {},
     "output_type": "execute_result"
    }
   ],
   "source": [
    "train.head()"
   ]
  },
  {
   "cell_type": "code",
   "execution_count": 128,
   "metadata": {
    "collapsed": false
   },
   "outputs": [],
   "source": [
    "def cs_same_party(row):\n",
    "    \"\"\"Calculates the percentage of cosponsors that are of same party\"\"\"\n",
    "    try:\n",
    "        if row.party == 'D':\n",
    "            numerator = row.cs_count_d\n",
    "        elif row.party == 'R':\n",
    "            numerator = row.cs_count_r\n",
    "        return numerator / row.cs_count\n",
    "        \n",
    "        \n",
    "    except:\n",
    "        return np.nan\n",
    "\n",
    "def cosponsor_cosign(row, span):\n",
    "    \"\"\"Get central tendency stats of cosign similarities between cosponsors and member\"\"\"\n",
    "    cosponsors = row.cosponsors\n",
    "    \n",
    "    cosigns = []\n",
    "    for cosponsor in cosponsors:\n",
    "        try:\n",
    "            cong_n = int(row.congress)\n",
    "            members = (row.member_id, cosponsor)\n",
    "\n",
    "            cosign = contributions[cong_n][span][members]\n",
    "        except:\n",
    "            cosign = np.nan\n",
    "        cosigns.append(cosign)\n",
    "    stats = pd.Series(cosigns).describe().to_dict()\n",
    "    if pd.isnull(stats['std']):\n",
    "        stats['std'] = 0\n",
    "    return stats\n",
    "\n",
    "def get_predictors(df_votes):\n",
    "    df_votes['cosponsor_same_party'] = df_votes.apply(cs_same_party, axis =1)\n",
    "    for span in ['p3', 'current']:\n",
    "        df_cosponsor_cosign = df_votes.apply(cosponsor_cosign, span = span, axis = 1)\n",
    "        df_cosponsor_cosign = pd.DataFrame(df_cosponsor_cosign.tolist(), index=df_cosponsor_cosign.index)\n",
    "        df_cosponsor_cosign.columns = [\"cs_\" + span + \"_\" + x for x in df_cosponsor_cosign.columns]\n",
    "        df_votes = pd.concat([df_votes, df_cosponsor_cosign], axis = 1)\n",
    "    \n",
    "    \n",
    "    return df_votes"
   ]
  },
  {
   "cell_type": "code",
   "execution_count": 129,
   "metadata": {
    "collapsed": false
   },
   "outputs": [],
   "source": [
    "train, dev, test = map(get_predictors, dfs)"
   ]
  },
  {
   "cell_type": "code",
   "execution_count": 134,
   "metadata": {
    "collapsed": false
   },
   "outputs": [
    {
     "data": {
      "text/plain": [
       "(416020, 36)"
      ]
     },
     "execution_count": 134,
     "metadata": {},
     "output_type": "execute_result"
    }
   ],
   "source": [
    "train.dropna(subset=['cs_p3_mean', 'cs_current_mean']).shape"
   ]
  },
  {
   "cell_type": "code",
   "execution_count": 136,
   "metadata": {
    "collapsed": true
   },
   "outputs": [],
   "source": [
    "# checkpoint!\n",
    "train.to_csv('train_c1.csv', index = False)\n",
    "dev.to_csv('dev_c1.csv', index = False)\n",
    "test.to_csv('test_c1.csv', index = False)"
   ]
  },
  {
   "cell_type": "markdown",
   "metadata": {},
   "source": [
    "## Get industry-specific PAC similarity\n",
    "This is based on PACs that are active for a given committee. Cosine also calculated in a separate notebook"
   ]
  },
  {
   "cell_type": "code",
   "execution_count": 139,
   "metadata": {
    "collapsed": false
   },
   "outputs": [
    {
     "name": "stderr",
     "output_type": "stream",
     "text": [
      "C:\\Users\\Steve\\Anaconda3\\lib\\site-packages\\IPython\\core\\interactiveshell.py:2717: DtypeWarning: Columns (8) have mixed types. Specify dtype option on import or set low_memory=False.\n",
      "  interactivity=interactivity, compiler=compiler, result=result)\n"
     ]
    }
   ],
   "source": [
    "cols =['body','session','bill_id','date',\n",
    "       'sponsor_party','cs_count_r','cs_count_d', 'cosponsors',\n",
    "       'topic','sponsor','bill_slug_official','bill_title','bill_slug','committee','committee_code']\n",
    "committees = pd.read_csv('../../propublica/bills2.csv', names=cols)\n",
    "committees = committees[['bill_id', 'committee_code']]\n",
    "committees.dropna(inplace=True)\n",
    "committees.drop_duplicates(subset=['bill_id'], inplace=True)"
   ]
  },
  {
   "cell_type": "code",
   "execution_count": 147,
   "metadata": {
    "collapsed": false
   },
   "outputs": [],
   "source": [
    "dfs = [train, dev, test]\n",
    "def join_committees(df_votes, committees = committees):\n",
    "    df_votes = pd.merge(df_votes, committees, how = 'left', on = 'bill_id')\n",
    "    return df_votes\n",
    "train, dev, test = map(join_committees, dfs)"
   ]
  },
  {
   "cell_type": "code",
   "execution_count": 155,
   "metadata": {
    "collapsed": false
   },
   "outputs": [],
   "source": [
    "committee_cosine = {}\n",
    "path = '../../campaign_contributions/open_secrets/processed/committees/'\n",
    "for file in os.listdir(path):\n",
    "    congress_num = int(file.split(\".\")[0][-3:])\n",
    "    with open(path + file, 'rb') as f:\n",
    "        \n",
    "        committee_cosine[congress_num] = pickle.load(f)"
   ]
  },
  {
   "cell_type": "code",
   "execution_count": 162,
   "metadata": {
    "collapsed": true
   },
   "outputs": [],
   "source": [
    "def committee_cosign(row, span):\n",
    "    \"\"\"Get central tendency stats of cosine similarities \n",
    "    between cosponsors and member for committee PAC contributions\"\"\"\n",
    "    cosponsors = row.cosponsors\n",
    "    try:\n",
    "        bill_committees = eval(row.committee_code)\n",
    "    except:\n",
    "        bill_committees = []\n",
    "    cosigns = []\n",
    "    for cosponsor in cosponsors:\n",
    "        for bill_committee in bill_committees:\n",
    "            try:\n",
    "                cong_n = int(row.congress)\n",
    "                members = (row.member_id, cosponsor)\n",
    "\n",
    "                cosign = committee_cosine[cong_n][bill_committee][span][members]\n",
    "            except:\n",
    "                cosign = np.nan\n",
    "            cosigns.append(cosign)\n",
    "    stats = pd.Series(cosigns).describe().to_dict()\n",
    "    if pd.isnull(stats['std']):\n",
    "        stats['std'] = 0\n",
    "    return stats\n",
    "\n",
    "def get_predictors(df_votes):\n",
    "    for span in ['p3', 'current']:\n",
    "        df_cosponsor_cosign = df_votes.apply(committee_cosign, span = span, axis = 1)\n",
    "        df_cosponsor_cosign = pd.DataFrame(df_cosponsor_cosign.tolist(), index=df_cosponsor_cosign.index)\n",
    "        df_cosponsor_cosign.columns = [\"com_\" + span + \"_\" + x for x in df_cosponsor_cosign.columns]\n",
    "        df_votes = pd.concat([df_votes, df_cosponsor_cosign], axis = 1)\n",
    "    \n",
    "    \n",
    "    return df_votes"
   ]
  },
  {
   "cell_type": "code",
   "execution_count": 163,
   "metadata": {
    "collapsed": false
   },
   "outputs": [],
   "source": [
    "dfs = [train, dev, test]\n",
    "train, dev, test = map(get_predictors, dfs)"
   ]
  },
  {
   "cell_type": "code",
   "execution_count": 165,
   "metadata": {
    "collapsed": false
   },
   "outputs": [],
   "source": [
    "# checkpoint!\n",
    "train.to_csv('train_c2.csv', index = False)\n",
    "dev.to_csv('dev_c2.csv', index = False)\n",
    "test.to_csv('test_c2.csv', index = False)"
   ]
  },
  {
   "cell_type": "markdown",
   "metadata": {},
   "source": [
    "## Initial Model\n",
    "Will start with a no-frills logistic regression to see if feature set is worth pursuing"
   ]
  },
  {
   "cell_type": "code",
   "execution_count": 166,
   "metadata": {
    "collapsed": false
   },
   "outputs": [
    {
     "data": {
      "text/plain": [
       "(978453, 53)"
      ]
     },
     "execution_count": 166,
     "metadata": {},
     "output_type": "execute_result"
    }
   ],
   "source": [
    "train.shape"
   ]
  },
  {
   "cell_type": "code",
   "execution_count": 169,
   "metadata": {
    "collapsed": false
   },
   "outputs": [
    {
     "data": {
      "text/html": [
       "<div>\n",
       "<table border=\"1\" class=\"dataframe\">\n",
       "  <thead>\n",
       "    <tr style=\"text-align: right;\">\n",
       "      <th></th>\n",
       "      <th>full_set_id</th>\n",
       "      <th>member_id</th>\n",
       "      <th>party</th>\n",
       "      <th>vote_position</th>\n",
       "      <th>congress</th>\n",
       "      <th>roll_call</th>\n",
       "      <th>chamber</th>\n",
       "      <th>session</th>\n",
       "      <th>bill_id</th>\n",
       "      <th>majority_pos_rep</th>\n",
       "      <th>majority_pos_dem</th>\n",
       "      <th>broke_from_party</th>\n",
       "      <th>cosponsors</th>\n",
       "      <th>cs_count_r</th>\n",
       "      <th>cs_count_d</th>\n",
       "      <th>accepted</th>\n",
       "      <th>am_count_r</th>\n",
       "      <th>am_count_d</th>\n",
       "      <th>cs_count</th>\n",
       "      <th>cosponsor_same_party</th>\n",
       "      <th>cs_p3_25%</th>\n",
       "      <th>cs_p3_50%</th>\n",
       "      <th>cs_p3_75%</th>\n",
       "      <th>cs_p3_count</th>\n",
       "      <th>cs_p3_max</th>\n",
       "      <th>cs_p3_mean</th>\n",
       "      <th>cs_p3_min</th>\n",
       "      <th>cs_p3_std</th>\n",
       "      <th>cs_current_25%</th>\n",
       "      <th>cs_current_50%</th>\n",
       "      <th>cs_current_75%</th>\n",
       "      <th>cs_current_count</th>\n",
       "      <th>cs_current_max</th>\n",
       "      <th>cs_current_mean</th>\n",
       "      <th>cs_current_min</th>\n",
       "      <th>cs_current_std</th>\n",
       "      <th>committee_code</th>\n",
       "      <th>com_p3_25%</th>\n",
       "      <th>com_p3_50%</th>\n",
       "      <th>com_p3_75%</th>\n",
       "      <th>com_p3_count</th>\n",
       "      <th>com_p3_max</th>\n",
       "      <th>com_p3_mean</th>\n",
       "      <th>com_p3_min</th>\n",
       "      <th>com_p3_std</th>\n",
       "      <th>com_current_25%</th>\n",
       "      <th>com_current_50%</th>\n",
       "      <th>com_current_75%</th>\n",
       "      <th>com_current_count</th>\n",
       "      <th>com_current_max</th>\n",
       "      <th>com_current_mean</th>\n",
       "      <th>com_current_min</th>\n",
       "      <th>com_current_std</th>\n",
       "    </tr>\n",
       "  </thead>\n",
       "  <tbody>\n",
       "    <tr>\n",
       "      <th>0</th>\n",
       "      <td>1688860</td>\n",
       "      <td>P000449</td>\n",
       "      <td>R</td>\n",
       "      <td>Yes</td>\n",
       "      <td>114.0</td>\n",
       "      <td>179.0</td>\n",
       "      <td>Senate</td>\n",
       "      <td>1.0</td>\n",
       "      <td>hr644-114</td>\n",
       "      <td>Yes</td>\n",
       "      <td>Yes</td>\n",
       "      <td>0</td>\n",
       "      <td>[T000462, S001179, C001106, K000376, G000564, ...</td>\n",
       "      <td>8.0</td>\n",
       "      <td>0.0</td>\n",
       "      <td>['H000338']</td>\n",
       "      <td>0.0</td>\n",
       "      <td>0.0</td>\n",
       "      <td>8.0</td>\n",
       "      <td>1.000000</td>\n",
       "      <td>0.766293</td>\n",
       "      <td>0.784280</td>\n",
       "      <td>0.792026</td>\n",
       "      <td>6.0</td>\n",
       "      <td>0.961586</td>\n",
       "      <td>0.796232</td>\n",
       "      <td>0.692337</td>\n",
       "      <td>0.089060</td>\n",
       "      <td>NaN</td>\n",
       "      <td>NaN</td>\n",
       "      <td>NaN</td>\n",
       "      <td>0.0</td>\n",
       "      <td>NaN</td>\n",
       "      <td>NaN</td>\n",
       "      <td>NaN</td>\n",
       "      <td>0.000000</td>\n",
       "      <td>['HSWM']</td>\n",
       "      <td>0.906999</td>\n",
       "      <td>0.952209</td>\n",
       "      <td>0.953485</td>\n",
       "      <td>6.0</td>\n",
       "      <td>0.974722</td>\n",
       "      <td>0.932448</td>\n",
       "      <td>0.869707</td>\n",
       "      <td>0.041407</td>\n",
       "      <td>NaN</td>\n",
       "      <td>NaN</td>\n",
       "      <td>NaN</td>\n",
       "      <td>0.0</td>\n",
       "      <td>NaN</td>\n",
       "      <td>NaN</td>\n",
       "      <td>NaN</td>\n",
       "      <td>0.0</td>\n",
       "    </tr>\n",
       "    <tr>\n",
       "      <th>1</th>\n",
       "      <td>1805766</td>\n",
       "      <td>W000812</td>\n",
       "      <td>R</td>\n",
       "      <td>Yes</td>\n",
       "      <td>114.0</td>\n",
       "      <td>398.0</td>\n",
       "      <td>House</td>\n",
       "      <td>2.0</td>\n",
       "      <td>hr5485-114</td>\n",
       "      <td>Yes</td>\n",
       "      <td>No</td>\n",
       "      <td>0</td>\n",
       "      <td>[C001045]</td>\n",
       "      <td>1.0</td>\n",
       "      <td>0.0</td>\n",
       "      <td>['D000626', 'B001243', 'A000369', 'H001053', '...</td>\n",
       "      <td>0.0</td>\n",
       "      <td>0.0</td>\n",
       "      <td>1.0</td>\n",
       "      <td>1.000000</td>\n",
       "      <td>NaN</td>\n",
       "      <td>NaN</td>\n",
       "      <td>NaN</td>\n",
       "      <td>0.0</td>\n",
       "      <td>NaN</td>\n",
       "      <td>NaN</td>\n",
       "      <td>NaN</td>\n",
       "      <td>0.000000</td>\n",
       "      <td>NaN</td>\n",
       "      <td>NaN</td>\n",
       "      <td>NaN</td>\n",
       "      <td>0.0</td>\n",
       "      <td>NaN</td>\n",
       "      <td>NaN</td>\n",
       "      <td>NaN</td>\n",
       "      <td>0.000000</td>\n",
       "      <td>['HSAP']</td>\n",
       "      <td>NaN</td>\n",
       "      <td>NaN</td>\n",
       "      <td>NaN</td>\n",
       "      <td>0.0</td>\n",
       "      <td>NaN</td>\n",
       "      <td>NaN</td>\n",
       "      <td>NaN</td>\n",
       "      <td>0.000000</td>\n",
       "      <td>NaN</td>\n",
       "      <td>NaN</td>\n",
       "      <td>NaN</td>\n",
       "      <td>0.0</td>\n",
       "      <td>NaN</td>\n",
       "      <td>NaN</td>\n",
       "      <td>NaN</td>\n",
       "      <td>0.0</td>\n",
       "    </tr>\n",
       "    <tr>\n",
       "      <th>2</th>\n",
       "      <td>370303</td>\n",
       "      <td>H000067</td>\n",
       "      <td>D</td>\n",
       "      <td>No</td>\n",
       "      <td>105.0</td>\n",
       "      <td>589.0</td>\n",
       "      <td>House</td>\n",
       "      <td>1.0</td>\n",
       "      <td>hres305-105</td>\n",
       "      <td>Yes</td>\n",
       "      <td>No</td>\n",
       "      <td>0</td>\n",
       "      <td>[S000675]</td>\n",
       "      <td>1.0</td>\n",
       "      <td>0.0</td>\n",
       "      <td>[]</td>\n",
       "      <td>0.0</td>\n",
       "      <td>0.0</td>\n",
       "      <td>1.0</td>\n",
       "      <td>0.000000</td>\n",
       "      <td>NaN</td>\n",
       "      <td>NaN</td>\n",
       "      <td>NaN</td>\n",
       "      <td>0.0</td>\n",
       "      <td>NaN</td>\n",
       "      <td>NaN</td>\n",
       "      <td>NaN</td>\n",
       "      <td>0.000000</td>\n",
       "      <td>NaN</td>\n",
       "      <td>NaN</td>\n",
       "      <td>NaN</td>\n",
       "      <td>0.0</td>\n",
       "      <td>NaN</td>\n",
       "      <td>NaN</td>\n",
       "      <td>NaN</td>\n",
       "      <td>0.000000</td>\n",
       "      <td>NaN</td>\n",
       "      <td>NaN</td>\n",
       "      <td>NaN</td>\n",
       "      <td>NaN</td>\n",
       "      <td>0.0</td>\n",
       "      <td>NaN</td>\n",
       "      <td>NaN</td>\n",
       "      <td>NaN</td>\n",
       "      <td>0.000000</td>\n",
       "      <td>NaN</td>\n",
       "      <td>NaN</td>\n",
       "      <td>NaN</td>\n",
       "      <td>0.0</td>\n",
       "      <td>NaN</td>\n",
       "      <td>NaN</td>\n",
       "      <td>NaN</td>\n",
       "      <td>0.0</td>\n",
       "    </tr>\n",
       "    <tr>\n",
       "      <th>3</th>\n",
       "      <td>515194</td>\n",
       "      <td>J000032</td>\n",
       "      <td>D</td>\n",
       "      <td>Yes</td>\n",
       "      <td>106.0</td>\n",
       "      <td>295.0</td>\n",
       "      <td>House</td>\n",
       "      <td>2.0</td>\n",
       "      <td>hr4201-106</td>\n",
       "      <td>Yes</td>\n",
       "      <td>No</td>\n",
       "      <td>1</td>\n",
       "      <td>[T000058, L000096, S000822, S000364, G000210, ...</td>\n",
       "      <td>31.0</td>\n",
       "      <td>2.0</td>\n",
       "      <td>['']</td>\n",
       "      <td>0.0</td>\n",
       "      <td>0.0</td>\n",
       "      <td>33.0</td>\n",
       "      <td>0.060606</td>\n",
       "      <td>0.607485</td>\n",
       "      <td>0.621555</td>\n",
       "      <td>0.625903</td>\n",
       "      <td>5.0</td>\n",
       "      <td>0.676521</td>\n",
       "      <td>0.619793</td>\n",
       "      <td>0.567499</td>\n",
       "      <td>0.039194</td>\n",
       "      <td>0.72798</td>\n",
       "      <td>0.738136</td>\n",
       "      <td>0.748842</td>\n",
       "      <td>5.0</td>\n",
       "      <td>0.753055</td>\n",
       "      <td>0.731779</td>\n",
       "      <td>0.690881</td>\n",
       "      <td>0.024856</td>\n",
       "      <td>NaN</td>\n",
       "      <td>NaN</td>\n",
       "      <td>NaN</td>\n",
       "      <td>NaN</td>\n",
       "      <td>0.0</td>\n",
       "      <td>NaN</td>\n",
       "      <td>NaN</td>\n",
       "      <td>NaN</td>\n",
       "      <td>0.000000</td>\n",
       "      <td>NaN</td>\n",
       "      <td>NaN</td>\n",
       "      <td>NaN</td>\n",
       "      <td>0.0</td>\n",
       "      <td>NaN</td>\n",
       "      <td>NaN</td>\n",
       "      <td>NaN</td>\n",
       "      <td>0.0</td>\n",
       "    </tr>\n",
       "    <tr>\n",
       "      <th>4</th>\n",
       "      <td>368515</td>\n",
       "      <td>B000556</td>\n",
       "      <td>R</td>\n",
       "      <td>Yes</td>\n",
       "      <td>105.0</td>\n",
       "      <td>601.0</td>\n",
       "      <td>House</td>\n",
       "      <td>1.0</td>\n",
       "      <td>hr2386-105</td>\n",
       "      <td>Yes</td>\n",
       "      <td>No</td>\n",
       "      <td>0</td>\n",
       "      <td>[C000830, G000152, G000212, J000174, M000481, ...</td>\n",
       "      <td>14.0</td>\n",
       "      <td>0.0</td>\n",
       "      <td>['', 'B000403']</td>\n",
       "      <td>0.0</td>\n",
       "      <td>0.0</td>\n",
       "      <td>14.0</td>\n",
       "      <td>1.000000</td>\n",
       "      <td>NaN</td>\n",
       "      <td>NaN</td>\n",
       "      <td>NaN</td>\n",
       "      <td>0.0</td>\n",
       "      <td>NaN</td>\n",
       "      <td>NaN</td>\n",
       "      <td>NaN</td>\n",
       "      <td>0.000000</td>\n",
       "      <td>NaN</td>\n",
       "      <td>NaN</td>\n",
       "      <td>NaN</td>\n",
       "      <td>0.0</td>\n",
       "      <td>NaN</td>\n",
       "      <td>NaN</td>\n",
       "      <td>NaN</td>\n",
       "      <td>0.000000</td>\n",
       "      <td>NaN</td>\n",
       "      <td>NaN</td>\n",
       "      <td>NaN</td>\n",
       "      <td>NaN</td>\n",
       "      <td>0.0</td>\n",
       "      <td>NaN</td>\n",
       "      <td>NaN</td>\n",
       "      <td>NaN</td>\n",
       "      <td>0.000000</td>\n",
       "      <td>NaN</td>\n",
       "      <td>NaN</td>\n",
       "      <td>NaN</td>\n",
       "      <td>0.0</td>\n",
       "      <td>NaN</td>\n",
       "      <td>NaN</td>\n",
       "      <td>NaN</td>\n",
       "      <td>0.0</td>\n",
       "    </tr>\n",
       "  </tbody>\n",
       "</table>\n",
       "</div>"
      ],
      "text/plain": [
       "   full_set_id member_id party vote_position  congress  roll_call chamber  \\\n",
       "0      1688860   P000449     R           Yes     114.0      179.0  Senate   \n",
       "1      1805766   W000812     R           Yes     114.0      398.0   House   \n",
       "2       370303   H000067     D            No     105.0      589.0   House   \n",
       "3       515194   J000032     D           Yes     106.0      295.0   House   \n",
       "4       368515   B000556     R           Yes     105.0      601.0   House   \n",
       "\n",
       "   session      bill_id majority_pos_rep majority_pos_dem  broke_from_party  \\\n",
       "0      1.0    hr644-114              Yes              Yes                 0   \n",
       "1      2.0   hr5485-114              Yes               No                 0   \n",
       "2      1.0  hres305-105              Yes               No                 0   \n",
       "3      2.0   hr4201-106              Yes               No                 1   \n",
       "4      1.0   hr2386-105              Yes               No                 0   \n",
       "\n",
       "                                          cosponsors  cs_count_r  cs_count_d  \\\n",
       "0  [T000462, S001179, C001106, K000376, G000564, ...         8.0         0.0   \n",
       "1                                          [C001045]         1.0         0.0   \n",
       "2                                          [S000675]         1.0         0.0   \n",
       "3  [T000058, L000096, S000822, S000364, G000210, ...        31.0         2.0   \n",
       "4  [C000830, G000152, G000212, J000174, M000481, ...        14.0         0.0   \n",
       "\n",
       "                                            accepted  am_count_r  am_count_d  \\\n",
       "0                                        ['H000338']         0.0         0.0   \n",
       "1  ['D000626', 'B001243', 'A000369', 'H001053', '...         0.0         0.0   \n",
       "2                                                 []         0.0         0.0   \n",
       "3                                               ['']         0.0         0.0   \n",
       "4                                    ['', 'B000403']         0.0         0.0   \n",
       "\n",
       "   cs_count  cosponsor_same_party  cs_p3_25%  cs_p3_50%  cs_p3_75%  \\\n",
       "0       8.0              1.000000   0.766293   0.784280   0.792026   \n",
       "1       1.0              1.000000        NaN        NaN        NaN   \n",
       "2       1.0              0.000000        NaN        NaN        NaN   \n",
       "3      33.0              0.060606   0.607485   0.621555   0.625903   \n",
       "4      14.0              1.000000        NaN        NaN        NaN   \n",
       "\n",
       "   cs_p3_count  cs_p3_max  cs_p3_mean  cs_p3_min  cs_p3_std  cs_current_25%  \\\n",
       "0          6.0   0.961586    0.796232   0.692337   0.089060             NaN   \n",
       "1          0.0        NaN         NaN        NaN   0.000000             NaN   \n",
       "2          0.0        NaN         NaN        NaN   0.000000             NaN   \n",
       "3          5.0   0.676521    0.619793   0.567499   0.039194         0.72798   \n",
       "4          0.0        NaN         NaN        NaN   0.000000             NaN   \n",
       "\n",
       "   cs_current_50%  cs_current_75%  cs_current_count  cs_current_max  \\\n",
       "0             NaN             NaN               0.0             NaN   \n",
       "1             NaN             NaN               0.0             NaN   \n",
       "2             NaN             NaN               0.0             NaN   \n",
       "3        0.738136        0.748842               5.0        0.753055   \n",
       "4             NaN             NaN               0.0             NaN   \n",
       "\n",
       "   cs_current_mean  cs_current_min  cs_current_std committee_code  com_p3_25%  \\\n",
       "0              NaN             NaN        0.000000       ['HSWM']    0.906999   \n",
       "1              NaN             NaN        0.000000       ['HSAP']         NaN   \n",
       "2              NaN             NaN        0.000000            NaN         NaN   \n",
       "3         0.731779        0.690881        0.024856            NaN         NaN   \n",
       "4              NaN             NaN        0.000000            NaN         NaN   \n",
       "\n",
       "   com_p3_50%  com_p3_75%  com_p3_count  com_p3_max  com_p3_mean  com_p3_min  \\\n",
       "0    0.952209    0.953485           6.0    0.974722     0.932448    0.869707   \n",
       "1         NaN         NaN           0.0         NaN          NaN         NaN   \n",
       "2         NaN         NaN           0.0         NaN          NaN         NaN   \n",
       "3         NaN         NaN           0.0         NaN          NaN         NaN   \n",
       "4         NaN         NaN           0.0         NaN          NaN         NaN   \n",
       "\n",
       "   com_p3_std  com_current_25%  com_current_50%  com_current_75%  \\\n",
       "0    0.041407              NaN              NaN              NaN   \n",
       "1    0.000000              NaN              NaN              NaN   \n",
       "2    0.000000              NaN              NaN              NaN   \n",
       "3    0.000000              NaN              NaN              NaN   \n",
       "4    0.000000              NaN              NaN              NaN   \n",
       "\n",
       "   com_current_count  com_current_max  com_current_mean  com_current_min  \\\n",
       "0                0.0              NaN               NaN              NaN   \n",
       "1                0.0              NaN               NaN              NaN   \n",
       "2                0.0              NaN               NaN              NaN   \n",
       "3                0.0              NaN               NaN              NaN   \n",
       "4                0.0              NaN               NaN              NaN   \n",
       "\n",
       "   com_current_std  \n",
       "0              0.0  \n",
       "1              0.0  \n",
       "2              0.0  \n",
       "3              0.0  \n",
       "4              0.0  "
      ]
     },
     "execution_count": 169,
     "metadata": {},
     "output_type": "execute_result"
    }
   ],
   "source": [
    "train.head()"
   ]
  },
  {
   "cell_type": "code",
   "execution_count": 174,
   "metadata": {
    "collapsed": false
   },
   "outputs": [
    {
     "data": {
      "text/plain": [
       "(224313, 53)"
      ]
     },
     "execution_count": 174,
     "metadata": {},
     "output_type": "execute_result"
    }
   ],
   "source": [
    "# using industry specific PAC contributions, really cuts down the sample size\n",
    "train.dropna(subset=[col for col in train.columns if \"current\" in col]).shape"
   ]
  },
  {
   "cell_type": "code",
   "execution_count": 173,
   "metadata": {
    "collapsed": false
   },
   "outputs": [
    {
     "data": {
      "text/plain": [
       "(416020, 53)"
      ]
     },
     "execution_count": 173,
     "metadata": {},
     "output_type": "execute_result"
    }
   ],
   "source": [
    "# better with whole industry\n",
    "train.dropna(subset=[col for col in train.columns if col.startswith('cs')]).shape"
   ]
  },
  {
   "cell_type": "markdown",
   "metadata": {},
   "source": [
    "### No Industry Specific PAC Contribution Similarities"
   ]
  },
  {
   "cell_type": "code",
   "execution_count": 337,
   "metadata": {
    "collapsed": false
   },
   "outputs": [],
   "source": [
    "# keep relevant columns, dropna\n",
    "drop = ['am_count_r', 'am_count_d','accepted']\n",
    "keep_cols = [col for col in train.columns if col.startswith('com') == False and col not in drop]\n",
    "cols = [col for col in train.columns if col.startswith('cs')]\n",
    "dfs = [train, dev, test]\n",
    "model_train, model_dev, model_test = map(lambda df: df[keep_cols].dropna(subset = cols), dfs)"
   ]
  },
  {
   "cell_type": "code",
   "execution_count": 221,
   "metadata": {
    "collapsed": false
   },
   "outputs": [
    {
     "data": {
      "text/html": [
       "<div>\n",
       "<table border=\"1\" class=\"dataframe\">\n",
       "  <thead>\n",
       "    <tr style=\"text-align: right;\">\n",
       "      <th></th>\n",
       "      <th>full_set_id</th>\n",
       "      <th>member_id</th>\n",
       "      <th>party</th>\n",
       "      <th>vote_position</th>\n",
       "      <th>congress</th>\n",
       "      <th>roll_call</th>\n",
       "      <th>chamber</th>\n",
       "      <th>session</th>\n",
       "      <th>bill_id</th>\n",
       "      <th>majority_pos_rep</th>\n",
       "      <th>majority_pos_dem</th>\n",
       "      <th>broke_from_party</th>\n",
       "      <th>cosponsors</th>\n",
       "      <th>cs_count_r</th>\n",
       "      <th>cs_count_d</th>\n",
       "      <th>cs_count</th>\n",
       "      <th>cosponsor_same_party</th>\n",
       "      <th>cs_p3_25%</th>\n",
       "      <th>cs_p3_50%</th>\n",
       "      <th>cs_p3_75%</th>\n",
       "      <th>cs_p3_count</th>\n",
       "      <th>cs_p3_max</th>\n",
       "      <th>cs_p3_mean</th>\n",
       "      <th>cs_p3_min</th>\n",
       "      <th>cs_p3_std</th>\n",
       "      <th>cs_current_25%</th>\n",
       "      <th>cs_current_50%</th>\n",
       "      <th>cs_current_75%</th>\n",
       "      <th>cs_current_count</th>\n",
       "      <th>cs_current_max</th>\n",
       "      <th>cs_current_mean</th>\n",
       "      <th>cs_current_min</th>\n",
       "      <th>cs_current_std</th>\n",
       "    </tr>\n",
       "  </thead>\n",
       "  <tbody>\n",
       "    <tr>\n",
       "      <th>3</th>\n",
       "      <td>515194</td>\n",
       "      <td>J000032</td>\n",
       "      <td>D</td>\n",
       "      <td>Yes</td>\n",
       "      <td>106.0</td>\n",
       "      <td>295.0</td>\n",
       "      <td>House</td>\n",
       "      <td>2.0</td>\n",
       "      <td>hr4201-106</td>\n",
       "      <td>Yes</td>\n",
       "      <td>No</td>\n",
       "      <td>1</td>\n",
       "      <td>[T000058, L000096, S000822, S000364, G000210, ...</td>\n",
       "      <td>31.0</td>\n",
       "      <td>2.0</td>\n",
       "      <td>33.0</td>\n",
       "      <td>0.060606</td>\n",
       "      <td>0.607485</td>\n",
       "      <td>0.621555</td>\n",
       "      <td>0.625903</td>\n",
       "      <td>5.0</td>\n",
       "      <td>0.676521</td>\n",
       "      <td>0.619793</td>\n",
       "      <td>0.567499</td>\n",
       "      <td>0.039194</td>\n",
       "      <td>0.727980</td>\n",
       "      <td>0.738136</td>\n",
       "      <td>0.748842</td>\n",
       "      <td>5.0</td>\n",
       "      <td>0.753055</td>\n",
       "      <td>0.731779</td>\n",
       "      <td>0.690881</td>\n",
       "      <td>0.024856</td>\n",
       "    </tr>\n",
       "    <tr>\n",
       "      <th>5</th>\n",
       "      <td>1877718</td>\n",
       "      <td>W000813</td>\n",
       "      <td>R</td>\n",
       "      <td>Yes</td>\n",
       "      <td>115.0</td>\n",
       "      <td>223.0</td>\n",
       "      <td>House</td>\n",
       "      <td>1.0</td>\n",
       "      <td>hr876-115</td>\n",
       "      <td>Yes</td>\n",
       "      <td>Yes</td>\n",
       "      <td>0</td>\n",
       "      <td>[M001157, R000575, F000466, H001077, K000210, ...</td>\n",
       "      <td>6.0</td>\n",
       "      <td>3.0</td>\n",
       "      <td>9.0</td>\n",
       "      <td>0.666667</td>\n",
       "      <td>0.411084</td>\n",
       "      <td>0.655361</td>\n",
       "      <td>0.797361</td>\n",
       "      <td>9.0</td>\n",
       "      <td>0.869820</td>\n",
       "      <td>0.634261</td>\n",
       "      <td>0.393292</td>\n",
       "      <td>0.199035</td>\n",
       "      <td>0.573759</td>\n",
       "      <td>0.746857</td>\n",
       "      <td>0.856979</td>\n",
       "      <td>9.0</td>\n",
       "      <td>0.935057</td>\n",
       "      <td>0.677343</td>\n",
       "      <td>-0.000008</td>\n",
       "      <td>0.291093</td>\n",
       "    </tr>\n",
       "    <tr>\n",
       "      <th>6</th>\n",
       "      <td>1003396</td>\n",
       "      <td>B000575</td>\n",
       "      <td>R</td>\n",
       "      <td>No</td>\n",
       "      <td>110.0</td>\n",
       "      <td>96.0</td>\n",
       "      <td>House</td>\n",
       "      <td>2.0</td>\n",
       "      <td>hres1014-110</td>\n",
       "      <td>No</td>\n",
       "      <td>Yes</td>\n",
       "      <td>0</td>\n",
       "      <td>[C001066]</td>\n",
       "      <td>0.0</td>\n",
       "      <td>1.0</td>\n",
       "      <td>1.0</td>\n",
       "      <td>0.000000</td>\n",
       "      <td>0.413537</td>\n",
       "      <td>0.413537</td>\n",
       "      <td>0.413537</td>\n",
       "      <td>1.0</td>\n",
       "      <td>0.413537</td>\n",
       "      <td>0.413537</td>\n",
       "      <td>0.413537</td>\n",
       "      <td>0.000000</td>\n",
       "      <td>0.353818</td>\n",
       "      <td>0.353818</td>\n",
       "      <td>0.353818</td>\n",
       "      <td>1.0</td>\n",
       "      <td>0.353818</td>\n",
       "      <td>0.353818</td>\n",
       "      <td>0.353818</td>\n",
       "      <td>0.000000</td>\n",
       "    </tr>\n",
       "    <tr>\n",
       "      <th>7</th>\n",
       "      <td>1890431</td>\n",
       "      <td>Y000062</td>\n",
       "      <td>D</td>\n",
       "      <td>Yes</td>\n",
       "      <td>115.0</td>\n",
       "      <td>248.0</td>\n",
       "      <td>House</td>\n",
       "      <td>1.0</td>\n",
       "      <td>hr1665-115</td>\n",
       "      <td>Yes</td>\n",
       "      <td>Yes</td>\n",
       "      <td>0</td>\n",
       "      <td>[B001286, K000378, B001295, S000364, L000585, ...</td>\n",
       "      <td>7.0</td>\n",
       "      <td>1.0</td>\n",
       "      <td>8.0</td>\n",
       "      <td>0.125000</td>\n",
       "      <td>0.620525</td>\n",
       "      <td>0.647345</td>\n",
       "      <td>0.688788</td>\n",
       "      <td>8.0</td>\n",
       "      <td>0.966661</td>\n",
       "      <td>0.681119</td>\n",
       "      <td>0.544255</td>\n",
       "      <td>0.127390</td>\n",
       "      <td>0.611818</td>\n",
       "      <td>0.635285</td>\n",
       "      <td>0.665306</td>\n",
       "      <td>8.0</td>\n",
       "      <td>0.888938</td>\n",
       "      <td>0.646588</td>\n",
       "      <td>0.474691</td>\n",
       "      <td>0.117743</td>\n",
       "    </tr>\n",
       "    <tr>\n",
       "      <th>9</th>\n",
       "      <td>1384055</td>\n",
       "      <td>B000574</td>\n",
       "      <td>D</td>\n",
       "      <td>No</td>\n",
       "      <td>112.0</td>\n",
       "      <td>945.0</td>\n",
       "      <td>House</td>\n",
       "      <td>1.0</td>\n",
       "      <td>hres502-112</td>\n",
       "      <td>Yes</td>\n",
       "      <td>No</td>\n",
       "      <td>0</td>\n",
       "      <td>[S001184]</td>\n",
       "      <td>1.0</td>\n",
       "      <td>0.0</td>\n",
       "      <td>1.0</td>\n",
       "      <td>0.000000</td>\n",
       "      <td>0.439508</td>\n",
       "      <td>0.439508</td>\n",
       "      <td>0.439508</td>\n",
       "      <td>1.0</td>\n",
       "      <td>0.439508</td>\n",
       "      <td>0.439508</td>\n",
       "      <td>0.439508</td>\n",
       "      <td>0.000000</td>\n",
       "      <td>0.319765</td>\n",
       "      <td>0.319765</td>\n",
       "      <td>0.319765</td>\n",
       "      <td>1.0</td>\n",
       "      <td>0.319765</td>\n",
       "      <td>0.319765</td>\n",
       "      <td>0.319765</td>\n",
       "      <td>0.000000</td>\n",
       "    </tr>\n",
       "  </tbody>\n",
       "</table>\n",
       "</div>"
      ],
      "text/plain": [
       "   full_set_id member_id party vote_position  congress  roll_call chamber  \\\n",
       "3       515194   J000032     D           Yes     106.0      295.0   House   \n",
       "5      1877718   W000813     R           Yes     115.0      223.0   House   \n",
       "6      1003396   B000575     R            No     110.0       96.0   House   \n",
       "7      1890431   Y000062     D           Yes     115.0      248.0   House   \n",
       "9      1384055   B000574     D            No     112.0      945.0   House   \n",
       "\n",
       "   session       bill_id majority_pos_rep majority_pos_dem  broke_from_party  \\\n",
       "3      2.0    hr4201-106              Yes               No                 1   \n",
       "5      1.0     hr876-115              Yes              Yes                 0   \n",
       "6      2.0  hres1014-110               No              Yes                 0   \n",
       "7      1.0    hr1665-115              Yes              Yes                 0   \n",
       "9      1.0   hres502-112              Yes               No                 0   \n",
       "\n",
       "                                          cosponsors  cs_count_r  cs_count_d  \\\n",
       "3  [T000058, L000096, S000822, S000364, G000210, ...        31.0         2.0   \n",
       "5  [M001157, R000575, F000466, H001077, K000210, ...         6.0         3.0   \n",
       "6                                          [C001066]         0.0         1.0   \n",
       "7  [B001286, K000378, B001295, S000364, L000585, ...         7.0         1.0   \n",
       "9                                          [S001184]         1.0         0.0   \n",
       "\n",
       "   cs_count  cosponsor_same_party  cs_p3_25%  cs_p3_50%  cs_p3_75%  \\\n",
       "3      33.0              0.060606   0.607485   0.621555   0.625903   \n",
       "5       9.0              0.666667   0.411084   0.655361   0.797361   \n",
       "6       1.0              0.000000   0.413537   0.413537   0.413537   \n",
       "7       8.0              0.125000   0.620525   0.647345   0.688788   \n",
       "9       1.0              0.000000   0.439508   0.439508   0.439508   \n",
       "\n",
       "   cs_p3_count  cs_p3_max  cs_p3_mean  cs_p3_min  cs_p3_std  cs_current_25%  \\\n",
       "3          5.0   0.676521    0.619793   0.567499   0.039194        0.727980   \n",
       "5          9.0   0.869820    0.634261   0.393292   0.199035        0.573759   \n",
       "6          1.0   0.413537    0.413537   0.413537   0.000000        0.353818   \n",
       "7          8.0   0.966661    0.681119   0.544255   0.127390        0.611818   \n",
       "9          1.0   0.439508    0.439508   0.439508   0.000000        0.319765   \n",
       "\n",
       "   cs_current_50%  cs_current_75%  cs_current_count  cs_current_max  \\\n",
       "3        0.738136        0.748842               5.0        0.753055   \n",
       "5        0.746857        0.856979               9.0        0.935057   \n",
       "6        0.353818        0.353818               1.0        0.353818   \n",
       "7        0.635285        0.665306               8.0        0.888938   \n",
       "9        0.319765        0.319765               1.0        0.319765   \n",
       "\n",
       "   cs_current_mean  cs_current_min  cs_current_std  \n",
       "3         0.731779        0.690881        0.024856  \n",
       "5         0.677343       -0.000008        0.291093  \n",
       "6         0.353818        0.353818        0.000000  \n",
       "7         0.646588        0.474691        0.117743  \n",
       "9         0.319765        0.319765        0.000000  "
      ]
     },
     "execution_count": 221,
     "metadata": {},
     "output_type": "execute_result"
    }
   ],
   "source": [
    "model_train.head()"
   ]
  },
  {
   "cell_type": "code",
   "execution_count": 338,
   "metadata": {
    "collapsed": false
   },
   "outputs": [],
   "source": [
    "def include_interactions(df):\n",
    "    \"\"\"Calculate pac contribution interactions with:\n",
    "        1. Cosponsor party ratio\n",
    "        2. Congress Number (to account for decrease in quality of PAC data in earlier years)\n",
    "    \"\"\"\n",
    "    columns = [x for x in df.columns if x.startswith('cs_')]\n",
    "    \n",
    "    # consponsor party ration\n",
    "    interactions = df[columns].mul(df.cosponsor_same_party, axis = 0)\n",
    "    interactions.columns = [\"int_party_\" + col for col in interactions.columns]\n",
    "    df = pd.concat([df, interactions], axis = 1)\n",
    "    \n",
    "    # congress number. \n",
    "    # 115 has essentially complete data. it declines precipitously from there\n",
    "    interactions = df[columns].mul(df.congress >= 113, axis = 0)\n",
    "    interactions.columns = [\"int_congress_\" + col for col in interactions.columns]\n",
    "    df = pd.concat([df, interactions], axis = 1)\n",
    "    df['post_112'] = df.congress >= 113\n",
    "    return df\n",
    "\n",
    "dfs = [model_train, model_dev, model_test]\n",
    "model_train, model_dev, model_test = map(include_interactions, dfs)"
   ]
  },
  {
   "cell_type": "code",
   "execution_count": 232,
   "metadata": {
    "collapsed": false
   },
   "outputs": [
    {
     "data": {
      "text/html": [
       "<div>\n",
       "<table border=\"1\" class=\"dataframe\">\n",
       "  <thead>\n",
       "    <tr style=\"text-align: right;\">\n",
       "      <th></th>\n",
       "      <th>full_set_id</th>\n",
       "      <th>member_id</th>\n",
       "      <th>party</th>\n",
       "      <th>vote_position</th>\n",
       "      <th>congress</th>\n",
       "      <th>roll_call</th>\n",
       "      <th>chamber</th>\n",
       "      <th>session</th>\n",
       "      <th>bill_id</th>\n",
       "      <th>majority_pos_rep</th>\n",
       "      <th>majority_pos_dem</th>\n",
       "      <th>broke_from_party</th>\n",
       "      <th>cosponsors</th>\n",
       "      <th>cs_count_r</th>\n",
       "      <th>cs_count_d</th>\n",
       "      <th>cs_count</th>\n",
       "      <th>cosponsor_same_party</th>\n",
       "      <th>cs_p3_25%</th>\n",
       "      <th>cs_p3_50%</th>\n",
       "      <th>cs_p3_75%</th>\n",
       "      <th>cs_p3_count</th>\n",
       "      <th>cs_p3_max</th>\n",
       "      <th>cs_p3_mean</th>\n",
       "      <th>cs_p3_min</th>\n",
       "      <th>cs_p3_std</th>\n",
       "      <th>cs_current_25%</th>\n",
       "      <th>cs_current_50%</th>\n",
       "      <th>cs_current_75%</th>\n",
       "      <th>cs_current_count</th>\n",
       "      <th>cs_current_max</th>\n",
       "      <th>cs_current_mean</th>\n",
       "      <th>cs_current_min</th>\n",
       "      <th>cs_current_std</th>\n",
       "      <th>int_party_cs_count_r</th>\n",
       "      <th>int_party_cs_count_d</th>\n",
       "      <th>int_party_cs_count</th>\n",
       "      <th>int_party_cs_p3_25%</th>\n",
       "      <th>int_party_cs_p3_50%</th>\n",
       "      <th>int_party_cs_p3_75%</th>\n",
       "      <th>int_party_cs_p3_count</th>\n",
       "      <th>int_party_cs_p3_max</th>\n",
       "      <th>int_party_cs_p3_mean</th>\n",
       "      <th>int_party_cs_p3_min</th>\n",
       "      <th>int_party_cs_p3_std</th>\n",
       "      <th>int_party_cs_current_25%</th>\n",
       "      <th>int_party_cs_current_50%</th>\n",
       "      <th>int_party_cs_current_75%</th>\n",
       "      <th>int_party_cs_current_count</th>\n",
       "      <th>int_party_cs_current_max</th>\n",
       "      <th>int_party_cs_current_mean</th>\n",
       "      <th>int_party_cs_current_min</th>\n",
       "      <th>int_party_cs_current_std</th>\n",
       "      <th>int_congress_cs_count_r</th>\n",
       "      <th>int_congress_cs_count_d</th>\n",
       "      <th>int_congress_cs_count</th>\n",
       "      <th>int_congress_cs_p3_25%</th>\n",
       "      <th>int_congress_cs_p3_50%</th>\n",
       "      <th>int_congress_cs_p3_75%</th>\n",
       "      <th>int_congress_cs_p3_count</th>\n",
       "      <th>int_congress_cs_p3_max</th>\n",
       "      <th>int_congress_cs_p3_mean</th>\n",
       "      <th>int_congress_cs_p3_min</th>\n",
       "      <th>int_congress_cs_p3_std</th>\n",
       "      <th>int_congress_cs_current_25%</th>\n",
       "      <th>int_congress_cs_current_50%</th>\n",
       "      <th>int_congress_cs_current_75%</th>\n",
       "      <th>int_congress_cs_current_count</th>\n",
       "      <th>int_congress_cs_current_max</th>\n",
       "      <th>int_congress_cs_current_mean</th>\n",
       "      <th>int_congress_cs_current_min</th>\n",
       "      <th>int_congress_cs_current_std</th>\n",
       "      <th>post_112</th>\n",
       "    </tr>\n",
       "  </thead>\n",
       "  <tbody>\n",
       "    <tr>\n",
       "      <th>3</th>\n",
       "      <td>515194</td>\n",
       "      <td>J000032</td>\n",
       "      <td>D</td>\n",
       "      <td>Yes</td>\n",
       "      <td>106.0</td>\n",
       "      <td>295.0</td>\n",
       "      <td>House</td>\n",
       "      <td>2.0</td>\n",
       "      <td>hr4201-106</td>\n",
       "      <td>Yes</td>\n",
       "      <td>No</td>\n",
       "      <td>1</td>\n",
       "      <td>[T000058, L000096, S000822, S000364, G000210, ...</td>\n",
       "      <td>31.0</td>\n",
       "      <td>2.0</td>\n",
       "      <td>33.0</td>\n",
       "      <td>0.060606</td>\n",
       "      <td>0.607485</td>\n",
       "      <td>0.621555</td>\n",
       "      <td>0.625903</td>\n",
       "      <td>5.0</td>\n",
       "      <td>0.676521</td>\n",
       "      <td>0.619793</td>\n",
       "      <td>0.567499</td>\n",
       "      <td>0.039194</td>\n",
       "      <td>0.727980</td>\n",
       "      <td>0.738136</td>\n",
       "      <td>0.748842</td>\n",
       "      <td>5.0</td>\n",
       "      <td>0.753055</td>\n",
       "      <td>0.731779</td>\n",
       "      <td>0.690881</td>\n",
       "      <td>0.024856</td>\n",
       "      <td>1.878788</td>\n",
       "      <td>0.121212</td>\n",
       "      <td>2.0</td>\n",
       "      <td>0.036817</td>\n",
       "      <td>0.037670</td>\n",
       "      <td>0.037934</td>\n",
       "      <td>0.30303</td>\n",
       "      <td>0.041001</td>\n",
       "      <td>0.037563</td>\n",
       "      <td>0.034394</td>\n",
       "      <td>0.002375</td>\n",
       "      <td>0.044120</td>\n",
       "      <td>0.044736</td>\n",
       "      <td>0.045384</td>\n",
       "      <td>0.30303</td>\n",
       "      <td>0.045640</td>\n",
       "      <td>0.044350</td>\n",
       "      <td>0.041872</td>\n",
       "      <td>0.001506</td>\n",
       "      <td>0.0</td>\n",
       "      <td>0.0</td>\n",
       "      <td>0.0</td>\n",
       "      <td>0.000000</td>\n",
       "      <td>0.000000</td>\n",
       "      <td>0.000000</td>\n",
       "      <td>0.0</td>\n",
       "      <td>0.00000</td>\n",
       "      <td>0.000000</td>\n",
       "      <td>0.000000</td>\n",
       "      <td>0.000000</td>\n",
       "      <td>0.000000</td>\n",
       "      <td>0.000000</td>\n",
       "      <td>0.000000</td>\n",
       "      <td>0.0</td>\n",
       "      <td>0.000000</td>\n",
       "      <td>0.000000</td>\n",
       "      <td>0.000000</td>\n",
       "      <td>0.000000</td>\n",
       "      <td>False</td>\n",
       "    </tr>\n",
       "    <tr>\n",
       "      <th>5</th>\n",
       "      <td>1877718</td>\n",
       "      <td>W000813</td>\n",
       "      <td>R</td>\n",
       "      <td>Yes</td>\n",
       "      <td>115.0</td>\n",
       "      <td>223.0</td>\n",
       "      <td>House</td>\n",
       "      <td>1.0</td>\n",
       "      <td>hr876-115</td>\n",
       "      <td>Yes</td>\n",
       "      <td>Yes</td>\n",
       "      <td>0</td>\n",
       "      <td>[M001157, R000575, F000466, H001077, K000210, ...</td>\n",
       "      <td>6.0</td>\n",
       "      <td>3.0</td>\n",
       "      <td>9.0</td>\n",
       "      <td>0.666667</td>\n",
       "      <td>0.411084</td>\n",
       "      <td>0.655361</td>\n",
       "      <td>0.797361</td>\n",
       "      <td>9.0</td>\n",
       "      <td>0.869820</td>\n",
       "      <td>0.634261</td>\n",
       "      <td>0.393292</td>\n",
       "      <td>0.199035</td>\n",
       "      <td>0.573759</td>\n",
       "      <td>0.746857</td>\n",
       "      <td>0.856979</td>\n",
       "      <td>9.0</td>\n",
       "      <td>0.935057</td>\n",
       "      <td>0.677343</td>\n",
       "      <td>-0.000008</td>\n",
       "      <td>0.291093</td>\n",
       "      <td>4.000000</td>\n",
       "      <td>2.000000</td>\n",
       "      <td>6.0</td>\n",
       "      <td>0.274056</td>\n",
       "      <td>0.436907</td>\n",
       "      <td>0.531574</td>\n",
       "      <td>6.00000</td>\n",
       "      <td>0.579880</td>\n",
       "      <td>0.422841</td>\n",
       "      <td>0.262195</td>\n",
       "      <td>0.132690</td>\n",
       "      <td>0.382506</td>\n",
       "      <td>0.497905</td>\n",
       "      <td>0.571319</td>\n",
       "      <td>6.00000</td>\n",
       "      <td>0.623371</td>\n",
       "      <td>0.451562</td>\n",
       "      <td>-0.000005</td>\n",
       "      <td>0.194062</td>\n",
       "      <td>6.0</td>\n",
       "      <td>3.0</td>\n",
       "      <td>9.0</td>\n",
       "      <td>0.411084</td>\n",
       "      <td>0.655361</td>\n",
       "      <td>0.797361</td>\n",
       "      <td>9.0</td>\n",
       "      <td>0.86982</td>\n",
       "      <td>0.634261</td>\n",
       "      <td>0.393292</td>\n",
       "      <td>0.199035</td>\n",
       "      <td>0.573759</td>\n",
       "      <td>0.746857</td>\n",
       "      <td>0.856979</td>\n",
       "      <td>9.0</td>\n",
       "      <td>0.935057</td>\n",
       "      <td>0.677343</td>\n",
       "      <td>-0.000008</td>\n",
       "      <td>0.291093</td>\n",
       "      <td>True</td>\n",
       "    </tr>\n",
       "  </tbody>\n",
       "</table>\n",
       "</div>"
      ],
      "text/plain": [
       "   full_set_id member_id party vote_position  congress  roll_call chamber  \\\n",
       "3       515194   J000032     D           Yes     106.0      295.0   House   \n",
       "5      1877718   W000813     R           Yes     115.0      223.0   House   \n",
       "\n",
       "   session     bill_id majority_pos_rep majority_pos_dem  broke_from_party  \\\n",
       "3      2.0  hr4201-106              Yes               No                 1   \n",
       "5      1.0   hr876-115              Yes              Yes                 0   \n",
       "\n",
       "                                          cosponsors  cs_count_r  cs_count_d  \\\n",
       "3  [T000058, L000096, S000822, S000364, G000210, ...        31.0         2.0   \n",
       "5  [M001157, R000575, F000466, H001077, K000210, ...         6.0         3.0   \n",
       "\n",
       "   cs_count  cosponsor_same_party  cs_p3_25%  cs_p3_50%  cs_p3_75%  \\\n",
       "3      33.0              0.060606   0.607485   0.621555   0.625903   \n",
       "5       9.0              0.666667   0.411084   0.655361   0.797361   \n",
       "\n",
       "   cs_p3_count  cs_p3_max  cs_p3_mean  cs_p3_min  cs_p3_std  cs_current_25%  \\\n",
       "3          5.0   0.676521    0.619793   0.567499   0.039194        0.727980   \n",
       "5          9.0   0.869820    0.634261   0.393292   0.199035        0.573759   \n",
       "\n",
       "   cs_current_50%  cs_current_75%  cs_current_count  cs_current_max  \\\n",
       "3        0.738136        0.748842               5.0        0.753055   \n",
       "5        0.746857        0.856979               9.0        0.935057   \n",
       "\n",
       "   cs_current_mean  cs_current_min  cs_current_std  int_party_cs_count_r  \\\n",
       "3         0.731779        0.690881        0.024856              1.878788   \n",
       "5         0.677343       -0.000008        0.291093              4.000000   \n",
       "\n",
       "   int_party_cs_count_d  int_party_cs_count  int_party_cs_p3_25%  \\\n",
       "3              0.121212                 2.0             0.036817   \n",
       "5              2.000000                 6.0             0.274056   \n",
       "\n",
       "   int_party_cs_p3_50%  int_party_cs_p3_75%  int_party_cs_p3_count  \\\n",
       "3             0.037670             0.037934                0.30303   \n",
       "5             0.436907             0.531574                6.00000   \n",
       "\n",
       "   int_party_cs_p3_max  int_party_cs_p3_mean  int_party_cs_p3_min  \\\n",
       "3             0.041001              0.037563             0.034394   \n",
       "5             0.579880              0.422841             0.262195   \n",
       "\n",
       "   int_party_cs_p3_std  int_party_cs_current_25%  int_party_cs_current_50%  \\\n",
       "3             0.002375                  0.044120                  0.044736   \n",
       "5             0.132690                  0.382506                  0.497905   \n",
       "\n",
       "   int_party_cs_current_75%  int_party_cs_current_count  \\\n",
       "3                  0.045384                     0.30303   \n",
       "5                  0.571319                     6.00000   \n",
       "\n",
       "   int_party_cs_current_max  int_party_cs_current_mean  \\\n",
       "3                  0.045640                   0.044350   \n",
       "5                  0.623371                   0.451562   \n",
       "\n",
       "   int_party_cs_current_min  int_party_cs_current_std  \\\n",
       "3                  0.041872                  0.001506   \n",
       "5                 -0.000005                  0.194062   \n",
       "\n",
       "   int_congress_cs_count_r  int_congress_cs_count_d  int_congress_cs_count  \\\n",
       "3                      0.0                      0.0                    0.0   \n",
       "5                      6.0                      3.0                    9.0   \n",
       "\n",
       "   int_congress_cs_p3_25%  int_congress_cs_p3_50%  int_congress_cs_p3_75%  \\\n",
       "3                0.000000                0.000000                0.000000   \n",
       "5                0.411084                0.655361                0.797361   \n",
       "\n",
       "   int_congress_cs_p3_count  int_congress_cs_p3_max  int_congress_cs_p3_mean  \\\n",
       "3                       0.0                 0.00000                 0.000000   \n",
       "5                       9.0                 0.86982                 0.634261   \n",
       "\n",
       "   int_congress_cs_p3_min  int_congress_cs_p3_std  \\\n",
       "3                0.000000                0.000000   \n",
       "5                0.393292                0.199035   \n",
       "\n",
       "   int_congress_cs_current_25%  int_congress_cs_current_50%  \\\n",
       "3                     0.000000                     0.000000   \n",
       "5                     0.573759                     0.746857   \n",
       "\n",
       "   int_congress_cs_current_75%  int_congress_cs_current_count  \\\n",
       "3                     0.000000                            0.0   \n",
       "5                     0.856979                            9.0   \n",
       "\n",
       "   int_congress_cs_current_max  int_congress_cs_current_mean  \\\n",
       "3                     0.000000                      0.000000   \n",
       "5                     0.935057                      0.677343   \n",
       "\n",
       "   int_congress_cs_current_min  int_congress_cs_current_std post_112  \n",
       "3                     0.000000                     0.000000    False  \n",
       "5                    -0.000008                     0.291093     True  "
      ]
     },
     "execution_count": 232,
     "metadata": {},
     "output_type": "execute_result"
    }
   ],
   "source": [
    "model_train.head(2)"
   ]
  },
  {
   "cell_type": "code",
   "execution_count": 234,
   "metadata": {
    "collapsed": false
   },
   "outputs": [
    {
     "data": {
      "text/plain": [
       "LogisticRegression(C=1.0, class_weight=None, dual=False, fit_intercept=True,\n",
       "          intercept_scaling=1, max_iter=100, multi_class='ovr', n_jobs=1,\n",
       "          penalty='l2', random_state=None, solver='liblinear', tol=0.0001,\n",
       "          verbose=0, warm_start=False)"
      ]
     },
     "execution_count": 234,
     "metadata": {},
     "output_type": "execute_result"
    }
   ],
   "source": [
    "drop = ['full_set_id','member_id','party', 'vote_position',\n",
    "        'congress','roll_call','chamber','session', 'bill_id', \n",
    "        'majority_pos_rep', 'majority_pos_dem', 'broke_from_party', \n",
    "        'cosponsors', 'cs_count_r', 'cs_count_d']\n",
    "predictors = [x for x in model_train.columns if x not in drop]\n",
    "lgr = LogisticRegression()\n",
    "lgr.fit(model_train[predictors], model_train['broke_from_party'])"
   ]
  },
  {
   "cell_type": "code",
   "execution_count": 279,
   "metadata": {
    "collapsed": false
   },
   "outputs": [
    {
     "name": "stdout",
     "output_type": "stream",
     "text": [
      "             precision    recall  f1-score   support\n",
      "\n",
      "          0     0.9578    1.0000    0.9784    199391\n",
      "          1     0.0000    0.0000    0.0000      8789\n",
      "\n",
      "avg / total     0.9173    0.9578    0.9371    208180\n",
      "\n"
     ]
    },
    {
     "name": "stderr",
     "output_type": "stream",
     "text": [
      "C:\\Users\\Steve\\Anaconda3\\lib\\site-packages\\sklearn\\metrics\\classification.py:1113: UndefinedMetricWarning: Precision and F-score are ill-defined and being set to 0.0 in labels with no predicted samples.\n",
      "  'precision', 'predicted', average, warn_for)\n"
     ]
    }
   ],
   "source": [
    "# get baseline with this subset of data\n",
    "# could differ from overall baseline\n",
    "# because we had to drop a large subset from earlier years\n",
    "# increase over baseline simply because breaking from party is more rare in recent years\n",
    "print(metrics.classification_report(model_dev['broke_from_party'], np.zeros(len(model_dev)), digits=4))"
   ]
  },
  {
   "cell_type": "code",
   "execution_count": 238,
   "metadata": {
    "collapsed": true
   },
   "outputs": [],
   "source": [
    "probs_dev = lgr.predict_proba(model_dev[predictors])[:,1]"
   ]
  },
  {
   "cell_type": "code",
   "execution_count": 247,
   "metadata": {
    "collapsed": false
   },
   "outputs": [
    {
     "name": "stderr",
     "output_type": "stream",
     "text": [
      "C:\\Users\\Steve\\Anaconda3\\lib\\site-packages\\statsmodels\\nonparametric\\kdetools.py:20: VisibleDeprecationWarning: using a non-integer number instead of an integer will result in an error in the future\n",
      "  y = X[:m/2+1] + np.r_[0,X[m/2+1:],0]*1j\n"
     ]
    },
    {
     "data": {
      "text/plain": [
       "<matplotlib.axes._subplots.AxesSubplot at 0xbfda8bec50>"
      ]
     },
     "execution_count": 247,
     "metadata": {},
     "output_type": "execute_result"
    },
    {
     "data": {
      "image/png": "[encoded data removed]",
      "text/plain": [
       "<matplotlib.figure.Figure at 0xbf764a41d0>"
      ]
     },
     "metadata": {},
     "output_type": "display_data"
    }
   ],
   "source": [
    "# with .5 threshold, model will predict no breaking with party\n",
    "sns.distplot(probs_dev)"
   ]
  },
  {
   "cell_type": "code",
   "execution_count": 258,
   "metadata": {
    "collapsed": false
   },
   "outputs": [
    {
     "data": {
      "text/plain": [
       "0.36395449505397143"
      ]
     },
     "execution_count": 258,
     "metadata": {},
     "output_type": "execute_result"
    }
   ],
   "source": [
    "def find_best_threshold(probs, y_true):\n",
    "    \"\"\"Find threshold that results in best overall f1 score\"\"\"\n",
    "    \n",
    "    cuts = [np.percentile(probs,x) for x in np.linspace(10,100,100)]\n",
    "    f1 = []\n",
    "    for threshold in cuts:\n",
    "        pred = probs >= threshold\n",
    "        f1.append([threshold, metrics.f1_score(y_true, pred, average='weighted')])\n",
    "    f1 = pd.DataFrame(f1, columns=['threshold','f1'])\n",
    "    threshold = f1.threshold[f1.f1.idxmax()]\n",
    "    \n",
    "    return threshold\n",
    "probs_train = lgr.predict_proba(model_train[predictors])[:,1]\n",
    "find_best_threshold(probs_train, model_train['broke_from_party'])\n"
   ]
  },
  {
   "cell_type": "code",
   "execution_count": 260,
   "metadata": {
    "collapsed": false
   },
   "outputs": [
    {
     "data": {
      "text/plain": [
       "1"
      ]
     },
     "execution_count": 260,
     "metadata": {},
     "output_type": "execute_result"
    }
   ],
   "source": [
    "# not a geat model\n",
    "# maybe it will be able to contribute to the final ensemble\n",
    "# there is afterall, some variation in predicted probabilities\n",
    "threshold = find_best_threshold(probs_train, model_train['broke_from_party'])\n",
    "(probs_dev > threshold).sum()"
   ]
  },
  {
   "cell_type": "code",
   "execution_count": 266,
   "metadata": {
    "collapsed": false
   },
   "outputs": [
    {
     "data": {
      "text/plain": [
       "0.11190374610503878"
      ]
     },
     "execution_count": 266,
     "metadata": {},
     "output_type": "execute_result"
    }
   ],
   "source": [
    "np.percentile(probs_train, 100 - (model_train['broke_from_party'].mean() * 100))"
   ]
  },
  {
   "cell_type": "code",
   "execution_count": 292,
   "metadata": {
    "collapsed": false
   },
   "outputs": [
    {
     "data": {
      "text/plain": [
       "658"
      ]
     },
     "execution_count": 292,
     "metadata": {},
     "output_type": "execute_result"
    }
   ],
   "source": [
    "(probs_dev >= .19).sum()"
   ]
  },
  {
   "cell_type": "code",
   "execution_count": 293,
   "metadata": {
    "collapsed": false
   },
   "outputs": [
    {
     "name": "stdout",
     "output_type": "stream",
     "text": [
      "             precision    recall  f1-score   support\n",
      "\n",
      "          0     0.9583    0.9974    0.9775    199391\n",
      "          1     0.2158    0.0162    0.0301      8789\n",
      "\n",
      "avg / total     0.9270    0.9560    0.9375    208180\n",
      "\n"
     ]
    }
   ],
   "source": [
    "print(metrics.classification_report(model_dev['broke_from_party'], probs_dev >= .19, digits=4))"
   ]
  },
  {
   "cell_type": "code",
   "execution_count": 289,
   "metadata": {
    "collapsed": false
   },
   "outputs": [
    {
     "name": "stdout",
     "output_type": "stream",
     "text": [
      "             precision    recall  f1-score   support\n",
      "\n",
      "          0     0.9604    0.9827    0.9714    199391\n",
      "          1     0.1711    0.0808    0.1097      8789\n",
      "\n",
      "avg / total     0.9271    0.9447    0.9351    208180\n",
      "\n"
     ]
    }
   ],
   "source": [
    "print(metrics.classification_report(model_dev['broke_from_party'], probs_dev >= .135, digits=4))"
   ]
  },
  {
   "cell_type": "code",
   "execution_count": 278,
   "metadata": {
    "collapsed": false
   },
   "outputs": [
    {
     "data": {
      "text/html": [
       "<div>\n",
       "<table border=\"1\" class=\"dataframe\">\n",
       "  <thead>\n",
       "    <tr style=\"text-align: right;\">\n",
       "      <th></th>\n",
       "      <th>0</th>\n",
       "    </tr>\n",
       "  </thead>\n",
       "  <tbody>\n",
       "    <tr>\n",
       "      <th>int_congress_cs_current_std</th>\n",
       "      <td>-3.909052</td>\n",
       "    </tr>\n",
       "    <tr>\n",
       "      <th>int_party_cs_p3_std</th>\n",
       "      <td>-3.166097</td>\n",
       "    </tr>\n",
       "    <tr>\n",
       "      <th>int_party_cs_p3_25%</th>\n",
       "      <td>-2.798725</td>\n",
       "    </tr>\n",
       "    <tr>\n",
       "      <th>int_party_cs_current_std</th>\n",
       "      <td>-2.722090</td>\n",
       "    </tr>\n",
       "    <tr>\n",
       "      <th>int_party_cs_p3_75%</th>\n",
       "      <td>-2.650733</td>\n",
       "    </tr>\n",
       "    <tr>\n",
       "      <th>int_party_cs_current_max</th>\n",
       "      <td>-1.958923</td>\n",
       "    </tr>\n",
       "    <tr>\n",
       "      <th>cs_current_mean</th>\n",
       "      <td>-1.848440</td>\n",
       "    </tr>\n",
       "    <tr>\n",
       "      <th>int_congress_cs_p3_25%</th>\n",
       "      <td>-1.771815</td>\n",
       "    </tr>\n",
       "    <tr>\n",
       "      <th>int_congress_cs_current_50%</th>\n",
       "      <td>-1.552382</td>\n",
       "    </tr>\n",
       "    <tr>\n",
       "      <th>cs_p3_max</th>\n",
       "      <td>-1.180797</td>\n",
       "    </tr>\n",
       "    <tr>\n",
       "      <th>post_112</th>\n",
       "      <td>-1.090875</td>\n",
       "    </tr>\n",
       "    <tr>\n",
       "      <th>cs_p3_min</th>\n",
       "      <td>-1.037545</td>\n",
       "    </tr>\n",
       "    <tr>\n",
       "      <th>int_party_cs_current_75%</th>\n",
       "      <td>-0.926054</td>\n",
       "    </tr>\n",
       "    <tr>\n",
       "      <th>int_congress_cs_current_25%</th>\n",
       "      <td>-0.888633</td>\n",
       "    </tr>\n",
       "    <tr>\n",
       "      <th>cs_p3_50%</th>\n",
       "      <td>-0.832268</td>\n",
       "    </tr>\n",
       "    <tr>\n",
       "      <th>int_party_cs_current_mean</th>\n",
       "      <td>-0.800255</td>\n",
       "    </tr>\n",
       "    <tr>\n",
       "      <th>int_congress_cs_current_mean</th>\n",
       "      <td>-0.705345</td>\n",
       "    </tr>\n",
       "    <tr>\n",
       "      <th>cs_p3_75%</th>\n",
       "      <td>-0.632820</td>\n",
       "    </tr>\n",
       "    <tr>\n",
       "      <th>int_congress_cs_p3_min</th>\n",
       "      <td>-0.627568</td>\n",
       "    </tr>\n",
       "    <tr>\n",
       "      <th>int_party_cs_p3_mean</th>\n",
       "      <td>-0.528558</td>\n",
       "    </tr>\n",
       "    <tr>\n",
       "      <th>int_party_cs_current_50%</th>\n",
       "      <td>-0.200396</td>\n",
       "    </tr>\n",
       "    <tr>\n",
       "      <th>int_party_cs_p3_count</th>\n",
       "      <td>-0.059653</td>\n",
       "    </tr>\n",
       "    <tr>\n",
       "      <th>cs_current_min</th>\n",
       "      <td>-0.058606</td>\n",
       "    </tr>\n",
       "    <tr>\n",
       "      <th>cs_current_count</th>\n",
       "      <td>-0.042926</td>\n",
       "    </tr>\n",
       "    <tr>\n",
       "      <th>int_congress_cs_p3_count</th>\n",
       "      <td>-0.022594</td>\n",
       "    </tr>\n",
       "    <tr>\n",
       "      <th>int_party_cs_current_25%</th>\n",
       "      <td>-0.007429</td>\n",
       "    </tr>\n",
       "    <tr>\n",
       "      <th>int_party_cs_count_d</th>\n",
       "      <td>-0.005653</td>\n",
       "    </tr>\n",
       "    <tr>\n",
       "      <th>int_party_cs_count</th>\n",
       "      <td>-0.001079</td>\n",
       "    </tr>\n",
       "    <tr>\n",
       "      <th>int_congress_cs_count_r</th>\n",
       "      <td>0.000093</td>\n",
       "    </tr>\n",
       "    <tr>\n",
       "      <th>int_congress_cs_p3_max</th>\n",
       "      <td>0.001512</td>\n",
       "    </tr>\n",
       "    <tr>\n",
       "      <th>int_party_cs_count_r</th>\n",
       "      <td>0.004574</td>\n",
       "    </tr>\n",
       "    <tr>\n",
       "      <th>cs_count</th>\n",
       "      <td>0.005646</td>\n",
       "    </tr>\n",
       "    <tr>\n",
       "      <th>int_congress_cs_count_d</th>\n",
       "      <td>0.007102</td>\n",
       "    </tr>\n",
       "    <tr>\n",
       "      <th>int_congress_cs_count</th>\n",
       "      <td>0.007195</td>\n",
       "    </tr>\n",
       "    <tr>\n",
       "      <th>int_congress_cs_current_count</th>\n",
       "      <td>0.015909</td>\n",
       "    </tr>\n",
       "    <tr>\n",
       "      <th>cs_p3_count</th>\n",
       "      <td>0.036589</td>\n",
       "    </tr>\n",
       "    <tr>\n",
       "      <th>int_party_cs_current_count</th>\n",
       "      <td>0.043965</td>\n",
       "    </tr>\n",
       "    <tr>\n",
       "      <th>int_party_cs_current_min</th>\n",
       "      <td>0.069323</td>\n",
       "    </tr>\n",
       "    <tr>\n",
       "      <th>int_party_cs_p3_50%</th>\n",
       "      <td>0.076766</td>\n",
       "    </tr>\n",
       "    <tr>\n",
       "      <th>cs_p3_std</th>\n",
       "      <td>0.217603</td>\n",
       "    </tr>\n",
       "    <tr>\n",
       "      <th>int_congress_cs_current_max</th>\n",
       "      <td>0.262189</td>\n",
       "    </tr>\n",
       "    <tr>\n",
       "      <th>int_congress_cs_current_75%</th>\n",
       "      <td>0.267797</td>\n",
       "    </tr>\n",
       "    <tr>\n",
       "      <th>cs_current_25%</th>\n",
       "      <td>0.273593</td>\n",
       "    </tr>\n",
       "    <tr>\n",
       "      <th>int_congress_cs_p3_75%</th>\n",
       "      <td>0.405529</td>\n",
       "    </tr>\n",
       "    <tr>\n",
       "      <th>int_congress_cs_current_min</th>\n",
       "      <td>0.550784</td>\n",
       "    </tr>\n",
       "    <tr>\n",
       "      <th>cs_current_75%</th>\n",
       "      <td>0.631595</td>\n",
       "    </tr>\n",
       "    <tr>\n",
       "      <th>cs_current_50%</th>\n",
       "      <td>1.192878</td>\n",
       "    </tr>\n",
       "    <tr>\n",
       "      <th>cs_p3_mean</th>\n",
       "      <td>1.431347</td>\n",
       "    </tr>\n",
       "    <tr>\n",
       "      <th>int_party_cs_p3_min</th>\n",
       "      <td>1.486775</td>\n",
       "    </tr>\n",
       "    <tr>\n",
       "      <th>int_congress_cs_p3_50%</th>\n",
       "      <td>1.519299</td>\n",
       "    </tr>\n",
       "    <tr>\n",
       "      <th>cs_current_max</th>\n",
       "      <td>1.651288</td>\n",
       "    </tr>\n",
       "    <tr>\n",
       "      <th>cs_p3_25%</th>\n",
       "      <td>1.705951</td>\n",
       "    </tr>\n",
       "    <tr>\n",
       "      <th>cs_current_std</th>\n",
       "      <td>2.031398</td>\n",
       "    </tr>\n",
       "    <tr>\n",
       "      <th>cosponsor_same_party</th>\n",
       "      <td>2.084910</td>\n",
       "    </tr>\n",
       "    <tr>\n",
       "      <th>int_congress_cs_p3_std</th>\n",
       "      <td>3.057958</td>\n",
       "    </tr>\n",
       "    <tr>\n",
       "      <th>int_congress_cs_p3_mean</th>\n",
       "      <td>3.119835</td>\n",
       "    </tr>\n",
       "    <tr>\n",
       "      <th>int_party_cs_p3_max</th>\n",
       "      <td>3.816175</td>\n",
       "    </tr>\n",
       "  </tbody>\n",
       "</table>\n",
       "</div>"
      ],
      "text/plain": [
       "                                      0\n",
       "int_congress_cs_current_std   -3.909052\n",
       "int_party_cs_p3_std           -3.166097\n",
       "int_party_cs_p3_25%           -2.798725\n",
       "int_party_cs_current_std      -2.722090\n",
       "int_party_cs_p3_75%           -2.650733\n",
       "int_party_cs_current_max      -1.958923\n",
       "cs_current_mean               -1.848440\n",
       "int_congress_cs_p3_25%        -1.771815\n",
       "int_congress_cs_current_50%   -1.552382\n",
       "cs_p3_max                     -1.180797\n",
       "post_112                      -1.090875\n",
       "cs_p3_min                     -1.037545\n",
       "int_party_cs_current_75%      -0.926054\n",
       "int_congress_cs_current_25%   -0.888633\n",
       "cs_p3_50%                     -0.832268\n",
       "int_party_cs_current_mean     -0.800255\n",
       "int_congress_cs_current_mean  -0.705345\n",
       "cs_p3_75%                     -0.632820\n",
       "int_congress_cs_p3_min        -0.627568\n",
       "int_party_cs_p3_mean          -0.528558\n",
       "int_party_cs_current_50%      -0.200396\n",
       "int_party_cs_p3_count         -0.059653\n",
       "cs_current_min                -0.058606\n",
       "cs_current_count              -0.042926\n",
       "int_congress_cs_p3_count      -0.022594\n",
       "int_party_cs_current_25%      -0.007429\n",
       "int_party_cs_count_d          -0.005653\n",
       "int_party_cs_count            -0.001079\n",
       "int_congress_cs_count_r        0.000093\n",
       "int_congress_cs_p3_max         0.001512\n",
       "int_party_cs_count_r           0.004574\n",
       "cs_count                       0.005646\n",
       "int_congress_cs_count_d        0.007102\n",
       "int_congress_cs_count          0.007195\n",
       "int_congress_cs_current_count  0.015909\n",
       "cs_p3_count                    0.036589\n",
       "int_party_cs_current_count     0.043965\n",
       "int_party_cs_current_min       0.069323\n",
       "int_party_cs_p3_50%            0.076766\n",
       "cs_p3_std                      0.217603\n",
       "int_congress_cs_current_max    0.262189\n",
       "int_congress_cs_current_75%    0.267797\n",
       "cs_current_25%                 0.273593\n",
       "int_congress_cs_p3_75%         0.405529\n",
       "int_congress_cs_current_min    0.550784\n",
       "cs_current_75%                 0.631595\n",
       "cs_current_50%                 1.192878\n",
       "cs_p3_mean                     1.431347\n",
       "int_party_cs_p3_min            1.486775\n",
       "int_congress_cs_p3_50%         1.519299\n",
       "cs_current_max                 1.651288\n",
       "cs_p3_25%                      1.705951\n",
       "cs_current_std                 2.031398\n",
       "cosponsor_same_party           2.084910\n",
       "int_congress_cs_p3_std         3.057958\n",
       "int_congress_cs_p3_mean        3.119835\n",
       "int_party_cs_p3_max            3.816175"
      ]
     },
     "execution_count": 278,
     "metadata": {},
     "output_type": "execute_result"
    }
   ],
   "source": [
    "# coefficients\n",
    "coefficients = pd.DataFrame(lgr.coef_, columns = model_train[predictors].columns).T\n",
    "coefficients.sort_values(by = 0)"
   ]
  },
  {
   "cell_type": "code",
   "execution_count": 298,
   "metadata": {
    "collapsed": false
   },
   "outputs": [
    {
     "data": {
      "text/html": [
       "<div>\n",
       "<table border=\"1\" class=\"dataframe\">\n",
       "  <thead>\n",
       "    <tr style=\"text-align: right;\">\n",
       "      <th></th>\n",
       "      <th>pred_probs</th>\n",
       "    </tr>\n",
       "    <tr>\n",
       "      <th>full_set_id</th>\n",
       "      <th></th>\n",
       "    </tr>\n",
       "  </thead>\n",
       "  <tbody>\n",
       "    <tr>\n",
       "      <th>1477742</th>\n",
       "      <td>0.021830</td>\n",
       "    </tr>\n",
       "    <tr>\n",
       "      <th>1236658</th>\n",
       "      <td>0.022014</td>\n",
       "    </tr>\n",
       "    <tr>\n",
       "      <th>1175000</th>\n",
       "      <td>0.015892</td>\n",
       "    </tr>\n",
       "    <tr>\n",
       "      <th>1843971</th>\n",
       "      <td>0.024093</td>\n",
       "    </tr>\n",
       "    <tr>\n",
       "      <th>1647665</th>\n",
       "      <td>0.016601</td>\n",
       "    </tr>\n",
       "    <tr>\n",
       "      <th>1164103</th>\n",
       "      <td>0.074357</td>\n",
       "    </tr>\n",
       "    <tr>\n",
       "      <th>1496784</th>\n",
       "      <td>0.036572</td>\n",
       "    </tr>\n",
       "    <tr>\n",
       "      <th>1889873</th>\n",
       "      <td>0.052027</td>\n",
       "    </tr>\n",
       "    <tr>\n",
       "      <th>489951</th>\n",
       "      <td>0.065159</td>\n",
       "    </tr>\n",
       "    <tr>\n",
       "      <th>674553</th>\n",
       "      <td>0.076043</td>\n",
       "    </tr>\n",
       "    <tr>\n",
       "      <th>1368091</th>\n",
       "      <td>0.077126</td>\n",
       "    </tr>\n",
       "    <tr>\n",
       "      <th>953345</th>\n",
       "      <td>0.021170</td>\n",
       "    </tr>\n",
       "    <tr>\n",
       "      <th>408441</th>\n",
       "      <td>0.019469</td>\n",
       "    </tr>\n",
       "    <tr>\n",
       "      <th>871727</th>\n",
       "      <td>0.018290</td>\n",
       "    </tr>\n",
       "    <tr>\n",
       "      <th>1758064</th>\n",
       "      <td>0.041982</td>\n",
       "    </tr>\n",
       "    <tr>\n",
       "      <th>1560078</th>\n",
       "      <td>0.014045</td>\n",
       "    </tr>\n",
       "    <tr>\n",
       "      <th>1197714</th>\n",
       "      <td>0.091191</td>\n",
       "    </tr>\n",
       "    <tr>\n",
       "      <th>1091668</th>\n",
       "      <td>0.060637</td>\n",
       "    </tr>\n",
       "    <tr>\n",
       "      <th>1828005</th>\n",
       "      <td>0.012717</td>\n",
       "    </tr>\n",
       "    <tr>\n",
       "      <th>1122016</th>\n",
       "      <td>0.052078</td>\n",
       "    </tr>\n",
       "    <tr>\n",
       "      <th>1189347</th>\n",
       "      <td>0.082051</td>\n",
       "    </tr>\n",
       "    <tr>\n",
       "      <th>1622563</th>\n",
       "      <td>0.006992</td>\n",
       "    </tr>\n",
       "    <tr>\n",
       "      <th>414970</th>\n",
       "      <td>0.152982</td>\n",
       "    </tr>\n",
       "    <tr>\n",
       "      <th>1920411</th>\n",
       "      <td>0.053384</td>\n",
       "    </tr>\n",
       "    <tr>\n",
       "      <th>505546</th>\n",
       "      <td>0.085072</td>\n",
       "    </tr>\n",
       "    <tr>\n",
       "      <th>620667</th>\n",
       "      <td>0.113230</td>\n",
       "    </tr>\n",
       "    <tr>\n",
       "      <th>1809313</th>\n",
       "      <td>0.025165</td>\n",
       "    </tr>\n",
       "    <tr>\n",
       "      <th>1844240</th>\n",
       "      <td>0.009433</td>\n",
       "    </tr>\n",
       "    <tr>\n",
       "      <th>1488782</th>\n",
       "      <td>0.031217</td>\n",
       "    </tr>\n",
       "    <tr>\n",
       "      <th>881817</th>\n",
       "      <td>0.010688</td>\n",
       "    </tr>\n",
       "    <tr>\n",
       "      <th>...</th>\n",
       "      <td>...</td>\n",
       "    </tr>\n",
       "    <tr>\n",
       "      <th>1542216</th>\n",
       "      <td>0.045323</td>\n",
       "    </tr>\n",
       "    <tr>\n",
       "      <th>1606627</th>\n",
       "      <td>0.027801</td>\n",
       "    </tr>\n",
       "    <tr>\n",
       "      <th>1926877</th>\n",
       "      <td>0.034369</td>\n",
       "    </tr>\n",
       "    <tr>\n",
       "      <th>1355651</th>\n",
       "      <td>0.087941</td>\n",
       "    </tr>\n",
       "    <tr>\n",
       "      <th>1788163</th>\n",
       "      <td>0.050675</td>\n",
       "    </tr>\n",
       "    <tr>\n",
       "      <th>1587289</th>\n",
       "      <td>0.060945</td>\n",
       "    </tr>\n",
       "    <tr>\n",
       "      <th>1796167</th>\n",
       "      <td>0.009782</td>\n",
       "    </tr>\n",
       "    <tr>\n",
       "      <th>1773706</th>\n",
       "      <td>0.079929</td>\n",
       "    </tr>\n",
       "    <tr>\n",
       "      <th>1405113</th>\n",
       "      <td>0.088216</td>\n",
       "    </tr>\n",
       "    <tr>\n",
       "      <th>1590086</th>\n",
       "      <td>0.020425</td>\n",
       "    </tr>\n",
       "    <tr>\n",
       "      <th>1325312</th>\n",
       "      <td>0.010668</td>\n",
       "    </tr>\n",
       "    <tr>\n",
       "      <th>1102454</th>\n",
       "      <td>0.026469</td>\n",
       "    </tr>\n",
       "    <tr>\n",
       "      <th>1435082</th>\n",
       "      <td>0.014659</td>\n",
       "    </tr>\n",
       "    <tr>\n",
       "      <th>1647853</th>\n",
       "      <td>0.012248</td>\n",
       "    </tr>\n",
       "    <tr>\n",
       "      <th>1808505</th>\n",
       "      <td>0.008584</td>\n",
       "    </tr>\n",
       "    <tr>\n",
       "      <th>1363078</th>\n",
       "      <td>0.018074</td>\n",
       "    </tr>\n",
       "    <tr>\n",
       "      <th>1535939</th>\n",
       "      <td>0.026277</td>\n",
       "    </tr>\n",
       "    <tr>\n",
       "      <th>1248615</th>\n",
       "      <td>0.026864</td>\n",
       "    </tr>\n",
       "    <tr>\n",
       "      <th>1687505</th>\n",
       "      <td>0.049640</td>\n",
       "    </tr>\n",
       "    <tr>\n",
       "      <th>1417699</th>\n",
       "      <td>0.043271</td>\n",
       "    </tr>\n",
       "    <tr>\n",
       "      <th>1457957</th>\n",
       "      <td>0.012467</td>\n",
       "    </tr>\n",
       "    <tr>\n",
       "      <th>1859278</th>\n",
       "      <td>0.028151</td>\n",
       "    </tr>\n",
       "    <tr>\n",
       "      <th>1665456</th>\n",
       "      <td>0.009884</td>\n",
       "    </tr>\n",
       "    <tr>\n",
       "      <th>526643</th>\n",
       "      <td>0.037235</td>\n",
       "    </tr>\n",
       "    <tr>\n",
       "      <th>1520423</th>\n",
       "      <td>0.019214</td>\n",
       "    </tr>\n",
       "    <tr>\n",
       "      <th>1877185</th>\n",
       "      <td>0.023933</td>\n",
       "    </tr>\n",
       "    <tr>\n",
       "      <th>1746971</th>\n",
       "      <td>0.120299</td>\n",
       "    </tr>\n",
       "    <tr>\n",
       "      <th>1633067</th>\n",
       "      <td>0.069553</td>\n",
       "    </tr>\n",
       "    <tr>\n",
       "      <th>1784034</th>\n",
       "      <td>0.007729</td>\n",
       "    </tr>\n",
       "    <tr>\n",
       "      <th>1486977</th>\n",
       "      <td>0.024877</td>\n",
       "    </tr>\n",
       "  </tbody>\n",
       "</table>\n",
       "<p>208180 rows × 1 columns</p>\n",
       "</div>"
      ],
      "text/plain": [
       "             pred_probs\n",
       "full_set_id            \n",
       "1477742        0.021830\n",
       "1236658        0.022014\n",
       "1175000        0.015892\n",
       "1843971        0.024093\n",
       "1647665        0.016601\n",
       "1164103        0.074357\n",
       "1496784        0.036572\n",
       "1889873        0.052027\n",
       "489951         0.065159\n",
       "674553         0.076043\n",
       "1368091        0.077126\n",
       "953345         0.021170\n",
       "408441         0.019469\n",
       "871727         0.018290\n",
       "1758064        0.041982\n",
       "1560078        0.014045\n",
       "1197714        0.091191\n",
       "1091668        0.060637\n",
       "1828005        0.012717\n",
       "1122016        0.052078\n",
       "1189347        0.082051\n",
       "1622563        0.006992\n",
       "414970         0.152982\n",
       "1920411        0.053384\n",
       "505546         0.085072\n",
       "620667         0.113230\n",
       "1809313        0.025165\n",
       "1844240        0.009433\n",
       "1488782        0.031217\n",
       "881817         0.010688\n",
       "...                 ...\n",
       "1542216        0.045323\n",
       "1606627        0.027801\n",
       "1926877        0.034369\n",
       "1355651        0.087941\n",
       "1788163        0.050675\n",
       "1587289        0.060945\n",
       "1796167        0.009782\n",
       "1773706        0.079929\n",
       "1405113        0.088216\n",
       "1590086        0.020425\n",
       "1325312        0.010668\n",
       "1102454        0.026469\n",
       "1435082        0.014659\n",
       "1647853        0.012248\n",
       "1808505        0.008584\n",
       "1363078        0.018074\n",
       "1535939        0.026277\n",
       "1248615        0.026864\n",
       "1687505        0.049640\n",
       "1417699        0.043271\n",
       "1457957        0.012467\n",
       "1859278        0.028151\n",
       "1665456        0.009884\n",
       "526643         0.037235\n",
       "1520423        0.019214\n",
       "1877185        0.023933\n",
       "1746971        0.120299\n",
       "1633067        0.069553\n",
       "1784034        0.007729\n",
       "1486977        0.024877\n",
       "\n",
       "[208180 rows x 1 columns]"
      ]
     },
     "execution_count": 298,
     "metadata": {},
     "output_type": "execute_result"
    }
   ],
   "source": [
    "pd.DataFrame(probs_dev, index = model_dev.full_set_id, columns=['pred_probs'])"
   ]
  },
  {
   "cell_type": "code",
   "execution_count": 295,
   "metadata": {
    "collapsed": false
   },
   "outputs": [],
   "source": [
    "with open('lgr_pac_general1.pickle', 'wb') as f:\n",
    "    pickle.dump(lgr, f)"
   ]
  },
  {
   "cell_type": "code",
   "execution_count": 302,
   "metadata": {
    "collapsed": false
   },
   "outputs": [],
   "source": [
    "def export_predictions(dfs, model, file_name, \n",
    "                       path = \"../model_predictions/\", \n",
    "                       predictors = predictors):\n",
    "    \"\"\"Exports probabilities for all sets\n",
    "    Args:\n",
    "        dfs: train, dev, test sets. in that order.\n",
    "        model: sklearn model to get predictions\n",
    "        path: where to export\n",
    "        predictors: Column set to use as predictors\n",
    "    \"\"\"\n",
    "    labels = ['train', 'dev', 'test']\n",
    "    for label, df in zip(labels, dfs):\n",
    "        probs = model.predict_proba(df[predictors])[:,1]\n",
    "        probs = pd.DataFrame(probs, index = df.full_set_id, columns=['pred_probs'])\n",
    "        probs.to_csv(path + file_name + \"_\" + label + \".csv\")\n",
    "        \n",
    "dfs = [model_train, model_dev, model_test]\n",
    "export_predictions(dfs, lgr, 'pac_general')"
   ]
  },
  {
   "cell_type": "code",
   "execution_count": 340,
   "metadata": {
    "collapsed": true
   },
   "outputs": [],
   "source": [
    "drop = ['full_set_id','member_id','party', 'vote_position',\n",
    "        'congress','roll_call','chamber','session', 'bill_id', \n",
    "        'majority_pos_rep', 'majority_pos_dem', 'broke_from_party', \n",
    "        'cosponsors', 'cs_count_r', 'cs_count_d']\n",
    "predictors = [x for x in model_train.columns if x not in drop]"
   ]
  },
  {
   "cell_type": "code",
   "execution_count": 341,
   "metadata": {
    "collapsed": false
   },
   "outputs": [
    {
     "name": "stderr",
     "output_type": "stream",
     "text": [
      "C:\\Users\\Steve\\Anaconda3\\lib\\site-packages\\statsmodels\\nonparametric\\kdetools.py:20: VisibleDeprecationWarning: using a non-integer number instead of an integer will result in an error in the future\n",
      "  y = X[:m/2+1] + np.r_[0,X[m/2+1:],0]*1j\n"
     ]
    },
    {
     "data": {
      "text/plain": [
       "<matplotlib.axes._subplots.AxesSubplot at 0xc0180206d8>"
      ]
     },
     "execution_count": 341,
     "metadata": {},
     "output_type": "execute_result"
    },
    {
     "data": {
      "image/png": "[encoded data removed]",
      "text/plain": [
       "<matplotlib.figure.Figure at 0xc0270dada0>"
      ]
     },
     "metadata": {},
     "output_type": "display_data"
    }
   ],
   "source": [
    "rfc = RandomForestClassifier(class_weight='balanced', min_samples_split=100)\n",
    "rf_pred = [x for x in predictors if x.startswith('int_') == False]\n",
    "rfc.fit(model_train[rf_pred], model_train['broke_from_party'])\n",
    "probs_dev = rfc.predict_proba(model_dev[rf_pred])[:,1]\n",
    "probs_train = rfc.predict_proba(model_train[rf_pred])[:,1]\n",
    "sns.distplot(probs_dev)"
   ]
  },
  {
   "cell_type": "code",
   "execution_count": 344,
   "metadata": {
    "collapsed": false
   },
   "outputs": [
    {
     "name": "stdout",
     "output_type": "stream",
     "text": [
      "5644\n",
      "             precision    recall  f1-score   support\n",
      "\n",
      "          0     0.9670    0.9823    0.9746    199391\n",
      "          1     0.3733    0.2397    0.2920      8789\n",
      "\n",
      "avg / total     0.9419    0.9509    0.9458    208180\n",
      "\n"
     ]
    }
   ],
   "source": [
    "print((probs_dev >= .7).sum())\n",
    "print(metrics.classification_report(model_dev['broke_from_party'], probs_dev >= .7, digits=4))"
   ]
  },
  {
   "cell_type": "markdown",
   "metadata": {},
   "source": [
    "### Industry Specific PAC contributions\n",
    "Committees were mapped to PAC industries. Will use PAC contribution similarity between member and sponsor just for the top PAC industries associated with the respective congressional committees involved in each bill. Will follow the same general approach as above, so code will be very similar."
   ]
  },
  {
   "cell_type": "code",
   "execution_count": 303,
   "metadata": {
    "collapsed": true
   },
   "outputs": [],
   "source": [
    "# keep relevant columns, dropna\n",
    "drop = ['am_count_r', 'am_count_d','accepted']\n",
    "keep_cols = [col for col in train.columns if col.startswith('cs_') == False and col not in drop]\n",
    "cols = [col for col in train.columns if col.startswith('com')]\n",
    "dfs = [train, dev, test]\n",
    "model_train, model_dev, model_test = map(lambda df: df[keep_cols].dropna(subset = cols), dfs)"
   ]
  },
  {
   "cell_type": "code",
   "execution_count": 305,
   "metadata": {
    "collapsed": false
   },
   "outputs": [],
   "source": [
    "def include_interactions(df):\n",
    "    \"\"\"Calculate pac contribution interactions with:\n",
    "        1. Cosponsor party ratio\n",
    "        2. Congress Number (to account for decrease in quality of PAC data in earlier years)\n",
    "    \"\"\"\n",
    "    columns = [x for x in df.columns if x.startswith('com_')]\n",
    "    \n",
    "    # consponsor party ration\n",
    "    interactions = df[columns].mul(df.cosponsor_same_party, axis = 0)\n",
    "    interactions.columns = [\"int_party_\" + col for col in interactions.columns]\n",
    "    df = pd.concat([df, interactions], axis = 1)\n",
    "    \n",
    "    # congress number. \n",
    "    # 115 has essentially complete data. it declines precipitously from there\n",
    "    interactions = df[columns].mul(df.congress >= 113, axis = 0)\n",
    "    interactions.columns = [\"int_congress_\" + col for col in interactions.columns]\n",
    "    df = pd.concat([df, interactions], axis = 1)\n",
    "    df['post_112'] = df.congress >= 113\n",
    "    return df\n",
    "\n",
    "dfs = [model_train, model_dev, model_test]\n",
    "model_train, model_dev, model_test = map(include_interactions, dfs)"
   ]
  },
  {
   "cell_type": "code",
   "execution_count": 309,
   "metadata": {
    "collapsed": false
   },
   "outputs": [
    {
     "data": {
      "text/plain": [
       "LogisticRegression(C=1.0, class_weight=None, dual=False, fit_intercept=True,\n",
       "          intercept_scaling=1, max_iter=100, multi_class='ovr', n_jobs=1,\n",
       "          penalty='l2', random_state=None, solver='liblinear', tol=0.0001,\n",
       "          verbose=0, warm_start=False)"
      ]
     },
     "execution_count": 309,
     "metadata": {},
     "output_type": "execute_result"
    }
   ],
   "source": [
    "drop = ['full_set_id','member_id','party', 'vote_position',\n",
    "        'congress','roll_call','chamber','session', 'bill_id', \n",
    "        'majority_pos_rep', 'majority_pos_dem', 'broke_from_party', \n",
    "        'cosponsors', 'cs_count_r', 'cs_count_d', 'committee_code']\n",
    "predictors = [x for x in model_train.columns if x not in drop]\n",
    "lgr = LogisticRegression()\n",
    "lgr.fit(model_train[predictors], model_train['broke_from_party'])"
   ]
  },
  {
   "cell_type": "code",
   "execution_count": 310,
   "metadata": {
    "collapsed": false
   },
   "outputs": [
    {
     "name": "stdout",
     "output_type": "stream",
     "text": [
      "             precision    recall  f1-score   support\n",
      "\n",
      "          0     0.9668    1.0000    0.9831    109160\n",
      "          1     0.0000    0.0000    0.0000      3748\n",
      "\n",
      "avg / total     0.9347    0.9668    0.9505    112908\n",
      "\n"
     ]
    },
    {
     "name": "stderr",
     "output_type": "stream",
     "text": [
      "C:\\Users\\Steve\\Anaconda3\\lib\\site-packages\\sklearn\\metrics\\classification.py:1113: UndefinedMetricWarning: Precision and F-score are ill-defined and being set to 0.0 in labels with no predicted samples.\n",
      "  'precision', 'predicted', average, warn_for)\n"
     ]
    }
   ],
   "source": [
    "# baseline\n",
    "print(metrics.classification_report(model_dev['broke_from_party'], np.zeros(len(model_dev)), digits=4))"
   ]
  },
  {
   "cell_type": "code",
   "execution_count": 311,
   "metadata": {
    "collapsed": true
   },
   "outputs": [],
   "source": [
    "probs_dev = lgr.predict_proba(model_dev[predictors])[:,1]\n",
    "probs_train = lgr.predict_proba(model_train[predictors])[:,1]"
   ]
  },
  {
   "cell_type": "code",
   "execution_count": 312,
   "metadata": {
    "collapsed": false,
    "scrolled": true
   },
   "outputs": [
    {
     "name": "stderr",
     "output_type": "stream",
     "text": [
      "C:\\Users\\Steve\\Anaconda3\\lib\\site-packages\\statsmodels\\nonparametric\\kdetools.py:20: VisibleDeprecationWarning: using a non-integer number instead of an integer will result in an error in the future\n",
      "  y = X[:m/2+1] + np.r_[0,X[m/2+1:],0]*1j\n"
     ]
    },
    {
     "data": {
      "text/plain": [
       "<matplotlib.axes._subplots.AxesSubplot at 0xbfe4fa3630>"
      ]
     },
     "execution_count": 312,
     "metadata": {},
     "output_type": "execute_result"
    },
    {
     "data": {
      "image/png": "[encoded data removed]",
      "text/plain": [
       "<matplotlib.figure.Figure at 0xbed5ebddd8>"
      ]
     },
     "metadata": {},
     "output_type": "display_data"
    }
   ],
   "source": [
    "# bimodal! nice! Still really low probs though\n",
    "sns.distplot(probs_dev)"
   ]
  },
  {
   "cell_type": "code",
   "execution_count": 313,
   "metadata": {
    "collapsed": false
   },
   "outputs": [
    {
     "data": {
      "text/plain": [
       "0"
      ]
     },
     "execution_count": 313,
     "metadata": {},
     "output_type": "execute_result"
    }
   ],
   "source": [
    "threshold = find_best_threshold(probs_train, model_train['broke_from_party'])\n",
    "(probs_dev > threshold).sum()"
   ]
  },
  {
   "cell_type": "code",
   "execution_count": 317,
   "metadata": {
    "collapsed": false
   },
   "outputs": [
    {
     "data": {
      "text/plain": [
       "1716"
      ]
     },
     "execution_count": 317,
     "metadata": {},
     "output_type": "execute_result"
    }
   ],
   "source": [
    "(probs_dev >= .10).sum()"
   ]
  },
  {
   "cell_type": "code",
   "execution_count": 315,
   "metadata": {
    "collapsed": false
   },
   "outputs": [
    {
     "name": "stdout",
     "output_type": "stream",
     "text": [
      "             precision    recall  f1-score   support\n",
      "\n",
      "          0     0.9682    0.9862    0.9771    109160\n",
      "          1     0.1212    0.0555    0.0761      3748\n",
      "\n",
      "avg / total     0.9400    0.9553    0.9472    112908\n",
      "\n"
     ]
    }
   ],
   "source": [
    "print(metrics.classification_report(model_dev['broke_from_party'], probs_dev >= .10, digits=4))"
   ]
  },
  {
   "cell_type": "code",
   "execution_count": 318,
   "metadata": {
    "collapsed": false
   },
   "outputs": [
    {
     "name": "stdout",
     "output_type": "stream",
     "text": [
      "             precision    recall  f1-score   support\n",
      "\n",
      "          0     0.9693    0.9649    0.9671    109160\n",
      "          1     0.0962    0.1089    0.1021      3748\n",
      "\n",
      "avg / total     0.9403    0.9365    0.9384    112908\n",
      "\n"
     ]
    }
   ],
   "source": [
    "print(metrics.classification_report(model_dev['broke_from_party'], probs_dev >= .08, digits=4))"
   ]
  },
  {
   "cell_type": "code",
   "execution_count": 319,
   "metadata": {
    "collapsed": false
   },
   "outputs": [
    {
     "data": {
      "text/html": [
       "<div>\n",
       "<table border=\"1\" class=\"dataframe\">\n",
       "  <thead>\n",
       "    <tr style=\"text-align: right;\">\n",
       "      <th></th>\n",
       "      <th>0</th>\n",
       "    </tr>\n",
       "  </thead>\n",
       "  <tbody>\n",
       "    <tr>\n",
       "      <th>int_party_com_p3_max</th>\n",
       "      <td>-1.980331</td>\n",
       "    </tr>\n",
       "    <tr>\n",
       "      <th>post_112</th>\n",
       "      <td>-1.896595</td>\n",
       "    </tr>\n",
       "    <tr>\n",
       "      <th>int_party_com_current_max</th>\n",
       "      <td>-1.143704</td>\n",
       "    </tr>\n",
       "    <tr>\n",
       "      <th>int_party_com_current_50%</th>\n",
       "      <td>-1.020174</td>\n",
       "    </tr>\n",
       "    <tr>\n",
       "      <th>int_party_com_current_25%</th>\n",
       "      <td>-0.907771</td>\n",
       "    </tr>\n",
       "    <tr>\n",
       "      <th>int_congress_com_current_min</th>\n",
       "      <td>-0.681268</td>\n",
       "    </tr>\n",
       "    <tr>\n",
       "      <th>com_current_min</th>\n",
       "      <td>-0.681268</td>\n",
       "    </tr>\n",
       "    <tr>\n",
       "      <th>com_p3_mean</th>\n",
       "      <td>-0.662553</td>\n",
       "    </tr>\n",
       "    <tr>\n",
       "      <th>int_congress_com_p3_mean</th>\n",
       "      <td>-0.662553</td>\n",
       "    </tr>\n",
       "    <tr>\n",
       "      <th>int_party_com_current_mean</th>\n",
       "      <td>-0.513247</td>\n",
       "    </tr>\n",
       "    <tr>\n",
       "      <th>int_party_com_p3_25%</th>\n",
       "      <td>-0.405733</td>\n",
       "    </tr>\n",
       "    <tr>\n",
       "      <th>com_current_mean</th>\n",
       "      <td>-0.389334</td>\n",
       "    </tr>\n",
       "    <tr>\n",
       "      <th>int_congress_com_current_mean</th>\n",
       "      <td>-0.389334</td>\n",
       "    </tr>\n",
       "    <tr>\n",
       "      <th>int_party_com_current_min</th>\n",
       "      <td>-0.323077</td>\n",
       "    </tr>\n",
       "    <tr>\n",
       "      <th>int_congress_com_p3_75%</th>\n",
       "      <td>-0.320061</td>\n",
       "    </tr>\n",
       "    <tr>\n",
       "      <th>com_p3_75%</th>\n",
       "      <td>-0.320061</td>\n",
       "    </tr>\n",
       "    <tr>\n",
       "      <th>int_party_com_p3_50%</th>\n",
       "      <td>-0.272683</td>\n",
       "    </tr>\n",
       "    <tr>\n",
       "      <th>int_congress_com_p3_min</th>\n",
       "      <td>-0.230993</td>\n",
       "    </tr>\n",
       "    <tr>\n",
       "      <th>com_p3_min</th>\n",
       "      <td>-0.230993</td>\n",
       "    </tr>\n",
       "    <tr>\n",
       "      <th>int_party_com_p3_mean</th>\n",
       "      <td>-0.171901</td>\n",
       "    </tr>\n",
       "    <tr>\n",
       "      <th>int_congress_com_current_std</th>\n",
       "      <td>-0.170041</td>\n",
       "    </tr>\n",
       "    <tr>\n",
       "      <th>com_current_std</th>\n",
       "      <td>-0.170041</td>\n",
       "    </tr>\n",
       "    <tr>\n",
       "      <th>com_current_75%</th>\n",
       "      <td>-0.061592</td>\n",
       "    </tr>\n",
       "    <tr>\n",
       "      <th>int_congress_com_current_75%</th>\n",
       "      <td>-0.061592</td>\n",
       "    </tr>\n",
       "    <tr>\n",
       "      <th>int_party_com_p3_count</th>\n",
       "      <td>-0.046611</td>\n",
       "    </tr>\n",
       "    <tr>\n",
       "      <th>com_current_count</th>\n",
       "      <td>-0.009956</td>\n",
       "    </tr>\n",
       "    <tr>\n",
       "      <th>int_congress_com_current_count</th>\n",
       "      <td>-0.009956</td>\n",
       "    </tr>\n",
       "    <tr>\n",
       "      <th>int_congress_com_p3_count</th>\n",
       "      <td>0.010164</td>\n",
       "    </tr>\n",
       "    <tr>\n",
       "      <th>com_p3_count</th>\n",
       "      <td>0.010164</td>\n",
       "    </tr>\n",
       "    <tr>\n",
       "      <th>int_party_com_current_count</th>\n",
       "      <td>0.045645</td>\n",
       "    </tr>\n",
       "    <tr>\n",
       "      <th>int_party_com_p3_std</th>\n",
       "      <td>0.135124</td>\n",
       "    </tr>\n",
       "    <tr>\n",
       "      <th>int_congress_com_p3_50%</th>\n",
       "      <td>0.148564</td>\n",
       "    </tr>\n",
       "    <tr>\n",
       "      <th>com_p3_50%</th>\n",
       "      <td>0.148564</td>\n",
       "    </tr>\n",
       "    <tr>\n",
       "      <th>int_party_com_p3_75%</th>\n",
       "      <td>0.199676</td>\n",
       "    </tr>\n",
       "    <tr>\n",
       "      <th>com_current_50%</th>\n",
       "      <td>0.316656</td>\n",
       "    </tr>\n",
       "    <tr>\n",
       "      <th>int_congress_com_current_50%</th>\n",
       "      <td>0.316656</td>\n",
       "    </tr>\n",
       "    <tr>\n",
       "      <th>com_current_max</th>\n",
       "      <td>0.330203</td>\n",
       "    </tr>\n",
       "    <tr>\n",
       "      <th>int_congress_com_current_max</th>\n",
       "      <td>0.330203</td>\n",
       "    </tr>\n",
       "    <tr>\n",
       "      <th>com_current_25%</th>\n",
       "      <td>0.602761</td>\n",
       "    </tr>\n",
       "    <tr>\n",
       "      <th>int_congress_com_current_25%</th>\n",
       "      <td>0.602761</td>\n",
       "    </tr>\n",
       "    <tr>\n",
       "      <th>int_congress_com_p3_max</th>\n",
       "      <td>0.649864</td>\n",
       "    </tr>\n",
       "    <tr>\n",
       "      <th>com_p3_max</th>\n",
       "      <td>0.649864</td>\n",
       "    </tr>\n",
       "    <tr>\n",
       "      <th>int_congress_com_p3_std</th>\n",
       "      <td>0.690094</td>\n",
       "    </tr>\n",
       "    <tr>\n",
       "      <th>com_p3_std</th>\n",
       "      <td>0.690094</td>\n",
       "    </tr>\n",
       "    <tr>\n",
       "      <th>com_p3_25%</th>\n",
       "      <td>0.728336</td>\n",
       "    </tr>\n",
       "    <tr>\n",
       "      <th>int_congress_com_p3_25%</th>\n",
       "      <td>0.728336</td>\n",
       "    </tr>\n",
       "    <tr>\n",
       "      <th>cosponsor_same_party</th>\n",
       "      <td>0.966783</td>\n",
       "    </tr>\n",
       "    <tr>\n",
       "      <th>int_party_com_current_std</th>\n",
       "      <td>0.980200</td>\n",
       "    </tr>\n",
       "    <tr>\n",
       "      <th>int_party_com_current_75%</th>\n",
       "      <td>1.213730</td>\n",
       "    </tr>\n",
       "    <tr>\n",
       "      <th>int_party_com_p3_min</th>\n",
       "      <td>1.752511</td>\n",
       "    </tr>\n",
       "  </tbody>\n",
       "</table>\n",
       "</div>"
      ],
      "text/plain": [
       "                                       0\n",
       "int_party_com_p3_max           -1.980331\n",
       "post_112                       -1.896595\n",
       "int_party_com_current_max      -1.143704\n",
       "int_party_com_current_50%      -1.020174\n",
       "int_party_com_current_25%      -0.907771\n",
       "int_congress_com_current_min   -0.681268\n",
       "com_current_min                -0.681268\n",
       "com_p3_mean                    -0.662553\n",
       "int_congress_com_p3_mean       -0.662553\n",
       "int_party_com_current_mean     -0.513247\n",
       "int_party_com_p3_25%           -0.405733\n",
       "com_current_mean               -0.389334\n",
       "int_congress_com_current_mean  -0.389334\n",
       "int_party_com_current_min      -0.323077\n",
       "int_congress_com_p3_75%        -0.320061\n",
       "com_p3_75%                     -0.320061\n",
       "int_party_com_p3_50%           -0.272683\n",
       "int_congress_com_p3_min        -0.230993\n",
       "com_p3_min                     -0.230993\n",
       "int_party_com_p3_mean          -0.171901\n",
       "int_congress_com_current_std   -0.170041\n",
       "com_current_std                -0.170041\n",
       "com_current_75%                -0.061592\n",
       "int_congress_com_current_75%   -0.061592\n",
       "int_party_com_p3_count         -0.046611\n",
       "com_current_count              -0.009956\n",
       "int_congress_com_current_count -0.009956\n",
       "int_congress_com_p3_count       0.010164\n",
       "com_p3_count                    0.010164\n",
       "int_party_com_current_count     0.045645\n",
       "int_party_com_p3_std            0.135124\n",
       "int_congress_com_p3_50%         0.148564\n",
       "com_p3_50%                      0.148564\n",
       "int_party_com_p3_75%            0.199676\n",
       "com_current_50%                 0.316656\n",
       "int_congress_com_current_50%    0.316656\n",
       "com_current_max                 0.330203\n",
       "int_congress_com_current_max    0.330203\n",
       "com_current_25%                 0.602761\n",
       "int_congress_com_current_25%    0.602761\n",
       "int_congress_com_p3_max         0.649864\n",
       "com_p3_max                      0.649864\n",
       "int_congress_com_p3_std         0.690094\n",
       "com_p3_std                      0.690094\n",
       "com_p3_25%                      0.728336\n",
       "int_congress_com_p3_25%         0.728336\n",
       "cosponsor_same_party            0.966783\n",
       "int_party_com_current_std       0.980200\n",
       "int_party_com_current_75%       1.213730\n",
       "int_party_com_p3_min            1.752511"
      ]
     },
     "execution_count": 319,
     "metadata": {},
     "output_type": "execute_result"
    }
   ],
   "source": [
    "# coefficients\n",
    "coefficients = pd.DataFrame(lgr.coef_, columns = model_train[predictors].columns).T\n",
    "coefficients.sort_values(by = 0)"
   ]
  },
  {
   "cell_type": "code",
   "execution_count": 324,
   "metadata": {
    "collapsed": false
   },
   "outputs": [
    {
     "data": {
      "text/plain": [
       "RandomForestClassifier(bootstrap=True, class_weight='balanced',\n",
       "            criterion='gini', max_depth=None, max_features='auto',\n",
       "            max_leaf_nodes=None, min_impurity_split=1e-07,\n",
       "            min_samples_leaf=1, min_samples_split=100,\n",
       "            min_weight_fraction_leaf=0.0, n_estimators=10, n_jobs=1,\n",
       "            oob_score=False, random_state=None, verbose=0,\n",
       "            warm_start=False)"
      ]
     },
     "execution_count": 324,
     "metadata": {},
     "output_type": "execute_result"
    }
   ],
   "source": [
    "rfc = RandomForestClassifier(class_weight='balanced', min_samples_split=100)\n",
    "rf_pred = [x for x in predictors if x.startswith('int_') == False]\n",
    "rfc.fit(model_train[rf_pred], model_train['broke_from_party'])"
   ]
  },
  {
   "cell_type": "code",
   "execution_count": 327,
   "metadata": {
    "collapsed": false
   },
   "outputs": [
    {
     "name": "stderr",
     "output_type": "stream",
     "text": [
      "C:\\Users\\Steve\\Anaconda3\\lib\\site-packages\\statsmodels\\nonparametric\\kdetools.py:20: VisibleDeprecationWarning: using a non-integer number instead of an integer will result in an error in the future\n",
      "  y = X[:m/2+1] + np.r_[0,X[m/2+1:],0]*1j\n"
     ]
    },
    {
     "data": {
      "text/plain": [
       "<matplotlib.axes._subplots.AxesSubplot at 0xc02ce48978>"
      ]
     },
     "execution_count": 327,
     "metadata": {},
     "output_type": "execute_result"
    },
    {
     "data": {
      "image/png": "[encoded data removed]",
      "text/plain": [
       "<matplotlib.figure.Figure at 0xc02e119e48>"
      ]
     },
     "metadata": {},
     "output_type": "display_data"
    }
   ],
   "source": [
    "probs_dev = rfc.predict_proba(model_dev[rf_pred])[:,1]\n",
    "probs_train = rfc.predict_proba(model_train[rf_pred])[:,1]\n",
    "sns.distplot(probs_dev)"
   ]
  },
  {
   "cell_type": "code",
   "execution_count": 334,
   "metadata": {
    "collapsed": false
   },
   "outputs": [
    {
     "name": "stdout",
     "output_type": "stream",
     "text": [
      "2214\n",
      "             precision    recall  f1-score   support\n",
      "\n",
      "          0     0.9737    0.9873    0.9805    109160\n",
      "          1     0.3758    0.2220    0.2791      3748\n",
      "\n",
      "avg / total     0.9538    0.9619    0.9572    112908\n",
      "\n"
     ]
    }
   ],
   "source": [
    "print((probs_dev >= .7).sum())\n",
    "print(metrics.classification_report(model_dev['broke_from_party'], probs_dev >= .7, digits=4))"
   ]
  },
  {
   "cell_type": "code",
   "execution_count": 336,
   "metadata": {
    "collapsed": false
   },
   "outputs": [],
   "source": [
    "with open('rfc_pac_industry1.pickle', 'wb') as f:\n",
    "    pickle.dump(rfc, f)\n",
    "dfs = [model_train, model_dev, model_test]\n",
    "export_predictions(dfs, rfc, 'pac_industry', predictors=rf_pred)"
   ]
  }
 ],
 "metadata": {
  "kernelspec": {
   "display_name": "Python 3",
   "language": "python",
   "name": "python3"
  },
  "language_info": {
   "codemirror_mode": {
    "name": "ipython",
    "version": 3
   },
   "file_extension": ".py",
   "mimetype": "text/x-python",
   "name": "python",
   "nbconvert_exporter": "python",
   "pygments_lexer": "ipython3",
   "version": "3.6.0"
  }
 },
 "nbformat": 4,
 "nbformat_minor": 2
}
