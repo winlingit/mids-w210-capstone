{
 "cells": [
  {
   "cell_type": "code",
   "execution_count": 1,
   "metadata": {
    "collapsed": true
   },
   "outputs": [],
   "source": [
    "import pandas as pd\n",
    "import numpy as np\n",
    "import pickle\n",
    "import os\n",
    "from sklearn import metrics\n",
    "from sklearn.preprocessing import PolynomialFeatures\n",
    "from sklearn.linear_model import LogisticRegression\n",
    "import seaborn as sns\n",
    "from sklearn.ensemble import RandomForestClassifier\n",
    "from sklearn.utils import shuffle\n",
    "from collections import defaultdict\n",
    "pd.options.display.max_columns = 100\n",
    "%matplotlib inline"
   ]
  },
  {
   "cell_type": "markdown",
   "metadata": {},
   "source": [
    "# Bill Involvement Model\n",
    "This is a very simple model. It will predict voting behavior based on a member's bill involvement (were they cosponsors/have an ammendement accepted)\n",
    "## Feature Construction"
   ]
  },
  {
   "cell_type": "code",
   "execution_count": 18,
   "metadata": {
    "collapsed": false
   },
   "outputs": [],
   "source": [
    "# bills file\n",
    "df_bills = pd.read_csv('../data/propublica/billsfull_model.csv', encoding = 'latin1')\n",
    "columns = ['bill_id','cosponsor', 'dsponsor', 'rsponsor', 'sponsor_id', 'sponsor_party', 'com_codes_fuzzy2']\n",
    "df_bills = df_bills[columns]\n",
    "\n",
    "def fix_eval(row):\n",
    "    \"\"\"Combination of different API pulls from different people resulted in lists being inconsistenly stored\"\"\"\n",
    "    try:\n",
    "        new = eval(row)\n",
    "        if type(new[0]) == list:\n",
    "            new = new[0]\n",
    "    except NameError:\n",
    "        row = row.replace('[', \"\")\n",
    "        row = row.replace(']', \"\")\n",
    "        new = row.split(', ')\n",
    "    except:\n",
    "        new = row\n",
    "    return new\n",
    "\n",
    "df_bills['com_codes_fuzzy2'] = df_bills.com_codes_fuzzy2.apply(fix_eval)\n",
    "df_bills['cosponsor'] = df_bills.cosponsor.apply(fix_eval)"
   ]
  },
  {
   "cell_type": "code",
   "execution_count": 19,
   "metadata": {
    "collapsed": true
   },
   "outputs": [],
   "source": [
    "# amendements file\n",
    "df_amendments = pd.read_csv('../data/propublica/amendments.csv')\n",
    "for col in df_amendments.columns:\n",
    "    if col == 'bill_id':\n",
    "        continue\n",
    "    df_amendments[col] = df_amendments[col].apply(lambda x: eval(x))\n",
    "    df_amendments[col + \"_n\"] = df_amendments[col].apply(lambda x: len(x))\n",
    "df_bills = pd.merge(df_bills, df_amendments, on = 'bill_id', how = 'left')\n"
   ]
  },
  {
   "cell_type": "code",
   "execution_count": 20,
   "metadata": {
    "collapsed": false
   },
   "outputs": [],
   "source": [
    "# votes file\n",
    "def get_full_set(path):\n",
    "    for dataset in ['train','dev','test']:\n",
    "        df = pd.read_csv(path + dataset + '.csv', encoding = 'latin1')\n",
    "        if dataset == 'train':\n",
    "            df_votes = df\n",
    "        else:\n",
    "            df_votes = pd.concat([df_votes, df])\n",
    "    return df_votes\n",
    "\n",
    "df_votes = get_full_set('../data/model/')\n",
    "df_votes = pd.merge(df_votes, df_bills, on = 'bill_id', how = 'left')\n",
    "df_votes.dropna(subset = ['cosponsor'], inplace = True)\n",
    "df_votes.dropna(subset = ['any_submission'], inplace = True)\n",
    "\n",
    "columns = ['cosponsor', 'accepted', 'no_action', 'not_relevant', 'withdrawn']\n",
    "for col in columns:\n",
    "    df_votes['m_in_' + col] = df_votes.apply(lambda x: x.member_id in x[col], axis = 1)\n",
    "df_votes['is_sponsor'] = df_votes.member_id == df_votes.sponsor_id\n",
    "df_votes['n_cosponsor'] = df_votes.rsponsor + df_votes.dsponsor"
   ]
  },
  {
   "cell_type": "code",
   "execution_count": 21,
   "metadata": {
    "collapsed": false
   },
   "outputs": [],
   "source": [
    "def calc_party_alignment(row):\n",
    "    \"\"\"Get ratio of cosponsor party relative to member party\"\"\"\n",
    "    r_count = row.rsponsor\n",
    "    d_count = row.dsponsor\n",
    "    if row.sponsor_party == 'R':\n",
    "        r_count += 1\n",
    "    elif row.sponsor_party == 'D':\n",
    "        d_count += 1\n",
    "    \n",
    "    denom = d_count + r_count\n",
    "    if denom == 0:\n",
    "        return np.nan\n",
    "    if row.party == 'R':\n",
    "        return r_count / denom\n",
    "    elif row.party == 'D':\n",
    "        return d_count / denom\n",
    "df_votes['spon_party_ratio'] = df_votes.apply(calc_party_alignment, axis = 1)"
   ]
  },
  {
   "cell_type": "code",
   "execution_count": 43,
   "metadata": {
    "collapsed": true
   },
   "outputs": [],
   "source": [
    "# committee membership\n",
    "df_votes.dropna(subset = ['com_codes_fuzzy2'], inplace = True)\n",
    "df_votes['com_count'] = df_votes.com_codes_fuzzy2.apply(lambda x: len(x))\n",
    "# create dict of committee membership\n",
    "df_committee = pd.read_csv('../data/propublica/members_committee.csv')\n",
    "df_members = pd.read_csv('../data/propublica/members_bio.csv', encoding = 'latin1')\n",
    "df_members = df_members[['member_id', 'congress','party']].drop_duplicates(subset = ['member_id', 'congress'])\n",
    "df_committee = pd.merge(df_committee, \n",
    "                        df_members, \n",
    "                        how = 'left', \n",
    "                        left_on=['member_id','session'], \n",
    "                        right_on = ['member_id','congress'])\n",
    "gb = ['code', 'congress', 'party']\n",
    "df_maj = df_committee.groupby(gb).size().reset_index().set_index('party').groupby(['code', 'congress'])[0].apply(lambda x: x.argmax()).reset_index()\n",
    "df_committee = pd.merge(df_committee, df_maj, how = 'left', on = ['code', 'congress'])\n",
    "df_committee['is_majority'] = df_committee.party == df_committee[0]\n",
    "committee_membership = defaultdict(lambda: defaultdict(lambda: defaultdict(list)))\n",
    "for i, row in df_committee.iterrows():\n",
    "    v = [row.is_majority, row.rank_in_party]\n",
    "    committee_membership[row.member_id][row.congress][row.code] = v\n",
    "\n",
    "def get_mem_stats(row):\n",
    "    \"\"\"For each bill, get committee membership count for members.\n",
    "        Get if majority party, and rank in party\n",
    "    \"\"\"\n",
    "    coms = row.com_codes_fuzzy2\n",
    "    mem = row.member_id\n",
    "    ses = row.congress\n",
    "    pmaj = 0\n",
    "    pmin = 0\n",
    "    ranks = []\n",
    "    for com in coms:\n",
    "        is_member = committee_membership[mem][ses][com]\n",
    "        if is_member:\n",
    "            if is_member[0]:\n",
    "                pmaj += 1\n",
    "            else:\n",
    "                pmin += 1\n",
    "            ranks.append(is_member[1])\n",
    "    if ranks:\n",
    "        avg_rank = np.average(ranks)\n",
    "    else:\n",
    "        avg_rank = -1\n",
    "    \n",
    "    return {'com_maj_count' : pmaj, \n",
    "            'com_min_count': pmin, \n",
    "            'com_avg_rank': avg_rank}\n",
    "\n",
    "df_comstats = df_votes.apply(get_mem_stats, axis = 1)\n",
    "df_comstats = pd.DataFrame(df_comstats.tolist(), index=df_votes.index)\n",
    "df_votes = pd.concat([df_votes, df_comstats], axis = 1)"
   ]
  },
  {
   "cell_type": "code",
   "execution_count": 129,
   "metadata": {
    "collapsed": false
   },
   "outputs": [],
   "source": [
    "columns = ['full_set_id', 'any_submission_n','accepted_n',\n",
    "           'm_in_cosponsor','m_in_accepted','m_in_no_action','m_in_not_relevant',\n",
    "           'm_in_withdrawn','is_sponsor','n_cosponsor', 'com_count', \n",
    "           'com_maj_count', 'com_min_count', 'com_avg_rank']\n",
    "df_votes = df_votes[columns]\n",
    "df_votes.to_csv('../data/model/bill_involvement/features2.csv', index = False)"
   ]
  },
  {
   "cell_type": "markdown",
   "metadata": {},
   "source": [
    "## Modeling"
   ]
  },
  {
   "cell_type": "code",
   "execution_count": 133,
   "metadata": {
    "collapsed": false
   },
   "outputs": [],
   "source": [
    "test = pd.read_csv('../data/model/test.csv')\n",
    "train = pd.read_csv('../data/model/train.csv')\n",
    "dev = pd.read_csv('../data/model/dev.csv')\n",
    "dfs = [train, dev, test]\n",
    "def join_features(df):\n",
    "    df = pd.merge(df, df_votes, on = 'full_set_id', how = 'left').dropna(subset = ['is_sponsor', 'com_avg_rank'])\n",
    "    return df\n",
    "model_train, model_dev, model_test =  map(join_features, dfs)"
   ]
  },
  {
   "cell_type": "code",
   "execution_count": 134,
   "metadata": {
    "collapsed": false
   },
   "outputs": [
    {
     "name": "stdout",
     "output_type": "stream",
     "text": [
      "             precision    recall  f1-score   support\n",
      "\n",
      "          0     0.9467    0.9463    0.9465    454917\n",
      "          1     0.0534    0.0538    0.0536     25595\n",
      "\n",
      "avg / total     0.8992    0.8987    0.8989    480512\n",
      "\n"
     ]
    }
   ],
   "source": [
    "# baseline if randomly assign 1 at level proportional to overall rate\n",
    "t = [1] * int(len(model_dev) * model_train.broke_from_party.mean())\n",
    "t += ([0] *(len(model_dev) - len(t)))\n",
    "t = shuffle(t)\n",
    "print(metrics.classification_report(model_dev['broke_from_party'], t, digits=4))"
   ]
  },
  {
   "cell_type": "code",
   "execution_count": 135,
   "metadata": {
    "collapsed": false
   },
   "outputs": [
    {
     "data": {
      "text/plain": [
       "RandomForestClassifier(bootstrap=True, class_weight='balanced',\n",
       "            criterion='gini', max_depth=None, max_features='auto',\n",
       "            max_leaf_nodes=None, min_impurity_split=1e-07,\n",
       "            min_samples_leaf=1, min_samples_split=200,\n",
       "            min_weight_fraction_leaf=0.0, n_estimators=10, n_jobs=1,\n",
       "            oob_score=False, random_state=None, verbose=0,\n",
       "            warm_start=False)"
      ]
     },
     "execution_count": 135,
     "metadata": {},
     "output_type": "execute_result"
    }
   ],
   "source": [
    "features = ['any_submission_n','accepted_n',\n",
    "           'm_in_cosponsor','m_in_accepted','m_in_no_action','m_in_not_relevant',\n",
    "           'm_in_withdrawn','is_sponsor','n_cosponsor', 'com_count', \n",
    "            'com_maj_count', 'com_min_count', 'com_avg_rank']\n",
    "rfc = RandomForestClassifier(class_weight='balanced', min_samples_split=200)\n",
    "rfc.fit(model_train[features], model_train['broke_from_party'])"
   ]
  },
  {
   "cell_type": "code",
   "execution_count": 136,
   "metadata": {
    "collapsed": false
   },
   "outputs": [
    {
     "name": "stderr",
     "output_type": "stream",
     "text": [
      "C:\\Users\\Steve\\Anaconda3\\lib\\site-packages\\statsmodels\\nonparametric\\kdetools.py:20: VisibleDeprecationWarning: using a non-integer number instead of an integer will result in an error in the future\n",
      "  y = X[:m/2+1] + np.r_[0,X[m/2+1:],0]*1j\n"
     ]
    },
    {
     "data": {
      "text/plain": [
       "<matplotlib.axes._subplots.AxesSubplot at 0xe213e916a0>"
      ]
     },
     "execution_count": 136,
     "metadata": {},
     "output_type": "execute_result"
    },
    {
     "data": {
      "image/png": "[encoded data removed]",
      "text/plain": [
       "<matplotlib.figure.Figure at 0xe2619a1048>"
      ]
     },
     "metadata": {},
     "output_type": "display_data"
    }
   ],
   "source": [
    "# spike is likely from members who are not cosponsors, or proposed ammendments\n",
    "probs_dev = rfc.predict_proba(model_dev[features])[:,1]\n",
    "probs_train = rfc.predict_proba(model_train[features])[:,1]\n",
    "sns.distplot(probs_dev)"
   ]
  },
  {
   "cell_type": "code",
   "execution_count": 137,
   "metadata": {
    "collapsed": false
   },
   "outputs": [
    {
     "name": "stdout",
     "output_type": "stream",
     "text": [
      "28824\n",
      "             precision    recall  f1-score   support\n",
      "\n",
      "          0     0.9581    0.9513    0.9546    454917\n",
      "          1     0.2307    0.2599    0.2444     25595\n",
      "\n",
      "avg / total     0.9193    0.9144    0.9168    480512\n",
      "\n"
     ]
    }
   ],
   "source": [
    "thresh = .75\n",
    "print((probs_dev >= thresh).sum())\n",
    "print(metrics.classification_report(model_dev['broke_from_party'], probs_dev >= thresh, digits=4))"
   ]
  },
  {
   "cell_type": "code",
   "execution_count": 139,
   "metadata": {
    "collapsed": true
   },
   "outputs": [],
   "source": [
    "def export_predictions(dfs, model, file_name, \n",
    "                       path = \"../data/model/model_predictions/\", \n",
    "                       predictors = features):\n",
    "    \"\"\"Exports probabilities for all sets\n",
    "    Args:\n",
    "        dfs: train, dev, test sets. in that order.\n",
    "        model: sklearn model to get predictions\n",
    "        path: where to export\n",
    "        predictors: Column set to use as predictors\n",
    "    \"\"\"\n",
    "    labels = ['train', 'dev', 'test']\n",
    "    for label, df in zip(labels, dfs):\n",
    "        probs = model.predict_proba(df[predictors])[:,1]\n",
    "        probs = pd.DataFrame(probs, index = df.full_set_id, columns=['pred_probs'])\n",
    "        probs.to_csv(path + file_name + \"_\" + label + \".csv\")\n",
    "\n",
    "with open('../data/model/bill_involvement/rfc_involvement1.pickle', 'wb') as f:\n",
    "    pickle.dump(rfc, f)\n",
    "dfs = [model_train, model_dev, model_test]\n",
    "export_predictions(dfs, rfc, 'bill_involvement', predictors=features)"
   ]
  }
 ],
 "metadata": {
  "kernelspec": {
   "display_name": "Python 3",
   "language": "python",
   "name": "python3"
  },
  "language_info": {
   "codemirror_mode": {
    "name": "ipython",
    "version": 3
   },
   "file_extension": ".py",
   "mimetype": "text/x-python",
   "name": "python",
   "nbconvert_exporter": "python",
   "pygments_lexer": "ipython3",
   "version": "3.6.0"
  }
 },
 "nbformat": 4,
 "nbformat_minor": 2
}
