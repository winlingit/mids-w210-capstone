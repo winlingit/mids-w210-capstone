{
 "cells": [
  {
   "cell_type": "code",
   "execution_count": 7,
   "metadata": {
    "collapsed": true
   },
   "outputs": [],
   "source": [
    "import os\n",
    "import pickle\n",
    "\n",
    "import pandas as pd\n",
    "import numpy as np\n",
    "from sklearn import metrics\n",
    "from sklearn.ensemble import RandomForestClassifier\n",
    "from sklearn.utils import shuffle\n",
    "import seaborn as sns\n",
    "import matplotlib.pyplot as plt\n",
    "import statsmodels.formula.api as smf\n",
    "from sklearn.linear_model import LogisticRegression\n",
    "from sklearn.model_selection import GridSearchCV\n",
    "pd.options.display.max_columns = 100\n",
    "%matplotlib inline"
   ]
  },
  {
   "cell_type": "markdown",
   "metadata": {},
   "source": [
    "# Economic District Model\n",
    "This model will use a basic economic profile of districts/states (industry composition from the US Census' County Business Pattern dataset) to predict voting patterns.\n",
    "## Feature Construction"
   ]
  },
  {
   "cell_type": "code",
   "execution_count": 18,
   "metadata": {
    "collapsed": false
   },
   "outputs": [],
   "source": [
    "# load and format district economic cosine similarity into dictionary\n",
    "# dict[session]['id1', 'id2']\n",
    "path = '../data/districts/cbp_preprocessed/'\n",
    "dict_cosines = {}\n",
    "for file in os.listdir(path):\n",
    "    if not file.startswith('combined'):\n",
    "        continue\n",
    "    ind = ['id_d1', 'id_d2']\n",
    "    df = pd.read_csv(path + file, usecols=ind + ['cosine'], index_col=ind)\n",
    "    year = int(file.split(\"_\")[0][-3:])\n",
    "    dict_cosines[year] = df.to_dict(orient = 'index')\n",
    "\n",
    "# Load plain district economic info\n",
    "i = 0\n",
    "for file in os.listdir(path):\n",
    "    if not file.endswith('composition.csv'):\n",
    "        continue\n",
    "    df = pd.read_csv(path + file)\n",
    "    if i == 0:\n",
    "        df_comp = df\n",
    "        i += 1\n",
    "    else:\n",
    "        df_comp = pd.concat([df_comp, df])\n",
    "df_comp.drop(['district', 'state_abbr'], axis = 1, inplace = True)\n",
    "df_comp.rename(columns={'id': 'member_id', 'session': 'congress'}, inplace = True)\n",
    "\n",
    "# get member info\n",
    "columns = ['id', 'short_title', 'state', 'session']\n",
    "df_members = pd.read_csv('../data/propublica/members_all.csv', encoding = 'latin1', usecols=columns)\n",
    "df_members.drop_duplicates(subset = ['id', 'session'], inplace = True)\n",
    "dict_members = df_members.set_index(['id', 'session']).to_dict(orient = 'index')\n",
    "\n",
    "# grab member ids of successful amendments.\n",
    "df_amendments = pd.read_csv('../data/model/vote_history/amendment_votes_raw.csv')\n",
    "df_amendments = df_amendments[df_amendments.result.str.contains('Agree')]\n",
    "df_amendments = pd.DataFrame(df_amendments.groupby('bill_id').member_id.agg(lambda x: list(x)))\n",
    "df_amendments.rename(columns={0: 'amendment_ids'}, inplace = True)\n",
    "df_amendments.reset_index(inplace = True)\n",
    "\n",
    "# pull in bills\n",
    "df_bills = pd.read_csv('../data/propublica/billsfull_model.csv', encoding = 'latin1')\n",
    "df_bills.dropna(subset = ['sponsor_id'], inplace = True)\n",
    "df_bills = pd.merge(df_bills, df_amendments, how = 'left', on = 'bill_id')\n",
    "def fix_eval(row):\n",
    "    \"\"\"Combination of different API pulls from different people resulted in lists being inconsistenly stored\n",
    "        Also append the sponsor id and ids of members who had a successful ammendment\n",
    "    \"\"\"\n",
    "    try:\n",
    "        new = eval(row.cosponsor)\n",
    "        if type(new[0]) == list:\n",
    "            new = new[0]\n",
    "    except NameError:\n",
    "        new = row.cosponsor.replace('[', \"\")\n",
    "        new = new.replace(']', \"\")\n",
    "        new = new.split(', ')\n",
    "    except:\n",
    "        if type(row.cosponsor) == float:\n",
    "            new = []\n",
    "        else:\n",
    "            new = row.cosponsor\n",
    "    new.append(row.sponsor_id)\n",
    "    if type(row.amendment_ids) == list:\n",
    "        for a_id in row.amendment_ids:\n",
    "            new.append(a_id)\n",
    "    return set(new)\n",
    "df_bills['cosponsor_ids'] = df_bills.apply(fix_eval, axis = 1)\n",
    "df_bills['n_cos'] = df_bills.cosponsor_ids.apply(lambda x: len(x))\n",
    "\n",
    "# dummy code committees\n",
    "def fix_coms(row):\n",
    "    \"\"\"eval committee lists\"\"\"\n",
    "    try:\n",
    "        new = eval(row)\n",
    "        if type(new[0]) == list:\n",
    "            new = new[0]\n",
    "    except NameError:\n",
    "        row = row.replace('[', \"\")\n",
    "        row = row.replace(']', \"\")\n",
    "        new = row.split(', ')\n",
    "    except:\n",
    "        new = row\n",
    "    return new\n",
    "\n",
    "df_bills['com_codes_fuzzy2'] = df_bills.com_codes_fuzzy2.apply(fix_coms)\n",
    "df_bills.rename(columns={'com_codes_fuzzy2': 'committee_codes2'}, inplace = True)\n",
    "committee_dummies = pd.get_dummies(df_bills.committee_codes2.apply(pd.Series).stack()).sum(level=0)\n",
    "committee_dummies.columns = [\"com_\" + x for x in committee_dummies.columns]\n",
    "df_bills = pd.concat([df_bills, committee_dummies], axis = 1)\n",
    "columns = ['bill_id', 'cosponsor_ids', 'n_cos']\n",
    "columns += [x for x in df_bills.columns if x.startswith('com_') and len(x) == 8]\n",
    "df_bills = df_bills[columns]\n",
    "\n",
    "# votes file\n",
    "def get_full_set(path):\n",
    "    for dataset in ['train','dev','test']:\n",
    "        df = pd.read_csv(path + dataset + '.csv', encoding = 'latin1')\n",
    "        if dataset == 'train':\n",
    "            df_votes = df\n",
    "        else:\n",
    "            df_votes = pd.concat([df_votes, df])\n",
    "    return df_votes\n",
    "\n",
    "df_votes = get_full_set('../data/model/')\n",
    "df_votes = pd.merge(df_votes, df_bills, on = 'bill_id', how = 'left')\n",
    "df_votes.dropna(subset = ['n_cos'], inplace = True)\n",
    "df_votes.reset_index(inplace = True, drop = True)\n",
    "df_votes = pd.merge(df_votes, df_members, \n",
    "                    how = 'left', \n",
    "                    left_on=['member_id', 'congress'], \n",
    "                    right_on=['id', 'session'])\n",
    "df_votes.dropna(inplace = True)\n",
    "df_votes = df_votes[df_votes.session_y >= 113]\n",
    "df_votes.reset_index(inplace = True, drop = True)\n",
    "\n",
    "# get central tendency stats for cosine sims between member and cosponsors\n",
    "stats = []\n",
    "for i, m1 in df_votes.iterrows():\n",
    "    cosines = []\n",
    "    for m2 in m1.cosponsor_ids:\n",
    "        if m2 == m1.id:\n",
    "            continue\n",
    "        try:\n",
    "            cosine = dict_cosines[m1.congress][(m1.member_id, m2)]['cosine']\n",
    "            cosines.append(cosine)\n",
    "        except:\n",
    "            continue\n",
    "    cosines = pd.Series(cosines).describe()\n",
    "    cosines.index = [\"cosine_\" + x for x in cosines.index]\n",
    "    cosines.fillna(-1, inplace = True)\n",
    "    cosines = cosines.to_dict()\n",
    "    stats.append(cosines)\n",
    "stats = pd.DataFrame(stats)\n",
    "stats = stats[stats.cosine_count > 0]\n",
    "df_votes = pd.concat([df_votes, stats], axis = 1)\n",
    "df_votes.dropna(subset = ['cosine_max'], inplace = True)\n",
    "df_votes = pd.merge(df_votes, df_comp, how = 'left', on = ['member_id', 'congress'])\n",
    "\n",
    "# export feature set\n",
    "columns = ['full_set_id']\n",
    "columns += stats.columns.tolist()\n",
    "columns += df_comp.columns.tolist()\n",
    "columns = columns[:-2]\n",
    "columns += [x for x in df_votes.columns if x.startswith('com_')]\n",
    "df_votes = df_votes[columns]\n",
    "df_votes.dropna(inplace = True)\n",
    "df_votes.to_csv('../data/model/districts/econ_features.csv', index = False)"
   ]
  },
  {
   "cell_type": "markdown",
   "metadata": {},
   "source": [
    "## Model"
   ]
  },
  {
   "cell_type": "code",
   "execution_count": 94,
   "metadata": {
    "collapsed": false
   },
   "outputs": [
    {
     "data": {
      "text/html": [
       "<div>\n",
       "<table border=\"1\" class=\"dataframe\">\n",
       "  <thead>\n",
       "    <tr style=\"text-align: right;\">\n",
       "      <th></th>\n",
       "      <th>full_set_id</th>\n",
       "      <th>cosine_25%</th>\n",
       "      <th>cosine_50%</th>\n",
       "      <th>cosine_75%</th>\n",
       "      <th>cosine_count</th>\n",
       "      <th>cosine_max</th>\n",
       "      <th>cosine_mean</th>\n",
       "      <th>cosine_min</th>\n",
       "      <th>cosine_std</th>\n",
       "      <th>11----</th>\n",
       "      <th>21----</th>\n",
       "      <th>22----</th>\n",
       "      <th>23----</th>\n",
       "      <th>31----</th>\n",
       "      <th>42----</th>\n",
       "      <th>44----</th>\n",
       "      <th>48----</th>\n",
       "      <th>51----</th>\n",
       "      <th>52----</th>\n",
       "      <th>53----</th>\n",
       "      <th>54----</th>\n",
       "      <th>55----</th>\n",
       "      <th>56----</th>\n",
       "      <th>61----</th>\n",
       "      <th>62----</th>\n",
       "      <th>71----</th>\n",
       "      <th>72----</th>\n",
       "      <th>81----</th>\n",
       "      <th>99----</th>\n",
       "      <th>com_HLIG</th>\n",
       "      <th>com_HSAG</th>\n",
       "      <th>com_HSAP</th>\n",
       "      <th>com_HSAS</th>\n",
       "      <th>com_HSBA</th>\n",
       "      <th>com_HSBU</th>\n",
       "      <th>com_HSED</th>\n",
       "      <th>com_HSFA</th>\n",
       "      <th>com_HSGO</th>\n",
       "      <th>com_HSHA</th>\n",
       "      <th>com_HSHM</th>\n",
       "      <th>com_HSIF</th>\n",
       "      <th>com_HSIG</th>\n",
       "      <th>com_HSII</th>\n",
       "      <th>com_HSJU</th>\n",
       "      <th>com_HSPW</th>\n",
       "      <th>com_HSRU</th>\n",
       "      <th>com_HSSM</th>\n",
       "      <th>com_HSSO</th>\n",
       "      <th>com_HSSY</th>\n",
       "      <th>com_HSVR</th>\n",
       "      <th>com_HSWM</th>\n",
       "      <th>com_JCSE</th>\n",
       "      <th>com_SLIA</th>\n",
       "      <th>com_SLIN</th>\n",
       "      <th>com_SSAF</th>\n",
       "      <th>com_SSAP</th>\n",
       "      <th>com_SSAS</th>\n",
       "      <th>com_SSBK</th>\n",
       "      <th>com_SSBU</th>\n",
       "      <th>com_SSCM</th>\n",
       "      <th>com_SSEG</th>\n",
       "      <th>com_SSEV</th>\n",
       "      <th>com_SSFI</th>\n",
       "      <th>com_SSFR</th>\n",
       "      <th>com_SSGA</th>\n",
       "      <th>com_SSHR</th>\n",
       "      <th>com_SSJU</th>\n",
       "      <th>com_SSRA</th>\n",
       "      <th>com_SSSB</th>\n",
       "      <th>com_SSVA</th>\n",
       "    </tr>\n",
       "  </thead>\n",
       "  <tbody>\n",
       "    <tr>\n",
       "      <th>0</th>\n",
       "      <td>1688860</td>\n",
       "      <td>0.945801</td>\n",
       "      <td>0.953529</td>\n",
       "      <td>0.96226</td>\n",
       "      <td>8.0</td>\n",
       "      <td>0.985202</td>\n",
       "      <td>0.957149</td>\n",
       "      <td>0.940824</td>\n",
       "      <td>0.015703</td>\n",
       "      <td>0.031754</td>\n",
       "      <td>0.284496</td>\n",
       "      <td>0.442741</td>\n",
       "      <td>3.787158</td>\n",
       "      <td>14.190113</td>\n",
       "      <td>4.997937</td>\n",
       "      <td>12.364885</td>\n",
       "      <td>3.52254</td>\n",
       "      <td>1.917459</td>\n",
       "      <td>5.35419</td>\n",
       "      <td>1.384426</td>\n",
       "      <td>5.172753</td>\n",
       "      <td>3.241567</td>\n",
       "      <td>6.661835</td>\n",
       "      <td>2.679327</td>\n",
       "      <td>18.101194</td>\n",
       "      <td>1.400565</td>\n",
       "      <td>10.02525</td>\n",
       "      <td>4.432042</td>\n",
       "      <td>0.007769</td>\n",
       "      <td>0.0</td>\n",
       "      <td>0.0</td>\n",
       "      <td>0.0</td>\n",
       "      <td>0.0</td>\n",
       "      <td>0.0</td>\n",
       "      <td>0.0</td>\n",
       "      <td>0.0</td>\n",
       "      <td>0.0</td>\n",
       "      <td>0.0</td>\n",
       "      <td>0.0</td>\n",
       "      <td>0.0</td>\n",
       "      <td>0.0</td>\n",
       "      <td>0.0</td>\n",
       "      <td>0.0</td>\n",
       "      <td>0.0</td>\n",
       "      <td>0.0</td>\n",
       "      <td>0.0</td>\n",
       "      <td>0.0</td>\n",
       "      <td>0.0</td>\n",
       "      <td>0.0</td>\n",
       "      <td>0.0</td>\n",
       "      <td>1.0</td>\n",
       "      <td>0.0</td>\n",
       "      <td>0.0</td>\n",
       "      <td>0.0</td>\n",
       "      <td>0.0</td>\n",
       "      <td>0.0</td>\n",
       "      <td>0.0</td>\n",
       "      <td>0.0</td>\n",
       "      <td>0.0</td>\n",
       "      <td>0.0</td>\n",
       "      <td>0.0</td>\n",
       "      <td>0.0</td>\n",
       "      <td>0.0</td>\n",
       "      <td>0.0</td>\n",
       "      <td>0.0</td>\n",
       "      <td>0.0</td>\n",
       "      <td>0.0</td>\n",
       "      <td>0.0</td>\n",
       "      <td>0.0</td>\n",
       "      <td>0.0</td>\n",
       "    </tr>\n",
       "  </tbody>\n",
       "</table>\n",
       "</div>"
      ],
      "text/plain": [
       "   full_set_id  cosine_25%  cosine_50%  cosine_75%  cosine_count  cosine_max  \\\n",
       "0      1688860    0.945801    0.953529     0.96226           8.0    0.985202   \n",
       "\n",
       "   cosine_mean  cosine_min  cosine_std    11----    21----    22----  \\\n",
       "0     0.957149    0.940824    0.015703  0.031754  0.284496  0.442741   \n",
       "\n",
       "     23----     31----    42----     44----   48----    51----   52----  \\\n",
       "0  3.787158  14.190113  4.997937  12.364885  3.52254  1.917459  5.35419   \n",
       "\n",
       "     53----    54----    55----    56----    61----     62----    71----  \\\n",
       "0  1.384426  5.172753  3.241567  6.661835  2.679327  18.101194  1.400565   \n",
       "\n",
       "     72----    81----    99----  com_HLIG  com_HSAG  com_HSAP  com_HSAS  \\\n",
       "0  10.02525  4.432042  0.007769       0.0       0.0       0.0       0.0   \n",
       "\n",
       "   com_HSBA  com_HSBU  com_HSED  com_HSFA  com_HSGO  com_HSHA  com_HSHM  \\\n",
       "0       0.0       0.0       0.0       0.0       0.0       0.0       0.0   \n",
       "\n",
       "   com_HSIF  com_HSIG  com_HSII  com_HSJU  com_HSPW  com_HSRU  com_HSSM  \\\n",
       "0       0.0       0.0       0.0       0.0       0.0       0.0       0.0   \n",
       "\n",
       "   com_HSSO  com_HSSY  com_HSVR  com_HSWM  com_JCSE  com_SLIA  com_SLIN  \\\n",
       "0       0.0       0.0       0.0       1.0       0.0       0.0       0.0   \n",
       "\n",
       "   com_SSAF  com_SSAP  com_SSAS  com_SSBK  com_SSBU  com_SSCM  com_SSEG  \\\n",
       "0       0.0       0.0       0.0       0.0       0.0       0.0       0.0   \n",
       "\n",
       "   com_SSEV  com_SSFI  com_SSFR  com_SSGA  com_SSHR  com_SSJU  com_SSRA  \\\n",
       "0       0.0       0.0       0.0       0.0       0.0       0.0       0.0   \n",
       "\n",
       "   com_SSSB  com_SSVA  \n",
       "0       0.0       0.0  "
      ]
     },
     "execution_count": 94,
     "metadata": {},
     "output_type": "execute_result"
    }
   ],
   "source": [
    "df_votes.head(1)"
   ]
  },
  {
   "cell_type": "code",
   "execution_count": 95,
   "metadata": {
    "collapsed": false
   },
   "outputs": [],
   "source": [
    "test = pd.read_csv('../data/model/test.csv')\n",
    "train = pd.read_csv('../data/model/train.csv')\n",
    "dev = pd.read_csv('../data/model/dev.csv')\n",
    "dfs = [train, dev, test]\n",
    "def join_features(df):\n",
    "    df = pd.merge(df, df_votes, on = 'full_set_id', how = 'left').dropna(subset = ['cosine_25%', 'com_HLIG'])\n",
    "    return df\n",
    "model_train, model_dev, model_test =  map(join_features, dfs)"
   ]
  },
  {
   "cell_type": "code",
   "execution_count": 96,
   "metadata": {
    "collapsed": false
   },
   "outputs": [
    {
     "name": "stdout",
     "output_type": "stream",
     "text": [
      "             precision    recall  f1-score   support\n",
      "\n",
      "          0     0.9627    0.9631    0.9629    134478\n",
      "          1     0.0371    0.0367    0.0369      5207\n",
      "\n",
      "avg / total     0.9282    0.9286    0.9284    139685\n",
      "\n"
     ]
    }
   ],
   "source": [
    "# baseline if randomly assign 1 at level proportional to overall rate\n",
    "t = [1] * int(len(model_dev) * model_train.broke_from_party.mean())\n",
    "t += ([0] *(len(model_dev) - len(t)))\n",
    "t = shuffle(t)\n",
    "print(metrics.classification_report(model_dev['broke_from_party'], t, digits=4))"
   ]
  },
  {
   "cell_type": "code",
   "execution_count": 97,
   "metadata": {
    "collapsed": false
   },
   "outputs": [
    {
     "data": {
      "text/plain": [
       "RandomForestClassifier(bootstrap=True, class_weight='balanced',\n",
       "            criterion='gini', max_depth=None, max_features='auto',\n",
       "            max_leaf_nodes=None, min_impurity_split=1e-07,\n",
       "            min_samples_leaf=1, min_samples_split=200,\n",
       "            min_weight_fraction_leaf=0.0, n_estimators=10, n_jobs=1,\n",
       "            oob_score=False, random_state=None, verbose=0,\n",
       "            warm_start=False)"
      ]
     },
     "execution_count": 97,
     "metadata": {},
     "output_type": "execute_result"
    }
   ],
   "source": [
    "features = [x for x in columns if x != 'full_set_id']\n",
    "rfc = RandomForestClassifier(class_weight='balanced', min_samples_split=200)\n",
    "rfc.fit(model_train[features], model_train['broke_from_party'])"
   ]
  },
  {
   "cell_type": "code",
   "execution_count": 98,
   "metadata": {
    "collapsed": false
   },
   "outputs": [
    {
     "name": "stderr",
     "output_type": "stream",
     "text": [
      "C:\\Users\\Steve\\Anaconda3\\lib\\site-packages\\statsmodels\\nonparametric\\kdetools.py:20: VisibleDeprecationWarning: using a non-integer number instead of an integer will result in an error in the future\n",
      "  y = X[:m/2+1] + np.r_[0,X[m/2+1:],0]*1j\n"
     ]
    },
    {
     "data": {
      "text/plain": [
       "<matplotlib.axes._subplots.AxesSubplot at 0xa882488e80>"
      ]
     },
     "execution_count": 98,
     "metadata": {},
     "output_type": "execute_result"
    },
    {
     "data": {
      "image/png": "[encoded data removed]",
      "text/plain": [
       "<matplotlib.figure.Figure at 0xa8822c9908>"
      ]
     },
     "metadata": {},
     "output_type": "display_data"
    }
   ],
   "source": [
    "# distribution is normal?? Really weird for this dataset\n",
    "probs_dev = rfc.predict_proba(model_dev[features])[:,1]\n",
    "probs_train = rfc.predict_proba(model_train[features])[:,1]\n",
    "sns.distplot(probs_dev)"
   ]
  },
  {
   "cell_type": "code",
   "execution_count": 105,
   "metadata": {
    "collapsed": false
   },
   "outputs": [
    {
     "name": "stdout",
     "output_type": "stream",
     "text": [
      "5607\n",
      "             precision    recall  f1-score   support\n",
      "\n",
      "          0     0.9730    0.9701    0.9716    134478\n",
      "          1     0.2839    0.3057    0.2944      5207\n",
      "\n",
      "avg / total     0.9474    0.9454    0.9463    139685\n",
      "\n"
     ]
    }
   ],
   "source": [
    "thresh = .665\n",
    "print((probs_dev >= thresh).sum())\n",
    "print(metrics.classification_report(model_dev['broke_from_party'], probs_dev >= thresh, digits=4))"
   ]
  },
  {
   "cell_type": "code",
   "execution_count": 106,
   "metadata": {
    "collapsed": true
   },
   "outputs": [],
   "source": [
    "def export_predictions(dfs, model, file_name, \n",
    "                       path = \"../data/model/model_predictions/\", \n",
    "                       predictors = features):\n",
    "    \"\"\"Exports probabilities for all sets\n",
    "    Args:\n",
    "        dfs: train, dev, test sets. in that order.\n",
    "        model: sklearn model to get predictions\n",
    "        path: where to export\n",
    "        predictors: Column set to use as predictors\n",
    "    \"\"\"\n",
    "    labels = ['train', 'dev', 'test']\n",
    "    for label, df in zip(labels, dfs):\n",
    "        probs = model.predict_proba(df[predictors])[:,1]\n",
    "        probs = pd.DataFrame(probs, index = df.full_set_id, columns=['pred_probs'])\n",
    "        probs.to_csv(path + file_name + \"_\" + label + \".csv\")\n",
    "\n",
    "with open('../data/model/districts/econ_rfc.pickle', 'wb') as f:\n",
    "    pickle.dump(rfc, f)\n",
    "dfs = [model_train, model_dev, model_test]\n",
    "export_predictions(dfs, rfc, 'district_econ', predictors=features)"
   ]
  }
 ],
 "metadata": {
  "kernelspec": {
   "display_name": "Python 3",
   "language": "python",
   "name": "python3"
  },
  "language_info": {
   "codemirror_mode": {
    "name": "ipython",
    "version": 3
   },
   "file_extension": ".py",
   "mimetype": "text/x-python",
   "name": "python",
   "nbconvert_exporter": "python",
   "pygments_lexer": "ipython3",
   "version": "3.6.0"
  }
 },
 "nbformat": 4,
 "nbformat_minor": 2
}
