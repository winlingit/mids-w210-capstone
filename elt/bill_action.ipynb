{
 "cells": [
  {
   "cell_type": "code",
   "execution_count": 1,
   "metadata": {
    "collapsed": true
   },
   "outputs": [],
   "source": [
    "import os\n",
    "import pickle\n",
    "\n",
    "import pandas as pd\n",
    "from congress import Congress"
   ]
  },
  {
   "cell_type": "markdown",
   "metadata": {},
   "source": [
    "## Check for Missing Data\n",
    "Ensure have info for all bills in model sets"
   ]
  },
  {
   "cell_type": "code",
   "execution_count": 14,
   "metadata": {
    "collapsed": false
   },
   "outputs": [],
   "source": [
    "df_bills = pd.read_csv('../data/propublica/billsfull_model.csv', encoding = 'latin1')\n",
    "bills = df_bills[['bill_id','bill_slug', 'session']].drop_duplicates().values.tolist()\n",
    "propublica = Congress('NGLoQNiF7aiAHB6vL1XGvdSQ7KB0CbPWxkLNv5Cz')\n",
    "\n",
    "path = '../data/propublica/model_bills/'\n",
    "downloaded = os.listdir(path)\n",
    "f_prefix = 'billinfo'\n",
    "errors = []\n",
    "for bid, bill, session in bills:\n",
    "    file = f_prefix + \"_\" + bid + '.pickle'\n",
    "    if file in  downloaded:\n",
    "        continue\n",
    "    \n",
    "    try:\n",
    "        response = propublica.bills.get(bill_id = bill, \n",
    "                                        congress = int(session))\n",
    "        with open(path + file, 'wb') as f:\n",
    "            pickle.dump(response, f)\n",
    "    except Exception as e:\n",
    "        errors.append({'bill_id': bid, 'error': str(e)})"
   ]
  },
  {
   "cell_type": "code",
   "execution_count": 20,
   "metadata": {
    "collapsed": false
   },
   "outputs": [
    {
     "data": {
      "text/html": [
       "<div>\n",
       "<table border=\"1\" class=\"dataframe\">\n",
       "  <thead>\n",
       "    <tr style=\"text-align: right;\">\n",
       "      <th></th>\n",
       "      <th>bill_id</th>\n",
       "      <th>error</th>\n",
       "    </tr>\n",
       "  </thead>\n",
       "  <tbody>\n",
       "    <tr>\n",
       "      <th>0</th>\n",
       "      <td>-112</td>\n",
       "      <td>cannot convert float NaN to integer</td>\n",
       "    </tr>\n",
       "    <tr>\n",
       "      <th>1</th>\n",
       "      <td>-105</td>\n",
       "      <td>cannot convert float NaN to integer</td>\n",
       "    </tr>\n",
       "    <tr>\n",
       "      <th>2</th>\n",
       "      <td>treatydoc112-7-112</td>\n",
       "      <td>cannot convert float NaN to integer</td>\n",
       "    </tr>\n",
       "    <tr>\n",
       "      <th>3</th>\n",
       "      <td>-106</td>\n",
       "      <td>cannot convert float NaN to integer</td>\n",
       "    </tr>\n",
       "    <tr>\n",
       "      <th>4</th>\n",
       "      <td>treatydoc114-12-115</td>\n",
       "      <td>cannot convert float NaN to integer</td>\n",
       "    </tr>\n",
       "    <tr>\n",
       "      <th>5</th>\n",
       "      <td>-108</td>\n",
       "      <td>cannot convert float NaN to integer</td>\n",
       "    </tr>\n",
       "    <tr>\n",
       "      <th>6</th>\n",
       "      <td>motion-109</td>\n",
       "      <td>cannot convert float NaN to integer</td>\n",
       "    </tr>\n",
       "    <tr>\n",
       "      <th>7</th>\n",
       "      <td>-109</td>\n",
       "      <td>cannot convert float NaN to integer</td>\n",
       "    </tr>\n",
       "  </tbody>\n",
       "</table>\n",
       "</div>"
      ],
      "text/plain": [
       "               bill_id                                error\n",
       "0                 -112  cannot convert float NaN to integer\n",
       "1                 -105  cannot convert float NaN to integer\n",
       "2   treatydoc112-7-112  cannot convert float NaN to integer\n",
       "3                 -106  cannot convert float NaN to integer\n",
       "4  treatydoc114-12-115  cannot convert float NaN to integer\n",
       "5                 -108  cannot convert float NaN to integer\n",
       "6           motion-109  cannot convert float NaN to integer\n",
       "7                 -109  cannot convert float NaN to integer"
      ]
     },
     "execution_count": 20,
     "metadata": {},
     "output_type": "execute_result"
    }
   ],
   "source": [
    "pd.DataFrame(errors)"
   ]
  },
  {
   "cell_type": "code",
   "execution_count": 15,
   "metadata": {
    "collapsed": false
   },
   "outputs": [
    {
     "data": {
      "text/plain": [
       "['hr6124-110', 'hr6124', 110.0]"
      ]
     },
     "execution_count": 15,
     "metadata": {},
     "output_type": "execute_result"
    }
   ],
   "source": [
    "bills[0]"
   ]
  },
  {
   "cell_type": "code",
   "execution_count": 5,
   "metadata": {
    "collapsed": false
   },
   "outputs": [],
   "source": [
    "bill, session = bills[0]"
   ]
  },
  {
   "cell_type": "code",
   "execution_count": 8,
   "metadata": {
    "collapsed": false
   },
   "outputs": [
    {
     "data": {
      "text/plain": [
       "110.0"
      ]
     },
     "execution_count": 8,
     "metadata": {},
     "output_type": "execute_result"
    }
   ],
   "source": [
    "session"
   ]
  },
  {
   "cell_type": "code",
   "execution_count": 9,
   "metadata": {
    "collapsed": false
   },
   "outputs": [],
   "source": []
  },
  {
   "cell_type": "code",
   "execution_count": 10,
   "metadata": {
    "collapsed": false
   },
   "outputs": [
    {
     "data": {
      "text/plain": [
       "{'actions': [],\n",
       " 'active': None,\n",
       " 'bill': 'H.R.6124',\n",
       " 'bill_id': 'hr6124-110',\n",
       " 'bill_slug': 'hr6124',\n",
       " 'bill_type': 'hr',\n",
       " 'bill_uri': 'https://api.propublica.org/congress/v1/110/bills/hr6124.json',\n",
       " 'committee_codes': [],\n",
       " 'committees': 'House Agriculture; House Foreign Affairs',\n",
       " 'congress': '110',\n",
       " 'congressdotgov_url': 'https://www.congress.gov/bill/110th-congress/house-bill/6124',\n",
       " 'cosponsors': 0,\n",
       " 'cosponsors_by_party': {},\n",
       " 'enacted': None,\n",
       " 'govtrack_url': 'https://www.govtrack.us/congress/bills/110/hr6124',\n",
       " 'gpo_pdf_uri': None,\n",
       " 'house_passage': None,\n",
       " 'house_passage_vote': None,\n",
       " 'introduced_date': '2008-05-22',\n",
       " 'last_vote': '2008-06-18',\n",
       " 'latest_major_action': 'Became Public Law No: 110-246',\n",
       " 'latest_major_action_date': '2008-06-18',\n",
       " 'number': 'H.R.6124',\n",
       " 'primary_subject': '',\n",
       " 'senate_passage': '2008-06-05',\n",
       " 'senate_passage_vote': '2008-06-05',\n",
       " 'short_title': None,\n",
       " 'sponsor': 'Collin C. Peterson',\n",
       " 'sponsor_id': 'P000258',\n",
       " 'sponsor_party': 'D',\n",
       " 'sponsor_state': 'MN',\n",
       " 'sponsor_title': '',\n",
       " 'sponsor_uri': 'https://api.propublica.org/congress/v1/members/P000258.json',\n",
       " 'subcommittee_codes': [],\n",
       " 'summary': '',\n",
       " 'summary_short': '',\n",
       " 'title': 'To provide for the continuation of agricultural and other programs of the Department of Agriculture through fiscal year 2012, and for other purposes.',\n",
       " 'versions': [],\n",
       " 'vetoed': None,\n",
       " 'votes': [{'api_url': 'https://api.propublica.org/congress/v1/110/house/sessions/2/votes/417.json',\n",
       "   'chamber': 'House',\n",
       "   'date': '2008-06-18',\n",
       "   'question': 'Passage, Objections of the President Not Withstanding',\n",
       "   'result': 'Passed',\n",
       "   'roll_call': '417',\n",
       "   'time': '15:57:00',\n",
       "   'total_no': 109,\n",
       "   'total_not_voting': 8,\n",
       "   'total_yes': 317},\n",
       "  {'api_url': 'https://api.propublica.org/congress/v1/110/house/sessions/2/votes/353.json',\n",
       "   'chamber': 'House',\n",
       "   'date': '2008-05-22',\n",
       "   'question': 'On Motion to Suspend the Rules and Pass',\n",
       "   'result': 'Passed',\n",
       "   'roll_call': '353',\n",
       "   'time': '13:33:00',\n",
       "   'total_no': 110,\n",
       "   'total_not_voting': 19,\n",
       "   'total_yes': 306},\n",
       "  {'api_url': 'https://api.propublica.org/congress/v1/110/senate/sessions/2/votes/151.json',\n",
       "   'chamber': 'Senate',\n",
       "   'date': '2008-06-18',\n",
       "   'question': 'On Overriding the Veto',\n",
       "   'result': 'Veto Overridden',\n",
       "   'roll_call': '151',\n",
       "   'time': '17:31:00',\n",
       "   'total_no': 14,\n",
       "   'total_not_voting': 6,\n",
       "   'total_yes': 80},\n",
       "  {'api_url': 'https://api.propublica.org/congress/v1/110/senate/sessions/2/votes/144.json',\n",
       "   'chamber': 'Senate',\n",
       "   'date': '2008-06-05',\n",
       "   'question': 'On Passage of the Bill',\n",
       "   'result': 'Passed',\n",
       "   'roll_call': '144',\n",
       "   'time': '17:13:00',\n",
       "   'total_no': 15,\n",
       "   'total_not_voting': 8,\n",
       "   'total_yes': 77}],\n",
       " 'withdrawn_cosponsors': 0}"
      ]
     },
     "execution_count": 10,
     "metadata": {},
     "output_type": "execute_result"
    }
   ],
   "source": [
    "propublica.bills.get(bill_id = bill, congress = int(session))"
   ]
  },
  {
   "cell_type": "code",
   "execution_count": 6,
   "metadata": {
    "collapsed": false
   },
   "outputs": [
    {
     "data": {
      "text/plain": [
       "(4061,)"
      ]
     },
     "execution_count": 6,
     "metadata": {},
     "output_type": "execute_result"
    }
   ],
   "source": [
    "bills.shape"
   ]
  }
 ],
 "metadata": {
  "kernelspec": {
   "display_name": "Python 3",
   "language": "python",
   "name": "python3"
  },
  "language_info": {
   "codemirror_mode": {
    "name": "ipython",
    "version": 3
   },
   "file_extension": ".py",
   "mimetype": "text/x-python",
   "name": "python",
   "nbconvert_exporter": "python",
   "pygments_lexer": "ipython3",
   "version": "3.6.0"
  }
 },
 "nbformat": 4,
 "nbformat_minor": 2
}
