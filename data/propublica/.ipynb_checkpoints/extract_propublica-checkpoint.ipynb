{
 "cells": [
  {
   "cell_type": "markdown",
   "metadata": {},
   "source": [
    "# ProPublica Congress API"
   ]
  },
  {
   "cell_type": "markdown",
   "metadata": {},
   "source": [
    "The goal of this notebook is to extract data for members, votes, and bills for available sessions of Congress.  Data are saved to CSV files.\n",
    "\n",
    "API documentation: https://projects.propublica.org/api-docs/congress-api/"
   ]
  },
  {
   "cell_type": "code",
   "execution_count": 179,
   "metadata": {
    "collapsed": false
   },
   "outputs": [],
   "source": [
    "import os\n",
    "import requests\n",
    "import simplejson as json\n",
    "import csv\n",
    "import pandas as pd\n",
    "import logging\n",
    "import pprint as pp\n",
    "\n",
    "from pandas.io.json import json_normalize\n",
    "\n",
    "headers = {'X-API-Key': '5dHwl0cO6ak64MN9Q8IwZDkGHg4bGazYhBD83vBs'}\n",
    "\n",
    "logging.basicConfig(filename='pp_errors.log', level=logging.DEBUG)\n",
    "logger = logging.getLogger(__name__)\n",
    "\n",
    "class PropublicaApiError(Exception):\n",
    "    \"\"\" Exception for ProPublica Congress API errors \"\"\"\n",
    "\n",
    "def api_call(params):\n",
    "    try:\n",
    "        url = '/'.join(params)\n",
    "        r = requests.get('https://api.propublica.org/congress/v1/%s' % (url), headers=headers)\n",
    "        obj = r.json()\n",
    "        if 'error' in obj:\n",
    "            raise PropublicaApiError(obj['error'])\n",
    "        else:\n",
    "            return obj\n",
    "    except requests.HTTPError as e:\n",
    "        # raise PropublicaApiError(e)\n",
    "        logger.error(e)\n",
    "    except PropublicaApiError as e:\n",
    "        # raise PropublicaApiError('Invalid Response')\n",
    "        logger.error(e)\n",
    "    except ValueError as e:\n",
    "        logger.error(e)\n",
    "    finally:\n",
    "        pass"
   ]
  },
  {
   "cell_type": "markdown",
   "metadata": {},
   "source": [
    "### Members"
   ]
  },
  {
   "cell_type": "code",
   "execution_count": 232,
   "metadata": {
    "collapsed": true
   },
   "outputs": [],
   "source": [
    "# get list of members for given Congress\n",
    "def getMembers(chamber, session, to_csv=False):\n",
    "    params = [str(session).encode('utf-8'), chamber, 'members.json']\n",
    "    response = api_call(params)\n",
    "    if to_csv:\n",
    "        member_ids = writeMembersCSV(json_file=response, status='current', chamber=chamber, session=session)\n",
    "        return member_ids\n",
    "    return response\n",
    "\n",
    "\n",
    "# get list of new members for given Congress\n",
    "def getNewMembers(to_csv=False):\n",
    "    params = 'members/new.json'\n",
    "    response = api_call(params)\n",
    "    if to_csv:\n",
    "        member_ids = writeMembersCSV(json_file=response, status='new')\n",
    "        return member_ids\n",
    "    return response\n",
    "\n",
    "\n",
    "# get list of members leaving after given Congress\n",
    "def getLeavingMembers(chamber, session, to_csv=False):    \n",
    "    params = [str(session).encode('utf-8'), chamber, 'members/leaving.json']\n",
    "    response = api_call(params)\n",
    "    if to_csv:\n",
    "        member_ids = writeMembersCSV(json_file=response, status='leaving', chamber=chamber, session=session)\n",
    "        return member_ids\n",
    "    return response\n",
    "\n",
    "\n",
    "# write list of members to CSV\n",
    "def writeMembersCSV(json_file, status='current', chamber='senate', session=115):\n",
    "\n",
    "    # load member records from JSON string to dataframe\n",
    "    results = json.loads(json.dumps(json_file))['results'][0]\n",
    "    members = results['members']\n",
    "    df = pd.DataFrame.from_dict(members)\n",
    "    df = df.assign(session = pd.Series([session]*df.shape[0], index=df.index))\n",
    "    \n",
    "    # set file names based on member status current, leaving, or new\n",
    "    if status is 'current':\n",
    "        file = 'raw/members_%s_%i.csv' % (chamber, session)\n",
    "    elif status is 'leaving':\n",
    "        file = 'raw/members_leaving_%s_%i.csv' % (chamber, session)\n",
    "    else:\n",
    "        file = 'raw/members_new.csv'\n",
    "\n",
    "    # write dataframe to CSV\n",
    "    df.to_csv(file, encoding='utf-8', index=False)\n",
    "    \n",
    "\n",
    "# get Senate members for Congresses 80-115 or House members for Congresses 102-115\n",
    "def getAllMembers(chamber='senate'):\n",
    "    start = 80 if chamber == 'senate' else 102\n",
    "    \n",
    "    for i in range(start,116):\n",
    "        member_ids = getMembers(chamber, i, to_csv=True)\n",
    "        getLeavingMembers(chamber, i, to_csv=True)\n",
    "\n",
    "\n",
    "# combine Senate members into single file\n",
    "def mergeMembers(chamber='senate'):\n",
    "    start = 80 if chamber == 'senate' else 102\n",
    "\n",
    "    merged = pd.concat([pd.read_csv('raw/members_%s_%i.csv' % (chamber, i)) for i in range(start,116)], ignore_index=True)\n",
    "    merged.to_csv('members_%s.csv' % (chamber), index=False)\n"
   ]
  },
  {
   "cell_type": "markdown",
   "metadata": {},
   "source": [
    "Pull members of House and Senate for available sessions of Congress and write to CSV files for each member.  Merge CSV files for individual members into a single file each for House and Senate."
   ]
  },
  {
   "cell_type": "code",
   "execution_count": 233,
   "metadata": {
    "collapsed": false
   },
   "outputs": [],
   "source": [
    "getAllMembers('senate')\n",
    "getAllMembers('house')\n",
    "\n",
    "mergeMembers('senate')\n",
    "mergeMembers('house')"
   ]
  },
  {
   "cell_type": "markdown",
   "metadata": {},
   "source": [
    "### Votes"
   ]
  },
  {
   "cell_type": "code",
   "execution_count": 258,
   "metadata": {
    "collapsed": false
   },
   "outputs": [],
   "source": [
    "# get recent votes for given member\n",
    "def getRecentVotes(member_id, to_csv=False):\n",
    "    params = ['members', member_id, 'votes.json']\n",
    "    response = api_call(params)\n",
    "    if to_csv and response is not None:\n",
    "        writeRecentVotesCSV(json_file=response, member_id=member_id)\n",
    "    return response\n",
    "\n",
    "\n",
    "# write list of recent votes by member to CSV\n",
    "def writeRecentVotesCSV(json_file, member_id):\n",
    "    results = json.loads(json.dumps(json_file))['results'][0]\n",
    "    votes = results['votes']\n",
    "    \n",
    "    # if votes exist for member, write to CSV\n",
    "    if len(votes) > 2:\n",
    "        df = pd.DataFrame.from_dict(votes)\n",
    "        \n",
    "        # add columns for bill ID, sponsor ID, bill URI if available\n",
    "        df['bill_id'] = df['bill'].apply(lambda x: x['bill_id'].split('-')[0] if len(x) > 0 and 'bill_id' in x.keys() else 'NA')\n",
    "        df['sponsor_id'] = df['bill'].apply(lambda x: x['sponsor_id'] if len(x) > 0 and 'sponsor_id' in x.keys() else 'NA')\n",
    "        df['bill_uri'] = df['bill'].apply(lambda x: x['bill_uri'] if len(x) > 0 and 'bill_uri' in x.keys() else 'NA')\n",
    "        df.to_csv('raw/member_votes_%s.csv' % (member_id), encoding='utf-8', index=False)\n",
    "\n",
    "        \n",
    "# combine recent member votes into single file\n",
    "def getAllRecentVotes(chamber='senate'):\n",
    "    # get member IDs from master members file\n",
    "    members = pd.read_csv('members_%s.csv' % (chamber))\n",
    "    member_ids = members.id.unique()\n",
    "\n",
    "    for i in member_ids:\n",
    "        # if vote file for member does not exist, get member votes\n",
    "        if not os.path.isfile('raw/member_votes_%s.csv' % (i)):\n",
    "            getRecentVotes(i, to_csv=True)\n",
    "            \n",
    "            \n",
    "# combine votes into single file\n",
    "def mergeRecentVotes():\n",
    "    merged = pd.concat([pd.read_csv('raw/%s' % (filename)) for filename in os.listdir('raw') if filename.startswith('member_votes_')], ignore_index=True)\n",
    "    merged.to_csv('member_votes.csv', index=False)\n",
    "    "
   ]
  },
  {
   "cell_type": "markdown",
   "metadata": {},
   "source": [
    "Pull recent votes for members of House and Senate, using merged member files and write to CSV files for each member.  Merge CSV files for individual member votes into a single CSV file.  Decode JSON in bill field."
   ]
  },
  {
   "cell_type": "code",
   "execution_count": 259,
   "metadata": {
    "collapsed": false
   },
   "outputs": [],
   "source": [
    "getAllRecentVotes('senate')\n",
    "getAllRecentVotes('house')\n",
    "mergeRecentVotes()"
   ]
  },
  {
   "cell_type": "code",
   "execution_count": 264,
   "metadata": {
    "collapsed": false
   },
   "outputs": [
    {
     "name": "stdout",
     "output_type": "stream",
     "text": [
      "30002\n"
     ]
    },
    {
     "data": {
      "text/plain": [
       "(  amendment                                               bill     bill_id  \\\n",
       " 0        {}  {u'title': u'Recognizing the difficult challen...  hconres238   \n",
       " 1        {}  {u'title': u'Intelligence Authorization Act fo...      hr2701   \n",
       " 2        {}  {u'title': u'Intelligence Authorization Act fo...      hr2701   \n",
       " 3        {}  {u'title': u'Intelligence Authorization Act fo...      hr2701   \n",
       " 4        {}  {u'title': u'Intelligence Authorization Act fo...      hr2701   \n",
       " \n",
       "                                             bill_uri chamber  congress  \\\n",
       " 0  https://api.propublica.org/congress/v1/111/bil...   House       111   \n",
       " 1  https://api.propublica.org/congress/v1/111/bil...   House       111   \n",
       " 2  https://api.propublica.org/congress/v1/111/bil...   House       111   \n",
       " 3  https://api.propublica.org/congress/v1/111/bil...   House       111   \n",
       " 4  https://api.propublica.org/congress/v1/111/bil...   House       111   \n",
       " \n",
       "          date                                        description member_id  \\\n",
       " 0  2010-02-26  Recognizing the difficult challenges Black vet...   A000014   \n",
       " 1  2010-02-26  Intelligence Authorization Act for Fiscal Year...   A000014   \n",
       " 2  2010-02-26  Intelligence Authorization Act for Fiscal Year...   A000014   \n",
       " 3  2010-02-26  Intelligence Authorization Act for Fiscal Year...   A000014   \n",
       " 4  2010-02-26  Intelligence Authorization Act for Fiscal Year...   A000014   \n",
       " \n",
       "   nomination    position                                  question     result  \\\n",
       " 0        NaN  Not Voting  On Motion to Suspend the Rules and Agree     Passed   \n",
       " 1        NaN  Not Voting                                On Passage     Passed   \n",
       " 2        NaN  Not Voting   On Motion to Recommit with Instructions     Failed   \n",
       " 3        NaN  Not Voting              On Agreeing to the Amendment  Agreed to   \n",
       " 4        NaN  Not Voting              On Agreeing to the Amendment  Agreed to   \n",
       " \n",
       "    roll_call  session sponsor_id      time  \\\n",
       " 0         74        2    K000369  11:59:00   \n",
       " 1         73        2    R000170  11:49:00   \n",
       " 2         72        2    R000170  11:40:00   \n",
       " 3         71        2    R000170  11:02:00   \n",
       " 4         70        2    R000170  10:55:00   \n",
       " \n",
       "                                                total  \\\n",
       " 0  {u'not_voting': 49, u'yes': 383, u'present': 0...   \n",
       " 1  {u'not_voting': 29, u'yes': 235, u'present': 0...   \n",
       " 2  {u'not_voting': 29, u'yes': 186, u'present': 0...   \n",
       " 3  {u'not_voting': 27, u'yes': 410, u'present': 0...   \n",
       " 4  {u'not_voting': 26, u'yes': 401, u'present': 0...   \n",
       " \n",
       "                                             vote_uri  \n",
       " 0  https://api.propublica.org/congress/v1/111/hou...  \n",
       " 1  https://api.propublica.org/congress/v1/111/hou...  \n",
       " 2  https://api.propublica.org/congress/v1/111/hou...  \n",
       " 3  https://api.propublica.org/congress/v1/111/hou...  \n",
       " 4  https://api.propublica.org/congress/v1/111/hou...  , 30002)"
      ]
     },
     "execution_count": 264,
     "metadata": {},
     "output_type": "execute_result"
    }
   ],
   "source": [
    "df = pd.read_csv('member_votes.csv')\n",
    "df.head()\n",
    "\n",
    "df = df[df['bill_uri'] != 'NA']\n",
    "df.head(), len(df)\n",
    "df.to_csv('member_votes_clean.csv')"
   ]
  },
  {
   "cell_type": "markdown",
   "metadata": {},
   "source": [
    "### Bills"
   ]
  },
  {
   "cell_type": "code",
   "execution_count": 157,
   "metadata": {
    "collapsed": false
   },
   "outputs": [],
   "source": [
    "def getBill(session, bill_id, to_csv=False):\n",
    "    params = [str(session).encode('utf-8'), 'bills', bill_id, '.json']\n",
    "    response = api_call(params)\n",
    "    return response\n",
    "    \n",
    "# get bills cosponsored by given member\n",
    "def getMemberBills(member_id, to_csv=False):\n",
    "    params = ['members', member_id, 'bills/cosponsored.json']\n",
    "    response = api_call(params)\n",
    "    return response\n",
    "\n",
    "\n",
    "# write list of bills cosponsored by member to CSV\n",
    "def writeMemberBillsCSV(json_file, member_id):\n",
    "    results = json.loads(json.dumps(json_file))['results'][0]\n",
    "    votes = json.dumps(results['bills'])\n",
    "    df = pd.read_json(members, orient='records')\n",
    "    df.to_csv('member_bills_%s.csv' % (member_id), encoding='utf-8', index=False)"
   ]
  },
  {
   "cell_type": "code",
   "execution_count": 163,
   "metadata": {
    "collapsed": false
   },
   "outputs": [
    {
     "name": "stdout",
     "output_type": "stream",
     "text": [
      "None\n"
     ]
    }
   ],
   "source": [
    "print getBill(session=103, bill_slug='s1225', to_csv=False)"
   ]
  },
  {
   "cell_type": "code",
   "execution_count": null,
   "metadata": {
    "collapsed": true
   },
   "outputs": [],
   "source": []
  }
 ],
 "metadata": {
  "kernelspec": {
   "display_name": "Python 2",
   "language": "python",
   "name": "python2"
  },
  "language_info": {
   "codemirror_mode": {
    "name": "ipython",
    "version": 2
   },
   "file_extension": ".py",
   "mimetype": "text/x-python",
   "name": "python",
   "nbconvert_exporter": "python",
   "pygments_lexer": "ipython2",
   "version": "2.7.13"
  }
 },
 "nbformat": 4,
 "nbformat_minor": 2
}
