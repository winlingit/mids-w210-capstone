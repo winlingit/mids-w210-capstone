{
 "cells": [
  {
   "cell_type": "code",
   "execution_count": 1,
   "metadata": {
    "collapsed": true
   },
   "outputs": [],
   "source": [
    "import pandas as pd\n",
    "import numpy as np\n",
    "import pickle\n",
    "from sklearn.utils import shuffle"
   ]
  },
  {
   "cell_type": "markdown",
   "metadata": {},
   "source": [
    "Format dependent variable of toy dataset by:\n",
    "1. Getting party position for each bill (Whichever recieves more votes)\n",
    "2. Compare that to member vote\n",
    "3. Split into Train/Test set"
   ]
  },
  {
   "cell_type": "code",
   "execution_count": 186,
   "metadata": {
    "collapsed": true
   },
   "outputs": [],
   "source": [
    "df_votes = pd.read_csv('../propublica/member_votes.csv', encoding='latin1')\n",
    "#df_bills = pd.read_csv('../propublica/member_votes_bills.csv', encoding='latin1')\n"
   ]
  },
  {
   "cell_type": "code",
   "execution_count": 187,
   "metadata": {
    "collapsed": false
   },
   "outputs": [],
   "source": [
    "df_members_house = pd.read_csv('../propublica/members_house.csv', encoding='latin1')\n",
    "df_members_senate = pd.read_csv('../propublica/members_senate.csv', encoding = 'latin1')\n",
    "df_members = pd.concat([df_members_senate[['id','session','party']], \n",
    "                        df_members_house[['id','session','party']]])\n",
    "df_members['id_ses'] = df_members.id + df_members.session.apply(lambda x: str(x))\n",
    "\n",
    "#filter out members who changed parties within a single congressional session\n",
    "switch_party = pd.DataFrame(df_members.groupby(['id', 'session']).party.size())\n",
    "switch_party = switch_party[switch_party[0] > 1]\n",
    "switch_party = switch_party.reset_index()\n",
    "switch_party['id_ses'] = switch_party.id + switch_party.session.apply(lambda x: str(x))\n",
    "df_members = df_members[df_members.id_ses.isin(switch_party.id_ses.tolist()) == False]"
   ]
  },
  {
   "cell_type": "code",
   "execution_count": 188,
   "metadata": {
    "collapsed": false
   },
   "outputs": [],
   "source": [
    "df_votes = pd.merge(df_votes, df_members, how = 'left', left_on=['member_id', 'congress'], right_on = ['id','session'])"
   ]
  },
  {
   "cell_type": "code",
   "execution_count": 189,
   "metadata": {
    "collapsed": false
   },
   "outputs": [],
   "source": [
    "df_votes.rename(columns={'bill_id':'bill_slug'}, inplace = True)\n",
    "df_votes['bill_id'] = df_votes.bill_slug + \"-\" + df_votes.congress.apply(lambda x: str(x))\n",
    "sufficient_sample = df_votes.bill_id.value_counts()\n",
    "sufficient_sample = sufficient_sample[sufficient_sample > 60].index.tolist()\n",
    "df_votes = df_votes[df_votes.bill_id.isin(sufficient_sample)]"
   ]
  },
  {
   "cell_type": "code",
   "execution_count": 190,
   "metadata": {
    "collapsed": false
   },
   "outputs": [
    {
     "name": "stderr",
     "output_type": "stream",
     "text": [
      "C:\\Users\\Steve\\Anaconda3\\lib\\site-packages\\pandas\\tools\\merge.py:536: UserWarning: merging between different levels can give an unintended result (1 levels on the left, 2 on the right)\n",
      "  warnings.warn(msg, UserWarning)\n",
      "C:\\Users\\Steve\\Anaconda3\\lib\\site-packages\\pandas\\tools\\merge.py:862: PerformanceWarning: dropping on a non-lexsorted multi-index without a level parameter may impact performance.\n",
      "  self.right = self.right.drop(right_drop, axis=1)\n"
     ]
    }
   ],
   "source": [
    "vote_majority = pd.DataFrame(df_votes.groupby(['bill_id','party','position']).size()).unstack().apply(lambda x: x.argmax()[1], axis = 1)\n",
    "vote_majority = pd.DataFrame(vote_majority).rename(columns = {0:'party_position_'}).unstack()\n",
    "vote_majority = vote_majority.reset_index()\n",
    "df_votes = pd.merge(df_votes, vote_majority, how = 'left', on = 'bill_id')\n",
    "for party in ('R','D'):\n",
    "    c1 = (df_votes[('party_position_', party)] == 'Yes')\n",
    "    c2 = (df_votes[('party_position_', party)] == 'No')\n",
    "    df_votes = df_votes[c1 | c2]\n",
    "df_votes = df_votes[df_votes.party.isin(['D','R'])]"
   ]
  },
  {
   "cell_type": "code",
   "execution_count": 191,
   "metadata": {
    "collapsed": false
   },
   "outputs": [],
   "source": [
    "def voted_against_party(row):\n",
    "    party = row.party\n",
    "    if row[('party_position_', party)] != row.position:\n",
    "        return 1\n",
    "    else:\n",
    "        return 0\n",
    "\n",
    "df_votes['voted_against_party'] = df_votes.apply(voted_against_party, axis = 1)\n",
    "columns = ['id', 'bill_id','date','party','voted_against_party','position','sponsor_id']\n",
    "df_votes = df_votes[columns]\n",
    "\n",
    "df_votes = shuffle(df_votes)\n",
    "source = ['Train'] * int(len(df_votes) * .75)\n",
    "source = source + (['Test'] * (len(df_votes) - len(source)))\n",
    "df_votes['source'] = source"
   ]
  },
  {
   "cell_type": "code",
   "execution_count": 192,
   "metadata": {
    "collapsed": false
   },
   "outputs": [
    {
     "data": {
      "text/html": [
       "<div>\n",
       "<table border=\"1\" class=\"dataframe\">\n",
       "  <thead>\n",
       "    <tr style=\"text-align: right;\">\n",
       "      <th></th>\n",
       "      <th>id</th>\n",
       "      <th>bill_id</th>\n",
       "      <th>date</th>\n",
       "      <th>party</th>\n",
       "      <th>voted_against_party</th>\n",
       "      <th>position</th>\n",
       "      <th>sponsor_id</th>\n",
       "      <th>source</th>\n",
       "    </tr>\n",
       "  </thead>\n",
       "  <tbody>\n",
       "    <tr>\n",
       "      <th>3072</th>\n",
       "      <td>C000293</td>\n",
       "      <td>hres601-102</td>\n",
       "      <td>1992-10-05</td>\n",
       "      <td>R</td>\n",
       "      <td>1</td>\n",
       "      <td>Not Voting</td>\n",
       "      <td>NaN</td>\n",
       "      <td>Test</td>\n",
       "    </tr>\n",
       "    <tr>\n",
       "      <th>15029</th>\n",
       "      <td>O000001</td>\n",
       "      <td>hres609-102</td>\n",
       "      <td>1992-10-05</td>\n",
       "      <td>D</td>\n",
       "      <td>0</td>\n",
       "      <td>Yes</td>\n",
       "      <td>NaN</td>\n",
       "      <td>Test</td>\n",
       "    </tr>\n",
       "    <tr>\n",
       "      <th>5374</th>\n",
       "      <td>D000592</td>\n",
       "      <td>hr776-102</td>\n",
       "      <td>1992-10-05</td>\n",
       "      <td>D</td>\n",
       "      <td>0</td>\n",
       "      <td>Yes</td>\n",
       "      <td>NaN</td>\n",
       "      <td>Test</td>\n",
       "    </tr>\n",
       "    <tr>\n",
       "      <th>7106</th>\n",
       "      <td>F000457</td>\n",
       "      <td>pn371-115</td>\n",
       "      <td>2017-10-31</td>\n",
       "      <td>D</td>\n",
       "      <td>0</td>\n",
       "      <td>No</td>\n",
       "      <td>NaN</td>\n",
       "      <td>Test</td>\n",
       "    </tr>\n",
       "    <tr>\n",
       "      <th>10255</th>\n",
       "      <td>J000255</td>\n",
       "      <td>hres609-115</td>\n",
       "      <td>2017-11-08</td>\n",
       "      <td>R</td>\n",
       "      <td>0</td>\n",
       "      <td>Yes</td>\n",
       "      <td>B001297</td>\n",
       "      <td>Test</td>\n",
       "    </tr>\n",
       "  </tbody>\n",
       "</table>\n",
       "</div>"
      ],
      "text/plain": [
       "            id      bill_id        date party  voted_against_party  \\\n",
       "3072   C000293  hres601-102  1992-10-05     R                    1   \n",
       "15029  O000001  hres609-102  1992-10-05     D                    0   \n",
       "5374   D000592    hr776-102  1992-10-05     D                    0   \n",
       "7106   F000457    pn371-115  2017-10-31     D                    0   \n",
       "10255  J000255  hres609-115  2017-11-08     R                    0   \n",
       "\n",
       "         position sponsor_id source  \n",
       "3072   Not Voting        NaN   Test  \n",
       "15029         Yes        NaN   Test  \n",
       "5374          Yes        NaN   Test  \n",
       "7106           No        NaN   Test  \n",
       "10255         Yes    B001297   Test  "
      ]
     },
     "execution_count": 192,
     "metadata": {},
     "output_type": "execute_result"
    }
   ],
   "source": [
    "df_votes.tail()"
   ]
  },
  {
   "cell_type": "code",
   "execution_count": 193,
   "metadata": {
    "collapsed": false
   },
   "outputs": [],
   "source": [
    "df_votes[df_votes.position.isin(['Yes','No'])].to_csv('../propublica/toyset.csv', index = False)"
   ]
  },
  {
   "cell_type": "code",
   "execution_count": 177,
   "metadata": {
    "collapsed": false
   },
   "outputs": [
    {
     "data": {
      "text/plain": [
       "0.1774757281553398"
      ]
     },
     "execution_count": 177,
     "metadata": {},
     "output_type": "execute_result"
    }
   ],
   "source": [
    "df_votes[df_votes.position.isin(['Yes','No'])].voted_against_party.mean()"
   ]
  }
 ],
 "metadata": {
  "kernelspec": {
   "display_name": "Python 3",
   "language": "python",
   "name": "python3"
  },
  "language_info": {
   "codemirror_mode": {
    "name": "ipython",
    "version": 3
   },
   "file_extension": ".py",
   "mimetype": "text/x-python",
   "name": "python",
   "nbconvert_exporter": "python",
   "pygments_lexer": "ipython3",
   "version": "3.6.0"
  }
 },
 "nbformat": 4,
 "nbformat_minor": 2
}
