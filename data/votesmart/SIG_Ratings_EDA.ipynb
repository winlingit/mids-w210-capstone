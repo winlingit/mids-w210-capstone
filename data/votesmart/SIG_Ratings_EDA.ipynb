{
 "cells": [
  {
   "cell_type": "markdown",
   "metadata": {},
   "source": [
    "# Special Interest Group Ratings EDA\n",
    "\n",
    "Taking a look at the SIG candidate ratings by different rating categories in terms of overall stats, data quality and potential incorporation into the ML model.\n",
    "\n",
    "We are using the denormalized votesmart dataset file"
   ]
  },
  {
   "cell_type": "code",
   "execution_count": 1,
   "metadata": {
    "collapsed": true
   },
   "outputs": [],
   "source": [
    "%matplotlib inline\n",
    "import pandas as pd\n",
    "import seaborn as sns\n",
    "import numpy as np\n",
    "from scipy.stats import ttest_ind"
   ]
  },
  {
   "cell_type": "code",
   "execution_count": 2,
   "metadata": {
    "collapsed": true
   },
   "outputs": [],
   "source": [
    "full_df = pd.read_csv('data/votesmart_denormalized.csv')"
   ]
  },
  {
   "cell_type": "markdown",
   "metadata": {},
   "source": [
    "## Data Prep\n",
    "\n",
    "The first look is going to be only at the two major parties, but keeping the full data frame in case we want to look at it later."
   ]
  },
  {
   "cell_type": "code",
   "execution_count": 32,
   "metadata": {
    "collapsed": false
   },
   "outputs": [],
   "source": [
    "# Data prep and filtering\n",
    "full_df['rating'] = pd.to_numeric(full_df['rating'], errors='coerce')\n",
    "full_df = full_df[~np.isnan(full_df['rating'])]\n",
    "full_df['sigName'] = full_df['nameleft']\n",
    "df = full_df[full_df['party'].isin(['Republican', 'Democrat'])]"
   ]
  },
  {
   "cell_type": "code",
   "execution_count": 5,
   "metadata": {
    "collapsed": false
   },
   "outputs": [
    {
     "data": {
      "text/html": [
       "<div>\n",
       "<table border=\"1\" class=\"dataframe\">\n",
       "  <thead>\n",
       "    <tr style=\"text-align: right;\">\n",
       "      <th></th>\n",
       "      <th>Unnamed: 0</th>\n",
       "      <th>Unnamed: 0left</th>\n",
       "      <th>candidateIdleft</th>\n",
       "      <th>rating</th>\n",
       "      <th>ratingIdleft</th>\n",
       "      <th>last_name</th>\n",
       "      <th>first_name</th>\n",
       "      <th>gender</th>\n",
       "      <th>type</th>\n",
       "      <th>state</th>\n",
       "      <th>...</th>\n",
       "      <th>sigIdleft2</th>\n",
       "      <th>nameleft2</th>\n",
       "      <th>Unnamed: 0left.1</th>\n",
       "      <th>categoryIdleft</th>\n",
       "      <th>nameleft</th>\n",
       "      <th>sigId</th>\n",
       "      <th>sigParentId</th>\n",
       "      <th>Unnamed: 0.1</th>\n",
       "      <th>categoryId</th>\n",
       "      <th>name</th>\n",
       "    </tr>\n",
       "  </thead>\n",
       "  <tbody>\n",
       "    <tr>\n",
       "      <th>5</th>\n",
       "      <td>209603</td>\n",
       "      <td>209603</td>\n",
       "      <td>2919</td>\n",
       "      <td>79.0</td>\n",
       "      <td>5953</td>\n",
       "      <td>Chamberlain</td>\n",
       "      <td>Ebenezer</td>\n",
       "      <td>M</td>\n",
       "      <td>rep</td>\n",
       "      <td>IN</td>\n",
       "      <td>...</td>\n",
       "      <td>211</td>\n",
       "      <td>Rhode Island National Federation of Independen...</td>\n",
       "      <td>211</td>\n",
       "      <td>4</td>\n",
       "      <td>National Association of Wheat Growers</td>\n",
       "      <td>684</td>\n",
       "      <td>-1</td>\n",
       "      <td>4</td>\n",
       "      <td>7</td>\n",
       "      <td>Arts, Entertainment, and History</td>\n",
       "    </tr>\n",
       "    <tr>\n",
       "      <th>7</th>\n",
       "      <td>209614</td>\n",
       "      <td>209614</td>\n",
       "      <td>6098</td>\n",
       "      <td>31.0</td>\n",
       "      <td>5953</td>\n",
       "      <td>Jones</td>\n",
       "      <td>James</td>\n",
       "      <td>M</td>\n",
       "      <td>sen</td>\n",
       "      <td>AR</td>\n",
       "      <td>...</td>\n",
       "      <td>211</td>\n",
       "      <td>Rhode Island National Federation of Independen...</td>\n",
       "      <td>211</td>\n",
       "      <td>4</td>\n",
       "      <td>National Association of Wheat Growers</td>\n",
       "      <td>684</td>\n",
       "      <td>-1</td>\n",
       "      <td>4</td>\n",
       "      <td>7</td>\n",
       "      <td>Arts, Entertainment, and History</td>\n",
       "    </tr>\n",
       "    <tr>\n",
       "      <th>8</th>\n",
       "      <td>209615</td>\n",
       "      <td>209615</td>\n",
       "      <td>379</td>\n",
       "      <td>52.0</td>\n",
       "      <td>5953</td>\n",
       "      <td>Maloney</td>\n",
       "      <td>Sean</td>\n",
       "      <td>M</td>\n",
       "      <td>rep</td>\n",
       "      <td>NY</td>\n",
       "      <td>...</td>\n",
       "      <td>211</td>\n",
       "      <td>Rhode Island National Federation of Independen...</td>\n",
       "      <td>211</td>\n",
       "      <td>4</td>\n",
       "      <td>National Association of Wheat Growers</td>\n",
       "      <td>684</td>\n",
       "      <td>-1</td>\n",
       "      <td>4</td>\n",
       "      <td>7</td>\n",
       "      <td>Arts, Entertainment, and History</td>\n",
       "    </tr>\n",
       "    <tr>\n",
       "      <th>10</th>\n",
       "      <td>209616</td>\n",
       "      <td>209616</td>\n",
       "      <td>515</td>\n",
       "      <td>41.0</td>\n",
       "      <td>5953</td>\n",
       "      <td>Gottheimer</td>\n",
       "      <td>Josh</td>\n",
       "      <td>M</td>\n",
       "      <td>rep</td>\n",
       "      <td>NJ</td>\n",
       "      <td>...</td>\n",
       "      <td>211</td>\n",
       "      <td>Rhode Island National Federation of Independen...</td>\n",
       "      <td>211</td>\n",
       "      <td>4</td>\n",
       "      <td>National Association of Wheat Growers</td>\n",
       "      <td>684</td>\n",
       "      <td>-1</td>\n",
       "      <td>4</td>\n",
       "      <td>7</td>\n",
       "      <td>Arts, Entertainment, and History</td>\n",
       "    </tr>\n",
       "    <tr>\n",
       "      <th>11</th>\n",
       "      <td>209616</td>\n",
       "      <td>209616</td>\n",
       "      <td>515</td>\n",
       "      <td>41.0</td>\n",
       "      <td>5953</td>\n",
       "      <td>Van Horne</td>\n",
       "      <td>Archibald</td>\n",
       "      <td>M</td>\n",
       "      <td>rep</td>\n",
       "      <td>MD</td>\n",
       "      <td>...</td>\n",
       "      <td>211</td>\n",
       "      <td>Rhode Island National Federation of Independen...</td>\n",
       "      <td>211</td>\n",
       "      <td>4</td>\n",
       "      <td>National Association of Wheat Growers</td>\n",
       "      <td>684</td>\n",
       "      <td>-1</td>\n",
       "      <td>4</td>\n",
       "      <td>7</td>\n",
       "      <td>Arts, Entertainment, and History</td>\n",
       "    </tr>\n",
       "  </tbody>\n",
       "</table>\n",
       "<p>5 rows × 27 columns</p>\n",
       "</div>"
      ],
      "text/plain": [
       "    Unnamed: 0  Unnamed: 0left  candidateIdleft  rating  ratingIdleft  \\\n",
       "5       209603          209603             2919    79.0          5953   \n",
       "7       209614          209614             6098    31.0          5953   \n",
       "8       209615          209615              379    52.0          5953   \n",
       "10      209616          209616              515    41.0          5953   \n",
       "11      209616          209616              515    41.0          5953   \n",
       "\n",
       "      last_name first_name gender type state  \\\n",
       "5   Chamberlain   Ebenezer      M  rep    IN   \n",
       "7         Jones      James      M  sen    AR   \n",
       "8       Maloney       Sean      M  rep    NY   \n",
       "10   Gottheimer       Josh      M  rep    NJ   \n",
       "11    Van Horne  Archibald      M  rep    MD   \n",
       "\n",
       "                  ...                sigIdleft2  \\\n",
       "5                 ...                       211   \n",
       "7                 ...                       211   \n",
       "8                 ...                       211   \n",
       "10                ...                       211   \n",
       "11                ...                       211   \n",
       "\n",
       "                                            nameleft2  Unnamed: 0left.1  \\\n",
       "5   Rhode Island National Federation of Independen...               211   \n",
       "7   Rhode Island National Federation of Independen...               211   \n",
       "8   Rhode Island National Federation of Independen...               211   \n",
       "10  Rhode Island National Federation of Independen...               211   \n",
       "11  Rhode Island National Federation of Independen...               211   \n",
       "\n",
       "    categoryIdleft                               nameleft sigId  sigParentId  \\\n",
       "5                4  National Association of Wheat Growers   684           -1   \n",
       "7                4  National Association of Wheat Growers   684           -1   \n",
       "8                4  National Association of Wheat Growers   684           -1   \n",
       "10               4  National Association of Wheat Growers   684           -1   \n",
       "11               4  National Association of Wheat Growers   684           -1   \n",
       "\n",
       "    Unnamed: 0.1 categoryId                              name  \n",
       "5              4          7  Arts, Entertainment, and History  \n",
       "7              4          7  Arts, Entertainment, and History  \n",
       "8              4          7  Arts, Entertainment, and History  \n",
       "10             4          7  Arts, Entertainment, and History  \n",
       "11             4          7  Arts, Entertainment, and History  \n",
       "\n",
       "[5 rows x 27 columns]"
      ]
     },
     "execution_count": 5,
     "metadata": {},
     "output_type": "execute_result"
    }
   ],
   "source": [
    "df.head()"
   ]
  },
  {
   "cell_type": "markdown",
   "metadata": {},
   "source": [
    "Over 100,000 rows with each row representing an individual rating of a candidate by a special interest group in a specific rating category"
   ]
  },
  {
   "cell_type": "code",
   "execution_count": 6,
   "metadata": {
    "collapsed": false
   },
   "outputs": [
    {
     "data": {
      "text/plain": [
       "(102105, 27)"
      ]
     },
     "execution_count": 6,
     "metadata": {},
     "output_type": "execute_result"
    }
   ],
   "source": [
    "df.shape"
   ]
  },
  {
   "cell_type": "code",
   "execution_count": 7,
   "metadata": {
    "collapsed": false
   },
   "outputs": [
    {
     "data": {
      "text/plain": [
       "Index([u'Unnamed: 0', u'Unnamed: 0left', u'candidateIdleft', u'rating',\n",
       "       u'ratingIdleft', u'last_name', u'first_name', u'gender', u'type',\n",
       "       u'state', u'party', u'candidateId', u'sigIdleft', u'ratingId',\n",
       "       u'ratingName', u'timespan', u'Unnamed: 0left2', u'sigIdleft2',\n",
       "       u'nameleft2', u'Unnamed: 0left.1', u'categoryIdleft', u'nameleft',\n",
       "       u'sigId', u'sigParentId', u'Unnamed: 0.1', u'categoryId', u'name'],\n",
       "      dtype='object')"
      ]
     },
     "execution_count": 7,
     "metadata": {},
     "output_type": "execute_result"
    }
   ],
   "source": [
    "df.columns"
   ]
  },
  {
   "cell_type": "markdown",
   "metadata": {},
   "source": [
    "How many legislators do we have in each party?"
   ]
  },
  {
   "cell_type": "code",
   "execution_count": 24,
   "metadata": {
    "collapsed": false
   },
   "outputs": [
    {
     "data": {
      "text/plain": [
       "Republican    59169\n",
       "Democrat      42936\n",
       "Name: party, dtype: int64"
      ]
     },
     "execution_count": 24,
     "metadata": {},
     "output_type": "execute_result"
    }
   ],
   "source": [
    "df['party'].value_counts()"
   ]
  },
  {
   "cell_type": "code",
   "execution_count": 13,
   "metadata": {
    "collapsed": false
   },
   "outputs": [
    {
     "name": "stdout",
     "output_type": "stream",
     "text": [
      "('Number of categories:', 20)\n",
      "Category counts:\n"
     ]
    },
    {
     "data": {
      "text/plain": [
       "Drugs                                     17286\n",
       "Agriculture and Food                      13432\n",
       "Veterans                                  11863\n",
       "Women                                     11758\n",
       "Science                                    9568\n",
       "Employment and Affirmative Action          7498\n",
       "Business and Consumers                     5214\n",
       "Unemployed and Low-Income                  4680\n",
       "Marriage, Family, and Children             3866\n",
       "Arts, Entertainment, and History           3598\n",
       "Senior Citizens                            3335\n",
       "Housing and Property                       2130\n",
       "Guns                                       1890\n",
       "Civil Liberties and Civil Rights           1785\n",
       "Sexual Orientation and Gender Identity     1603\n",
       "National Security                          1382\n",
       "Animals and Wildlife                        425\n",
       "Federal, State and Local Relations          417\n",
       "Labor Unions                                254\n",
       "Education                                   121\n",
       "Name: name, dtype: int64"
      ]
     },
     "execution_count": 13,
     "metadata": {},
     "output_type": "execute_result"
    }
   ],
   "source": [
    "print('Number of categories:', len(df['name'].unique()))\n",
    "print('Category counts:')\n",
    "df['name'].value_counts()"
   ]
  },
  {
   "cell_type": "markdown",
   "metadata": {},
   "source": [
    "## Rating System\n",
    "\n",
    "In order for the rating system to be useful, it should be consistently applied by special interest groups across the board, ideally with a numeric scale from low to high on a liberal/conservative spectrum (doesn't matter which is high or low). \n",
    "\n",
    "If they are consistently applied, we may be able to label SIGs are generaly supporting liberal or conservative agendas. However, this may not be necessary if we just use the raw scores as the base for derived features in the model.\n",
    "\n",
    "First, we'll take a look at if there are differences in average ratings between parties across all categories:"
   ]
  },
  {
   "cell_type": "code",
   "execution_count": 8,
   "metadata": {
    "collapsed": false,
    "scrolled": true
   },
   "outputs": [
    {
     "data": {
      "text/plain": [
       "name                                    party     \n",
       "Agriculture and Food                    Democrat      57.743181\n",
       "                                        Republican    56.549253\n",
       "Animals and Wildlife                    Democrat      52.005814\n",
       "                                        Republican    59.822134\n",
       "Arts, Entertainment, and History        Democrat      53.494505\n",
       "                                        Republican    52.275910\n",
       "Business and Consumers                  Democrat      55.851417\n",
       "                                        Republican    54.844023\n",
       "Civil Liberties and Civil Rights        Democrat      59.635514\n",
       "                                        Republican    58.642626\n",
       "Drugs                                   Democrat      56.239687\n",
       "                                        Republican    55.222114\n",
       "Education                               Democrat      69.604651\n",
       "                                        Republican    77.320513\n",
       "Employment and Affirmative Action       Democrat      58.766479\n",
       "                                        Republican    58.754313\n",
       "Federal, State and Local Relations      Democrat      49.283871\n",
       "                                        Republican    45.935115\n",
       "Guns                                    Democrat      49.224638\n",
       "                                        Republican    47.761770\n",
       "Housing and Property                    Democrat      49.380301\n",
       "                                        Republican    51.157970\n",
       "Labor Unions                            Democrat      59.058333\n",
       "                                        Republican    58.223881\n",
       "Marriage, Family, and Children          Democrat      56.279582\n",
       "                                        Republican    50.812325\n",
       "National Security                       Democrat      50.053286\n",
       "                                        Republican    54.555556\n",
       "Science                                 Democrat      58.643062\n",
       "                                        Republican    57.792022\n",
       "Senior Citizens                         Democrat      59.857236\n",
       "                                        Republican    59.134403\n",
       "Sexual Orientation and Gender Identity  Democrat      59.248963\n",
       "                                        Republican    55.977273\n",
       "Unemployed and Low-Income               Democrat      59.667313\n",
       "                                        Republican    57.875859\n",
       "Veterans                                Democrat      57.467700\n",
       "                                        Republican    56.001551\n",
       "Women                                   Democrat      59.269889\n",
       "                                        Republican    57.723646\n",
       "Name: rating, dtype: float64"
      ]
     },
     "execution_count": 8,
     "metadata": {},
     "output_type": "execute_result"
    }
   ],
   "source": [
    "df.groupby(['name', 'party'])['rating'].mean()"
   ]
  },
  {
   "cell_type": "markdown",
   "metadata": {},
   "source": [
    "**Results:** \n",
    "* It looks like many of the categories have very similar scores (within 2 points of each other)\n",
    "    - Surprisingly, Guns falls into this category....\n",
    "* May indicate that ratings are inconsistently applied or no significant difference\n",
    "* Categories with differences > 2:\n",
    "    - Animals and Wildlife (Republicans +7)\n",
    "    - Education (Republicans +8)\n",
    "    - Federal, State and Local Relations (Democrats +4)\n",
    "    - Marriage, Family, and Children (Democrats +6)\n",
    "    - National Security (Republicans +4)\n",
    "\n",
    "It looks like there is a minor practical effect in certain areas, but is this statistically significant?"
   ]
  },
  {
   "cell_type": "code",
   "execution_count": 23,
   "metadata": {
    "collapsed": false
   },
   "outputs": [
    {
     "name": "stdout",
     "output_type": "stream",
     "text": [
      "P-Value: 8.74798674849e-08\n",
      "Ratings Average Difference Across Parties: 1.23\n"
     ]
    }
   ],
   "source": [
    "result = ttest_ind(df[df['party']=='Republican']['rating'], df[df['party']=='Democrat']['rating'])\n",
    "print('P-Value: ' + str(result[1]))\n",
    "result2 = df.groupby(['party'])['rating'].mean()\n",
    "print('Ratings Average Difference Across Parties: ' + str(np.round(np.abs(result2[0]-result2[1]), 2)))"
   ]
  },
  {
   "cell_type": "markdown",
   "metadata": {},
   "source": [
    "**Results:** \n",
    "\n",
    "* A p-value of `8.75e-08` from a T-test indicates statistically significant difference across all categories. \n",
    "* The practical significance seems to be very small.. which again prompts us to see whether or not the data is valid or just averages out across the two parties"
   ]
  },
  {
   "cell_type": "markdown",
   "metadata": {},
   "source": [
    "We can visually inspect the distribution by plotting the histograms of the two parties.\n",
    "\n",
    "The initial plot contained some erroneous values `<0` and `>100`, so I have removed those values in the charts and probaby should do so in the initial data preparation step going forwards"
   ]
  },
  {
   "cell_type": "code",
   "execution_count": 30,
   "metadata": {
    "collapsed": false
   },
   "outputs": [
    {
     "data": {
      "text/plain": [
       "array([<matplotlib.axes._subplots.AxesSubplot object at 0x1104f4750>,\n",
       "       <matplotlib.axes._subplots.AxesSubplot object at 0x110550410>], dtype=object)"
      ]
     },
     "execution_count": 30,
     "metadata": {},
     "output_type": "execute_result"
    },
    {
     "data": {
      "image/png": "[encoded data removed]",
      "text/plain": [
       "<matplotlib.figure.Figure at 0x10f8f1890>"
      ]
     },
     "metadata": {},
     "output_type": "display_data"
    }
   ],
   "source": [
    "df[(df['rating'] >= 0) & (df['rating'] <= 100)].hist(column='rating', by='party', bins=20)"
   ]
  },
  {
   "cell_type": "markdown",
   "metadata": {},
   "source": [
    "### SIG Deep Dive\n",
    "\n",
    "We can only tell so much with the high level data, so we can do a deep dive on a few specific well-known SIGs where we know what they support.\n",
    "\n",
    "Here are the SIGs with the most candidate ratings:"
   ]
  },
  {
   "cell_type": "code",
   "execution_count": 47,
   "metadata": {
    "collapsed": false,
    "scrolled": true
   },
   "outputs": [
    {
     "data": {
      "text/plain": [
       "National Rifle Association Political Victory Fund            4379\n",
       "Illinois Policy Institute                                    2149\n",
       "Wyoming Family Coalition                                     1950\n",
       "West Virginia National Federation of Independent Business    1922\n",
       "United States Chamber of Commerce                            1919\n",
       "Food Policy Action                                           1730\n",
       "Citizen Action Illinois                                      1605\n",
       "Mississippi Farm Bureau Federation                           1575\n",
       "Voices for Creative Nonviolence                              1489\n",
       "Animal Welfare Institute                                     1325\n",
       "Massachusetts League of Enviromental Voters                  1225\n",
       "Planned Parenthood Advocates of Michigan                     1218\n",
       "Eagle Forum of Alabama                                       1215\n",
       "Partnership for America                                      1178\n",
       "Planned Parenthood Votes Northwest and Hawaii                1089\n",
       "Capitol Weekly                                               1084\n",
       "Illinois Citizens for Life                                   1084\n",
       "New Jersey Crime Victims' Law Center                         1036\n",
       "Conservation New Hampshire                                    987\n",
       "Associated General Contractors of Washington                  981\n",
       "West Virginia FREE                                            967\n",
       "The Campaign for a Pro-Choice New York                        946\n",
       "Massachusetts Gun Owners of America                           936\n",
       "Lillian's List of North Carolina                              932\n",
       "Lambda Letters Project                                        927\n",
       "NARAL Pro-Choice Colorado                                     926\n",
       "Keep America Safe                                             920\n",
       "Planned Parenthood Voters of Arkansas                         918\n",
       "American Federation of Teachers Massachusetts                 908\n",
       "National Association of Wheat Growers                         905\n",
       "Tennessee Firearms Association                                868\n",
       "Vermont Businesses for Social Responsibility                  834\n",
       "Americans for Prosperity Foundation - New Hampshire           834\n",
       "NARAL Pro-Choice Minnesota                                    831\n",
       "Planned Parenthood Votes! South Atlantic                      806\n",
       "Associated Builders & Contractors                             781\n",
       "Solar Tribune                                                 779\n",
       "St. Joseph Health System                                      770\n",
       "Michigan Chamber of Commerce                                  753\n",
       "Michigan Gun Owners of America                                727\n",
       "National Rural Health Association                             722\n",
       "National Parks Conservation Association                       709\n",
       "Planned Parenthood Affiliates of California                   702\n",
       "Arkansas Rifle and Pistol Association                         702\n",
       "California Park & Recreation Society                          701\n",
       "Ocean Champions                                               695\n",
       "South Dakota Gun Owners of America                            687\n",
       "Virginia Citizens Defense League                              673\n",
       "Planned Parenthood Advocates of Wisconsin                     672\n",
       "Montana Public Interest Research Group                        661\n",
       "Name: sigName, dtype: int64"
      ]
     },
     "execution_count": 47,
     "metadata": {},
     "output_type": "execute_result"
    }
   ],
   "source": [
    "df['sigName'].value_counts()[0:50]"
   ]
  },
  {
   "cell_type": "markdown",
   "metadata": {},
   "source": [
    "NRA and Planned Parenthood and their stances are well-known and documented, so we will focus on their ratings for some of their top SIGs. \n",
    "\n",
    "It looks like there are multiple Planned Parenthood organizations. May be worth looking into fuzzy matching to see if we can group related SIGs together."
   ]
  },
  {
   "cell_type": "code",
   "execution_count": 37,
   "metadata": {
    "collapsed": true
   },
   "outputs": [],
   "source": [
    "nraIds = df[df['sigName']=='National Rifle Association Political Victory Fund']['sigId'].unique()\n",
    "ppNames = ['Planned Parenthood Advocates of Michigan', 'Planned Parenthood Votes Northwest and Hawaii']\n",
    "ppIds = df[df['sigName'].isin(ppNames)]['sigId'].unique()"
   ]
  },
  {
   "cell_type": "code",
   "execution_count": 39,
   "metadata": {
    "collapsed": false
   },
   "outputs": [
    {
     "name": "stdout",
     "output_type": "stream",
     "text": [
      "NRA IDs:[ 924  581 1836 1324  738  446 1564  219  580  714 1496   99]\n",
      "Planned Parenthood IDs: [ 492 2468  294 2467]\n"
     ]
    }
   ],
   "source": [
    "print('NRA IDs:' + str(nraIds))\n",
    "print('Planned Parenthood IDs: ' + str(ppIds))"
   ]
  },
  {
   "cell_type": "code",
   "execution_count": 49,
   "metadata": {
    "collapsed": false
   },
   "outputs": [
    {
     "data": {
      "text/plain": [
       "2307"
      ]
     },
     "execution_count": 49,
     "metadata": {},
     "output_type": "execute_result"
    }
   ],
   "source": [
    "len(df[df['sigId'].isin(ppIds)])"
   ]
  },
  {
   "cell_type": "markdown",
   "metadata": {},
   "source": [
    "#### NRA"
   ]
  },
  {
   "cell_type": "code",
   "execution_count": 45,
   "metadata": {
    "collapsed": false
   },
   "outputs": [
    {
     "data": {
      "text/plain": [
       "name      party     \n",
       "Veterans  Democrat      56.505579\n",
       "          Republican    55.041594\n",
       "Name: rating, dtype: float64"
      ]
     },
     "execution_count": 45,
     "metadata": {},
     "output_type": "execute_result"
    }
   ],
   "source": [
    "df[df['sigId'].isin(nraIds)].groupby(['name', 'party'])['rating'].mean()"
   ]
  },
  {
   "cell_type": "code",
   "execution_count": 46,
   "metadata": {
    "collapsed": false
   },
   "outputs": [
    {
     "data": {
      "text/plain": [
       "name                  party     \n",
       "Agriculture and Food  Democrat      53.253870\n",
       "                      Republican    50.856061\n",
       "Women                 Democrat      56.545241\n",
       "                      Republican    55.764460\n",
       "Name: rating, dtype: float64"
      ]
     },
     "execution_count": 46,
     "metadata": {},
     "output_type": "execute_result"
    }
   ],
   "source": [
    "df[df['sigId'].isin(ppIds)].groupby(['name', 'party'])['rating'].mean()"
   ]
  },
  {
   "cell_type": "markdown",
   "metadata": {},
   "source": [
    "### Legislator Deep Dive"
   ]
  },
  {
   "cell_type": "code",
   "execution_count": 51,
   "metadata": {
    "collapsed": false
   },
   "outputs": [
    {
     "data": {
      "text/html": [
       "<div>\n",
       "<table border=\"1\" class=\"dataframe\">\n",
       "  <thead>\n",
       "    <tr style=\"text-align: right;\">\n",
       "      <th></th>\n",
       "      <th>Unnamed: 0</th>\n",
       "      <th>Unnamed: 0left</th>\n",
       "      <th>candidateIdleft</th>\n",
       "      <th>rating</th>\n",
       "      <th>ratingIdleft</th>\n",
       "      <th>last_name</th>\n",
       "      <th>first_name</th>\n",
       "      <th>gender</th>\n",
       "      <th>type</th>\n",
       "      <th>state</th>\n",
       "      <th>...</th>\n",
       "      <th>nameleft2</th>\n",
       "      <th>Unnamed: 0left.1</th>\n",
       "      <th>categoryIdleft</th>\n",
       "      <th>nameleft</th>\n",
       "      <th>sigId</th>\n",
       "      <th>sigParentId</th>\n",
       "      <th>Unnamed: 0.1</th>\n",
       "      <th>categoryId</th>\n",
       "      <th>name</th>\n",
       "      <th>sigName</th>\n",
       "    </tr>\n",
       "  </thead>\n",
       "  <tbody>\n",
       "  </tbody>\n",
       "</table>\n",
       "<p>0 rows × 28 columns</p>\n",
       "</div>"
      ],
      "text/plain": [
       "Empty DataFrame\n",
       "Columns: [Unnamed: 0, Unnamed: 0left, candidateIdleft, rating, ratingIdleft, last_name, first_name, gender, type, state, party, candidateId, sigIdleft, ratingId, ratingName, timespan, Unnamed: 0left2, sigIdleft2, nameleft2, Unnamed: 0left.1, categoryIdleft, nameleft, sigId, sigParentId, Unnamed: 0.1, categoryId, name, sigName]\n",
       "Index: []\n",
       "\n",
       "[0 rows x 28 columns]"
      ]
     },
     "execution_count": 51,
     "metadata": {},
     "output_type": "execute_result"
    }
   ],
   "source": [
    "df[df['last_name'] == 'McCain']"
   ]
  },
  {
   "cell_type": "code",
   "execution_count": 58,
   "metadata": {
    "collapsed": false
   },
   "outputs": [],
   "source": [
    "candidates = pd.concat([pd.read_csv('data/legislators-current.csv'), pd.read_csv('data/legislators-historical.csv')])"
   ]
  },
  {
   "cell_type": "code",
   "execution_count": 64,
   "metadata": {
    "collapsed": false
   },
   "outputs": [
    {
     "data": {
      "text/plain": [
       "198    53270.0\n",
       "Name: votesmart_id, dtype: float64"
      ]
     },
     "execution_count": 64,
     "metadata": {},
     "output_type": "execute_result"
    }
   ],
   "source": [
    "candidates[candidates['last_name'] == 'McCain']['votesmart_id']"
   ]
  },
  {
   "cell_type": "code",
   "execution_count": null,
   "metadata": {
    "collapsed": true
   },
   "outputs": [],
   "source": [
    "candidate_ratings = pd.read_csv('data/candidate_ratings.csv')"
   ]
  },
  {
   "cell_type": "code",
   "execution_count": 65,
   "metadata": {
    "collapsed": false
   },
   "outputs": [
    {
     "data": {
      "text/plain": [
       "Index([u'Unnamed: 0', u'candidateId', u'rating', u'ratingId'], dtype='object')"
      ]
     },
     "execution_count": 65,
     "metadata": {},
     "output_type": "execute_result"
    }
   ],
   "source": [
    "candidate_ratings.columns"
   ]
  },
  {
   "cell_type": "code",
   "execution_count": 66,
   "metadata": {
    "collapsed": false
   },
   "outputs": [
    {
     "data": {
      "text/plain": [
       "1417"
      ]
     },
     "execution_count": 66,
     "metadata": {},
     "output_type": "execute_result"
    }
   ],
   "source": [
    "(candidate_ratings['candidateId'] == 53270).sum()"
   ]
  }
 ],
 "metadata": {
  "kernelspec": {
   "display_name": "Python 2",
   "language": "python",
   "name": "python2"
  },
  "language_info": {
   "codemirror_mode": {
    "name": "ipython",
    "version": 2
   },
   "file_extension": ".py",
   "mimetype": "text/x-python",
   "name": "python",
   "nbconvert_exporter": "python",
   "pygments_lexer": "ipython2",
   "version": "2.7.11"
  }
 },
 "nbformat": 4,
 "nbformat_minor": 2
}
