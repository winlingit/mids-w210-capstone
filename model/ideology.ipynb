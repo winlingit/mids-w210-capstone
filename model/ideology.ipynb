{
 "cells": [
  {
   "cell_type": "code",
   "execution_count": 83,
   "metadata": {
    "collapsed": true
   },
   "outputs": [],
   "source": [
    "from collections import defaultdict\n",
    "import os\n",
    "import pickle\n",
    "\n",
    "import pandas as pd\n",
    "import numpy as np\n",
    "from sklearn import metrics\n",
    "from sklearn.ensemble import RandomForestClassifier\n",
    "from sklearn.utils import shuffle\n",
    "import seaborn as sns\n",
    "pd.options.display.max_columns = 100\n",
    "%matplotlib inline"
   ]
  },
  {
   "cell_type": "markdown",
   "metadata": {},
   "source": [
    "# Ideology Model\n",
    "This model will use member ideology (dw-nominate scores) from the previous congress, as demonstrated here: https://voteview.com/data\n",
    "## Feature Construction"
   ]
  },
  {
   "cell_type": "code",
   "execution_count": 2,
   "metadata": {
    "collapsed": false
   },
   "outputs": [],
   "source": [
    "# grab ideology data\n",
    "def concat_ideology(path):\n",
    "    \"\"\"Load member ideology scores\n",
    "    Args:\n",
    "        path: file path to folder containing files\n",
    "    \n",
    "    Returns:\n",
    "        dataframe and a dictionary\n",
    "    \"\"\"\n",
    "    columns = ['congress', 'bioguide_id', 'dim1', \n",
    "               'dim2', 'log_likelihood', 'geo_mean_probability']\n",
    "    for i, file in enumerate(os.listdir(path)):\n",
    "        df = pd.read_csv(path + file)\n",
    "        df = df[columns]\n",
    "        if i == 0:\n",
    "            df_m = df\n",
    "        else:\n",
    "            df_m = pd.concat([df_m, df])\n",
    "    df_m.dropna(subset = ['congress', 'bioguide_id'], inplace = True)\n",
    "    df_m.drop_duplicates(subset = ['congress', 'bioguide_id'], inplace = True)\n",
    "    \n",
    "    dict_ideology = defaultdict(dict)\n",
    "    for i, row in df_m.iterrows():\n",
    "        key = (int(row.congress), row.bioguide_id)\n",
    "        value = row.to_dict()\n",
    "        dict_ideology[key] = value\n",
    "    \n",
    "    return df_m, dict_ideology\n",
    "df_ideology, dict_ideology = concat_ideology('../data/ideology/')\n",
    "\n",
    "# grab member ids of successful amendments.\n",
    "df_amendments = pd.read_csv('../data/model/vote_history/amendment_votes_raw.csv')\n",
    "df_amendments = df_amendments[df_amendments.result.str.contains('Agree')]\n",
    "df_amendments = pd.DataFrame(df_amendments.groupby('bill_id').member_id.agg(lambda x: list(x)))\n",
    "df_amendments.rename(columns={0: 'amendment_ids'}, inplace = True)\n",
    "df_amendments.reset_index(inplace = True)\n",
    "\n",
    "# pull in bills\n",
    "df_bills = pd.read_csv('../data/propublica/billsfull_model.csv', encoding = 'latin1')\n",
    "df_bills.dropna(subset = ['sponsor_id'], inplace = True)\n",
    "df_bills = pd.merge(df_bills, df_amendments, how = 'left', on = 'bill_id')\n",
    "def fix_eval(row):\n",
    "    \"\"\"Combination of different API pulls from different people resulted in lists being inconsistenly stored\n",
    "        Also append the sponsor id and ids of members who had a successful ammendment\n",
    "    \"\"\"\n",
    "    try:\n",
    "        new = eval(row.cosponsor)\n",
    "        if type(new[0]) == list:\n",
    "            new = new[0]\n",
    "    except NameError:\n",
    "        new = row.cosponsor.replace('[', \"\")\n",
    "        new = new.replace(']', \"\")\n",
    "        new = new.split(', ')\n",
    "    except:\n",
    "        if type(row.cosponsor) == float:\n",
    "            new = []\n",
    "        else:\n",
    "            new = row.cosponsor\n",
    "    new.append(row.sponsor_id)\n",
    "    if type(row.amendment_ids) == list:\n",
    "        for a_id in row.amendment_ids:\n",
    "            new.append(a_id)\n",
    "    return set(new)\n",
    "df_bills['cosponsor_ids'] = df_bills.apply(fix_eval, axis = 1)\n",
    "\n",
    "# get central tendency stats for cosponsor ideologies\n",
    "output = []\n",
    "id_values = ['dim1', 'dim2', 'geo_mean_probability', 'log_likelihood']\n",
    "for i, row in df_bills.iterrows():\n",
    "    ideologies = [dict_ideology[(row.session - 1, x)] for x in row.cosponsor_ids]\n",
    "    ideologies = [x for x in ideologies if x != {}]\n",
    "    if not ideologies:\n",
    "        continue\n",
    "    ideologies = pd.DataFrame(ideologies)\n",
    "    stats_all = {}\n",
    "    for id_value in id_values:\n",
    "        stats = ideologies[id_value].describe()\n",
    "        stats.index = [id_value + \"_\" + x for x in stats.index]\n",
    "        stats = stats.to_dict()\n",
    "        stats_all = {**stats_all, **stats}\n",
    "    stats_all['i'] = i\n",
    "    output.append(stats_all)\n",
    "stats_all = pd.DataFrame(output)\n",
    "stats_all = stats_all[[x for x in stats_all.columns if not x.endswith('_count')]]\n",
    "stats_all = stats_all[[x for x in stats_all.columns if not x.endswith('_std')]]\n",
    "stats_all.set_index('i', inplace = True)\n",
    "df_bills = pd.concat([df_bills, stats_all], axis = 1)\n",
    "df_bills = df_bills[['bill_id'] + stats_all.columns.tolist()]\n",
    "df_bills.drop_duplicates(subset=['bill_id'], inplace = True)"
   ]
  },
  {
   "cell_type": "code",
   "execution_count": 54,
   "metadata": {
    "collapsed": false
   },
   "outputs": [],
   "source": [
    "# votes file\n",
    "def get_full_set(path):\n",
    "    for dataset in ['train','dev','test']:\n",
    "        df = pd.read_csv(path + dataset + '.csv', encoding = 'latin1')\n",
    "        if dataset == 'train':\n",
    "            df_votes = df\n",
    "        else:\n",
    "            df_votes = pd.concat([df_votes, df])\n",
    "    return df_votes\n",
    "\n",
    "df_votes = get_full_set('../data/model/')\n",
    "df_votes = pd.merge(df_votes, df_bills, on = 'bill_id', how = 'left')\n",
    "df_ideology.rename(columns = {'congress': 'congress_real', 'bioguide_id': 'member_id'}, inplace = True)\n",
    "df_ideology['congress'] = df_ideology.congress_real + 1\n",
    "df_votes = pd.merge(df_votes, df_ideology, how = 'left', on = ['member_id', 'congress'])\n",
    "df_votes.dropna(subset = ['dim1_25%', 'dim1'], inplace = True)\n",
    "cols = [x for x in df_bills.columns if x != 'bill_id']\n",
    "cols += ['full_set_id']\n",
    "cols += df_ideology.columns.tolist()\n",
    "df_votes = df_votes[cols]\n",
    "df_votes.to_csv('../data/model/ideology/features1.csv')"
   ]
  },
  {
   "cell_type": "markdown",
   "metadata": {},
   "source": [
    "## Model"
   ]
  },
  {
   "cell_type": "code",
   "execution_count": 75,
   "metadata": {
    "collapsed": true
   },
   "outputs": [],
   "source": [
    "test = pd.read_csv('../data/model/test.csv')\n",
    "train = pd.read_csv('../data/model/train.csv')\n",
    "dev = pd.read_csv('../data/model/dev.csv')\n",
    "dfs = [train, dev, test]\n",
    "def join_features(df):\n",
    "    df = pd.merge(df, df_votes, on = 'full_set_id', how = 'left').dropna(subset = ['dim1_25%', 'dim1', 'log_likelihood'])\n",
    "    return df\n",
    "model_train, model_dev, model_test =  map(join_features, dfs)"
   ]
  },
  {
   "cell_type": "code",
   "execution_count": 76,
   "metadata": {
    "collapsed": false
   },
   "outputs": [
    {
     "name": "stdout",
     "output_type": "stream",
     "text": [
      "             precision    recall  f1-score   support\n",
      "\n",
      "          0     0.9446    0.9440    0.9443    375934\n",
      "          1     0.0550    0.0556    0.0553     22041\n",
      "\n",
      "avg / total     0.8953    0.8948    0.8951    397975\n",
      "\n"
     ]
    }
   ],
   "source": [
    "# baseline if randomly assign 1 at level proportional to overall rate\n",
    "t = [1] * int(len(model_dev) * model_train.broke_from_party.mean())\n",
    "t += ([0] *(len(model_dev) - len(t)))\n",
    "t = shuffle(t)\n",
    "print(metrics.classification_report(model_dev['broke_from_party'], t, digits=4))"
   ]
  },
  {
   "cell_type": "code",
   "execution_count": 78,
   "metadata": {
    "collapsed": false
   },
   "outputs": [
    {
     "data": {
      "text/html": [
       "<div>\n",
       "<table border=\"1\" class=\"dataframe\">\n",
       "  <thead>\n",
       "    <tr style=\"text-align: right;\">\n",
       "      <th></th>\n",
       "      <th>dim1_25%</th>\n",
       "      <th>dim1_50%</th>\n",
       "      <th>dim1_75%</th>\n",
       "      <th>dim1_max</th>\n",
       "      <th>dim1_mean</th>\n",
       "      <th>dim1_min</th>\n",
       "      <th>dim2_25%</th>\n",
       "      <th>dim2_50%</th>\n",
       "      <th>dim2_75%</th>\n",
       "      <th>dim2_max</th>\n",
       "      <th>dim2_mean</th>\n",
       "      <th>dim2_min</th>\n",
       "      <th>geo_mean_probability_25%</th>\n",
       "      <th>geo_mean_probability_50%</th>\n",
       "      <th>geo_mean_probability_75%</th>\n",
       "      <th>geo_mean_probability_max</th>\n",
       "      <th>geo_mean_probability_mean</th>\n",
       "      <th>geo_mean_probability_min</th>\n",
       "      <th>log_likelihood_25%</th>\n",
       "      <th>log_likelihood_50%</th>\n",
       "      <th>log_likelihood_75%</th>\n",
       "      <th>log_likelihood_max</th>\n",
       "      <th>log_likelihood_mean</th>\n",
       "      <th>log_likelihood_min</th>\n",
       "      <th>dim1</th>\n",
       "      <th>dim2</th>\n",
       "      <th>log_likelihood</th>\n",
       "      <th>geo_mean_probability</th>\n",
       "    </tr>\n",
       "  </thead>\n",
       "  <tbody>\n",
       "    <tr>\n",
       "      <th>0</th>\n",
       "      <td>-0.60675</td>\n",
       "      <td>-0.5555</td>\n",
       "      <td>-0.50425</td>\n",
       "      <td>-0.453</td>\n",
       "      <td>-0.5555</td>\n",
       "      <td>-0.658</td>\n",
       "      <td>-0.37925</td>\n",
       "      <td>-0.2465</td>\n",
       "      <td>-0.11375</td>\n",
       "      <td>0.019</td>\n",
       "      <td>-0.2465</td>\n",
       "      <td>-0.512</td>\n",
       "      <td>0.898913</td>\n",
       "      <td>0.905675</td>\n",
       "      <td>0.912438</td>\n",
       "      <td>0.9192</td>\n",
       "      <td>0.905675</td>\n",
       "      <td>0.89215</td>\n",
       "      <td>-96.437578</td>\n",
       "      <td>-91.194935</td>\n",
       "      <td>-85.952292</td>\n",
       "      <td>-80.70965</td>\n",
       "      <td>-91.194935</td>\n",
       "      <td>-101.68022</td>\n",
       "      <td>-0.31</td>\n",
       "      <td>-0.205</td>\n",
       "      <td>-87.35178</td>\n",
       "      <td>0.912</td>\n",
       "    </tr>\n",
       "  </tbody>\n",
       "</table>\n",
       "</div>"
      ],
      "text/plain": [
       "   dim1_25%  dim1_50%  dim1_75%  dim1_max  dim1_mean  dim1_min  dim2_25%  \\\n",
       "0  -0.60675   -0.5555  -0.50425    -0.453    -0.5555    -0.658  -0.37925   \n",
       "\n",
       "   dim2_50%  dim2_75%  dim2_max  dim2_mean  dim2_min  \\\n",
       "0   -0.2465  -0.11375     0.019    -0.2465    -0.512   \n",
       "\n",
       "   geo_mean_probability_25%  geo_mean_probability_50%  \\\n",
       "0                  0.898913                  0.905675   \n",
       "\n",
       "   geo_mean_probability_75%  geo_mean_probability_max  \\\n",
       "0                  0.912438                    0.9192   \n",
       "\n",
       "   geo_mean_probability_mean  geo_mean_probability_min  log_likelihood_25%  \\\n",
       "0                   0.905675                   0.89215          -96.437578   \n",
       "\n",
       "   log_likelihood_50%  log_likelihood_75%  log_likelihood_max  \\\n",
       "0          -91.194935          -85.952292           -80.70965   \n",
       "\n",
       "   log_likelihood_mean  log_likelihood_min  dim1   dim2  log_likelihood  \\\n",
       "0           -91.194935          -101.68022 -0.31 -0.205       -87.35178   \n",
       "\n",
       "   geo_mean_probability  \n",
       "0                 0.912  "
      ]
     },
     "execution_count": 78,
     "metadata": {},
     "output_type": "execute_result"
    }
   ],
   "source": [
    "features = [x for x in cols if x not in ['full_set_id', 'congress', 'congress_real', 'member_id']]\n",
    "rfc = RandomForestClassifier(class_weight='balanced', min_samples_split=200)\n",
    "rfc.fit(model_train[features], model_train['broke_from_party'])\n",
    "model_dev[features].head(1)"
   ]
  },
  {
   "cell_type": "code",
   "execution_count": 79,
   "metadata": {
    "collapsed": false
   },
   "outputs": [
    {
     "name": "stderr",
     "output_type": "stream",
     "text": [
      "C:\\Users\\Steve\\Anaconda3\\lib\\site-packages\\statsmodels\\nonparametric\\kdetools.py:20: VisibleDeprecationWarning: using a non-integer number instead of an integer will result in an error in the future\n",
      "  y = X[:m/2+1] + np.r_[0,X[m/2+1:],0]*1j\n"
     ]
    },
    {
     "data": {
      "text/plain": [
       "<matplotlib.axes._subplots.AxesSubplot at 0xa2877dd6d8>"
      ]
     },
     "execution_count": 79,
     "metadata": {},
     "output_type": "execute_result"
    },
    {
     "data": {
      "image/png": "[encoded data removed]",
      "text/plain": [
       "<matplotlib.figure.Figure at 0xa2c1498b00>"
      ]
     },
     "metadata": {},
     "output_type": "display_data"
    }
   ],
   "source": [
    "probs_dev = rfc.predict_proba(model_dev[features])[:,1]\n",
    "probs_train = rfc.predict_proba(model_train[features])[:,1]\n",
    "sns.distplot(probs_dev)"
   ]
  },
  {
   "cell_type": "code",
   "execution_count": 81,
   "metadata": {
    "collapsed": false
   },
   "outputs": [
    {
     "name": "stdout",
     "output_type": "stream",
     "text": [
      "22493\n",
      "             precision    recall  f1-score   support\n",
      "\n",
      "          0     0.9669    0.9657    0.9663    375934\n",
      "          1     0.4267    0.4355    0.4310     22041\n",
      "\n",
      "avg / total     0.9369    0.9363    0.9366    397975\n",
      "\n"
     ]
    }
   ],
   "source": [
    "thresh = .78\n",
    "print((probs_dev >= thresh).sum())\n",
    "print(metrics.classification_report(model_dev['broke_from_party'], probs_dev >= thresh, digits=4))"
   ]
  },
  {
   "cell_type": "code",
   "execution_count": 84,
   "metadata": {
    "collapsed": false
   },
   "outputs": [],
   "source": [
    "def export_predictions(dfs, model, file_name, \n",
    "                       path = \"../data/model/model_predictions/\", \n",
    "                       predictors = features):\n",
    "    \"\"\"Exports probabilities for all sets\n",
    "    Args:\n",
    "        dfs: train, dev, test sets. in that order.\n",
    "        model: sklearn model to get predictions\n",
    "        path: where to export\n",
    "        predictors: Column set to use as predictors\n",
    "    \"\"\"\n",
    "    labels = ['train', 'dev', 'test']\n",
    "    for label, df in zip(labels, dfs):\n",
    "        probs = model.predict_proba(df[predictors])[:,1]\n",
    "        probs = pd.DataFrame(probs, index = df.full_set_id, columns=['pred_probs'])\n",
    "        probs.to_csv(path + file_name + \"_\" + label + \".csv\")\n",
    "\n",
    "with open('../data/model/ideology/rfc_ideology.pickle', 'wb') as f:\n",
    "    pickle.dump(rfc, f)\n",
    "dfs = [model_train, model_dev, model_test]\n",
    "export_predictions(dfs, rfc, 'ideology', predictors=features)"
   ]
  }
 ],
 "metadata": {
  "kernelspec": {
   "display_name": "Python 3",
   "language": "python",
   "name": "python3"
  },
  "language_info": {
   "codemirror_mode": {
    "name": "ipython",
    "version": 3
   },
   "file_extension": ".py",
   "mimetype": "text/x-python",
   "name": "python",
   "nbconvert_exporter": "python",
   "pygments_lexer": "ipython3",
   "version": "3.6.0"
  }
 },
 "nbformat": 4,
 "nbformat_minor": 2
}
