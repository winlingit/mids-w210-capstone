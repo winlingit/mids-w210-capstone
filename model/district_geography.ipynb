{
 "cells": [
  {
   "cell_type": "code",
   "execution_count": 1,
   "metadata": {
    "collapsed": false
   },
   "outputs": [],
   "source": [
    "import os\n",
    "import pickle\n",
    "\n",
    "import pandas as pd\n",
    "import us\n",
    "import numpy as np\n",
    "from sklearn import metrics\n",
    "from sklearn.ensemble import RandomForestClassifier\n",
    "from sklearn.utils import shuffle\n",
    "import seaborn as sns\n",
    "import matplotlib.pyplot as plt\n",
    "import statsmodels.formula.api as smf\n",
    "from sklearn.linear_model import LogisticRegression\n",
    "from sklearn.model_selection import GridSearchCV\n",
    "pd.options.display.max_columns = 100\n",
    "%matplotlib inline"
   ]
  },
  {
   "cell_type": "markdown",
   "metadata": {},
   "source": [
    "# Geography Model\n",
    "Consider geographic features of member districts and states when predicting voting patterns"
   ]
  },
  {
   "cell_type": "code",
   "execution_count": 174,
   "metadata": {
    "collapsed": true
   },
   "outputs": [],
   "source": [
    "# Grab and format congressional district data into dict_reps dictionary\n",
    "dict_reps = {}\n",
    "path = '../data/districts/geo_preprocessed/'\n",
    "columns = ['id_d1', 'id_d2', 'state_abbr_d1', 'state_abbr_d2','neighbor', 'distance']\n",
    "for file in os.listdir(path):\n",
    "    df = pd.read_csv(path + file, usecols=columns, index_col=['id_d1', 'id_d2'])\n",
    "    df['same_state'] = df.state_abbr_d1 == df.state_abbr_d2\n",
    "    df.drop(['state_abbr_d1', 'state_abbr_d2'], axis = 1, inplace = True)\n",
    "    congress = int(file.split(\".\")[0][-3:])\n",
    "    dict_reps[congress] = df.to_dict(orient = 'index')\n",
    "    \n",
    "# same for senate (though not by congress number)\n",
    "df_state_distance = pd.read_csv('../data/districts/state_distances.csv', index_col=['state1', 'state2'])\n",
    "dict_sen = df_state_distance.to_dict(orient = 'index')\n",
    "\n",
    "# get member info\n",
    "columns = ['id', 'short_title', 'state', 'session']\n",
    "df_members = pd.read_csv('../data/propublica/members_all.csv', encoding = 'latin1', usecols=columns)\n",
    "df_members.drop_duplicates(subset = ['id', 'session'], inplace = True)\n",
    "dict_members = df_members.set_index(['id', 'session']).to_dict(orient = 'index')\n",
    "\n",
    "# grab member ids of successful amendments.\n",
    "df_amendments = pd.read_csv('../data/model/vote_history/amendment_votes_raw.csv')\n",
    "df_amendments = df_amendments[df_amendments.result.str.contains('Agree')]\n",
    "df_amendments = pd.DataFrame(df_amendments.groupby('bill_id').member_id.agg(lambda x: list(x)))\n",
    "df_amendments.rename(columns={0: 'amendment_ids'}, inplace = True)\n",
    "df_amendments.reset_index(inplace = True)\n",
    "\n",
    "# pull in bills\n",
    "df_bills = pd.read_csv('../data/propublica/billsfull_model.csv', encoding = 'latin1')\n",
    "df_bills.dropna(subset = ['sponsor_id'], inplace = True)\n",
    "df_bills = pd.merge(df_bills, df_amendments, how = 'left', on = 'bill_id')\n",
    "def fix_eval(row):\n",
    "    \"\"\"Combination of different API pulls from different people resulted in lists being inconsistenly stored\n",
    "        Also append the sponsor id and ids of members who had a successful ammendment\n",
    "    \"\"\"\n",
    "    try:\n",
    "        new = eval(row.cosponsor)\n",
    "        if type(new[0]) == list:\n",
    "            new = new[0]\n",
    "    except NameError:\n",
    "        new = row.cosponsor.replace('[', \"\")\n",
    "        new = new.replace(']', \"\")\n",
    "        new = new.split(', ')\n",
    "    except:\n",
    "        if type(row.cosponsor) == float:\n",
    "            new = []\n",
    "        else:\n",
    "            new = row.cosponsor\n",
    "    new.append(row.sponsor_id)\n",
    "    if type(row.amendment_ids) == list:\n",
    "        for a_id in row.amendment_ids:\n",
    "            new.append(a_id)\n",
    "    return set(new)\n",
    "df_bills['cosponsor_ids'] = df_bills.apply(fix_eval, axis = 1)\n",
    "df_bills['n_cos'] = df_bills.cosponsor_ids.apply(lambda x: len(x))\n",
    "columns = ['bill_id', 'cosponsor_ids', 'n_cos']\n",
    "df_bills = df_bills[columns]\n",
    "\n",
    "# votes file\n",
    "def get_full_set(path):\n",
    "    for dataset in ['train','dev','test']:\n",
    "        df = pd.read_csv(path + dataset + '.csv', encoding = 'latin1')\n",
    "        if dataset == 'train':\n",
    "            df_votes = df\n",
    "        else:\n",
    "            df_votes = pd.concat([df_votes, df])\n",
    "    return df_votes\n",
    "\n",
    "df_votes = get_full_set('../data/model/')\n",
    "df_votes = pd.merge(df_votes, df_bills, on = 'bill_id', how = 'left')\n",
    "df_votes.dropna(subset = ['n_cos'], inplace = True)\n",
    "df_votes.reset_index(inplace = True, drop = True)\n",
    "df_votes = pd.merge(df_votes, df_members, \n",
    "                    how = 'left', \n",
    "                    left_on=['member_id', 'congress'], \n",
    "                    right_on=['id', 'session'])\n",
    "df_votes.dropna(inplace = True)\n",
    "df_votes = df_votes[df_votes.session_y != 115] # missing all 115. too late to fix\n",
    "df_votes.reset_index(inplace = True, drop = True)\n",
    "\n",
    "# pull in geo stats for votes\n",
    "# compares the member geo to the agg of cosponsors (cosponsor_ids)\n",
    "fails = []\n",
    "stats = []\n",
    "for i, m1 in df_votes.iterrows():\n",
    "    dist_sen = []\n",
    "    touch_sen = 0\n",
    "    dist_rep = []\n",
    "    touch_rep = 0\n",
    "    same_state = 0\n",
    "    rep_count = 0 \n",
    "    sen_count = 0\n",
    "    for m2 in m1.cosponsor_ids:\n",
    "        if m2 == m1.id:\n",
    "            continue\n",
    "        try:\n",
    "            m2_body = dict_members[(m2, m1.session_y)]['short_title']\n",
    "            m2_state = dict_members[(m2, m1.session_y)]['state']\n",
    "            same_body = m1.short_title == m2_body\n",
    "            if m2_body == 'Rep.':\n",
    "                rep_count = rep_count + 1\n",
    "            else:\n",
    "                sen_count += 1\n",
    "        except:\n",
    "            fails.append({'i': i, 'reason': 'member_lookup'})\n",
    "            continue\n",
    "        if same_body and m2_body == 'Sen.':\n",
    "            try:\n",
    "                sen_stats = dict_sen[(m1.state, m2_state)]\n",
    "                dist_sen.append(sen_stats['distance'])\n",
    "                if sen_stats['touching']:\n",
    "                    touch_sen += 1\n",
    "            except:\n",
    "                fails.append({'i': i, 'reason': 'senate'})\n",
    "                continue\n",
    "        elif same_body and m2_body == 'Rep.':\n",
    "            try:\n",
    "                rep_stats = dict_reps[m1.session_y][(m1.id, m2)]\n",
    "                dist_rep.append(rep_stats['distance'])\n",
    "                if rep_stats['same_state']:\n",
    "                    same_state += 1\n",
    "                touch_rep += rep_stats['neighbor']\n",
    "            except:\n",
    "                fails.append({'i': i, 'reason': 'congress'})\n",
    "                continue\n",
    "        else:\n",
    "            if m2_state == m1.state:\n",
    "                same_state += 1\n",
    "    dist_sen = pd.Series(dist_sen).describe()\n",
    "    dist_sen.index = [\"dist_sen_\" + x for x in dist_sen.index]\n",
    "    dist_sen.fillna(-1, inplace = True)\n",
    "    dist_sen = dist_sen.to_dict()\n",
    "    \n",
    "    dist_rep = pd.Series(dist_rep).describe()\n",
    "    dist_rep.index = [\"dist_rep_\" + x for x in dist_rep.index]\n",
    "    dist_rep.fillna(-1, inplace = True)\n",
    "    dist_rep = dist_rep.to_dict()\n",
    "    other_vals = {'touch_sen':touch_sen, \n",
    "                  'touch_rep':touch_rep, \n",
    "                  'same_state':same_state, \n",
    "                  'rep_count': rep_count,\n",
    "                  'sen_count': sen_count}\n",
    "    stats.append({**dist_sen, **dist_rep, **other_vals})\n",
    "stats = pd.DataFrame(stats)\n",
    "df_votes = pd.concat([df_votes, stats], axis = 1)\n",
    "cols = [x for x in stats.columns if x.startswith('dist_')]\n",
    "df_votes = df_votes[(df_votes[cols].sum(axis = 1) == -14) == False]\n",
    "df_votes['percent_rep'] = df_votes.rep_count / (df_votes.sen_count + df_votes.rep_count)\n",
    "df_states = pd.read_csv('../data/districts/state_geo.csv', \n",
    "                        encoding = 'latin1', \n",
    "                        usecols=['Name', 'Division'])\n",
    "cw = us.states.mapping('name','abbr')\n",
    "df_states['state'] = df_states.Name.apply(lambda x: cw[x])\n",
    "df_states.drop('Name', axis = 1, inplace = True)\n",
    "df_votes = pd.merge(df_votes, df_states, how = 'left', on = 'state')\n",
    "\n",
    "columns = ['state', 'session', 'district']\n",
    "df_distcount = pd.read_csv('../data/propublica/members_all.csv', encoding = 'latin1', usecols=columns)\n",
    "df_distcount.dropna(inplace=True)\n",
    "df_distcount.drop_duplicates(subset=['state', 'district'], inplace = True)\n",
    "df_distcount = pd.DataFrame(df_distcount.groupby(['state']).size()).reset_index()\n",
    "df_distcount.rename(columns={0: 'total_state_reps'}, inplace = True)\n",
    "df_distcount['total_state_reps'] = df_distcount.total_state_reps + 2\n",
    "df_votes = pd.merge(df_votes, df_distcount, how = 'left', on = 'state')\n",
    "df_votes['percent_of_state'] = df_votes.same_state / df_votes.total_state_reps\n",
    "df_votes.drop(['total_state_reps', 'same_state'], axis = 1, inplace = True)\n",
    "df_votes['is_rep'] = df_votes.short_title == 'Rep.'\n",
    "columns = [0] + list(range(18, df_votes.shape[1]))\n",
    "df_votes = df_votes.iloc[:,columns]\n",
    "df_votes.to_csv('../data/model/districts/geo_features.csv', index = False)"
   ]
  },
  {
   "cell_type": "markdown",
   "metadata": {},
   "source": [
    "## Model"
   ]
  },
  {
   "cell_type": "code",
   "execution_count": 255,
   "metadata": {
    "collapsed": false
   },
   "outputs": [],
   "source": [
    "test = pd.read_csv('../data/model/test.csv')\n",
    "train = pd.read_csv('../data/model/train.csv')\n",
    "dev = pd.read_csv('../data/model/dev.csv')\n",
    "dfs = [train, dev, test]\n",
    "def join_features(df):\n",
    "    df = pd.merge(df, df_votes, on = 'full_set_id', how = 'left').dropna(subset = ['dist_rep_25%'])\n",
    "    return df\n",
    "model_train, model_dev, model_test =  map(join_features, dfs)"
   ]
  },
  {
   "cell_type": "code",
   "execution_count": 257,
   "metadata": {
    "collapsed": false
   },
   "outputs": [
    {
     "name": "stdout",
     "output_type": "stream",
     "text": [
      "             precision    recall  f1-score   support\n",
      "\n",
      "          0     0.9451    0.9446    0.9448    408955\n",
      "          1     0.0552    0.0557    0.0555     23770\n",
      "\n",
      "avg / total     0.8962    0.8958    0.8960    432725\n",
      "\n"
     ]
    }
   ],
   "source": [
    "# baseline if randomly assign 1 at level proportional to overall rate\n",
    "t = [1] * int(len(model_dev) * model_train.broke_from_party.mean())\n",
    "t += ([0] *(len(model_dev) - len(t)))\n",
    "t = shuffle(t)\n",
    "print(metrics.classification_report(model_dev['broke_from_party'], t, digits=4))"
   ]
  },
  {
   "cell_type": "code",
   "execution_count": 264,
   "metadata": {
    "collapsed": false
   },
   "outputs": [
    {
     "data": {
      "text/html": [
       "<div>\n",
       "<table border=\"1\" class=\"dataframe\">\n",
       "  <thead>\n",
       "    <tr style=\"text-align: right;\">\n",
       "      <th></th>\n",
       "      <th>dist_rep_25%</th>\n",
       "      <th>dist_rep_50%</th>\n",
       "      <th>dist_rep_75%</th>\n",
       "      <th>dist_rep_count</th>\n",
       "      <th>dist_rep_max</th>\n",
       "      <th>dist_rep_mean</th>\n",
       "      <th>dist_rep_min</th>\n",
       "      <th>dist_rep_std</th>\n",
       "      <th>dist_sen_25%</th>\n",
       "      <th>dist_sen_50%</th>\n",
       "      <th>dist_sen_75%</th>\n",
       "      <th>dist_sen_count</th>\n",
       "      <th>dist_sen_max</th>\n",
       "      <th>dist_sen_mean</th>\n",
       "      <th>dist_sen_min</th>\n",
       "      <th>dist_sen_std</th>\n",
       "      <th>rep_count</th>\n",
       "      <th>sen_count</th>\n",
       "      <th>touch_rep</th>\n",
       "      <th>touch_sen</th>\n",
       "      <th>percent_rep</th>\n",
       "      <th>Division</th>\n",
       "      <th>percent_of_state</th>\n",
       "      <th>is_rep</th>\n",
       "    </tr>\n",
       "  </thead>\n",
       "  <tbody>\n",
       "    <tr>\n",
       "      <th>0</th>\n",
       "      <td>536.542735</td>\n",
       "      <td>642.768656</td>\n",
       "      <td>748.994576</td>\n",
       "      <td>2.0</td>\n",
       "      <td>855.220496</td>\n",
       "      <td>642.768656</td>\n",
       "      <td>430.316815</td>\n",
       "      <td>300.452274</td>\n",
       "      <td>-1.0</td>\n",
       "      <td>-1.0</td>\n",
       "      <td>-1.0</td>\n",
       "      <td>0.0</td>\n",
       "      <td>-1.0</td>\n",
       "      <td>-1.0</td>\n",
       "      <td>-1.0</td>\n",
       "      <td>-1.0</td>\n",
       "      <td>2.0</td>\n",
       "      <td>0.0</td>\n",
       "      <td>0.0</td>\n",
       "      <td>0.0</td>\n",
       "      <td>1.0</td>\n",
       "      <td>4.0</td>\n",
       "      <td>0.0</td>\n",
       "      <td>True</td>\n",
       "    </tr>\n",
       "  </tbody>\n",
       "</table>\n",
       "</div>"
      ],
      "text/plain": [
       "   dist_rep_25%  dist_rep_50%  dist_rep_75%  dist_rep_count  dist_rep_max  \\\n",
       "0    536.542735    642.768656    748.994576             2.0    855.220496   \n",
       "\n",
       "   dist_rep_mean  dist_rep_min  dist_rep_std  dist_sen_25%  dist_sen_50%  \\\n",
       "0     642.768656    430.316815    300.452274          -1.0          -1.0   \n",
       "\n",
       "   dist_sen_75%  dist_sen_count  dist_sen_max  dist_sen_mean  dist_sen_min  \\\n",
       "0          -1.0             0.0          -1.0           -1.0          -1.0   \n",
       "\n",
       "   dist_sen_std  rep_count  sen_count  touch_rep  touch_sen  percent_rep  \\\n",
       "0          -1.0        2.0        0.0        0.0        0.0          1.0   \n",
       "\n",
       "   Division  percent_of_state is_rep  \n",
       "0       4.0               0.0   True  "
      ]
     },
     "execution_count": 264,
     "metadata": {},
     "output_type": "execute_result"
    }
   ],
   "source": [
    "features = model_dev.columns[12:].tolist()\n",
    "rfc = RandomForestClassifier(class_weight='balanced', min_samples_split=200)\n",
    "rfc.fit(model_train[features], model_train['broke_from_party'])\n",
    "model_dev[features].head(1)"
   ]
  },
  {
   "cell_type": "code",
   "execution_count": 265,
   "metadata": {
    "collapsed": false
   },
   "outputs": [
    {
     "name": "stderr",
     "output_type": "stream",
     "text": [
      "C:\\Users\\Steve\\Anaconda3\\lib\\site-packages\\statsmodels\\nonparametric\\kdetools.py:20: VisibleDeprecationWarning: using a non-integer number instead of an integer will result in an error in the future\n",
      "  y = X[:m/2+1] + np.r_[0,X[m/2+1:],0]*1j\n"
     ]
    },
    {
     "data": {
      "text/plain": [
       "<matplotlib.axes._subplots.AxesSubplot at 0x87620cdac8>"
      ]
     },
     "execution_count": 265,
     "metadata": {},
     "output_type": "execute_result"
    },
    {
     "data": {
      "image/png": "[encoded data removed]",
      "text/plain": [
       "<matplotlib.figure.Figure at 0x875ee27b38>"
      ]
     },
     "metadata": {},
     "output_type": "display_data"
    }
   ],
   "source": [
    "# distribution is normal?? Really weird for this dataset\n",
    "probs_dev = rfc.predict_proba(model_dev[features])[:,1]\n",
    "probs_train = rfc.predict_proba(model_train[features])[:,1]\n",
    "sns.distplot(probs_dev)"
   ]
  },
  {
   "cell_type": "code",
   "execution_count": 268,
   "metadata": {
    "collapsed": false
   },
   "outputs": [
    {
     "name": "stdout",
     "output_type": "stream",
     "text": [
      "25034\n",
      "             precision    recall  f1-score   support\n",
      "\n",
      "          0     0.9552    0.9522    0.9537    408955\n",
      "          1     0.2196    0.2313    0.2253     23770\n",
      "\n",
      "avg / total     0.9148    0.9126    0.9137    432725\n",
      "\n"
     ]
    }
   ],
   "source": [
    "thresh = .65\n",
    "print((probs_dev >= thresh).sum())\n",
    "print(metrics.classification_report(model_dev['broke_from_party'], probs_dev >= thresh, digits=4))"
   ]
  },
  {
   "cell_type": "code",
   "execution_count": 271,
   "metadata": {
    "collapsed": false
   },
   "outputs": [
    {
     "data": {
      "text/plain": [
       "{'criterion': 'entropy',\n",
       " 'max_depth': None,\n",
       " 'max_features': 0.5,\n",
       " 'min_samples_split': 100,\n",
       " 'n_estimators': 100}"
      ]
     },
     "execution_count": 271,
     "metadata": {},
     "output_type": "execute_result"
    }
   ],
   "source": [
    "param_grid = {'n_estimators': [50, 100, 150], \n",
    "              'max_features':  ['auto', 'log2', .5], \n",
    "              'min_samples_split': [100, 200, 300], \n",
    "              'max_depth': [None, 5, 10], \n",
    "              'criterion': [\"gini\", \"entropy\"]}\n",
    "rfc = RandomForestClassifier(n_jobs=-1, oob_score=True)\n",
    "cv_rfc = GridSearchCV(estimator=rfc, param_grid=param_grid)\n",
    "cv_rfc.fit(model_train[features], model_train['broke_from_party'])\n",
    "cv_rfc.best_params_"
   ]
  },
  {
   "cell_type": "code",
   "execution_count": 272,
   "metadata": {
    "collapsed": false
   },
   "outputs": [
    {
     "data": {
      "text/plain": [
       "RandomForestClassifier(bootstrap=True, class_weight=None, criterion='entropy',\n",
       "            max_depth=None, max_features=0.5, max_leaf_nodes=None,\n",
       "            min_impurity_split=1e-07, min_samples_leaf=1,\n",
       "            min_samples_split=100, min_weight_fraction_leaf=0.0,\n",
       "            n_estimators=100, n_jobs=1, oob_score=False, random_state=None,\n",
       "            verbose=0, warm_start=False)"
      ]
     },
     "execution_count": 272,
     "metadata": {},
     "output_type": "execute_result"
    }
   ],
   "source": [
    "rfc = RandomForestClassifier(criterion = 'entropy', \n",
    "                             max_depth = None,\n",
    "                             max_features = 0.5,\n",
    "                             min_samples_split = 100,\n",
    "                             n_estimators = 100)\n",
    "rfc.fit(model_train[features], model_train['broke_from_party'])"
   ]
  },
  {
   "cell_type": "code",
   "execution_count": 273,
   "metadata": {
    "collapsed": false
   },
   "outputs": [
    {
     "name": "stderr",
     "output_type": "stream",
     "text": [
      "C:\\Users\\Steve\\Anaconda3\\lib\\site-packages\\statsmodels\\nonparametric\\kdetools.py:20: VisibleDeprecationWarning: using a non-integer number instead of an integer will result in an error in the future\n",
      "  y = X[:m/2+1] + np.r_[0,X[m/2+1:],0]*1j\n"
     ]
    },
    {
     "data": {
      "text/plain": [
       "<matplotlib.axes._subplots.AxesSubplot at 0x87709f5470>"
      ]
     },
     "execution_count": 273,
     "metadata": {},
     "output_type": "execute_result"
    },
    {
     "data": {
      "image/png": "[encoded data removed]",
      "text/plain": [
       "<matplotlib.figure.Figure at 0x875ee27ba8>"
      ]
     },
     "metadata": {},
     "output_type": "display_data"
    }
   ],
   "source": [
    "# distribution is normal?? Really weird for this dataset\n",
    "probs_dev = rfc.predict_proba(model_dev[features])[:,1]\n",
    "probs_train = rfc.predict_proba(model_train[features])[:,1]\n",
    "sns.distplot(probs_dev)"
   ]
  },
  {
   "cell_type": "code",
   "execution_count": 279,
   "metadata": {
    "collapsed": false
   },
   "outputs": [
    {
     "name": "stdout",
     "output_type": "stream",
     "text": [
      "23580\n",
      "             precision    recall  f1-score   support\n",
      "\n",
      "          0     0.9574    0.9578    0.9576    408955\n",
      "          1     0.2685    0.2663    0.2674     23770\n",
      "\n",
      "avg / total     0.9195    0.9198    0.9197    432725\n",
      "\n"
     ]
    }
   ],
   "source": [
    "thresh = .165\n",
    "print((probs_dev >= thresh).sum())\n",
    "print(metrics.classification_report(model_dev['broke_from_party'], probs_dev >= thresh, digits=4))"
   ]
  },
  {
   "cell_type": "code",
   "execution_count": 280,
   "metadata": {
    "collapsed": true
   },
   "outputs": [],
   "source": [
    "def export_predictions(dfs, model, file_name, \n",
    "                       path = \"../data/model/model_predictions/\", \n",
    "                       predictors = features):\n",
    "    \"\"\"Exports probabilities for all sets\n",
    "    Args:\n",
    "        dfs: train, dev, test sets. in that order.\n",
    "        model: sklearn model to get predictions\n",
    "        path: where to export\n",
    "        predictors: Column set to use as predictors\n",
    "    \"\"\"\n",
    "    labels = ['train', 'dev', 'test']\n",
    "    for label, df in zip(labels, dfs):\n",
    "        probs = model.predict_proba(df[predictors])[:,1]\n",
    "        probs = pd.DataFrame(probs, index = df.full_set_id, columns=['pred_probs'])\n",
    "        probs.to_csv(path + file_name + \"_\" + label + \".csv\")\n",
    "\n",
    "with open('../data/model/districts/geo_rfc_gs.pickle', 'wb') as f:\n",
    "    pickle.dump(rfc, f)\n",
    "dfs = [model_train, model_dev, model_test]\n",
    "export_predictions(dfs, rfc, 'district_geo', predictors=features)"
   ]
  }
 ],
 "metadata": {
  "kernelspec": {
   "display_name": "Python 3",
   "language": "python",
   "name": "python3"
  },
  "language_info": {
   "codemirror_mode": {
    "name": "ipython",
    "version": 3
   },
   "file_extension": ".py",
   "mimetype": "text/x-python",
   "name": "python",
   "nbconvert_exporter": "python",
   "pygments_lexer": "ipython3",
   "version": "3.6.0"
  }
 },
 "nbformat": 4,
 "nbformat_minor": 2
}
