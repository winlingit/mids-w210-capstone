{
 "cells": [
  {
   "cell_type": "code",
   "execution_count": 1,
   "metadata": {
    "collapsed": true
   },
   "outputs": [],
   "source": [
    "import shapefile\n",
    "import pandas as pd\n",
    "import numpy as np\n",
    "import us\n",
    "from itertools import combinations\n",
    "import haversine\n",
    "import json\n",
    "from shapely.geometry import shape as shapely\n",
    "pd.options.display.max_columns = 100"
   ]
  },
  {
   "cell_type": "markdown",
   "metadata": {},
   "source": [
    "# Preprocess Congressional District Geography\n",
    "This notebook will:\n",
    "1. Calculate the distance between every congressional district going back to 102.\n",
    "2. Determine if districts are neighbors\n",
    "3. Convert the shape file to geojson for ease of use with D3."
   ]
  },
  {
   "cell_type": "code",
   "execution_count": 163,
   "metadata": {
    "collapsed": true
   },
   "outputs": [],
   "source": [
    "def construct_coordinates(row):\n",
    "    \"\"\"Fill district bounding box and place in format accepted by shapely\"\"\"\n",
    "    points = []\n",
    "    points.append((row.bbox0, row.bbox1))\n",
    "    points.append((row.bbox0, row.bbox3))\n",
    "    points.append((row.bbox2, row.bbox3))\n",
    "    points.append((row.bbox2, row.bbox1))\n",
    "    return {'coordinates':[points], 'type': 'Polygon'}\n",
    "\n",
    "df_members = pd.read_csv('../propublica/members_house.csv')\n",
    "df_members = df_members[['id','session','state','district']]\n",
    "df_members['district'] = df_members.district.replace({'At-Large': 0})\n",
    "df_members['dist_full'] = df_members.apply(lambda x: x.state + \"_\" + str(x.district), axis=1)\n",
    "df_members.drop(['state', 'district'], axis = 1, inplace=True)"
   ]
  },
  {
   "cell_type": "code",
   "execution_count": 165,
   "metadata": {
    "collapsed": false
   },
   "outputs": [
    {
     "name": "stdout",
     "output_type": "stream",
     "text": [
      "114\n"
     ]
    },
    {
     "name": "stderr",
     "output_type": "stream",
     "text": [
      "C:\\Users\\Steve\\Anaconda3\\lib\\site-packages\\ipykernel\\__main__.py:84: SettingWithCopyWarning: \n",
      "A value is trying to be set on a copy of a slice from a DataFrame\n",
      "\n",
      "See the caveats in the documentation: http://pandas.pydata.org/pandas-docs/stable/indexing.html#indexing-view-versus-copy\n"
     ]
    },
    {
     "name": "stdout",
     "output_type": "stream",
     "text": [
      "113\n",
      "112\n",
      "111\n",
      "110\n",
      "109\n",
      "108\n",
      "107\n",
      "106\n",
      "105\n",
      "104\n",
      "103\n",
      "102\n"
     ]
    }
   ],
   "source": [
    "for congress in reversed(range(102,115)):\n",
    "#for congress in reversed(range(114,115)):\n",
    "    print(congress)\n",
    "    # load shape file\n",
    "    file_loc = 'districts' + str(congress)\n",
    "    file_loc += (\"/\" + file_loc + \".shp\")\n",
    "    districts = shapefile.Reader('shapefiles/' + file_loc)\n",
    "    \n",
    "    # get bounding box and centroid of districts\n",
    "    rows = []\n",
    "    shapes = districts.shapes()\n",
    "    records = districts.records()\n",
    "    i = 0\n",
    "    for shape, record in zip(shapes, records):\n",
    "        bbox = {}\n",
    "        for b in range(0,4):\n",
    "            try:\n",
    "                bbox[b] = shape.bbox[b]\n",
    "            except:\n",
    "                bbox[b] = np.nan\n",
    "\n",
    "        lat = (bbox[1] + bbox[3])/ 2\n",
    "        lon = (bbox[0] + bbox[2])/ 2\n",
    "\n",
    "        row = {'state': record[0], \n",
    "               'district': record[2], \n",
    "               'lat': lat, \n",
    "               'lon': lon, \n",
    "               'bbox0': bbox[0],\n",
    "               'bbox1': bbox[1],\n",
    "               'bbox2': bbox[2],\n",
    "               'bbox3': bbox[3], \n",
    "               'i':i}\n",
    "        rows.append(row)\n",
    "        i += 1\n",
    "    \n",
    "    # convert district info to df\n",
    "    df_districts = pd.DataFrame(rows)\n",
    "    df_districts.dropna(inplace=True)\n",
    "    cw = us.states.mapping('name','abbr')\n",
    "    df_districts['state_abbr'] = df_districts.state.replace(cw)\n",
    "    df_districts['dist_full'] = df_districts.apply(lambda x: x.state_abbr + \"_\" + str(x.district), axis=1)\n",
    "    df_districts['coords'] = df_districts.apply(lambda x: tuple([x.lat, x.lon]), axis=1)\n",
    "    \n",
    "    # calculate distances between all districts\n",
    "    # and if districts touch\n",
    "    distances = []\n",
    "    for d1,d2 in combinations(df_districts.dist_full.unique(), 2):\n",
    "        d1_coord = df_districts[df_districts.dist_full == d1].coords.iloc[0]\n",
    "        d1_shape = shapely(construct_coordinates(df_districts[df_districts.dist_full == d1].iloc[0]))\n",
    "        d2_coord = df_districts[df_districts.dist_full == d2].coords.iloc[0]\n",
    "        d2_shape = shapely(construct_coordinates(df_districts[df_districts.dist_full == d2].iloc[0]))\n",
    "\n",
    "        distance = haversine.haversine(d1_coord, d2_coord, miles = True)\n",
    "        if d1_shape.touches(d2_shape):\n",
    "            neighbor = 1\n",
    "        elif d1_shape.intersects(d2_shape):\n",
    "            neighbor = 1\n",
    "        else:\n",
    "            neighbor = 0\n",
    "\n",
    "        row = {'d1':d1,'d2':d2, 'distance': distance, 'neighbor': neighbor}\n",
    "        distances.append(row)\n",
    "        \n",
    "    # for ease of future lookup, \n",
    "    # duplicate df, switch d1 and d2 columns, and concat\n",
    "    df_distances = pd.DataFrame(distances)\n",
    "    df_distances = pd.concat([df_distances, df_distances.rename(columns={'d1':'d2','d2':'d1'})])\n",
    "    df_distances = pd.merge(df_distances, \n",
    "                            df_districts, \n",
    "                            how = 'left', \n",
    "                            left_on='d1', \n",
    "                            right_on = 'dist_full')\n",
    "    df_distances = pd.merge(df_distances, \n",
    "                            df_districts, \n",
    "                            how = 'left', \n",
    "                            left_on='d2', \n",
    "                            right_on = 'dist_full', \n",
    "                            suffixes=['_d1','_d2'])\n",
    "    df_distances['congress'] = congress\n",
    "\n",
    "    # merge in propublica member id\n",
    "    df_congress = df_members[df_members.session == congress]\n",
    "    df_congress.drop(['session'], axis = 1, inplace=True)\n",
    "    df_distances = pd.merge(df_distances, df_congress.rename(columns={'dist_full': 'd1'}), how = 'left', on='d1')\n",
    "    df_distances = pd.merge(df_distances, \n",
    "                    df_congress.rename(columns={'dist_full': 'd2'}), \n",
    "                    how = 'left', \n",
    "                    on='d2', suffixes=['_d1','_d2'])\n",
    "\n",
    "    df_distances.to_csv('geo_preprocessed/geo_' + str(congress) + '.csv', index = False)\n",
    "\n",
    "    # convert shape file to geojson and export\n",
    "    fields = districts.fields[1:]\n",
    "    field_names = [field[0] for field in fields]\n",
    "    buffer = []\n",
    "    for sr in districts.shapeRecords():\n",
    "        atr = dict(zip(field_names, sr.record))\n",
    "        geom = sr.shape.__geo_interface__\n",
    "        buffer.append(dict(type=\"Feature\", \\\n",
    "        geometry=geom, properties=atr)) \n",
    "    geojson = open('geojson/congress_' + str(congress) + '.json', \"w\")\n",
    "    geojson.write(json.dumps({\"type\": \"FeatureCollection\",\"features\": buffer}, indent=2) + \"\\n\")\n",
    "    geojson.close()"
   ]
  }
 ],
 "metadata": {
  "kernelspec": {
   "display_name": "Python 3",
   "language": "python",
   "name": "python3"
  },
  "language_info": {
   "codemirror_mode": {
    "name": "ipython",
    "version": 3
   },
   "file_extension": ".py",
   "mimetype": "text/x-python",
   "name": "python",
   "nbconvert_exporter": "python",
   "pygments_lexer": "ipython3",
   "version": "3.6.0"
  }
 },
 "nbformat": 4,
 "nbformat_minor": 2
}
