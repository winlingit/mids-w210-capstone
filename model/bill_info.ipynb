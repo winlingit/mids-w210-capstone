{
 "cells": [
  {
   "cell_type": "code",
   "execution_count": 32,
   "metadata": {
    "collapsed": true
   },
   "outputs": [],
   "source": [
    "import pickle\n",
    "\n",
    "import pandas as pd\n",
    "import numpy as np\n",
    "from sklearn import metrics\n",
    "from sklearn.ensemble import RandomForestClassifier\n",
    "from sklearn.utils import shuffle\n",
    "from sklearn.feature_extraction.text import TfidfVectorizer\n",
    "from sklearn.decomposition import TruncatedSVD\n",
    "import seaborn as sns\n",
    "pd.options.display.max_columns = 100\n",
    "%matplotlib inline"
   ]
  },
  {
   "cell_type": "markdown",
   "metadata": {},
   "source": [
    "# Bill Info Model\n",
    "Predict voting behavior largely based off of bill characteristics (type, sunbject, title, etc)\n",
    "## Feature Construction"
   ]
  },
  {
   "cell_type": "code",
   "execution_count": 136,
   "metadata": {
    "collapsed": false
   },
   "outputs": [],
   "source": [
    "# load bills file\n",
    "df_bills = pd.read_csv('../data/propublica/billsfull_model.csv', encoding = 'latin1')\n",
    "df_bills.dropna(subset = ['title'], inplace = True)\n",
    "df_bills.drop_duplicates(subset=['bill_id'], inplace = True)\n",
    "df_bills.reset_index(drop=True, inplace=True)\n",
    "\n",
    "# tfidf svd of bill title\n",
    "tfidf = TfidfVectorizer(encoding='latin1', stop_words = 'english')\n",
    "df_tfidf = tfidf.fit_transform(df_bills.title)\n",
    "with open('../data/model/bill_info/tfidf.pickle', 'wb') as f:\n",
    "    pickle.dump(tfidf, f)    \n",
    "svd = TruncatedSVD(n_components=100)\n",
    "df_svd = svd.fit_transform(df_tfidf)\n",
    "with open('../data/model/bill_info/svd.pickle', 'wb') as f:\n",
    "    pickle.dump(svd, f)\n",
    "df_svd = pd.DataFrame(df_svd, index = df_bills.bill_id)\n",
    "df_svd.columns = ['svd_' + str(x) for x in df_svd.columns]\n",
    "\n",
    "# get number of actions associated with bill\n",
    "actions = []\n",
    "for bill in df_bills.bill_id:\n",
    "    path = '../data/propublica/model_bills/billinfo_'\n",
    "    with open(path + bill + '.pickle', 'rb') as f:\n",
    "        bill_data = pickle.load(f)\n",
    "    actions.append(len(bill_data['actions']))\n",
    "df_bills['action_n'] = actions\n",
    "    \n",
    "# majority party\n",
    "df_members = pd.read_csv('../data/propublica/members_all.csv', encoding = 'latin1')\n",
    "c1 = df_members.short_title == 'Rep.'\n",
    "c2 = df_members.short_title == 'Sen.'\n",
    "df_members = df_members[c1 | c2]\n",
    "df_members.drop_duplicates(subset=['session', 'short_title', 'id' ,'party'], inplace=True)\n",
    "df_composition = df_members.groupby(['session', 'short_title', 'party']).size().unstack()\n",
    "df_composition['majority'] = df_composition.apply(lambda x: np.argmax(x), axis = 1)\n",
    "party_composition = df_composition.to_dict(orient='index')\n",
    "df_bills.dropna(subset=['sponsor_party'], inplace=True)\n",
    "def sponsor_majority(row):\n",
    "    \"\"\"True if sponsor is in majority party\"\"\"\n",
    "    if row.bill_id[0] == 'h':\n",
    "        body = 'Rep.'\n",
    "    else:\n",
    "        body = 'Sen.'\n",
    "    majority = party_composition[(row.session, body)]['majority']\n",
    "    return row.sponsor_party == majority\n",
    "df_bills['sponsor_is_majority'] = df_bills.apply(sponsor_majority, axis = 1)\n",
    "def cosponsor_majority(row):\n",
    "    \"\"\"do stuff\"\"\"\n",
    "    if row.sponsor_is_majority:\n",
    "        party_count = row.sponsor_party.lower() + 'sponsor'\n",
    "        if party_count not in ['rsponsor', 'dsponsor']:\n",
    "            return 0\n",
    "        return row[party_count]\n",
    "    else:\n",
    "        return 0\n",
    "    \n",
    "def cosponsor_minority(row):\n",
    "    \"\"\"do stuff\"\"\"\n",
    "    if row.sponsor_is_majority:\n",
    "        return 0\n",
    "    else:\n",
    "        party_count = row.sponsor_party.lower() + 'sponsor'\n",
    "        if party_count not in ['rsponsor', 'dsponsor']:\n",
    "            return 0\n",
    "        return row[party_count]\n",
    "df_bills['cosponsor_majority'] = df_bills.apply(cosponsor_majority, axis = 1)\n",
    "df_bills['cosponsor_minority'] = df_bills.apply(cosponsor_minority, axis = 1)\n",
    "\n",
    "# get bill type\n",
    "def bill_type(df):\n",
    "    \"\"\"Get bill type from bill id\"\"\"\n",
    "    df['bill_type'] = df.bill_id.str.replace('[0-9]', '').str.replace(\"-\", \"\")\n",
    "    recode = {\"hres\": 'res', 'hconres': \"conres\", 'hjres': 'jres', \n",
    "              'sres': 'res', 'sconres':'conres', 'sjres': 'jres', \n",
    "              \"s\":'bill', 'hr': 'bill',\n",
    "              \"\": \"other\", 'motion': \"other\", 'treatydoc':'other'}\n",
    "    df['bill_type'] = df.bill_type.replace(recode)\n",
    "    df = pd.concat([df, pd.get_dummies(df.bill_type, prefix='btype_')], \n",
    "                   axis = 1)\n",
    "    return df\n",
    "df_bills = bill_type(df_bills)\n",
    "cols = [x for x in df_bills.columns if x.startswith('btype_')]\n",
    "cols += ['chamber', 'action_n','cosponsor_majority', 'cosponsor_minority', 'sponsor_is_majority']\n",
    "df_svd = pd.concat([df_svd, df_bills.set_index('bill_id')[cols]], axis = 1)\n",
    "df_svd['is_house'] = df_svd.chamber == 'House'\n",
    "df_svd.drop('chamber', axis = 1, inplace = True)\n",
    "df_svd.reset_index(inplace = True)\n",
    "df_svd.rename(columns={'index': 'bill_id'}, inplace = True)\n",
    "\n",
    "# votes file\n",
    "def get_full_set(path):\n",
    "    for dataset in ['train','dev','test']:\n",
    "        df = pd.read_csv(path + dataset + '.csv', encoding = 'latin1')\n",
    "        if dataset == 'train':\n",
    "            df_votes = df\n",
    "        else:\n",
    "            df_votes = pd.concat([df_votes, df])\n",
    "    return df_votes\n",
    "\n",
    "df_votes = get_full_set('../data/model/')\n",
    "df_votes = pd.merge(df_votes, df_svd, on = 'bill_id', how = 'left')\n",
    "df_votes.dropna(subset = ['svd_0'], inplace = True)\n",
    "cols = [x for x in df_svd.columns if x != 'bill_id']\n",
    "cols += ['full_set_id']\n",
    "df_votes = df_votes[cols]\n",
    "df_votes.to_csv('../data/model/bill_info/features1.csv', index = False)"
   ]
  },
  {
   "cell_type": "markdown",
   "metadata": {},
   "source": [
    "## Model"
   ]
  },
  {
   "cell_type": "code",
   "execution_count": 1,
   "metadata": {
    "collapsed": true
   },
   "outputs": [],
   "source": [
    "import os\n",
    "import pickle\n",
    "\n",
    "import pandas as pd\n",
    "import numpy as np\n",
    "from sklearn import metrics\n",
    "from sklearn.ensemble import RandomForestClassifier\n",
    "from sklearn.utils import shuffle\n",
    "from sklearn.model_selection import GridSearchCV\n",
    "\n",
    "df_votes = pd.read_csv('../data/model/bill_info/features1.csv')\n",
    "cols = df_votes.columns.tolist()\n",
    "features = [x for x in cols if x not in ['full_set_id']]"
   ]
  },
  {
   "cell_type": "code",
   "execution_count": 2,
   "metadata": {
    "collapsed": false
   },
   "outputs": [],
   "source": [
    "test = pd.read_csv('../data/model/test.csv')\n",
    "train = pd.read_csv('../data/model/train.csv')\n",
    "dev = pd.read_csv('../data/model/dev.csv')\n",
    "dfs = [train, dev, test]\n",
    "def join_features(df):\n",
    "    df = pd.merge(df, df_votes, on = 'full_set_id', how = 'left').dropna(subset = ['svd_0', 'sponsor_is_majority'])\n",
    "    return df\n",
    "model_train, model_dev, model_test =  map(join_features, dfs)"
   ]
  },
  {
   "cell_type": "code",
   "execution_count": 155,
   "metadata": {
    "collapsed": false
   },
   "outputs": [
    {
     "name": "stdout",
     "output_type": "stream",
     "text": [
      "             precision    recall  f1-score   support\n",
      "\n",
      "          0     0.9467    0.9461    0.9464    467281\n",
      "          1     0.0539    0.0544    0.0542     26337\n",
      "\n",
      "avg / total     0.8990    0.8985    0.8988    493618\n",
      "\n"
     ]
    }
   ],
   "source": [
    "# baseline if randomly assign 1 at level proportional to overall rate\n",
    "t = [1] * int(len(model_dev) * model_train.broke_from_party.mean())\n",
    "t += ([0] *(len(model_dev) - len(t)))\n",
    "t = shuffle(t)\n",
    "print(metrics.classification_report(model_dev['broke_from_party'], t, digits=4))"
   ]
  },
  {
   "cell_type": "code",
   "execution_count": 156,
   "metadata": {
    "collapsed": false
   },
   "outputs": [
    {
     "data": {
      "text/html": [
       "<div>\n",
       "<table border=\"1\" class=\"dataframe\">\n",
       "  <thead>\n",
       "    <tr style=\"text-align: right;\">\n",
       "      <th></th>\n",
       "      <th>svd_0</th>\n",
       "      <th>svd_1</th>\n",
       "      <th>svd_2</th>\n",
       "      <th>svd_3</th>\n",
       "      <th>svd_4</th>\n",
       "      <th>svd_5</th>\n",
       "      <th>svd_6</th>\n",
       "      <th>svd_7</th>\n",
       "      <th>svd_8</th>\n",
       "      <th>svd_9</th>\n",
       "      <th>svd_10</th>\n",
       "      <th>svd_11</th>\n",
       "      <th>svd_12</th>\n",
       "      <th>svd_13</th>\n",
       "      <th>svd_14</th>\n",
       "      <th>svd_15</th>\n",
       "      <th>svd_16</th>\n",
       "      <th>svd_17</th>\n",
       "      <th>svd_18</th>\n",
       "      <th>svd_19</th>\n",
       "      <th>svd_20</th>\n",
       "      <th>svd_21</th>\n",
       "      <th>svd_22</th>\n",
       "      <th>svd_23</th>\n",
       "      <th>svd_24</th>\n",
       "      <th>svd_25</th>\n",
       "      <th>svd_26</th>\n",
       "      <th>svd_27</th>\n",
       "      <th>svd_28</th>\n",
       "      <th>svd_29</th>\n",
       "      <th>svd_30</th>\n",
       "      <th>svd_31</th>\n",
       "      <th>svd_32</th>\n",
       "      <th>svd_33</th>\n",
       "      <th>svd_34</th>\n",
       "      <th>svd_35</th>\n",
       "      <th>svd_36</th>\n",
       "      <th>svd_37</th>\n",
       "      <th>svd_38</th>\n",
       "      <th>svd_39</th>\n",
       "      <th>svd_40</th>\n",
       "      <th>svd_41</th>\n",
       "      <th>svd_42</th>\n",
       "      <th>svd_43</th>\n",
       "      <th>svd_44</th>\n",
       "      <th>svd_45</th>\n",
       "      <th>svd_46</th>\n",
       "      <th>svd_47</th>\n",
       "      <th>svd_48</th>\n",
       "      <th>svd_49</th>\n",
       "      <th>...</th>\n",
       "      <th>svd_59</th>\n",
       "      <th>svd_60</th>\n",
       "      <th>svd_61</th>\n",
       "      <th>svd_62</th>\n",
       "      <th>svd_63</th>\n",
       "      <th>svd_64</th>\n",
       "      <th>svd_65</th>\n",
       "      <th>svd_66</th>\n",
       "      <th>svd_67</th>\n",
       "      <th>svd_68</th>\n",
       "      <th>svd_69</th>\n",
       "      <th>svd_70</th>\n",
       "      <th>svd_71</th>\n",
       "      <th>svd_72</th>\n",
       "      <th>svd_73</th>\n",
       "      <th>svd_74</th>\n",
       "      <th>svd_75</th>\n",
       "      <th>svd_76</th>\n",
       "      <th>svd_77</th>\n",
       "      <th>svd_78</th>\n",
       "      <th>svd_79</th>\n",
       "      <th>svd_80</th>\n",
       "      <th>svd_81</th>\n",
       "      <th>svd_82</th>\n",
       "      <th>svd_83</th>\n",
       "      <th>svd_84</th>\n",
       "      <th>svd_85</th>\n",
       "      <th>svd_86</th>\n",
       "      <th>svd_87</th>\n",
       "      <th>svd_88</th>\n",
       "      <th>svd_89</th>\n",
       "      <th>svd_90</th>\n",
       "      <th>svd_91</th>\n",
       "      <th>svd_92</th>\n",
       "      <th>svd_93</th>\n",
       "      <th>svd_94</th>\n",
       "      <th>svd_95</th>\n",
       "      <th>svd_96</th>\n",
       "      <th>svd_97</th>\n",
       "      <th>svd_98</th>\n",
       "      <th>svd_99</th>\n",
       "      <th>btype__bill</th>\n",
       "      <th>btype__conres</th>\n",
       "      <th>btype__jres</th>\n",
       "      <th>btype__res</th>\n",
       "      <th>action_n</th>\n",
       "      <th>cosponsor_majority</th>\n",
       "      <th>cosponsor_minority</th>\n",
       "      <th>sponsor_is_majority</th>\n",
       "      <th>is_house</th>\n",
       "    </tr>\n",
       "  </thead>\n",
       "  <tbody>\n",
       "    <tr>\n",
       "      <th>0</th>\n",
       "      <td>0.025786</td>\n",
       "      <td>0.054664</td>\n",
       "      <td>-0.018617</td>\n",
       "      <td>-0.040118</td>\n",
       "      <td>0.108689</td>\n",
       "      <td>0.031414</td>\n",
       "      <td>-0.106792</td>\n",
       "      <td>-0.019413</td>\n",
       "      <td>0.027626</td>\n",
       "      <td>-0.013142</td>\n",
       "      <td>0.058677</td>\n",
       "      <td>0.058514</td>\n",
       "      <td>-0.072788</td>\n",
       "      <td>0.039451</td>\n",
       "      <td>-0.060278</td>\n",
       "      <td>-0.036376</td>\n",
       "      <td>-0.060594</td>\n",
       "      <td>-0.036023</td>\n",
       "      <td>0.065962</td>\n",
       "      <td>0.005868</td>\n",
       "      <td>-0.014589</td>\n",
       "      <td>-0.004495</td>\n",
       "      <td>-0.009367</td>\n",
       "      <td>0.00548</td>\n",
       "      <td>-0.064787</td>\n",
       "      <td>-0.029069</td>\n",
       "      <td>-0.074154</td>\n",
       "      <td>-0.046341</td>\n",
       "      <td>-0.105401</td>\n",
       "      <td>0.165238</td>\n",
       "      <td>0.079622</td>\n",
       "      <td>-0.048589</td>\n",
       "      <td>-0.07319</td>\n",
       "      <td>-0.045558</td>\n",
       "      <td>0.032129</td>\n",
       "      <td>0.026509</td>\n",
       "      <td>-0.060874</td>\n",
       "      <td>0.039259</td>\n",
       "      <td>-0.026401</td>\n",
       "      <td>-0.020986</td>\n",
       "      <td>-0.084829</td>\n",
       "      <td>-0.059486</td>\n",
       "      <td>-0.01818</td>\n",
       "      <td>-0.018143</td>\n",
       "      <td>-0.012262</td>\n",
       "      <td>0.021235</td>\n",
       "      <td>0.000652</td>\n",
       "      <td>0.040306</td>\n",
       "      <td>0.039241</td>\n",
       "      <td>0.015596</td>\n",
       "      <td>...</td>\n",
       "      <td>0.002746</td>\n",
       "      <td>0.00676</td>\n",
       "      <td>0.009002</td>\n",
       "      <td>-0.018469</td>\n",
       "      <td>0.063563</td>\n",
       "      <td>0.012929</td>\n",
       "      <td>-0.015708</td>\n",
       "      <td>-0.004448</td>\n",
       "      <td>0.016707</td>\n",
       "      <td>0.002097</td>\n",
       "      <td>0.034318</td>\n",
       "      <td>-0.019108</td>\n",
       "      <td>-0.006239</td>\n",
       "      <td>-0.010194</td>\n",
       "      <td>0.018559</td>\n",
       "      <td>-0.025028</td>\n",
       "      <td>-0.014971</td>\n",
       "      <td>0.008336</td>\n",
       "      <td>-0.008921</td>\n",
       "      <td>0.01343</td>\n",
       "      <td>0.013084</td>\n",
       "      <td>0.034728</td>\n",
       "      <td>-0.005828</td>\n",
       "      <td>0.002625</td>\n",
       "      <td>-0.028887</td>\n",
       "      <td>0.005619</td>\n",
       "      <td>0.028642</td>\n",
       "      <td>0.030197</td>\n",
       "      <td>0.014005</td>\n",
       "      <td>-0.027302</td>\n",
       "      <td>-0.009392</td>\n",
       "      <td>0.000537</td>\n",
       "      <td>0.00137</td>\n",
       "      <td>-0.011789</td>\n",
       "      <td>0.018525</td>\n",
       "      <td>0.028301</td>\n",
       "      <td>0.008405</td>\n",
       "      <td>0.01828</td>\n",
       "      <td>-0.020069</td>\n",
       "      <td>0.010032</td>\n",
       "      <td>-0.002156</td>\n",
       "      <td>1.0</td>\n",
       "      <td>0.0</td>\n",
       "      <td>0.0</td>\n",
       "      <td>0.0</td>\n",
       "      <td>0.0</td>\n",
       "      <td>0.0</td>\n",
       "      <td>1.0</td>\n",
       "      <td>False</td>\n",
       "      <td>True</td>\n",
       "    </tr>\n",
       "  </tbody>\n",
       "</table>\n",
       "<p>1 rows × 109 columns</p>\n",
       "</div>"
      ],
      "text/plain": [
       "      svd_0     svd_1     svd_2     svd_3     svd_4     svd_5     svd_6  \\\n",
       "0  0.025786  0.054664 -0.018617 -0.040118  0.108689  0.031414 -0.106792   \n",
       "\n",
       "      svd_7     svd_8     svd_9    svd_10    svd_11    svd_12    svd_13  \\\n",
       "0 -0.019413  0.027626 -0.013142  0.058677  0.058514 -0.072788  0.039451   \n",
       "\n",
       "     svd_14    svd_15    svd_16    svd_17    svd_18    svd_19    svd_20  \\\n",
       "0 -0.060278 -0.036376 -0.060594 -0.036023  0.065962  0.005868 -0.014589   \n",
       "\n",
       "     svd_21    svd_22   svd_23    svd_24    svd_25    svd_26    svd_27  \\\n",
       "0 -0.004495 -0.009367  0.00548 -0.064787 -0.029069 -0.074154 -0.046341   \n",
       "\n",
       "     svd_28    svd_29    svd_30    svd_31   svd_32    svd_33    svd_34  \\\n",
       "0 -0.105401  0.165238  0.079622 -0.048589 -0.07319 -0.045558  0.032129   \n",
       "\n",
       "     svd_35    svd_36    svd_37    svd_38    svd_39    svd_40    svd_41  \\\n",
       "0  0.026509 -0.060874  0.039259 -0.026401 -0.020986 -0.084829 -0.059486   \n",
       "\n",
       "    svd_42    svd_43    svd_44    svd_45    svd_46    svd_47    svd_48  \\\n",
       "0 -0.01818 -0.018143 -0.012262  0.021235  0.000652  0.040306  0.039241   \n",
       "\n",
       "     svd_49    ...       svd_59   svd_60    svd_61    svd_62    svd_63  \\\n",
       "0  0.015596    ...     0.002746  0.00676  0.009002 -0.018469  0.063563   \n",
       "\n",
       "     svd_64    svd_65    svd_66    svd_67    svd_68    svd_69    svd_70  \\\n",
       "0  0.012929 -0.015708 -0.004448  0.016707  0.002097  0.034318 -0.019108   \n",
       "\n",
       "     svd_71    svd_72    svd_73    svd_74    svd_75    svd_76    svd_77  \\\n",
       "0 -0.006239 -0.010194  0.018559 -0.025028 -0.014971  0.008336 -0.008921   \n",
       "\n",
       "    svd_78    svd_79    svd_80    svd_81    svd_82    svd_83    svd_84  \\\n",
       "0  0.01343  0.013084  0.034728 -0.005828  0.002625 -0.028887  0.005619   \n",
       "\n",
       "     svd_85    svd_86    svd_87    svd_88    svd_89    svd_90   svd_91  \\\n",
       "0  0.028642  0.030197  0.014005 -0.027302 -0.009392  0.000537  0.00137   \n",
       "\n",
       "     svd_92    svd_93    svd_94    svd_95   svd_96    svd_97    svd_98  \\\n",
       "0 -0.011789  0.018525  0.028301  0.008405  0.01828 -0.020069  0.010032   \n",
       "\n",
       "     svd_99  btype__bill  btype__conres  btype__jres  btype__res  action_n  \\\n",
       "0 -0.002156          1.0            0.0          0.0         0.0       0.0   \n",
       "\n",
       "   cosponsor_majority  cosponsor_minority  sponsor_is_majority  is_house  \n",
       "0                 0.0                 1.0                False      True  \n",
       "\n",
       "[1 rows x 109 columns]"
      ]
     },
     "execution_count": 156,
     "metadata": {},
     "output_type": "execute_result"
    }
   ],
   "source": [
    "features = [x for x in cols if x not in ['full_set_id']]\n",
    "rfc = RandomForestClassifier(class_weight='balanced', min_samples_split=200)\n",
    "rfc.fit(model_train[features], model_train['broke_from_party'])\n",
    "model_dev[features].head(1)"
   ]
  },
  {
   "cell_type": "code",
   "execution_count": 157,
   "metadata": {
    "collapsed": false
   },
   "outputs": [
    {
     "name": "stderr",
     "output_type": "stream",
     "text": [
      "C:\\Users\\Steve\\Anaconda3\\lib\\site-packages\\statsmodels\\nonparametric\\kdetools.py:20: VisibleDeprecationWarning: using a non-integer number instead of an integer will result in an error in the future\n",
      "  y = X[:m/2+1] + np.r_[0,X[m/2+1:],0]*1j\n"
     ]
    },
    {
     "data": {
      "text/plain": [
       "<matplotlib.axes._subplots.AxesSubplot at 0x228f4f9da0>"
      ]
     },
     "execution_count": 157,
     "metadata": {},
     "output_type": "execute_result"
    },
    {
     "data": {
      "image/png": "[encoded data removed]",
      "text/plain": [
       "<matplotlib.figure.Figure at 0x228f391358>"
      ]
     },
     "metadata": {},
     "output_type": "display_data"
    }
   ],
   "source": [
    "probs_dev = rfc.predict_proba(model_dev[features])[:,1]\n",
    "probs_train = rfc.predict_proba(model_train[features])[:,1]\n",
    "sns.distplot(probs_dev)"
   ]
  },
  {
   "cell_type": "code",
   "execution_count": 162,
   "metadata": {
    "collapsed": false
   },
   "outputs": [
    {
     "name": "stdout",
     "output_type": "stream",
     "text": [
      "28723\n",
      "             precision    recall  f1-score   support\n",
      "\n",
      "          0     0.9610    0.9560    0.9585    467281\n",
      "          1     0.2849    0.3107    0.2973     26337\n",
      "\n",
      "avg / total     0.9249    0.9216    0.9232    493618\n",
      "\n"
     ]
    }
   ],
   "source": [
    "thresh = .81\n",
    "print((probs_dev >= thresh).sum())\n",
    "print(metrics.classification_report(model_dev['broke_from_party'], probs_dev >= thresh, digits=4))"
   ]
  },
  {
   "cell_type": "code",
   "execution_count": 163,
   "metadata": {
    "collapsed": true
   },
   "outputs": [],
   "source": [
    "def export_predictions(dfs, model, file_name, \n",
    "                       path = \"../data/model/model_predictions/\", \n",
    "                       predictors = features):\n",
    "    \"\"\"Exports probabilities for all sets\n",
    "    Args:\n",
    "        dfs: train, dev, test sets. in that order.\n",
    "        model: sklearn model to get predictions\n",
    "        path: where to export\n",
    "        predictors: Column set to use as predictors\n",
    "    \"\"\"\n",
    "    labels = ['train', 'dev', 'test']\n",
    "    for label, df in zip(labels, dfs):\n",
    "        probs = model.predict_proba(df[predictors])[:,1]\n",
    "        probs = pd.DataFrame(probs, index = df.full_set_id, columns=['pred_probs'])\n",
    "        probs.to_csv(path + file_name + \"_\" + label + \".csv\")\n",
    "\n",
    "with open('../data/model/bill_info/rfc_bill_info.pickle', 'wb') as f:\n",
    "    pickle.dump(rfc, f)\n",
    "dfs = [model_train, model_dev, model_test]\n",
    "export_predictions(dfs, rfc, 'bill_info', predictors=features)"
   ]
  },
  {
   "cell_type": "markdown",
   "metadata": {},
   "source": [
    "### GridSearch"
   ]
  },
  {
   "cell_type": "code",
   "execution_count": 3,
   "metadata": {
    "collapsed": false
   },
   "outputs": [
    {
     "name": "stdout",
     "output_type": "stream",
     "text": [
      "Fitting 3 folds for each of 162 candidates, totalling 486 fits\n",
      "[CV] criterion=gini, max_depth=None, max_features=auto, min_samples_split=100, n_estimators=50 \n",
      "[CV]  criterion=gini, max_depth=None, max_features=auto, min_samples_split=100, n_estimators=50, total= 1.8min\n",
      "[CV] criterion=gini, max_depth=None, max_features=auto, min_samples_split=100, n_estimators=50 \n"
     ]
    },
    {
     "name": "stderr",
     "output_type": "stream",
     "text": [
      "[Parallel(n_jobs=1)]: Done   1 out of   1 | elapsed:  1.9min remaining:    0.0s\n"
     ]
    },
    {
     "name": "stdout",
     "output_type": "stream",
     "text": [
      "[CV]  criterion=gini, max_depth=None, max_features=auto, min_samples_split=100, n_estimators=50, total= 1.8min\n",
      "[CV] criterion=gini, max_depth=None, max_features=auto, min_samples_split=100, n_estimators=50 \n",
      "[CV]  criterion=gini, max_depth=None, max_features=auto, min_samples_split=100, n_estimators=50, total= 1.7min\n",
      "[CV] criterion=gini, max_depth=None, max_features=auto, min_samples_split=100, n_estimators=100 \n",
      "[CV]  criterion=gini, max_depth=None, max_features=auto, min_samples_split=100, n_estimators=100, total= 3.4min\n",
      "[CV] criterion=gini, max_depth=None, max_features=auto, min_samples_split=100, n_estimators=100 \n",
      "[CV]  criterion=gini, max_depth=None, max_features=auto, min_samples_split=100, n_estimators=100, total= 3.4min\n",
      "[CV] criterion=gini, max_depth=None, max_features=auto, min_samples_split=100, n_estimators=100 \n",
      "[CV]  criterion=gini, max_depth=None, max_features=auto, min_samples_split=100, n_estimators=100, total= 3.3min\n",
      "[CV] criterion=gini, max_depth=None, max_features=auto, min_samples_split=100, n_estimators=150 \n",
      "[CV]  criterion=gini, max_depth=None, max_features=auto, min_samples_split=100, n_estimators=150, total= 4.9min\n",
      "[CV] criterion=gini, max_depth=None, max_features=auto, min_samples_split=100, n_estimators=150 \n",
      "[CV]  criterion=gini, max_depth=None, max_features=auto, min_samples_split=100, n_estimators=150, total= 4.8min\n",
      "[CV] criterion=gini, max_depth=None, max_features=auto, min_samples_split=100, n_estimators=150 \n",
      "[CV]  criterion=gini, max_depth=None, max_features=auto, min_samples_split=100, n_estimators=150, total= 4.7min\n",
      "[CV] criterion=gini, max_depth=None, max_features=auto, min_samples_split=200, n_estimators=50 \n",
      "[CV]  criterion=gini, max_depth=None, max_features=auto, min_samples_split=200, n_estimators=50, total= 1.6min\n",
      "[CV] criterion=gini, max_depth=None, max_features=auto, min_samples_split=200, n_estimators=50 \n",
      "[CV]  criterion=gini, max_depth=None, max_features=auto, min_samples_split=200, n_estimators=50, total= 1.6min\n",
      "[CV] criterion=gini, max_depth=None, max_features=auto, min_samples_split=200, n_estimators=50 \n",
      "[CV]  criterion=gini, max_depth=None, max_features=auto, min_samples_split=200, n_estimators=50, total= 1.6min\n",
      "[CV] criterion=gini, max_depth=None, max_features=auto, min_samples_split=200, n_estimators=100 \n",
      "[CV]  criterion=gini, max_depth=None, max_features=auto, min_samples_split=200, n_estimators=100, total= 3.1min\n",
      "[CV] criterion=gini, max_depth=None, max_features=auto, min_samples_split=200, n_estimators=100 \n",
      "[CV]  criterion=gini, max_depth=None, max_features=auto, min_samples_split=200, n_estimators=100, total= 3.1min\n",
      "[CV] criterion=gini, max_depth=None, max_features=auto, min_samples_split=200, n_estimators=100 \n",
      "[CV]  criterion=gini, max_depth=None, max_features=auto, min_samples_split=200, n_estimators=100, total= 3.0min\n",
      "[CV] criterion=gini, max_depth=None, max_features=auto, min_samples_split=200, n_estimators=150 \n",
      "[CV]  criterion=gini, max_depth=None, max_features=auto, min_samples_split=200, n_estimators=150, total= 4.6min\n",
      "[CV] criterion=gini, max_depth=None, max_features=auto, min_samples_split=200, n_estimators=150 \n",
      "[CV]  criterion=gini, max_depth=None, max_features=auto, min_samples_split=200, n_estimators=150, total= 4.5min\n",
      "[CV] criterion=gini, max_depth=None, max_features=auto, min_samples_split=200, n_estimators=150 \n",
      "[CV]  criterion=gini, max_depth=None, max_features=auto, min_samples_split=200, n_estimators=150, total= 4.5min\n",
      "[CV] criterion=gini, max_depth=None, max_features=auto, min_samples_split=300, n_estimators=50 \n",
      "[CV]  criterion=gini, max_depth=None, max_features=auto, min_samples_split=300, n_estimators=50, total= 1.6min\n",
      "[CV] criterion=gini, max_depth=None, max_features=auto, min_samples_split=300, n_estimators=50 \n",
      "[CV]  criterion=gini, max_depth=None, max_features=auto, min_samples_split=300, n_estimators=50, total= 1.6min\n",
      "[CV] criterion=gini, max_depth=None, max_features=auto, min_samples_split=300, n_estimators=50 \n",
      "[CV]  criterion=gini, max_depth=None, max_features=auto, min_samples_split=300, n_estimators=50, total= 1.6min\n",
      "[CV] criterion=gini, max_depth=None, max_features=auto, min_samples_split=300, n_estimators=100 \n",
      "[CV]  criterion=gini, max_depth=None, max_features=auto, min_samples_split=300, n_estimators=100, total= 3.0min\n",
      "[CV] criterion=gini, max_depth=None, max_features=auto, min_samples_split=300, n_estimators=100 \n",
      "[CV]  criterion=gini, max_depth=None, max_features=auto, min_samples_split=300, n_estimators=100, total= 3.1min\n",
      "[CV] criterion=gini, max_depth=None, max_features=auto, min_samples_split=300, n_estimators=100 \n",
      "[CV]  criterion=gini, max_depth=None, max_features=auto, min_samples_split=300, n_estimators=100, total= 3.0min\n",
      "[CV] criterion=gini, max_depth=None, max_features=auto, min_samples_split=300, n_estimators=150 \n",
      "[CV]  criterion=gini, max_depth=None, max_features=auto, min_samples_split=300, n_estimators=150, total= 4.5min\n",
      "[CV] criterion=gini, max_depth=None, max_features=auto, min_samples_split=300, n_estimators=150 \n",
      "[CV]  criterion=gini, max_depth=None, max_features=auto, min_samples_split=300, n_estimators=150, total= 4.5min\n",
      "[CV] criterion=gini, max_depth=None, max_features=auto, min_samples_split=300, n_estimators=150 \n",
      "[CV]  criterion=gini, max_depth=None, max_features=auto, min_samples_split=300, n_estimators=150, total= 4.4min\n",
      "[CV] criterion=gini, max_depth=None, max_features=log2, min_samples_split=100, n_estimators=50 \n",
      "[CV]  criterion=gini, max_depth=None, max_features=log2, min_samples_split=100, n_estimators=50, total= 1.2min\n",
      "[CV] criterion=gini, max_depth=None, max_features=log2, min_samples_split=100, n_estimators=50 \n",
      "[CV]  criterion=gini, max_depth=None, max_features=log2, min_samples_split=100, n_estimators=50, total= 1.2min\n",
      "[CV] criterion=gini, max_depth=None, max_features=log2, min_samples_split=100, n_estimators=50 \n",
      "[CV]  criterion=gini, max_depth=None, max_features=log2, min_samples_split=100, n_estimators=50, total= 1.2min\n",
      "[CV] criterion=gini, max_depth=None, max_features=log2, min_samples_split=100, n_estimators=100 \n",
      "[CV]  criterion=gini, max_depth=None, max_features=log2, min_samples_split=100, n_estimators=100, total= 2.3min\n",
      "[CV] criterion=gini, max_depth=None, max_features=log2, min_samples_split=100, n_estimators=100 \n",
      "[CV]  criterion=gini, max_depth=None, max_features=log2, min_samples_split=100, n_estimators=100, total= 2.3min\n",
      "[CV] criterion=gini, max_depth=None, max_features=log2, min_samples_split=100, n_estimators=100 \n",
      "[CV]  criterion=gini, max_depth=None, max_features=log2, min_samples_split=100, n_estimators=100, total= 2.2min\n",
      "[CV] criterion=gini, max_depth=None, max_features=log2, min_samples_split=100, n_estimators=150 \n",
      "[CV]  criterion=gini, max_depth=None, max_features=log2, min_samples_split=100, n_estimators=150, total= 3.3min\n",
      "[CV] criterion=gini, max_depth=None, max_features=log2, min_samples_split=100, n_estimators=150 \n",
      "[CV]  criterion=gini, max_depth=None, max_features=log2, min_samples_split=100, n_estimators=150, total= 3.4min\n",
      "[CV] criterion=gini, max_depth=None, max_features=log2, min_samples_split=100, n_estimators=150 \n",
      "[CV]  criterion=gini, max_depth=None, max_features=log2, min_samples_split=100, n_estimators=150, total= 3.2min\n",
      "[CV] criterion=gini, max_depth=None, max_features=log2, min_samples_split=200, n_estimators=50 \n",
      "[CV]  criterion=gini, max_depth=None, max_features=log2, min_samples_split=200, n_estimators=50, total= 1.1min\n",
      "[CV] criterion=gini, max_depth=None, max_features=log2, min_samples_split=200, n_estimators=50 \n",
      "[CV]  criterion=gini, max_depth=None, max_features=log2, min_samples_split=200, n_estimators=50, total= 1.1min\n",
      "[CV] criterion=gini, max_depth=None, max_features=log2, min_samples_split=200, n_estimators=50 \n",
      "[CV]  criterion=gini, max_depth=None, max_features=log2, min_samples_split=200, n_estimators=50, total= 1.1min\n",
      "[CV] criterion=gini, max_depth=None, max_features=log2, min_samples_split=200, n_estimators=100 \n",
      "[CV]  criterion=gini, max_depth=None, max_features=log2, min_samples_split=200, n_estimators=100, total= 2.1min\n",
      "[CV] criterion=gini, max_depth=None, max_features=log2, min_samples_split=200, n_estimators=100 \n",
      "[CV]  criterion=gini, max_depth=None, max_features=log2, min_samples_split=200, n_estimators=100, total= 2.1min\n",
      "[CV] criterion=gini, max_depth=None, max_features=log2, min_samples_split=200, n_estimators=100 \n",
      "[CV]  criterion=gini, max_depth=None, max_features=log2, min_samples_split=200, n_estimators=100, total= 2.1min\n",
      "[CV] criterion=gini, max_depth=None, max_features=log2, min_samples_split=200, n_estimators=150 \n",
      "[CV]  criterion=gini, max_depth=None, max_features=log2, min_samples_split=200, n_estimators=150, total= 3.1min\n",
      "[CV] criterion=gini, max_depth=None, max_features=log2, min_samples_split=200, n_estimators=150 \n",
      "[CV]  criterion=gini, max_depth=None, max_features=log2, min_samples_split=200, n_estimators=150, total= 3.1min\n",
      "[CV] criterion=gini, max_depth=None, max_features=log2, min_samples_split=200, n_estimators=150 \n",
      "[CV]  criterion=gini, max_depth=None, max_features=log2, min_samples_split=200, n_estimators=150, total= 3.0min\n",
      "[CV] criterion=gini, max_depth=None, max_features=log2, min_samples_split=300, n_estimators=50 \n",
      "[CV]  criterion=gini, max_depth=None, max_features=log2, min_samples_split=300, n_estimators=50, total= 1.1min\n",
      "[CV] criterion=gini, max_depth=None, max_features=log2, min_samples_split=300, n_estimators=50 \n",
      "[CV]  criterion=gini, max_depth=None, max_features=log2, min_samples_split=300, n_estimators=50, total= 1.1min\n",
      "[CV] criterion=gini, max_depth=None, max_features=log2, min_samples_split=300, n_estimators=50 \n",
      "[CV]  criterion=gini, max_depth=None, max_features=log2, min_samples_split=300, n_estimators=50, total= 1.1min\n",
      "[CV] criterion=gini, max_depth=None, max_features=log2, min_samples_split=300, n_estimators=100 \n",
      "[CV]  criterion=gini, max_depth=None, max_features=log2, min_samples_split=300, n_estimators=100, total= 2.1min\n",
      "[CV] criterion=gini, max_depth=None, max_features=log2, min_samples_split=300, n_estimators=100 \n",
      "[CV]  criterion=gini, max_depth=None, max_features=log2, min_samples_split=300, n_estimators=100, total= 2.1min\n",
      "[CV] criterion=gini, max_depth=None, max_features=log2, min_samples_split=300, n_estimators=100 \n",
      "[CV]  criterion=gini, max_depth=None, max_features=log2, min_samples_split=300, n_estimators=100, total= 2.0min\n",
      "[CV] criterion=gini, max_depth=None, max_features=log2, min_samples_split=300, n_estimators=150 \n",
      "[CV]  criterion=gini, max_depth=None, max_features=log2, min_samples_split=300, n_estimators=150, total= 3.1min\n",
      "[CV] criterion=gini, max_depth=None, max_features=log2, min_samples_split=300, n_estimators=150 \n",
      "[CV]  criterion=gini, max_depth=None, max_features=log2, min_samples_split=300, n_estimators=150, total= 3.1min\n",
      "[CV] criterion=gini, max_depth=None, max_features=log2, min_samples_split=300, n_estimators=150 \n",
      "[CV]  criterion=gini, max_depth=None, max_features=log2, min_samples_split=300, n_estimators=150, total= 3.1min\n",
      "[CV] criterion=gini, max_depth=None, max_features=0.5, min_samples_split=100, n_estimators=50 \n",
      "[CV]  criterion=gini, max_depth=None, max_features=0.5, min_samples_split=100, n_estimators=50, total= 7.4min\n",
      "[CV] criterion=gini, max_depth=None, max_features=0.5, min_samples_split=100, n_estimators=50 \n",
      "[CV]  criterion=gini, max_depth=None, max_features=0.5, min_samples_split=100, n_estimators=50, total= 7.4min\n",
      "[CV] criterion=gini, max_depth=None, max_features=0.5, min_samples_split=100, n_estimators=50 \n",
      "[CV]  criterion=gini, max_depth=None, max_features=0.5, min_samples_split=100, n_estimators=50, total= 7.3min\n",
      "[CV] criterion=gini, max_depth=None, max_features=0.5, min_samples_split=100, n_estimators=100 \n",
      "[CV]  criterion=gini, max_depth=None, max_features=0.5, min_samples_split=100, n_estimators=100, total=14.5min\n",
      "[CV] criterion=gini, max_depth=None, max_features=0.5, min_samples_split=100, n_estimators=100 \n",
      "[CV]  criterion=gini, max_depth=None, max_features=0.5, min_samples_split=100, n_estimators=100, total=14.4min\n",
      "[CV] criterion=gini, max_depth=None, max_features=0.5, min_samples_split=100, n_estimators=100 \n",
      "[CV]  criterion=gini, max_depth=None, max_features=0.5, min_samples_split=100, n_estimators=100, total=14.5min\n",
      "[CV] criterion=gini, max_depth=None, max_features=0.5, min_samples_split=100, n_estimators=150 \n",
      "[CV]  criterion=gini, max_depth=None, max_features=0.5, min_samples_split=100, n_estimators=150, total=21.6min\n",
      "[CV] criterion=gini, max_depth=None, max_features=0.5, min_samples_split=100, n_estimators=150 \n",
      "[CV]  criterion=gini, max_depth=None, max_features=0.5, min_samples_split=100, n_estimators=150, total=21.3min\n",
      "[CV] criterion=gini, max_depth=None, max_features=0.5, min_samples_split=100, n_estimators=150 \n",
      "[CV]  criterion=gini, max_depth=None, max_features=0.5, min_samples_split=100, n_estimators=150, total=20.9min\n",
      "[CV] criterion=gini, max_depth=None, max_features=0.5, min_samples_split=200, n_estimators=50 \n",
      "[CV]  criterion=gini, max_depth=None, max_features=0.5, min_samples_split=200, n_estimators=50, total= 7.5min\n",
      "[CV] criterion=gini, max_depth=None, max_features=0.5, min_samples_split=200, n_estimators=50 \n",
      "[CV]  criterion=gini, max_depth=None, max_features=0.5, min_samples_split=200, n_estimators=50, total= 7.3min\n",
      "[CV] criterion=gini, max_depth=None, max_features=0.5, min_samples_split=200, n_estimators=50 \n",
      "[CV]  criterion=gini, max_depth=None, max_features=0.5, min_samples_split=200, n_estimators=50, total= 7.2min\n",
      "[CV] criterion=gini, max_depth=None, max_features=0.5, min_samples_split=200, n_estimators=100 \n",
      "[CV]  criterion=gini, max_depth=None, max_features=0.5, min_samples_split=200, n_estimators=100, total=14.3min\n",
      "[CV] criterion=gini, max_depth=None, max_features=0.5, min_samples_split=200, n_estimators=100 \n",
      "[CV]  criterion=gini, max_depth=None, max_features=0.5, min_samples_split=200, n_estimators=100, total=14.3min\n",
      "[CV] criterion=gini, max_depth=None, max_features=0.5, min_samples_split=200, n_estimators=100 \n",
      "[CV]  criterion=gini, max_depth=None, max_features=0.5, min_samples_split=200, n_estimators=100, total=14.0min\n",
      "[CV] criterion=gini, max_depth=None, max_features=0.5, min_samples_split=200, n_estimators=150 \n",
      "[CV]  criterion=gini, max_depth=None, max_features=0.5, min_samples_split=200, n_estimators=150, total=21.2min\n",
      "[CV] criterion=gini, max_depth=None, max_features=0.5, min_samples_split=200, n_estimators=150 \n",
      "[CV]  criterion=gini, max_depth=None, max_features=0.5, min_samples_split=200, n_estimators=150, total=21.0min\n",
      "[CV] criterion=gini, max_depth=None, max_features=0.5, min_samples_split=200, n_estimators=150 \n",
      "[CV]  criterion=gini, max_depth=None, max_features=0.5, min_samples_split=200, n_estimators=150, total=20.9min\n",
      "[CV] criterion=gini, max_depth=None, max_features=0.5, min_samples_split=300, n_estimators=50 \n",
      "[CV]  criterion=gini, max_depth=None, max_features=0.5, min_samples_split=300, n_estimators=50, total= 7.3min\n",
      "[CV] criterion=gini, max_depth=None, max_features=0.5, min_samples_split=300, n_estimators=50 \n",
      "[CV]  criterion=gini, max_depth=None, max_features=0.5, min_samples_split=300, n_estimators=50, total= 7.2min\n",
      "[CV] criterion=gini, max_depth=None, max_features=0.5, min_samples_split=300, n_estimators=50 \n",
      "[CV]  criterion=gini, max_depth=None, max_features=0.5, min_samples_split=300, n_estimators=50, total= 7.3min\n",
      "[CV] criterion=gini, max_depth=None, max_features=0.5, min_samples_split=300, n_estimators=100 \n",
      "[CV]  criterion=gini, max_depth=None, max_features=0.5, min_samples_split=300, n_estimators=100, total=14.2min\n",
      "[CV] criterion=gini, max_depth=None, max_features=0.5, min_samples_split=300, n_estimators=100 \n",
      "[CV]  criterion=gini, max_depth=None, max_features=0.5, min_samples_split=300, n_estimators=100, total=14.1min\n",
      "[CV] criterion=gini, max_depth=None, max_features=0.5, min_samples_split=300, n_estimators=100 \n",
      "[CV]  criterion=gini, max_depth=None, max_features=0.5, min_samples_split=300, n_estimators=100, total=13.9min\n",
      "[CV] criterion=gini, max_depth=None, max_features=0.5, min_samples_split=300, n_estimators=150 \n",
      "[CV]  criterion=gini, max_depth=None, max_features=0.5, min_samples_split=300, n_estimators=150, total=21.0min\n",
      "[CV] criterion=gini, max_depth=None, max_features=0.5, min_samples_split=300, n_estimators=150 \n",
      "[CV]  criterion=gini, max_depth=None, max_features=0.5, min_samples_split=300, n_estimators=150, total=20.8min\n",
      "[CV] criterion=gini, max_depth=None, max_features=0.5, min_samples_split=300, n_estimators=150 \n",
      "[CV]  criterion=gini, max_depth=None, max_features=0.5, min_samples_split=300, n_estimators=150, total=20.7min\n",
      "[CV] criterion=gini, max_depth=5, max_features=auto, min_samples_split=100, n_estimators=50 \n",
      "[CV]  criterion=gini, max_depth=5, max_features=auto, min_samples_split=100, n_estimators=50, total=  41.4s\n",
      "[CV] criterion=gini, max_depth=5, max_features=auto, min_samples_split=100, n_estimators=50 \n"
     ]
    },
    {
     "name": "stderr",
     "output_type": "stream",
     "text": [
      "C:\\Users\\Steve\\Anaconda3\\lib\\site-packages\\sklearn\\metrics\\classification.py:1113: UndefinedMetricWarning: F-score is ill-defined and being set to 0.0 due to no predicted samples.\n",
      "  'precision', 'predicted', average, warn_for)\n"
     ]
    },
    {
     "name": "stdout",
     "output_type": "stream",
     "text": [
      "[CV]  criterion=gini, max_depth=5, max_features=auto, min_samples_split=100, n_estimators=50, total=  41.2s\n",
      "[CV] criterion=gini, max_depth=5, max_features=auto, min_samples_split=100, n_estimators=50 \n",
      "[CV]  criterion=gini, max_depth=5, max_features=auto, min_samples_split=100, n_estimators=50, total=  39.9s\n",
      "[CV] criterion=gini, max_depth=5, max_features=auto, min_samples_split=100, n_estimators=100 \n"
     ]
    },
    {
     "name": "stderr",
     "output_type": "stream",
     "text": [
      "C:\\Users\\Steve\\Anaconda3\\lib\\site-packages\\sklearn\\metrics\\classification.py:1113: UndefinedMetricWarning: F-score is ill-defined and being set to 0.0 due to no predicted samples.\n",
      "  'precision', 'predicted', average, warn_for)\n"
     ]
    },
    {
     "name": "stdout",
     "output_type": "stream",
     "text": [
      "[CV]  criterion=gini, max_depth=5, max_features=auto, min_samples_split=100, n_estimators=100, total= 1.2min\n",
      "[CV] criterion=gini, max_depth=5, max_features=auto, min_samples_split=100, n_estimators=100 \n"
     ]
    },
    {
     "name": "stderr",
     "output_type": "stream",
     "text": [
      "C:\\Users\\Steve\\Anaconda3\\lib\\site-packages\\sklearn\\metrics\\classification.py:1113: UndefinedMetricWarning: F-score is ill-defined and being set to 0.0 due to no predicted samples.\n",
      "  'precision', 'predicted', average, warn_for)\n"
     ]
    },
    {
     "name": "stdout",
     "output_type": "stream",
     "text": [
      "[CV]  criterion=gini, max_depth=5, max_features=auto, min_samples_split=100, n_estimators=100, total= 1.2min\n",
      "[CV] criterion=gini, max_depth=5, max_features=auto, min_samples_split=100, n_estimators=100 \n",
      "[CV]  criterion=gini, max_depth=5, max_features=auto, min_samples_split=100, n_estimators=100, total= 1.2min\n",
      "[CV] criterion=gini, max_depth=5, max_features=auto, min_samples_split=100, n_estimators=150 \n",
      "[CV]  criterion=gini, max_depth=5, max_features=auto, min_samples_split=100, n_estimators=150, total= 1.8min\n",
      "[CV] criterion=gini, max_depth=5, max_features=auto, min_samples_split=100, n_estimators=150 \n",
      "[CV]  criterion=gini, max_depth=5, max_features=auto, min_samples_split=100, n_estimators=150, total= 1.8min\n",
      "[CV] criterion=gini, max_depth=5, max_features=auto, min_samples_split=100, n_estimators=150 \n"
     ]
    },
    {
     "name": "stderr",
     "output_type": "stream",
     "text": [
      "C:\\Users\\Steve\\Anaconda3\\lib\\site-packages\\sklearn\\metrics\\classification.py:1113: UndefinedMetricWarning: F-score is ill-defined and being set to 0.0 due to no predicted samples.\n",
      "  'precision', 'predicted', average, warn_for)\n"
     ]
    },
    {
     "name": "stdout",
     "output_type": "stream",
     "text": [
      "[CV]  criterion=gini, max_depth=5, max_features=auto, min_samples_split=100, n_estimators=150, total= 1.7min\n",
      "[CV] criterion=gini, max_depth=5, max_features=auto, min_samples_split=200, n_estimators=50 \n",
      "[CV]  criterion=gini, max_depth=5, max_features=auto, min_samples_split=200, n_estimators=50, total=  42.1s\n",
      "[CV] criterion=gini, max_depth=5, max_features=auto, min_samples_split=200, n_estimators=50 \n",
      "[CV]  criterion=gini, max_depth=5, max_features=auto, min_samples_split=200, n_estimators=50, total=  41.4s\n",
      "[CV] criterion=gini, max_depth=5, max_features=auto, min_samples_split=200, n_estimators=50 \n"
     ]
    },
    {
     "name": "stderr",
     "output_type": "stream",
     "text": [
      "C:\\Users\\Steve\\Anaconda3\\lib\\site-packages\\sklearn\\metrics\\classification.py:1113: UndefinedMetricWarning: F-score is ill-defined and being set to 0.0 due to no predicted samples.\n",
      "  'precision', 'predicted', average, warn_for)\n"
     ]
    },
    {
     "name": "stdout",
     "output_type": "stream",
     "text": [
      "[CV]  criterion=gini, max_depth=5, max_features=auto, min_samples_split=200, n_estimators=50, total=  39.7s\n",
      "[CV] criterion=gini, max_depth=5, max_features=auto, min_samples_split=200, n_estimators=100 \n"
     ]
    },
    {
     "name": "stderr",
     "output_type": "stream",
     "text": [
      "C:\\Users\\Steve\\Anaconda3\\lib\\site-packages\\sklearn\\metrics\\classification.py:1113: UndefinedMetricWarning: F-score is ill-defined and being set to 0.0 due to no predicted samples.\n",
      "  'precision', 'predicted', average, warn_for)\n"
     ]
    },
    {
     "name": "stdout",
     "output_type": "stream",
     "text": [
      "[CV]  criterion=gini, max_depth=5, max_features=auto, min_samples_split=200, n_estimators=100, total= 1.2min\n",
      "[CV] criterion=gini, max_depth=5, max_features=auto, min_samples_split=200, n_estimators=100 \n"
     ]
    },
    {
     "name": "stderr",
     "output_type": "stream",
     "text": [
      "C:\\Users\\Steve\\Anaconda3\\lib\\site-packages\\sklearn\\metrics\\classification.py:1113: UndefinedMetricWarning: F-score is ill-defined and being set to 0.0 due to no predicted samples.\n",
      "  'precision', 'predicted', average, warn_for)\n"
     ]
    },
    {
     "name": "stdout",
     "output_type": "stream",
     "text": [
      "[CV]  criterion=gini, max_depth=5, max_features=auto, min_samples_split=200, n_estimators=100, total= 1.2min\n",
      "[CV] criterion=gini, max_depth=5, max_features=auto, min_samples_split=200, n_estimators=100 \n",
      "[CV]  criterion=gini, max_depth=5, max_features=auto, min_samples_split=200, n_estimators=100, total= 1.2min\n",
      "[CV] criterion=gini, max_depth=5, max_features=auto, min_samples_split=200, n_estimators=150 \n"
     ]
    },
    {
     "name": "stderr",
     "output_type": "stream",
     "text": [
      "C:\\Users\\Steve\\Anaconda3\\lib\\site-packages\\sklearn\\metrics\\classification.py:1113: UndefinedMetricWarning: F-score is ill-defined and being set to 0.0 due to no predicted samples.\n",
      "  'precision', 'predicted', average, warn_for)\n"
     ]
    },
    {
     "name": "stdout",
     "output_type": "stream",
     "text": [
      "[CV]  criterion=gini, max_depth=5, max_features=auto, min_samples_split=200, n_estimators=150, total= 1.8min\n",
      "[CV] criterion=gini, max_depth=5, max_features=auto, min_samples_split=200, n_estimators=150 \n",
      "[CV]  criterion=gini, max_depth=5, max_features=auto, min_samples_split=200, n_estimators=150, total= 1.8min\n",
      "[CV] criterion=gini, max_depth=5, max_features=auto, min_samples_split=200, n_estimators=150 \n",
      "[CV]  criterion=gini, max_depth=5, max_features=auto, min_samples_split=200, n_estimators=150, total= 1.7min\n",
      "[CV] criterion=gini, max_depth=5, max_features=auto, min_samples_split=300, n_estimators=50 \n",
      "[CV]  criterion=gini, max_depth=5, max_features=auto, min_samples_split=300, n_estimators=50, total=  42.0s\n",
      "[CV] criterion=gini, max_depth=5, max_features=auto, min_samples_split=300, n_estimators=50 \n",
      "[CV]  criterion=gini, max_depth=5, max_features=auto, min_samples_split=300, n_estimators=50, total=  41.9s\n",
      "[CV] criterion=gini, max_depth=5, max_features=auto, min_samples_split=300, n_estimators=50 \n"
     ]
    },
    {
     "name": "stderr",
     "output_type": "stream",
     "text": [
      "C:\\Users\\Steve\\Anaconda3\\lib\\site-packages\\sklearn\\metrics\\classification.py:1113: UndefinedMetricWarning: F-score is ill-defined and being set to 0.0 due to no predicted samples.\n",
      "  'precision', 'predicted', average, warn_for)\n"
     ]
    },
    {
     "name": "stdout",
     "output_type": "stream",
     "text": [
      "[CV]  criterion=gini, max_depth=5, max_features=auto, min_samples_split=300, n_estimators=50, total=  40.7s\n",
      "[CV] criterion=gini, max_depth=5, max_features=auto, min_samples_split=300, n_estimators=100 \n"
     ]
    },
    {
     "name": "stderr",
     "output_type": "stream",
     "text": [
      "C:\\Users\\Steve\\Anaconda3\\lib\\site-packages\\sklearn\\metrics\\classification.py:1113: UndefinedMetricWarning: F-score is ill-defined and being set to 0.0 due to no predicted samples.\n",
      "  'precision', 'predicted', average, warn_for)\n"
     ]
    },
    {
     "name": "stdout",
     "output_type": "stream",
     "text": [
      "[CV]  criterion=gini, max_depth=5, max_features=auto, min_samples_split=300, n_estimators=100, total= 1.3min\n",
      "[CV] criterion=gini, max_depth=5, max_features=auto, min_samples_split=300, n_estimators=100 \n",
      "[CV]  criterion=gini, max_depth=5, max_features=auto, min_samples_split=300, n_estimators=100, total= 1.3min\n",
      "[CV] criterion=gini, max_depth=5, max_features=auto, min_samples_split=300, n_estimators=100 \n"
     ]
    },
    {
     "name": "stderr",
     "output_type": "stream",
     "text": [
      "C:\\Users\\Steve\\Anaconda3\\lib\\site-packages\\sklearn\\metrics\\classification.py:1113: UndefinedMetricWarning: F-score is ill-defined and being set to 0.0 due to no predicted samples.\n",
      "  'precision', 'predicted', average, warn_for)\n"
     ]
    },
    {
     "name": "stdout",
     "output_type": "stream",
     "text": [
      "[CV]  criterion=gini, max_depth=5, max_features=auto, min_samples_split=300, n_estimators=100, total= 1.2min\n",
      "[CV] criterion=gini, max_depth=5, max_features=auto, min_samples_split=300, n_estimators=150 \n",
      "[CV]  criterion=gini, max_depth=5, max_features=auto, min_samples_split=300, n_estimators=150, total= 1.8min\n",
      "[CV] criterion=gini, max_depth=5, max_features=auto, min_samples_split=300, n_estimators=150 \n",
      "[CV]  criterion=gini, max_depth=5, max_features=auto, min_samples_split=300, n_estimators=150, total= 1.8min\n",
      "[CV] criterion=gini, max_depth=5, max_features=auto, min_samples_split=300, n_estimators=150 \n"
     ]
    },
    {
     "name": "stderr",
     "output_type": "stream",
     "text": [
      "C:\\Users\\Steve\\Anaconda3\\lib\\site-packages\\sklearn\\metrics\\classification.py:1113: UndefinedMetricWarning: F-score is ill-defined and being set to 0.0 due to no predicted samples.\n",
      "  'precision', 'predicted', average, warn_for)\n"
     ]
    },
    {
     "name": "stdout",
     "output_type": "stream",
     "text": [
      "[CV]  criterion=gini, max_depth=5, max_features=auto, min_samples_split=300, n_estimators=150, total= 1.7min\n",
      "[CV] criterion=gini, max_depth=5, max_features=log2, min_samples_split=100, n_estimators=50 \n"
     ]
    },
    {
     "name": "stderr",
     "output_type": "stream",
     "text": [
      "C:\\Users\\Steve\\Anaconda3\\lib\\site-packages\\sklearn\\metrics\\classification.py:1113: UndefinedMetricWarning: F-score is ill-defined and being set to 0.0 due to no predicted samples.\n",
      "  'precision', 'predicted', average, warn_for)\n"
     ]
    },
    {
     "name": "stdout",
     "output_type": "stream",
     "text": [
      "[CV]  criterion=gini, max_depth=5, max_features=log2, min_samples_split=100, n_estimators=50, total=  32.2s\n",
      "[CV] criterion=gini, max_depth=5, max_features=log2, min_samples_split=100, n_estimators=50 \n",
      "[CV]  criterion=gini, max_depth=5, max_features=log2, min_samples_split=100, n_estimators=50, total=  32.3s\n",
      "[CV] criterion=gini, max_depth=5, max_features=log2, min_samples_split=100, n_estimators=50 \n"
     ]
    },
    {
     "name": "stderr",
     "output_type": "stream",
     "text": [
      "C:\\Users\\Steve\\Anaconda3\\lib\\site-packages\\sklearn\\metrics\\classification.py:1113: UndefinedMetricWarning: F-score is ill-defined and being set to 0.0 due to no predicted samples.\n",
      "  'precision', 'predicted', average, warn_for)\n"
     ]
    },
    {
     "name": "stdout",
     "output_type": "stream",
     "text": [
      "[CV]  criterion=gini, max_depth=5, max_features=log2, min_samples_split=100, n_estimators=50, total=  30.7s\n",
      "[CV] criterion=gini, max_depth=5, max_features=log2, min_samples_split=100, n_estimators=100 \n"
     ]
    },
    {
     "name": "stderr",
     "output_type": "stream",
     "text": [
      "C:\\Users\\Steve\\Anaconda3\\lib\\site-packages\\sklearn\\metrics\\classification.py:1113: UndefinedMetricWarning: F-score is ill-defined and being set to 0.0 due to no predicted samples.\n",
      "  'precision', 'predicted', average, warn_for)\n"
     ]
    },
    {
     "name": "stdout",
     "output_type": "stream",
     "text": [
      "[CV]  criterion=gini, max_depth=5, max_features=log2, min_samples_split=100, n_estimators=100, total=  56.4s\n",
      "[CV] criterion=gini, max_depth=5, max_features=log2, min_samples_split=100, n_estimators=100 \n"
     ]
    },
    {
     "name": "stderr",
     "output_type": "stream",
     "text": [
      "C:\\Users\\Steve\\Anaconda3\\lib\\site-packages\\sklearn\\metrics\\classification.py:1113: UndefinedMetricWarning: F-score is ill-defined and being set to 0.0 due to no predicted samples.\n",
      "  'precision', 'predicted', average, warn_for)\n"
     ]
    },
    {
     "name": "stdout",
     "output_type": "stream",
     "text": [
      "[CV]  criterion=gini, max_depth=5, max_features=log2, min_samples_split=100, n_estimators=100, total=  56.6s\n",
      "[CV] criterion=gini, max_depth=5, max_features=log2, min_samples_split=100, n_estimators=100 \n"
     ]
    },
    {
     "name": "stderr",
     "output_type": "stream",
     "text": [
      "C:\\Users\\Steve\\Anaconda3\\lib\\site-packages\\sklearn\\metrics\\classification.py:1113: UndefinedMetricWarning: F-score is ill-defined and being set to 0.0 due to no predicted samples.\n",
      "  'precision', 'predicted', average, warn_for)\n"
     ]
    },
    {
     "name": "stdout",
     "output_type": "stream",
     "text": [
      "[CV]  criterion=gini, max_depth=5, max_features=log2, min_samples_split=100, n_estimators=100, total=  53.3s\n",
      "[CV] criterion=gini, max_depth=5, max_features=log2, min_samples_split=100, n_estimators=150 \n"
     ]
    },
    {
     "name": "stderr",
     "output_type": "stream",
     "text": [
      "C:\\Users\\Steve\\Anaconda3\\lib\\site-packages\\sklearn\\metrics\\classification.py:1113: UndefinedMetricWarning: F-score is ill-defined and being set to 0.0 due to no predicted samples.\n",
      "  'precision', 'predicted', average, warn_for)\n"
     ]
    },
    {
     "name": "stdout",
     "output_type": "stream",
     "text": [
      "[CV]  criterion=gini, max_depth=5, max_features=log2, min_samples_split=100, n_estimators=150, total= 1.3min\n",
      "[CV] criterion=gini, max_depth=5, max_features=log2, min_samples_split=100, n_estimators=150 \n"
     ]
    },
    {
     "name": "stderr",
     "output_type": "stream",
     "text": [
      "C:\\Users\\Steve\\Anaconda3\\lib\\site-packages\\sklearn\\metrics\\classification.py:1113: UndefinedMetricWarning: F-score is ill-defined and being set to 0.0 due to no predicted samples.\n",
      "  'precision', 'predicted', average, warn_for)\n"
     ]
    },
    {
     "name": "stdout",
     "output_type": "stream",
     "text": [
      "[CV]  criterion=gini, max_depth=5, max_features=log2, min_samples_split=100, n_estimators=150, total= 1.3min\n",
      "[CV] criterion=gini, max_depth=5, max_features=log2, min_samples_split=100, n_estimators=150 \n"
     ]
    },
    {
     "name": "stderr",
     "output_type": "stream",
     "text": [
      "C:\\Users\\Steve\\Anaconda3\\lib\\site-packages\\sklearn\\metrics\\classification.py:1113: UndefinedMetricWarning: F-score is ill-defined and being set to 0.0 due to no predicted samples.\n",
      "  'precision', 'predicted', average, warn_for)\n"
     ]
    },
    {
     "name": "stdout",
     "output_type": "stream",
     "text": [
      "[CV]  criterion=gini, max_depth=5, max_features=log2, min_samples_split=100, n_estimators=150, total= 1.3min\n",
      "[CV] criterion=gini, max_depth=5, max_features=log2, min_samples_split=200, n_estimators=50 \n"
     ]
    },
    {
     "name": "stderr",
     "output_type": "stream",
     "text": [
      "C:\\Users\\Steve\\Anaconda3\\lib\\site-packages\\sklearn\\metrics\\classification.py:1113: UndefinedMetricWarning: F-score is ill-defined and being set to 0.0 due to no predicted samples.\n",
      "  'precision', 'predicted', average, warn_for)\n"
     ]
    },
    {
     "name": "stdout",
     "output_type": "stream",
     "text": [
      "[CV]  criterion=gini, max_depth=5, max_features=log2, min_samples_split=200, n_estimators=50, total=  32.2s\n",
      "[CV] criterion=gini, max_depth=5, max_features=log2, min_samples_split=200, n_estimators=50 \n"
     ]
    },
    {
     "name": "stderr",
     "output_type": "stream",
     "text": [
      "C:\\Users\\Steve\\Anaconda3\\lib\\site-packages\\sklearn\\metrics\\classification.py:1113: UndefinedMetricWarning: F-score is ill-defined and being set to 0.0 due to no predicted samples.\n",
      "  'precision', 'predicted', average, warn_for)\n"
     ]
    },
    {
     "name": "stdout",
     "output_type": "stream",
     "text": [
      "[CV]  criterion=gini, max_depth=5, max_features=log2, min_samples_split=200, n_estimators=50, total=  32.0s\n",
      "[CV] criterion=gini, max_depth=5, max_features=log2, min_samples_split=200, n_estimators=50 \n"
     ]
    },
    {
     "name": "stderr",
     "output_type": "stream",
     "text": [
      "C:\\Users\\Steve\\Anaconda3\\lib\\site-packages\\sklearn\\metrics\\classification.py:1113: UndefinedMetricWarning: F-score is ill-defined and being set to 0.0 due to no predicted samples.\n",
      "  'precision', 'predicted', average, warn_for)\n"
     ]
    },
    {
     "name": "stdout",
     "output_type": "stream",
     "text": [
      "[CV]  criterion=gini, max_depth=5, max_features=log2, min_samples_split=200, n_estimators=50, total=  30.5s\n",
      "[CV] criterion=gini, max_depth=5, max_features=log2, min_samples_split=200, n_estimators=100 \n"
     ]
    },
    {
     "name": "stderr",
     "output_type": "stream",
     "text": [
      "C:\\Users\\Steve\\Anaconda3\\lib\\site-packages\\sklearn\\metrics\\classification.py:1113: UndefinedMetricWarning: F-score is ill-defined and being set to 0.0 due to no predicted samples.\n",
      "  'precision', 'predicted', average, warn_for)\n"
     ]
    },
    {
     "name": "stdout",
     "output_type": "stream",
     "text": [
      "[CV]  criterion=gini, max_depth=5, max_features=log2, min_samples_split=200, n_estimators=100, total=  56.6s\n",
      "[CV] criterion=gini, max_depth=5, max_features=log2, min_samples_split=200, n_estimators=100 \n"
     ]
    },
    {
     "name": "stderr",
     "output_type": "stream",
     "text": [
      "C:\\Users\\Steve\\Anaconda3\\lib\\site-packages\\sklearn\\metrics\\classification.py:1113: UndefinedMetricWarning: F-score is ill-defined and being set to 0.0 due to no predicted samples.\n",
      "  'precision', 'predicted', average, warn_for)\n"
     ]
    },
    {
     "name": "stdout",
     "output_type": "stream",
     "text": [
      "[CV]  criterion=gini, max_depth=5, max_features=log2, min_samples_split=200, n_estimators=100, total=  57.0s\n",
      "[CV] criterion=gini, max_depth=5, max_features=log2, min_samples_split=200, n_estimators=100 \n"
     ]
    },
    {
     "name": "stderr",
     "output_type": "stream",
     "text": [
      "C:\\Users\\Steve\\Anaconda3\\lib\\site-packages\\sklearn\\metrics\\classification.py:1113: UndefinedMetricWarning: F-score is ill-defined and being set to 0.0 due to no predicted samples.\n",
      "  'precision', 'predicted', average, warn_for)\n"
     ]
    },
    {
     "name": "stdout",
     "output_type": "stream",
     "text": [
      "[CV]  criterion=gini, max_depth=5, max_features=log2, min_samples_split=200, n_estimators=100, total=  53.3s\n",
      "[CV] criterion=gini, max_depth=5, max_features=log2, min_samples_split=200, n_estimators=150 \n"
     ]
    },
    {
     "name": "stderr",
     "output_type": "stream",
     "text": [
      "C:\\Users\\Steve\\Anaconda3\\lib\\site-packages\\sklearn\\metrics\\classification.py:1113: UndefinedMetricWarning: F-score is ill-defined and being set to 0.0 due to no predicted samples.\n",
      "  'precision', 'predicted', average, warn_for)\n"
     ]
    },
    {
     "name": "stdout",
     "output_type": "stream",
     "text": [
      "[CV]  criterion=gini, max_depth=5, max_features=log2, min_samples_split=200, n_estimators=150, total= 1.3min\n",
      "[CV] criterion=gini, max_depth=5, max_features=log2, min_samples_split=200, n_estimators=150 \n"
     ]
    },
    {
     "name": "stderr",
     "output_type": "stream",
     "text": [
      "C:\\Users\\Steve\\Anaconda3\\lib\\site-packages\\sklearn\\metrics\\classification.py:1113: UndefinedMetricWarning: F-score is ill-defined and being set to 0.0 due to no predicted samples.\n",
      "  'precision', 'predicted', average, warn_for)\n"
     ]
    },
    {
     "name": "stdout",
     "output_type": "stream",
     "text": [
      "[CV]  criterion=gini, max_depth=5, max_features=log2, min_samples_split=200, n_estimators=150, total= 1.3min\n",
      "[CV] criterion=gini, max_depth=5, max_features=log2, min_samples_split=200, n_estimators=150 \n"
     ]
    },
    {
     "name": "stderr",
     "output_type": "stream",
     "text": [
      "C:\\Users\\Steve\\Anaconda3\\lib\\site-packages\\sklearn\\metrics\\classification.py:1113: UndefinedMetricWarning: F-score is ill-defined and being set to 0.0 due to no predicted samples.\n",
      "  'precision', 'predicted', average, warn_for)\n"
     ]
    },
    {
     "name": "stdout",
     "output_type": "stream",
     "text": [
      "[CV]  criterion=gini, max_depth=5, max_features=log2, min_samples_split=200, n_estimators=150, total= 1.3min\n",
      "[CV] criterion=gini, max_depth=5, max_features=log2, min_samples_split=300, n_estimators=50 \n"
     ]
    },
    {
     "name": "stderr",
     "output_type": "stream",
     "text": [
      "C:\\Users\\Steve\\Anaconda3\\lib\\site-packages\\sklearn\\metrics\\classification.py:1113: UndefinedMetricWarning: F-score is ill-defined and being set to 0.0 due to no predicted samples.\n",
      "  'precision', 'predicted', average, warn_for)\n"
     ]
    },
    {
     "name": "stdout",
     "output_type": "stream",
     "text": [
      "[CV]  criterion=gini, max_depth=5, max_features=log2, min_samples_split=300, n_estimators=50, total=  32.3s\n",
      "[CV] criterion=gini, max_depth=5, max_features=log2, min_samples_split=300, n_estimators=50 \n"
     ]
    },
    {
     "name": "stderr",
     "output_type": "stream",
     "text": [
      "C:\\Users\\Steve\\Anaconda3\\lib\\site-packages\\sklearn\\metrics\\classification.py:1113: UndefinedMetricWarning: F-score is ill-defined and being set to 0.0 due to no predicted samples.\n",
      "  'precision', 'predicted', average, warn_for)\n"
     ]
    },
    {
     "name": "stdout",
     "output_type": "stream",
     "text": [
      "[CV]  criterion=gini, max_depth=5, max_features=log2, min_samples_split=300, n_estimators=50, total=  32.2s\n",
      "[CV] criterion=gini, max_depth=5, max_features=log2, min_samples_split=300, n_estimators=50 \n"
     ]
    },
    {
     "name": "stderr",
     "output_type": "stream",
     "text": [
      "C:\\Users\\Steve\\Anaconda3\\lib\\site-packages\\sklearn\\metrics\\classification.py:1113: UndefinedMetricWarning: F-score is ill-defined and being set to 0.0 due to no predicted samples.\n",
      "  'precision', 'predicted', average, warn_for)\n"
     ]
    },
    {
     "name": "stdout",
     "output_type": "stream",
     "text": [
      "[CV]  criterion=gini, max_depth=5, max_features=log2, min_samples_split=300, n_estimators=50, total=  30.5s\n",
      "[CV] criterion=gini, max_depth=5, max_features=log2, min_samples_split=300, n_estimators=100 \n"
     ]
    },
    {
     "name": "stderr",
     "output_type": "stream",
     "text": [
      "C:\\Users\\Steve\\Anaconda3\\lib\\site-packages\\sklearn\\metrics\\classification.py:1113: UndefinedMetricWarning: F-score is ill-defined and being set to 0.0 due to no predicted samples.\n",
      "  'precision', 'predicted', average, warn_for)\n"
     ]
    },
    {
     "name": "stdout",
     "output_type": "stream",
     "text": [
      "[CV]  criterion=gini, max_depth=5, max_features=log2, min_samples_split=300, n_estimators=100, total=  56.5s\n",
      "[CV] criterion=gini, max_depth=5, max_features=log2, min_samples_split=300, n_estimators=100 \n"
     ]
    },
    {
     "name": "stderr",
     "output_type": "stream",
     "text": [
      "C:\\Users\\Steve\\Anaconda3\\lib\\site-packages\\sklearn\\metrics\\classification.py:1113: UndefinedMetricWarning: F-score is ill-defined and being set to 0.0 due to no predicted samples.\n",
      "  'precision', 'predicted', average, warn_for)\n"
     ]
    },
    {
     "name": "stdout",
     "output_type": "stream",
     "text": [
      "[CV]  criterion=gini, max_depth=5, max_features=log2, min_samples_split=300, n_estimators=100, total=  56.7s\n",
      "[CV] criterion=gini, max_depth=5, max_features=log2, min_samples_split=300, n_estimators=100 \n"
     ]
    },
    {
     "name": "stderr",
     "output_type": "stream",
     "text": [
      "C:\\Users\\Steve\\Anaconda3\\lib\\site-packages\\sklearn\\metrics\\classification.py:1113: UndefinedMetricWarning: F-score is ill-defined and being set to 0.0 due to no predicted samples.\n",
      "  'precision', 'predicted', average, warn_for)\n"
     ]
    },
    {
     "name": "stdout",
     "output_type": "stream",
     "text": [
      "[CV]  criterion=gini, max_depth=5, max_features=log2, min_samples_split=300, n_estimators=100, total=  53.4s\n",
      "[CV] criterion=gini, max_depth=5, max_features=log2, min_samples_split=300, n_estimators=150 \n"
     ]
    },
    {
     "name": "stderr",
     "output_type": "stream",
     "text": [
      "C:\\Users\\Steve\\Anaconda3\\lib\\site-packages\\sklearn\\metrics\\classification.py:1113: UndefinedMetricWarning: F-score is ill-defined and being set to 0.0 due to no predicted samples.\n",
      "  'precision', 'predicted', average, warn_for)\n"
     ]
    },
    {
     "name": "stdout",
     "output_type": "stream",
     "text": [
      "[CV]  criterion=gini, max_depth=5, max_features=log2, min_samples_split=300, n_estimators=150, total= 1.3min\n",
      "[CV] criterion=gini, max_depth=5, max_features=log2, min_samples_split=300, n_estimators=150 \n"
     ]
    },
    {
     "name": "stderr",
     "output_type": "stream",
     "text": [
      "C:\\Users\\Steve\\Anaconda3\\lib\\site-packages\\sklearn\\metrics\\classification.py:1113: UndefinedMetricWarning: F-score is ill-defined and being set to 0.0 due to no predicted samples.\n",
      "  'precision', 'predicted', average, warn_for)\n"
     ]
    },
    {
     "name": "stdout",
     "output_type": "stream",
     "text": [
      "[CV]  criterion=gini, max_depth=5, max_features=log2, min_samples_split=300, n_estimators=150, total= 1.4min\n",
      "[CV] criterion=gini, max_depth=5, max_features=log2, min_samples_split=300, n_estimators=150 \n"
     ]
    },
    {
     "name": "stderr",
     "output_type": "stream",
     "text": [
      "C:\\Users\\Steve\\Anaconda3\\lib\\site-packages\\sklearn\\metrics\\classification.py:1113: UndefinedMetricWarning: F-score is ill-defined and being set to 0.0 due to no predicted samples.\n",
      "  'precision', 'predicted', average, warn_for)\n"
     ]
    },
    {
     "name": "stdout",
     "output_type": "stream",
     "text": [
      "[CV]  criterion=gini, max_depth=5, max_features=log2, min_samples_split=300, n_estimators=150, total= 1.3min\n",
      "[CV] criterion=gini, max_depth=5, max_features=0.5, min_samples_split=100, n_estimators=50 \n",
      "[CV]  criterion=gini, max_depth=5, max_features=0.5, min_samples_split=100, n_estimators=50, total= 2.4min\n",
      "[CV] criterion=gini, max_depth=5, max_features=0.5, min_samples_split=100, n_estimators=50 \n",
      "[CV]  criterion=gini, max_depth=5, max_features=0.5, min_samples_split=100, n_estimators=50, total= 2.4min\n",
      "[CV] criterion=gini, max_depth=5, max_features=0.5, min_samples_split=100, n_estimators=50 \n",
      "[CV]  criterion=gini, max_depth=5, max_features=0.5, min_samples_split=100, n_estimators=50, total= 2.3min\n",
      "[CV] criterion=gini, max_depth=5, max_features=0.5, min_samples_split=100, n_estimators=100 \n",
      "[CV]  criterion=gini, max_depth=5, max_features=0.5, min_samples_split=100, n_estimators=100, total= 4.5min\n",
      "[CV] criterion=gini, max_depth=5, max_features=0.5, min_samples_split=100, n_estimators=100 \n",
      "[CV]  criterion=gini, max_depth=5, max_features=0.5, min_samples_split=100, n_estimators=100, total= 4.5min\n",
      "[CV] criterion=gini, max_depth=5, max_features=0.5, min_samples_split=100, n_estimators=100 \n",
      "[CV]  criterion=gini, max_depth=5, max_features=0.5, min_samples_split=100, n_estimators=100, total= 4.4min\n",
      "[CV] criterion=gini, max_depth=5, max_features=0.5, min_samples_split=100, n_estimators=150 \n",
      "[CV]  criterion=gini, max_depth=5, max_features=0.5, min_samples_split=100, n_estimators=150, total= 6.6min\n",
      "[CV] criterion=gini, max_depth=5, max_features=0.5, min_samples_split=100, n_estimators=150 \n",
      "[CV]  criterion=gini, max_depth=5, max_features=0.5, min_samples_split=100, n_estimators=150, total= 6.6min\n",
      "[CV] criterion=gini, max_depth=5, max_features=0.5, min_samples_split=100, n_estimators=150 \n",
      "[CV]  criterion=gini, max_depth=5, max_features=0.5, min_samples_split=100, n_estimators=150, total= 6.5min\n",
      "[CV] criterion=gini, max_depth=5, max_features=0.5, min_samples_split=200, n_estimators=50 \n",
      "[CV]  criterion=gini, max_depth=5, max_features=0.5, min_samples_split=200, n_estimators=50, total= 2.4min\n",
      "[CV] criterion=gini, max_depth=5, max_features=0.5, min_samples_split=200, n_estimators=50 \n",
      "[CV]  criterion=gini, max_depth=5, max_features=0.5, min_samples_split=200, n_estimators=50, total= 2.4min\n",
      "[CV] criterion=gini, max_depth=5, max_features=0.5, min_samples_split=200, n_estimators=50 \n",
      "[CV]  criterion=gini, max_depth=5, max_features=0.5, min_samples_split=200, n_estimators=50, total= 2.3min\n",
      "[CV] criterion=gini, max_depth=5, max_features=0.5, min_samples_split=200, n_estimators=100 \n",
      "[CV]  criterion=gini, max_depth=5, max_features=0.5, min_samples_split=200, n_estimators=100, total= 4.5min\n",
      "[CV] criterion=gini, max_depth=5, max_features=0.5, min_samples_split=200, n_estimators=100 \n",
      "[CV]  criterion=gini, max_depth=5, max_features=0.5, min_samples_split=200, n_estimators=100, total= 4.5min\n",
      "[CV] criterion=gini, max_depth=5, max_features=0.5, min_samples_split=200, n_estimators=100 \n",
      "[CV]  criterion=gini, max_depth=5, max_features=0.5, min_samples_split=200, n_estimators=100, total= 4.4min\n",
      "[CV] criterion=gini, max_depth=5, max_features=0.5, min_samples_split=200, n_estimators=150 \n",
      "[CV]  criterion=gini, max_depth=5, max_features=0.5, min_samples_split=200, n_estimators=150, total= 6.6min\n",
      "[CV] criterion=gini, max_depth=5, max_features=0.5, min_samples_split=200, n_estimators=150 \n",
      "[CV]  criterion=gini, max_depth=5, max_features=0.5, min_samples_split=200, n_estimators=150, total= 6.6min\n",
      "[CV] criterion=gini, max_depth=5, max_features=0.5, min_samples_split=200, n_estimators=150 \n",
      "[CV]  criterion=gini, max_depth=5, max_features=0.5, min_samples_split=200, n_estimators=150, total= 6.5min\n",
      "[CV] criterion=gini, max_depth=5, max_features=0.5, min_samples_split=300, n_estimators=50 \n",
      "[CV]  criterion=gini, max_depth=5, max_features=0.5, min_samples_split=300, n_estimators=50, total= 2.4min\n",
      "[CV] criterion=gini, max_depth=5, max_features=0.5, min_samples_split=300, n_estimators=50 \n",
      "[CV]  criterion=gini, max_depth=5, max_features=0.5, min_samples_split=300, n_estimators=50, total= 2.4min\n",
      "[CV] criterion=gini, max_depth=5, max_features=0.5, min_samples_split=300, n_estimators=50 \n",
      "[CV]  criterion=gini, max_depth=5, max_features=0.5, min_samples_split=300, n_estimators=50, total= 2.3min\n",
      "[CV] criterion=gini, max_depth=5, max_features=0.5, min_samples_split=300, n_estimators=100 \n",
      "[CV]  criterion=gini, max_depth=5, max_features=0.5, min_samples_split=300, n_estimators=100, total= 4.5min\n",
      "[CV] criterion=gini, max_depth=5, max_features=0.5, min_samples_split=300, n_estimators=100 \n",
      "[CV]  criterion=gini, max_depth=5, max_features=0.5, min_samples_split=300, n_estimators=100, total= 4.5min\n",
      "[CV] criterion=gini, max_depth=5, max_features=0.5, min_samples_split=300, n_estimators=100 \n",
      "[CV]  criterion=gini, max_depth=5, max_features=0.5, min_samples_split=300, n_estimators=100, total= 4.4min\n",
      "[CV] criterion=gini, max_depth=5, max_features=0.5, min_samples_split=300, n_estimators=150 \n",
      "[CV]  criterion=gini, max_depth=5, max_features=0.5, min_samples_split=300, n_estimators=150, total= 6.6min\n",
      "[CV] criterion=gini, max_depth=5, max_features=0.5, min_samples_split=300, n_estimators=150 \n",
      "[CV]  criterion=gini, max_depth=5, max_features=0.5, min_samples_split=300, n_estimators=150, total= 6.6min\n",
      "[CV] criterion=gini, max_depth=5, max_features=0.5, min_samples_split=300, n_estimators=150 \n",
      "[CV]  criterion=gini, max_depth=5, max_features=0.5, min_samples_split=300, n_estimators=150, total= 6.5min\n",
      "[CV] criterion=gini, max_depth=10, max_features=auto, min_samples_split=100, n_estimators=50 \n",
      "[CV]  criterion=gini, max_depth=10, max_features=auto, min_samples_split=100, n_estimators=50, total= 1.1min\n",
      "[CV] criterion=gini, max_depth=10, max_features=auto, min_samples_split=100, n_estimators=50 \n",
      "[CV]  criterion=gini, max_depth=10, max_features=auto, min_samples_split=100, n_estimators=50, total= 1.1min\n",
      "[CV] criterion=gini, max_depth=10, max_features=auto, min_samples_split=100, n_estimators=50 \n",
      "[CV]  criterion=gini, max_depth=10, max_features=auto, min_samples_split=100, n_estimators=50, total= 1.1min\n",
      "[CV] criterion=gini, max_depth=10, max_features=auto, min_samples_split=100, n_estimators=100 \n",
      "[CV]  criterion=gini, max_depth=10, max_features=auto, min_samples_split=100, n_estimators=100, total= 2.0min\n",
      "[CV] criterion=gini, max_depth=10, max_features=auto, min_samples_split=100, n_estimators=100 \n",
      "[CV]  criterion=gini, max_depth=10, max_features=auto, min_samples_split=100, n_estimators=100, total= 2.0min\n",
      "[CV] criterion=gini, max_depth=10, max_features=auto, min_samples_split=100, n_estimators=100 \n",
      "[CV]  criterion=gini, max_depth=10, max_features=auto, min_samples_split=100, n_estimators=100, total= 1.9min\n",
      "[CV] criterion=gini, max_depth=10, max_features=auto, min_samples_split=100, n_estimators=150 \n",
      "[CV]  criterion=gini, max_depth=10, max_features=auto, min_samples_split=100, n_estimators=150, total= 2.9min\n",
      "[CV] criterion=gini, max_depth=10, max_features=auto, min_samples_split=100, n_estimators=150 \n",
      "[CV]  criterion=gini, max_depth=10, max_features=auto, min_samples_split=100, n_estimators=150, total= 2.9min\n",
      "[CV] criterion=gini, max_depth=10, max_features=auto, min_samples_split=100, n_estimators=150 \n",
      "[CV]  criterion=gini, max_depth=10, max_features=auto, min_samples_split=100, n_estimators=150, total= 2.8min\n",
      "[CV] criterion=gini, max_depth=10, max_features=auto, min_samples_split=200, n_estimators=50 \n",
      "[CV]  criterion=gini, max_depth=10, max_features=auto, min_samples_split=200, n_estimators=50, total= 1.1min\n",
      "[CV] criterion=gini, max_depth=10, max_features=auto, min_samples_split=200, n_estimators=50 \n",
      "[CV]  criterion=gini, max_depth=10, max_features=auto, min_samples_split=200, n_estimators=50, total= 1.1min\n",
      "[CV] criterion=gini, max_depth=10, max_features=auto, min_samples_split=200, n_estimators=50 \n",
      "[CV]  criterion=gini, max_depth=10, max_features=auto, min_samples_split=200, n_estimators=50, total= 1.0min\n",
      "[CV] criterion=gini, max_depth=10, max_features=auto, min_samples_split=200, n_estimators=100 \n",
      "[CV]  criterion=gini, max_depth=10, max_features=auto, min_samples_split=200, n_estimators=100, total= 2.0min\n",
      "[CV] criterion=gini, max_depth=10, max_features=auto, min_samples_split=200, n_estimators=100 \n",
      "[CV]  criterion=gini, max_depth=10, max_features=auto, min_samples_split=200, n_estimators=100, total= 2.0min\n",
      "[CV] criterion=gini, max_depth=10, max_features=auto, min_samples_split=200, n_estimators=100 \n",
      "[CV]  criterion=gini, max_depth=10, max_features=auto, min_samples_split=200, n_estimators=100, total= 1.9min\n",
      "[CV] criterion=gini, max_depth=10, max_features=auto, min_samples_split=200, n_estimators=150 \n",
      "[CV]  criterion=gini, max_depth=10, max_features=auto, min_samples_split=200, n_estimators=150, total= 2.9min\n",
      "[CV] criterion=gini, max_depth=10, max_features=auto, min_samples_split=200, n_estimators=150 \n",
      "[CV]  criterion=gini, max_depth=10, max_features=auto, min_samples_split=200, n_estimators=150, total= 2.9min\n",
      "[CV] criterion=gini, max_depth=10, max_features=auto, min_samples_split=200, n_estimators=150 \n",
      "[CV]  criterion=gini, max_depth=10, max_features=auto, min_samples_split=200, n_estimators=150, total= 2.8min\n",
      "[CV] criterion=gini, max_depth=10, max_features=auto, min_samples_split=300, n_estimators=50 \n",
      "[CV]  criterion=gini, max_depth=10, max_features=auto, min_samples_split=300, n_estimators=50, total= 1.1min\n",
      "[CV] criterion=gini, max_depth=10, max_features=auto, min_samples_split=300, n_estimators=50 \n",
      "[CV]  criterion=gini, max_depth=10, max_features=auto, min_samples_split=300, n_estimators=50, total= 1.1min\n",
      "[CV] criterion=gini, max_depth=10, max_features=auto, min_samples_split=300, n_estimators=50 \n",
      "[CV]  criterion=gini, max_depth=10, max_features=auto, min_samples_split=300, n_estimators=50, total= 1.0min\n",
      "[CV] criterion=gini, max_depth=10, max_features=auto, min_samples_split=300, n_estimators=100 \n",
      "[CV]  criterion=gini, max_depth=10, max_features=auto, min_samples_split=300, n_estimators=100, total= 2.0min\n",
      "[CV] criterion=gini, max_depth=10, max_features=auto, min_samples_split=300, n_estimators=100 \n",
      "[CV]  criterion=gini, max_depth=10, max_features=auto, min_samples_split=300, n_estimators=100, total= 2.0min\n",
      "[CV] criterion=gini, max_depth=10, max_features=auto, min_samples_split=300, n_estimators=100 \n",
      "[CV]  criterion=gini, max_depth=10, max_features=auto, min_samples_split=300, n_estimators=100, total= 1.9min\n",
      "[CV] criterion=gini, max_depth=10, max_features=auto, min_samples_split=300, n_estimators=150 \n",
      "[CV]  criterion=gini, max_depth=10, max_features=auto, min_samples_split=300, n_estimators=150, total= 2.9min\n",
      "[CV] criterion=gini, max_depth=10, max_features=auto, min_samples_split=300, n_estimators=150 \n",
      "[CV]  criterion=gini, max_depth=10, max_features=auto, min_samples_split=300, n_estimators=150, total= 2.9min\n",
      "[CV] criterion=gini, max_depth=10, max_features=auto, min_samples_split=300, n_estimators=150 \n",
      "[CV]  criterion=gini, max_depth=10, max_features=auto, min_samples_split=300, n_estimators=150, total= 2.8min\n",
      "[CV] criterion=gini, max_depth=10, max_features=log2, min_samples_split=100, n_estimators=50 \n",
      "[CV]  criterion=gini, max_depth=10, max_features=log2, min_samples_split=100, n_estimators=50, total=  47.4s\n",
      "[CV] criterion=gini, max_depth=10, max_features=log2, min_samples_split=100, n_estimators=50 \n",
      "[CV]  criterion=gini, max_depth=10, max_features=log2, min_samples_split=100, n_estimators=50, total=  47.2s\n",
      "[CV] criterion=gini, max_depth=10, max_features=log2, min_samples_split=100, n_estimators=50 \n",
      "[CV]  criterion=gini, max_depth=10, max_features=log2, min_samples_split=100, n_estimators=50, total=  46.0s\n",
      "[CV] criterion=gini, max_depth=10, max_features=log2, min_samples_split=100, n_estimators=100 \n",
      "[CV]  criterion=gini, max_depth=10, max_features=log2, min_samples_split=100, n_estimators=100, total= 1.4min\n",
      "[CV] criterion=gini, max_depth=10, max_features=log2, min_samples_split=100, n_estimators=100 \n",
      "[CV]  criterion=gini, max_depth=10, max_features=log2, min_samples_split=100, n_estimators=100, total= 1.4min\n",
      "[CV] criterion=gini, max_depth=10, max_features=log2, min_samples_split=100, n_estimators=100 \n",
      "[CV]  criterion=gini, max_depth=10, max_features=log2, min_samples_split=100, n_estimators=100, total= 1.4min\n",
      "[CV] criterion=gini, max_depth=10, max_features=log2, min_samples_split=100, n_estimators=150 \n",
      "[CV]  criterion=gini, max_depth=10, max_features=log2, min_samples_split=100, n_estimators=150, total= 2.1min\n",
      "[CV] criterion=gini, max_depth=10, max_features=log2, min_samples_split=100, n_estimators=150 \n",
      "[CV]  criterion=gini, max_depth=10, max_features=log2, min_samples_split=100, n_estimators=150, total= 2.1min\n",
      "[CV] criterion=gini, max_depth=10, max_features=log2, min_samples_split=100, n_estimators=150 \n",
      "[CV]  criterion=gini, max_depth=10, max_features=log2, min_samples_split=100, n_estimators=150, total= 2.0min\n",
      "[CV] criterion=gini, max_depth=10, max_features=log2, min_samples_split=200, n_estimators=50 \n",
      "[CV]  criterion=gini, max_depth=10, max_features=log2, min_samples_split=200, n_estimators=50, total=  47.0s\n",
      "[CV] criterion=gini, max_depth=10, max_features=log2, min_samples_split=200, n_estimators=50 \n",
      "[CV]  criterion=gini, max_depth=10, max_features=log2, min_samples_split=200, n_estimators=50, total=  47.1s\n",
      "[CV] criterion=gini, max_depth=10, max_features=log2, min_samples_split=200, n_estimators=50 \n",
      "[CV]  criterion=gini, max_depth=10, max_features=log2, min_samples_split=200, n_estimators=50, total=  45.5s\n",
      "[CV] criterion=gini, max_depth=10, max_features=log2, min_samples_split=200, n_estimators=100 \n",
      "[CV]  criterion=gini, max_depth=10, max_features=log2, min_samples_split=200, n_estimators=100, total= 1.4min\n",
      "[CV] criterion=gini, max_depth=10, max_features=log2, min_samples_split=200, n_estimators=100 \n",
      "[CV]  criterion=gini, max_depth=10, max_features=log2, min_samples_split=200, n_estimators=100, total= 1.4min\n",
      "[CV] criterion=gini, max_depth=10, max_features=log2, min_samples_split=200, n_estimators=100 \n",
      "[CV]  criterion=gini, max_depth=10, max_features=log2, min_samples_split=200, n_estimators=100, total= 1.4min\n",
      "[CV] criterion=gini, max_depth=10, max_features=log2, min_samples_split=200, n_estimators=150 \n",
      "[CV]  criterion=gini, max_depth=10, max_features=log2, min_samples_split=200, n_estimators=150, total= 2.1min\n",
      "[CV] criterion=gini, max_depth=10, max_features=log2, min_samples_split=200, n_estimators=150 \n",
      "[CV]  criterion=gini, max_depth=10, max_features=log2, min_samples_split=200, n_estimators=150, total= 2.1min\n",
      "[CV] criterion=gini, max_depth=10, max_features=log2, min_samples_split=200, n_estimators=150 \n",
      "[CV]  criterion=gini, max_depth=10, max_features=log2, min_samples_split=200, n_estimators=150, total= 2.0min\n",
      "[CV] criterion=gini, max_depth=10, max_features=log2, min_samples_split=300, n_estimators=50 \n",
      "[CV]  criterion=gini, max_depth=10, max_features=log2, min_samples_split=300, n_estimators=50, total=  46.7s\n",
      "[CV] criterion=gini, max_depth=10, max_features=log2, min_samples_split=300, n_estimators=50 \n",
      "[CV]  criterion=gini, max_depth=10, max_features=log2, min_samples_split=300, n_estimators=50, total=  47.0s\n",
      "[CV] criterion=gini, max_depth=10, max_features=log2, min_samples_split=300, n_estimators=50 \n",
      "[CV]  criterion=gini, max_depth=10, max_features=log2, min_samples_split=300, n_estimators=50, total=  45.3s\n",
      "[CV] criterion=gini, max_depth=10, max_features=log2, min_samples_split=300, n_estimators=100 \n",
      "[CV]  criterion=gini, max_depth=10, max_features=log2, min_samples_split=300, n_estimators=100, total= 1.4min\n",
      "[CV] criterion=gini, max_depth=10, max_features=log2, min_samples_split=300, n_estimators=100 \n",
      "[CV]  criterion=gini, max_depth=10, max_features=log2, min_samples_split=300, n_estimators=100, total= 1.4min\n",
      "[CV] criterion=gini, max_depth=10, max_features=log2, min_samples_split=300, n_estimators=100 \n",
      "[CV]  criterion=gini, max_depth=10, max_features=log2, min_samples_split=300, n_estimators=100, total= 1.4min\n",
      "[CV] criterion=gini, max_depth=10, max_features=log2, min_samples_split=300, n_estimators=150 \n",
      "[CV]  criterion=gini, max_depth=10, max_features=log2, min_samples_split=300, n_estimators=150, total= 2.1min\n",
      "[CV] criterion=gini, max_depth=10, max_features=log2, min_samples_split=300, n_estimators=150 \n",
      "[CV]  criterion=gini, max_depth=10, max_features=log2, min_samples_split=300, n_estimators=150, total= 2.1min\n",
      "[CV] criterion=gini, max_depth=10, max_features=log2, min_samples_split=300, n_estimators=150 \n",
      "[CV]  criterion=gini, max_depth=10, max_features=log2, min_samples_split=300, n_estimators=150, total= 2.0min\n",
      "[CV] criterion=gini, max_depth=10, max_features=0.5, min_samples_split=100, n_estimators=50 \n",
      "[CV]  criterion=gini, max_depth=10, max_features=0.5, min_samples_split=100, n_estimators=50, total= 4.3min\n",
      "[CV] criterion=gini, max_depth=10, max_features=0.5, min_samples_split=100, n_estimators=50 \n",
      "[CV]  criterion=gini, max_depth=10, max_features=0.5, min_samples_split=100, n_estimators=50, total= 4.2min\n",
      "[CV] criterion=gini, max_depth=10, max_features=0.5, min_samples_split=100, n_estimators=50 \n",
      "[CV]  criterion=gini, max_depth=10, max_features=0.5, min_samples_split=100, n_estimators=50, total= 4.2min\n",
      "[CV] criterion=gini, max_depth=10, max_features=0.5, min_samples_split=100, n_estimators=100 \n",
      "[CV]  criterion=gini, max_depth=10, max_features=0.5, min_samples_split=100, n_estimators=100, total= 8.1min\n",
      "[CV] criterion=gini, max_depth=10, max_features=0.5, min_samples_split=100, n_estimators=100 \n",
      "[CV]  criterion=gini, max_depth=10, max_features=0.5, min_samples_split=100, n_estimators=100, total= 8.1min\n",
      "[CV] criterion=gini, max_depth=10, max_features=0.5, min_samples_split=100, n_estimators=100 \n",
      "[CV]  criterion=gini, max_depth=10, max_features=0.5, min_samples_split=100, n_estimators=100, total= 8.1min\n",
      "[CV] criterion=gini, max_depth=10, max_features=0.5, min_samples_split=100, n_estimators=150 \n",
      "[CV]  criterion=gini, max_depth=10, max_features=0.5, min_samples_split=100, n_estimators=150, total=12.5min\n",
      "[CV] criterion=gini, max_depth=10, max_features=0.5, min_samples_split=100, n_estimators=150 \n",
      "[CV]  criterion=gini, max_depth=10, max_features=0.5, min_samples_split=100, n_estimators=150, total=12.7min\n",
      "[CV] criterion=gini, max_depth=10, max_features=0.5, min_samples_split=100, n_estimators=150 \n",
      "[CV]  criterion=gini, max_depth=10, max_features=0.5, min_samples_split=100, n_estimators=150, total=12.7min\n",
      "[CV] criterion=gini, max_depth=10, max_features=0.5, min_samples_split=200, n_estimators=50 \n",
      "[CV]  criterion=gini, max_depth=10, max_features=0.5, min_samples_split=200, n_estimators=50, total= 4.5min\n",
      "[CV] criterion=gini, max_depth=10, max_features=0.5, min_samples_split=200, n_estimators=50 \n",
      "[CV]  criterion=gini, max_depth=10, max_features=0.5, min_samples_split=200, n_estimators=50, total= 4.5min\n",
      "[CV] criterion=gini, max_depth=10, max_features=0.5, min_samples_split=200, n_estimators=50 \n",
      "[CV]  criterion=gini, max_depth=10, max_features=0.5, min_samples_split=200, n_estimators=50, total= 4.5min\n",
      "[CV] criterion=gini, max_depth=10, max_features=0.5, min_samples_split=200, n_estimators=100 \n",
      "[CV]  criterion=gini, max_depth=10, max_features=0.5, min_samples_split=200, n_estimators=100, total= 8.7min\n",
      "[CV] criterion=gini, max_depth=10, max_features=0.5, min_samples_split=200, n_estimators=100 \n",
      "[CV]  criterion=gini, max_depth=10, max_features=0.5, min_samples_split=200, n_estimators=100, total= 8.7min\n",
      "[CV] criterion=gini, max_depth=10, max_features=0.5, min_samples_split=200, n_estimators=100 \n",
      "[CV]  criterion=gini, max_depth=10, max_features=0.5, min_samples_split=200, n_estimators=100, total= 8.8min\n",
      "[CV] criterion=gini, max_depth=10, max_features=0.5, min_samples_split=200, n_estimators=150 \n",
      "[CV]  criterion=gini, max_depth=10, max_features=0.5, min_samples_split=200, n_estimators=150, total=12.8min\n",
      "[CV] criterion=gini, max_depth=10, max_features=0.5, min_samples_split=200, n_estimators=150 \n",
      "[CV]  criterion=gini, max_depth=10, max_features=0.5, min_samples_split=200, n_estimators=150, total=12.9min\n",
      "[CV] criterion=gini, max_depth=10, max_features=0.5, min_samples_split=200, n_estimators=150 \n",
      "[CV]  criterion=gini, max_depth=10, max_features=0.5, min_samples_split=200, n_estimators=150, total=13.4min\n",
      "[CV] criterion=gini, max_depth=10, max_features=0.5, min_samples_split=300, n_estimators=50 \n",
      "[CV]  criterion=gini, max_depth=10, max_features=0.5, min_samples_split=300, n_estimators=50, total= 4.8min\n",
      "[CV] criterion=gini, max_depth=10, max_features=0.5, min_samples_split=300, n_estimators=50 \n",
      "[CV]  criterion=gini, max_depth=10, max_features=0.5, min_samples_split=300, n_estimators=50, total= 4.6min\n",
      "[CV] criterion=gini, max_depth=10, max_features=0.5, min_samples_split=300, n_estimators=50 \n",
      "[CV]  criterion=gini, max_depth=10, max_features=0.5, min_samples_split=300, n_estimators=50, total= 4.5min\n",
      "[CV] criterion=gini, max_depth=10, max_features=0.5, min_samples_split=300, n_estimators=100 \n",
      "[CV]  criterion=gini, max_depth=10, max_features=0.5, min_samples_split=300, n_estimators=100, total= 8.7min\n",
      "[CV] criterion=gini, max_depth=10, max_features=0.5, min_samples_split=300, n_estimators=100 \n",
      "[CV]  criterion=gini, max_depth=10, max_features=0.5, min_samples_split=300, n_estimators=100, total= 8.8min\n",
      "[CV] criterion=gini, max_depth=10, max_features=0.5, min_samples_split=300, n_estimators=100 \n",
      "[CV]  criterion=gini, max_depth=10, max_features=0.5, min_samples_split=300, n_estimators=100, total= 8.7min\n",
      "[CV] criterion=gini, max_depth=10, max_features=0.5, min_samples_split=300, n_estimators=150 \n",
      "[CV]  criterion=gini, max_depth=10, max_features=0.5, min_samples_split=300, n_estimators=150, total=12.8min\n",
      "[CV] criterion=gini, max_depth=10, max_features=0.5, min_samples_split=300, n_estimators=150 \n",
      "[CV]  criterion=gini, max_depth=10, max_features=0.5, min_samples_split=300, n_estimators=150, total=12.8min\n",
      "[CV] criterion=gini, max_depth=10, max_features=0.5, min_samples_split=300, n_estimators=150 \n",
      "[CV]  criterion=gini, max_depth=10, max_features=0.5, min_samples_split=300, n_estimators=150, total=12.6min\n",
      "[CV] criterion=entropy, max_depth=None, max_features=auto, min_samples_split=100, n_estimators=50 \n",
      "[CV]  criterion=entropy, max_depth=None, max_features=auto, min_samples_split=100, n_estimators=50, total= 1.5min\n",
      "[CV] criterion=entropy, max_depth=None, max_features=auto, min_samples_split=100, n_estimators=50 \n",
      "[CV]  criterion=entropy, max_depth=None, max_features=auto, min_samples_split=100, n_estimators=50, total= 1.5min\n",
      "[CV] criterion=entropy, max_depth=None, max_features=auto, min_samples_split=100, n_estimators=50 \n",
      "[CV]  criterion=entropy, max_depth=None, max_features=auto, min_samples_split=100, n_estimators=50, total= 1.5min\n",
      "[CV] criterion=entropy, max_depth=None, max_features=auto, min_samples_split=100, n_estimators=100 \n",
      "[CV]  criterion=entropy, max_depth=None, max_features=auto, min_samples_split=100, n_estimators=100, total= 3.0min\n",
      "[CV] criterion=entropy, max_depth=None, max_features=auto, min_samples_split=100, n_estimators=100 \n",
      "[CV]  criterion=entropy, max_depth=None, max_features=auto, min_samples_split=100, n_estimators=100, total= 3.0min\n",
      "[CV] criterion=entropy, max_depth=None, max_features=auto, min_samples_split=100, n_estimators=100 \n",
      "[CV]  criterion=entropy, max_depth=None, max_features=auto, min_samples_split=100, n_estimators=100, total= 2.9min\n",
      "[CV] criterion=entropy, max_depth=None, max_features=auto, min_samples_split=100, n_estimators=150 \n",
      "[CV]  criterion=entropy, max_depth=None, max_features=auto, min_samples_split=100, n_estimators=150, total= 4.4min\n",
      "[CV] criterion=entropy, max_depth=None, max_features=auto, min_samples_split=100, n_estimators=150 \n",
      "[CV]  criterion=entropy, max_depth=None, max_features=auto, min_samples_split=100, n_estimators=150, total= 4.4min\n",
      "[CV] criterion=entropy, max_depth=None, max_features=auto, min_samples_split=100, n_estimators=150 \n",
      "[CV]  criterion=entropy, max_depth=None, max_features=auto, min_samples_split=100, n_estimators=150, total= 4.2min\n",
      "[CV] criterion=entropy, max_depth=None, max_features=auto, min_samples_split=200, n_estimators=50 \n",
      "[CV]  criterion=entropy, max_depth=None, max_features=auto, min_samples_split=200, n_estimators=50, total= 1.5min\n",
      "[CV] criterion=entropy, max_depth=None, max_features=auto, min_samples_split=200, n_estimators=50 \n",
      "[CV]  criterion=entropy, max_depth=None, max_features=auto, min_samples_split=200, n_estimators=50, total= 1.5min\n",
      "[CV] criterion=entropy, max_depth=None, max_features=auto, min_samples_split=200, n_estimators=50 \n",
      "[CV]  criterion=entropy, max_depth=None, max_features=auto, min_samples_split=200, n_estimators=50, total= 1.4min\n",
      "[CV] criterion=entropy, max_depth=None, max_features=auto, min_samples_split=200, n_estimators=100 \n",
      "[CV]  criterion=entropy, max_depth=None, max_features=auto, min_samples_split=200, n_estimators=100, total= 2.8min\n",
      "[CV] criterion=entropy, max_depth=None, max_features=auto, min_samples_split=200, n_estimators=100 \n",
      "[CV]  criterion=entropy, max_depth=None, max_features=auto, min_samples_split=200, n_estimators=100, total= 2.7min\n",
      "[CV] criterion=entropy, max_depth=None, max_features=auto, min_samples_split=200, n_estimators=100 \n",
      "[CV]  criterion=entropy, max_depth=None, max_features=auto, min_samples_split=200, n_estimators=100, total= 2.6min\n",
      "[CV] criterion=entropy, max_depth=None, max_features=auto, min_samples_split=200, n_estimators=150 \n",
      "[CV]  criterion=entropy, max_depth=None, max_features=auto, min_samples_split=200, n_estimators=150, total= 4.0min\n",
      "[CV] criterion=entropy, max_depth=None, max_features=auto, min_samples_split=200, n_estimators=150 \n",
      "[CV]  criterion=entropy, max_depth=None, max_features=auto, min_samples_split=200, n_estimators=150, total= 4.0min\n",
      "[CV] criterion=entropy, max_depth=None, max_features=auto, min_samples_split=200, n_estimators=150 \n",
      "[CV]  criterion=entropy, max_depth=None, max_features=auto, min_samples_split=200, n_estimators=150, total= 3.9min\n",
      "[CV] criterion=entropy, max_depth=None, max_features=auto, min_samples_split=300, n_estimators=50 \n",
      "[CV]  criterion=entropy, max_depth=None, max_features=auto, min_samples_split=300, n_estimators=50, total= 1.4min\n",
      "[CV] criterion=entropy, max_depth=None, max_features=auto, min_samples_split=300, n_estimators=50 \n",
      "[CV]  criterion=entropy, max_depth=None, max_features=auto, min_samples_split=300, n_estimators=50, total= 1.4min\n",
      "[CV] criterion=entropy, max_depth=None, max_features=auto, min_samples_split=300, n_estimators=50 \n",
      "[CV]  criterion=entropy, max_depth=None, max_features=auto, min_samples_split=300, n_estimators=50, total= 1.3min\n",
      "[CV] criterion=entropy, max_depth=None, max_features=auto, min_samples_split=300, n_estimators=100 \n",
      "[CV]  criterion=entropy, max_depth=None, max_features=auto, min_samples_split=300, n_estimators=100, total= 2.6min\n",
      "[CV] criterion=entropy, max_depth=None, max_features=auto, min_samples_split=300, n_estimators=100 \n",
      "[CV]  criterion=entropy, max_depth=None, max_features=auto, min_samples_split=300, n_estimators=100, total= 2.6min\n",
      "[CV] criterion=entropy, max_depth=None, max_features=auto, min_samples_split=300, n_estimators=100 \n",
      "[CV]  criterion=entropy, max_depth=None, max_features=auto, min_samples_split=300, n_estimators=100, total= 2.5min\n",
      "[CV] criterion=entropy, max_depth=None, max_features=auto, min_samples_split=300, n_estimators=150 \n",
      "[CV]  criterion=entropy, max_depth=None, max_features=auto, min_samples_split=300, n_estimators=150, total= 3.8min\n",
      "[CV] criterion=entropy, max_depth=None, max_features=auto, min_samples_split=300, n_estimators=150 \n",
      "[CV]  criterion=entropy, max_depth=None, max_features=auto, min_samples_split=300, n_estimators=150, total= 3.8min\n",
      "[CV] criterion=entropy, max_depth=None, max_features=auto, min_samples_split=300, n_estimators=150 \n",
      "[CV]  criterion=entropy, max_depth=None, max_features=auto, min_samples_split=300, n_estimators=150, total= 3.7min\n",
      "[CV] criterion=entropy, max_depth=None, max_features=log2, min_samples_split=100, n_estimators=50 \n",
      "[CV]  criterion=entropy, max_depth=None, max_features=log2, min_samples_split=100, n_estimators=50, total= 1.1min\n",
      "[CV] criterion=entropy, max_depth=None, max_features=log2, min_samples_split=100, n_estimators=50 \n",
      "[CV]  criterion=entropy, max_depth=None, max_features=log2, min_samples_split=100, n_estimators=50, total= 1.1min\n",
      "[CV] criterion=entropy, max_depth=None, max_features=log2, min_samples_split=100, n_estimators=50 \n",
      "[CV]  criterion=entropy, max_depth=None, max_features=log2, min_samples_split=100, n_estimators=50, total= 1.1min\n",
      "[CV] criterion=entropy, max_depth=None, max_features=log2, min_samples_split=100, n_estimators=100 \n",
      "[CV]  criterion=entropy, max_depth=None, max_features=log2, min_samples_split=100, n_estimators=100, total= 2.0min\n",
      "[CV] criterion=entropy, max_depth=None, max_features=log2, min_samples_split=100, n_estimators=100 \n",
      "[CV]  criterion=entropy, max_depth=None, max_features=log2, min_samples_split=100, n_estimators=100, total= 2.0min\n",
      "[CV] criterion=entropy, max_depth=None, max_features=log2, min_samples_split=100, n_estimators=100 \n",
      "[CV]  criterion=entropy, max_depth=None, max_features=log2, min_samples_split=100, n_estimators=100, total= 2.0min\n",
      "[CV] criterion=entropy, max_depth=None, max_features=log2, min_samples_split=100, n_estimators=150 \n",
      "[CV]  criterion=entropy, max_depth=None, max_features=log2, min_samples_split=100, n_estimators=150, total= 3.0min\n",
      "[CV] criterion=entropy, max_depth=None, max_features=log2, min_samples_split=100, n_estimators=150 \n",
      "[CV]  criterion=entropy, max_depth=None, max_features=log2, min_samples_split=100, n_estimators=150, total= 3.0min\n",
      "[CV] criterion=entropy, max_depth=None, max_features=log2, min_samples_split=100, n_estimators=150 \n",
      "[CV]  criterion=entropy, max_depth=None, max_features=log2, min_samples_split=100, n_estimators=150, total= 2.9min\n",
      "[CV] criterion=entropy, max_depth=None, max_features=log2, min_samples_split=200, n_estimators=50 \n",
      "[CV]  criterion=entropy, max_depth=None, max_features=log2, min_samples_split=200, n_estimators=50, total= 1.0min\n",
      "[CV] criterion=entropy, max_depth=None, max_features=log2, min_samples_split=200, n_estimators=50 \n",
      "[CV]  criterion=entropy, max_depth=None, max_features=log2, min_samples_split=200, n_estimators=50, total= 1.0min\n",
      "[CV] criterion=entropy, max_depth=None, max_features=log2, min_samples_split=200, n_estimators=50 \n",
      "[CV]  criterion=entropy, max_depth=None, max_features=log2, min_samples_split=200, n_estimators=50, total= 1.0min\n",
      "[CV] criterion=entropy, max_depth=None, max_features=log2, min_samples_split=200, n_estimators=100 \n",
      "[CV]  criterion=entropy, max_depth=None, max_features=log2, min_samples_split=200, n_estimators=100, total= 1.9min\n",
      "[CV] criterion=entropy, max_depth=None, max_features=log2, min_samples_split=200, n_estimators=100 \n",
      "[CV]  criterion=entropy, max_depth=None, max_features=log2, min_samples_split=200, n_estimators=100, total= 1.9min\n",
      "[CV] criterion=entropy, max_depth=None, max_features=log2, min_samples_split=200, n_estimators=100 \n",
      "[CV]  criterion=entropy, max_depth=None, max_features=log2, min_samples_split=200, n_estimators=100, total= 1.9min\n",
      "[CV] criterion=entropy, max_depth=None, max_features=log2, min_samples_split=200, n_estimators=150 \n",
      "[CV]  criterion=entropy, max_depth=None, max_features=log2, min_samples_split=200, n_estimators=150, total= 2.8min\n",
      "[CV] criterion=entropy, max_depth=None, max_features=log2, min_samples_split=200, n_estimators=150 \n",
      "[CV]  criterion=entropy, max_depth=None, max_features=log2, min_samples_split=200, n_estimators=150, total= 2.8min\n",
      "[CV] criterion=entropy, max_depth=None, max_features=log2, min_samples_split=200, n_estimators=150 \n",
      "[CV]  criterion=entropy, max_depth=None, max_features=log2, min_samples_split=200, n_estimators=150, total= 2.7min\n",
      "[CV] criterion=entropy, max_depth=None, max_features=log2, min_samples_split=300, n_estimators=50 \n",
      "[CV]  criterion=entropy, max_depth=None, max_features=log2, min_samples_split=300, n_estimators=50, total= 1.1min\n",
      "[CV] criterion=entropy, max_depth=None, max_features=log2, min_samples_split=300, n_estimators=50 \n",
      "[CV]  criterion=entropy, max_depth=None, max_features=log2, min_samples_split=300, n_estimators=50, total= 1.1min\n",
      "[CV] criterion=entropy, max_depth=None, max_features=log2, min_samples_split=300, n_estimators=50 \n",
      "[CV]  criterion=entropy, max_depth=None, max_features=log2, min_samples_split=300, n_estimators=50, total= 1.0min\n",
      "[CV] criterion=entropy, max_depth=None, max_features=log2, min_samples_split=300, n_estimators=100 \n",
      "[CV]  criterion=entropy, max_depth=None, max_features=log2, min_samples_split=300, n_estimators=100, total= 2.0min\n",
      "[CV] criterion=entropy, max_depth=None, max_features=log2, min_samples_split=300, n_estimators=100 \n",
      "[CV]  criterion=entropy, max_depth=None, max_features=log2, min_samples_split=300, n_estimators=100, total= 2.0min\n",
      "[CV] criterion=entropy, max_depth=None, max_features=log2, min_samples_split=300, n_estimators=100 \n",
      "[CV]  criterion=entropy, max_depth=None, max_features=log2, min_samples_split=300, n_estimators=100, total= 1.9min\n",
      "[CV] criterion=entropy, max_depth=None, max_features=log2, min_samples_split=300, n_estimators=150 \n",
      "[CV]  criterion=entropy, max_depth=None, max_features=log2, min_samples_split=300, n_estimators=150, total= 2.8min\n",
      "[CV] criterion=entropy, max_depth=None, max_features=log2, min_samples_split=300, n_estimators=150 \n",
      "[CV]  criterion=entropy, max_depth=None, max_features=log2, min_samples_split=300, n_estimators=150, total= 2.9min\n",
      "[CV] criterion=entropy, max_depth=None, max_features=log2, min_samples_split=300, n_estimators=150 \n",
      "[CV]  criterion=entropy, max_depth=None, max_features=log2, min_samples_split=300, n_estimators=150, total= 2.8min\n",
      "[CV] criterion=entropy, max_depth=None, max_features=0.5, min_samples_split=100, n_estimators=50 \n",
      "[CV]  criterion=entropy, max_depth=None, max_features=0.5, min_samples_split=100, n_estimators=50, total= 5.8min\n",
      "[CV] criterion=entropy, max_depth=None, max_features=0.5, min_samples_split=100, n_estimators=50 \n",
      "[CV]  criterion=entropy, max_depth=None, max_features=0.5, min_samples_split=100, n_estimators=50, total= 5.7min\n",
      "[CV] criterion=entropy, max_depth=None, max_features=0.5, min_samples_split=100, n_estimators=50 \n",
      "[CV]  criterion=entropy, max_depth=None, max_features=0.5, min_samples_split=100, n_estimators=50, total= 5.8min\n",
      "[CV] criterion=entropy, max_depth=None, max_features=0.5, min_samples_split=100, n_estimators=100 \n",
      "[CV]  criterion=entropy, max_depth=None, max_features=0.5, min_samples_split=100, n_estimators=100, total=11.1min\n",
      "[CV] criterion=entropy, max_depth=None, max_features=0.5, min_samples_split=100, n_estimators=100 \n",
      "[CV]  criterion=entropy, max_depth=None, max_features=0.5, min_samples_split=100, n_estimators=100, total=11.6min\n",
      "[CV] criterion=entropy, max_depth=None, max_features=0.5, min_samples_split=100, n_estimators=100 \n",
      "[CV]  criterion=entropy, max_depth=None, max_features=0.5, min_samples_split=100, n_estimators=100, total=11.8min\n",
      "[CV] criterion=entropy, max_depth=None, max_features=0.5, min_samples_split=100, n_estimators=150 \n",
      "[CV]  criterion=entropy, max_depth=None, max_features=0.5, min_samples_split=100, n_estimators=150, total=16.9min\n",
      "[CV] criterion=entropy, max_depth=None, max_features=0.5, min_samples_split=100, n_estimators=150 \n",
      "[CV]  criterion=entropy, max_depth=None, max_features=0.5, min_samples_split=100, n_estimators=150, total=16.1min\n",
      "[CV] criterion=entropy, max_depth=None, max_features=0.5, min_samples_split=100, n_estimators=150 \n",
      "[CV]  criterion=entropy, max_depth=None, max_features=0.5, min_samples_split=100, n_estimators=150, total=18.3min\n",
      "[CV] criterion=entropy, max_depth=None, max_features=0.5, min_samples_split=200, n_estimators=50 \n",
      "[CV]  criterion=entropy, max_depth=None, max_features=0.5, min_samples_split=200, n_estimators=50, total= 6.0min\n",
      "[CV] criterion=entropy, max_depth=None, max_features=0.5, min_samples_split=200, n_estimators=50 \n",
      "[CV]  criterion=entropy, max_depth=None, max_features=0.5, min_samples_split=200, n_estimators=50, total= 6.0min\n",
      "[CV] criterion=entropy, max_depth=None, max_features=0.5, min_samples_split=200, n_estimators=50 \n",
      "[CV]  criterion=entropy, max_depth=None, max_features=0.5, min_samples_split=200, n_estimators=50, total= 6.0min\n",
      "[CV] criterion=entropy, max_depth=None, max_features=0.5, min_samples_split=200, n_estimators=100 \n",
      "[CV]  criterion=entropy, max_depth=None, max_features=0.5, min_samples_split=200, n_estimators=100, total=12.2min\n",
      "[CV] criterion=entropy, max_depth=None, max_features=0.5, min_samples_split=200, n_estimators=100 \n"
     ]
    },
    {
     "ename": "KeyboardInterrupt",
     "evalue": "",
     "output_type": "error",
     "traceback": [
      "\u001b[0;31m---------------------------------------------------------------------------\u001b[0m",
      "\u001b[0;31mKeyboardInterrupt\u001b[0m                         Traceback (most recent call last)",
      "\u001b[0;32m<ipython-input-3-328f7984a241>\u001b[0m in \u001b[0;36m<module>\u001b[0;34m()\u001b[0m\n\u001b[1;32m      7\u001b[0m \u001b[0mrfc\u001b[0m \u001b[1;33m=\u001b[0m \u001b[0mRandomForestClassifier\u001b[0m\u001b[1;33m(\u001b[0m\u001b[0mn_jobs\u001b[0m\u001b[1;33m=\u001b[0m\u001b[1;33m-\u001b[0m\u001b[1;36m1\u001b[0m\u001b[1;33m,\u001b[0m \u001b[0moob_score\u001b[0m\u001b[1;33m=\u001b[0m\u001b[1;32mTrue\u001b[0m\u001b[1;33m)\u001b[0m\u001b[1;33m\u001b[0m\u001b[0m\n\u001b[1;32m      8\u001b[0m \u001b[0mcv_rfc\u001b[0m \u001b[1;33m=\u001b[0m \u001b[0mGridSearchCV\u001b[0m\u001b[1;33m(\u001b[0m\u001b[0mestimator\u001b[0m\u001b[1;33m=\u001b[0m\u001b[0mrfc\u001b[0m\u001b[1;33m,\u001b[0m \u001b[0mparam_grid\u001b[0m\u001b[1;33m=\u001b[0m\u001b[0mparam_grid\u001b[0m\u001b[1;33m,\u001b[0m \u001b[0mscoring\u001b[0m \u001b[1;33m=\u001b[0m \u001b[1;34m'f1'\u001b[0m\u001b[1;33m,\u001b[0m \u001b[0mverbose\u001b[0m \u001b[1;33m=\u001b[0m \u001b[1;36m2\u001b[0m\u001b[1;33m)\u001b[0m\u001b[1;33m\u001b[0m\u001b[0m\n\u001b[0;32m----> 9\u001b[0;31m \u001b[0mcv_rfc\u001b[0m\u001b[1;33m.\u001b[0m\u001b[0mfit\u001b[0m\u001b[1;33m(\u001b[0m\u001b[0mmodel_train\u001b[0m\u001b[1;33m[\u001b[0m\u001b[0mfeatures\u001b[0m\u001b[1;33m]\u001b[0m\u001b[1;33m,\u001b[0m \u001b[0mmodel_train\u001b[0m\u001b[1;33m[\u001b[0m\u001b[1;34m'broke_from_party'\u001b[0m\u001b[1;33m]\u001b[0m\u001b[1;33m)\u001b[0m\u001b[1;33m\u001b[0m\u001b[0m\n\u001b[0m\u001b[1;32m     10\u001b[0m \u001b[0mprint\u001b[0m\u001b[1;33m(\u001b[0m\u001b[0mcv_rfc\u001b[0m\u001b[1;33m.\u001b[0m\u001b[0mbest_params_\u001b[0m\u001b[1;33m)\u001b[0m\u001b[1;33m\u001b[0m\u001b[0m\n\u001b[1;32m     11\u001b[0m \u001b[0mrfc\u001b[0m \u001b[1;33m=\u001b[0m \u001b[0mRandomForestClassifier\u001b[0m\u001b[1;33m(\u001b[0m\u001b[0mn_jobs\u001b[0m\u001b[1;33m=\u001b[0m\u001b[1;36m2\u001b[0m\u001b[1;33m,\u001b[0m \u001b[0moob_score\u001b[0m\u001b[1;33m=\u001b[0m\u001b[1;32mTrue\u001b[0m\u001b[1;33m,\u001b[0m \u001b[1;33m**\u001b[0m\u001b[0mcv_rfc\u001b[0m\u001b[1;33m.\u001b[0m\u001b[0mbest_params_\u001b[0m\u001b[1;33m)\u001b[0m\u001b[1;33m\u001b[0m\u001b[0m\n",
      "\u001b[0;32mC:\\Users\\Steve\\Anaconda3\\lib\\site-packages\\sklearn\\model_selection\\_search.py\u001b[0m in \u001b[0;36mfit\u001b[0;34m(self, X, y, groups)\u001b[0m\n\u001b[1;32m    943\u001b[0m             \u001b[0mtrain\u001b[0m\u001b[1;33m/\u001b[0m\u001b[0mtest\u001b[0m \u001b[0mset\u001b[0m\u001b[1;33m.\u001b[0m\u001b[1;33m\u001b[0m\u001b[0m\n\u001b[1;32m    944\u001b[0m         \"\"\"\n\u001b[0;32m--> 945\u001b[0;31m         \u001b[1;32mreturn\u001b[0m \u001b[0mself\u001b[0m\u001b[1;33m.\u001b[0m\u001b[0m_fit\u001b[0m\u001b[1;33m(\u001b[0m\u001b[0mX\u001b[0m\u001b[1;33m,\u001b[0m \u001b[0my\u001b[0m\u001b[1;33m,\u001b[0m \u001b[0mgroups\u001b[0m\u001b[1;33m,\u001b[0m \u001b[0mParameterGrid\u001b[0m\u001b[1;33m(\u001b[0m\u001b[0mself\u001b[0m\u001b[1;33m.\u001b[0m\u001b[0mparam_grid\u001b[0m\u001b[1;33m)\u001b[0m\u001b[1;33m)\u001b[0m\u001b[1;33m\u001b[0m\u001b[0m\n\u001b[0m\u001b[1;32m    946\u001b[0m \u001b[1;33m\u001b[0m\u001b[0m\n\u001b[1;32m    947\u001b[0m \u001b[1;33m\u001b[0m\u001b[0m\n",
      "\u001b[0;32mC:\\Users\\Steve\\Anaconda3\\lib\\site-packages\\sklearn\\model_selection\\_search.py\u001b[0m in \u001b[0;36m_fit\u001b[0;34m(self, X, y, groups, parameter_iterable)\u001b[0m\n\u001b[1;32m    562\u001b[0m                                   \u001b[0mreturn_times\u001b[0m\u001b[1;33m=\u001b[0m\u001b[1;32mTrue\u001b[0m\u001b[1;33m,\u001b[0m \u001b[0mreturn_parameters\u001b[0m\u001b[1;33m=\u001b[0m\u001b[1;32mTrue\u001b[0m\u001b[1;33m,\u001b[0m\u001b[1;33m\u001b[0m\u001b[0m\n\u001b[1;32m    563\u001b[0m                                   error_score=self.error_score)\n\u001b[0;32m--> 564\u001b[0;31m           \u001b[1;32mfor\u001b[0m \u001b[0mparameters\u001b[0m \u001b[1;32min\u001b[0m \u001b[0mparameter_iterable\u001b[0m\u001b[1;33m\u001b[0m\u001b[0m\n\u001b[0m\u001b[1;32m    565\u001b[0m           for train, test in cv_iter)\n\u001b[1;32m    566\u001b[0m \u001b[1;33m\u001b[0m\u001b[0m\n",
      "\u001b[0;32mC:\\Users\\Steve\\Anaconda3\\lib\\site-packages\\sklearn\\externals\\joblib\\parallel.py\u001b[0m in \u001b[0;36m__call__\u001b[0;34m(self, iterable)\u001b[0m\n\u001b[1;32m    756\u001b[0m             \u001b[1;31m# was dispatched. In particular this covers the edge\u001b[0m\u001b[1;33m\u001b[0m\u001b[1;33m\u001b[0m\u001b[0m\n\u001b[1;32m    757\u001b[0m             \u001b[1;31m# case of Parallel used with an exhausted iterator.\u001b[0m\u001b[1;33m\u001b[0m\u001b[1;33m\u001b[0m\u001b[0m\n\u001b[0;32m--> 758\u001b[0;31m             \u001b[1;32mwhile\u001b[0m \u001b[0mself\u001b[0m\u001b[1;33m.\u001b[0m\u001b[0mdispatch_one_batch\u001b[0m\u001b[1;33m(\u001b[0m\u001b[0miterator\u001b[0m\u001b[1;33m)\u001b[0m\u001b[1;33m:\u001b[0m\u001b[1;33m\u001b[0m\u001b[0m\n\u001b[0m\u001b[1;32m    759\u001b[0m                 \u001b[0mself\u001b[0m\u001b[1;33m.\u001b[0m\u001b[0m_iterating\u001b[0m \u001b[1;33m=\u001b[0m \u001b[1;32mTrue\u001b[0m\u001b[1;33m\u001b[0m\u001b[0m\n\u001b[1;32m    760\u001b[0m             \u001b[1;32melse\u001b[0m\u001b[1;33m:\u001b[0m\u001b[1;33m\u001b[0m\u001b[0m\n",
      "\u001b[0;32mC:\\Users\\Steve\\Anaconda3\\lib\\site-packages\\sklearn\\externals\\joblib\\parallel.py\u001b[0m in \u001b[0;36mdispatch_one_batch\u001b[0;34m(self, iterator)\u001b[0m\n\u001b[1;32m    606\u001b[0m                 \u001b[1;32mreturn\u001b[0m \u001b[1;32mFalse\u001b[0m\u001b[1;33m\u001b[0m\u001b[0m\n\u001b[1;32m    607\u001b[0m             \u001b[1;32melse\u001b[0m\u001b[1;33m:\u001b[0m\u001b[1;33m\u001b[0m\u001b[0m\n\u001b[0;32m--> 608\u001b[0;31m                 \u001b[0mself\u001b[0m\u001b[1;33m.\u001b[0m\u001b[0m_dispatch\u001b[0m\u001b[1;33m(\u001b[0m\u001b[0mtasks\u001b[0m\u001b[1;33m)\u001b[0m\u001b[1;33m\u001b[0m\u001b[0m\n\u001b[0m\u001b[1;32m    609\u001b[0m                 \u001b[1;32mreturn\u001b[0m \u001b[1;32mTrue\u001b[0m\u001b[1;33m\u001b[0m\u001b[0m\n\u001b[1;32m    610\u001b[0m \u001b[1;33m\u001b[0m\u001b[0m\n",
      "\u001b[0;32mC:\\Users\\Steve\\Anaconda3\\lib\\site-packages\\sklearn\\externals\\joblib\\parallel.py\u001b[0m in \u001b[0;36m_dispatch\u001b[0;34m(self, batch)\u001b[0m\n\u001b[1;32m    569\u001b[0m         \u001b[0mdispatch_timestamp\u001b[0m \u001b[1;33m=\u001b[0m \u001b[0mtime\u001b[0m\u001b[1;33m.\u001b[0m\u001b[0mtime\u001b[0m\u001b[1;33m(\u001b[0m\u001b[1;33m)\u001b[0m\u001b[1;33m\u001b[0m\u001b[0m\n\u001b[1;32m    570\u001b[0m         \u001b[0mcb\u001b[0m \u001b[1;33m=\u001b[0m \u001b[0mBatchCompletionCallBack\u001b[0m\u001b[1;33m(\u001b[0m\u001b[0mdispatch_timestamp\u001b[0m\u001b[1;33m,\u001b[0m \u001b[0mlen\u001b[0m\u001b[1;33m(\u001b[0m\u001b[0mbatch\u001b[0m\u001b[1;33m)\u001b[0m\u001b[1;33m,\u001b[0m \u001b[0mself\u001b[0m\u001b[1;33m)\u001b[0m\u001b[1;33m\u001b[0m\u001b[0m\n\u001b[0;32m--> 571\u001b[0;31m         \u001b[0mjob\u001b[0m \u001b[1;33m=\u001b[0m \u001b[0mself\u001b[0m\u001b[1;33m.\u001b[0m\u001b[0m_backend\u001b[0m\u001b[1;33m.\u001b[0m\u001b[0mapply_async\u001b[0m\u001b[1;33m(\u001b[0m\u001b[0mbatch\u001b[0m\u001b[1;33m,\u001b[0m \u001b[0mcallback\u001b[0m\u001b[1;33m=\u001b[0m\u001b[0mcb\u001b[0m\u001b[1;33m)\u001b[0m\u001b[1;33m\u001b[0m\u001b[0m\n\u001b[0m\u001b[1;32m    572\u001b[0m         \u001b[0mself\u001b[0m\u001b[1;33m.\u001b[0m\u001b[0m_jobs\u001b[0m\u001b[1;33m.\u001b[0m\u001b[0mappend\u001b[0m\u001b[1;33m(\u001b[0m\u001b[0mjob\u001b[0m\u001b[1;33m)\u001b[0m\u001b[1;33m\u001b[0m\u001b[0m\n\u001b[1;32m    573\u001b[0m \u001b[1;33m\u001b[0m\u001b[0m\n",
      "\u001b[0;32mC:\\Users\\Steve\\Anaconda3\\lib\\site-packages\\sklearn\\externals\\joblib\\_parallel_backends.py\u001b[0m in \u001b[0;36mapply_async\u001b[0;34m(self, func, callback)\u001b[0m\n\u001b[1;32m    107\u001b[0m     \u001b[1;32mdef\u001b[0m \u001b[0mapply_async\u001b[0m\u001b[1;33m(\u001b[0m\u001b[0mself\u001b[0m\u001b[1;33m,\u001b[0m \u001b[0mfunc\u001b[0m\u001b[1;33m,\u001b[0m \u001b[0mcallback\u001b[0m\u001b[1;33m=\u001b[0m\u001b[1;32mNone\u001b[0m\u001b[1;33m)\u001b[0m\u001b[1;33m:\u001b[0m\u001b[1;33m\u001b[0m\u001b[0m\n\u001b[1;32m    108\u001b[0m         \u001b[1;34m\"\"\"Schedule a func to be run\"\"\"\u001b[0m\u001b[1;33m\u001b[0m\u001b[0m\n\u001b[0;32m--> 109\u001b[0;31m         \u001b[0mresult\u001b[0m \u001b[1;33m=\u001b[0m \u001b[0mImmediateResult\u001b[0m\u001b[1;33m(\u001b[0m\u001b[0mfunc\u001b[0m\u001b[1;33m)\u001b[0m\u001b[1;33m\u001b[0m\u001b[0m\n\u001b[0m\u001b[1;32m    110\u001b[0m         \u001b[1;32mif\u001b[0m \u001b[0mcallback\u001b[0m\u001b[1;33m:\u001b[0m\u001b[1;33m\u001b[0m\u001b[0m\n\u001b[1;32m    111\u001b[0m             \u001b[0mcallback\u001b[0m\u001b[1;33m(\u001b[0m\u001b[0mresult\u001b[0m\u001b[1;33m)\u001b[0m\u001b[1;33m\u001b[0m\u001b[0m\n",
      "\u001b[0;32mC:\\Users\\Steve\\Anaconda3\\lib\\site-packages\\sklearn\\externals\\joblib\\_parallel_backends.py\u001b[0m in \u001b[0;36m__init__\u001b[0;34m(self, batch)\u001b[0m\n\u001b[1;32m    324\u001b[0m         \u001b[1;31m# Don't delay the application, to avoid keeping the input\u001b[0m\u001b[1;33m\u001b[0m\u001b[1;33m\u001b[0m\u001b[0m\n\u001b[1;32m    325\u001b[0m         \u001b[1;31m# arguments in memory\u001b[0m\u001b[1;33m\u001b[0m\u001b[1;33m\u001b[0m\u001b[0m\n\u001b[0;32m--> 326\u001b[0;31m         \u001b[0mself\u001b[0m\u001b[1;33m.\u001b[0m\u001b[0mresults\u001b[0m \u001b[1;33m=\u001b[0m \u001b[0mbatch\u001b[0m\u001b[1;33m(\u001b[0m\u001b[1;33m)\u001b[0m\u001b[1;33m\u001b[0m\u001b[0m\n\u001b[0m\u001b[1;32m    327\u001b[0m \u001b[1;33m\u001b[0m\u001b[0m\n\u001b[1;32m    328\u001b[0m     \u001b[1;32mdef\u001b[0m \u001b[0mget\u001b[0m\u001b[1;33m(\u001b[0m\u001b[0mself\u001b[0m\u001b[1;33m)\u001b[0m\u001b[1;33m:\u001b[0m\u001b[1;33m\u001b[0m\u001b[0m\n",
      "\u001b[0;32mC:\\Users\\Steve\\Anaconda3\\lib\\site-packages\\sklearn\\externals\\joblib\\parallel.py\u001b[0m in \u001b[0;36m__call__\u001b[0;34m(self)\u001b[0m\n\u001b[1;32m    129\u001b[0m \u001b[1;33m\u001b[0m\u001b[0m\n\u001b[1;32m    130\u001b[0m     \u001b[1;32mdef\u001b[0m \u001b[0m__call__\u001b[0m\u001b[1;33m(\u001b[0m\u001b[0mself\u001b[0m\u001b[1;33m)\u001b[0m\u001b[1;33m:\u001b[0m\u001b[1;33m\u001b[0m\u001b[0m\n\u001b[0;32m--> 131\u001b[0;31m         \u001b[1;32mreturn\u001b[0m \u001b[1;33m[\u001b[0m\u001b[0mfunc\u001b[0m\u001b[1;33m(\u001b[0m\u001b[1;33m*\u001b[0m\u001b[0margs\u001b[0m\u001b[1;33m,\u001b[0m \u001b[1;33m**\u001b[0m\u001b[0mkwargs\u001b[0m\u001b[1;33m)\u001b[0m \u001b[1;32mfor\u001b[0m \u001b[0mfunc\u001b[0m\u001b[1;33m,\u001b[0m \u001b[0margs\u001b[0m\u001b[1;33m,\u001b[0m \u001b[0mkwargs\u001b[0m \u001b[1;32min\u001b[0m \u001b[0mself\u001b[0m\u001b[1;33m.\u001b[0m\u001b[0mitems\u001b[0m\u001b[1;33m]\u001b[0m\u001b[1;33m\u001b[0m\u001b[0m\n\u001b[0m\u001b[1;32m    132\u001b[0m \u001b[1;33m\u001b[0m\u001b[0m\n\u001b[1;32m    133\u001b[0m     \u001b[1;32mdef\u001b[0m \u001b[0m__len__\u001b[0m\u001b[1;33m(\u001b[0m\u001b[0mself\u001b[0m\u001b[1;33m)\u001b[0m\u001b[1;33m:\u001b[0m\u001b[1;33m\u001b[0m\u001b[0m\n",
      "\u001b[0;32mC:\\Users\\Steve\\Anaconda3\\lib\\site-packages\\sklearn\\externals\\joblib\\parallel.py\u001b[0m in \u001b[0;36m<listcomp>\u001b[0;34m(.0)\u001b[0m\n\u001b[1;32m    129\u001b[0m \u001b[1;33m\u001b[0m\u001b[0m\n\u001b[1;32m    130\u001b[0m     \u001b[1;32mdef\u001b[0m \u001b[0m__call__\u001b[0m\u001b[1;33m(\u001b[0m\u001b[0mself\u001b[0m\u001b[1;33m)\u001b[0m\u001b[1;33m:\u001b[0m\u001b[1;33m\u001b[0m\u001b[0m\n\u001b[0;32m--> 131\u001b[0;31m         \u001b[1;32mreturn\u001b[0m \u001b[1;33m[\u001b[0m\u001b[0mfunc\u001b[0m\u001b[1;33m(\u001b[0m\u001b[1;33m*\u001b[0m\u001b[0margs\u001b[0m\u001b[1;33m,\u001b[0m \u001b[1;33m**\u001b[0m\u001b[0mkwargs\u001b[0m\u001b[1;33m)\u001b[0m \u001b[1;32mfor\u001b[0m \u001b[0mfunc\u001b[0m\u001b[1;33m,\u001b[0m \u001b[0margs\u001b[0m\u001b[1;33m,\u001b[0m \u001b[0mkwargs\u001b[0m \u001b[1;32min\u001b[0m \u001b[0mself\u001b[0m\u001b[1;33m.\u001b[0m\u001b[0mitems\u001b[0m\u001b[1;33m]\u001b[0m\u001b[1;33m\u001b[0m\u001b[0m\n\u001b[0m\u001b[1;32m    132\u001b[0m \u001b[1;33m\u001b[0m\u001b[0m\n\u001b[1;32m    133\u001b[0m     \u001b[1;32mdef\u001b[0m \u001b[0m__len__\u001b[0m\u001b[1;33m(\u001b[0m\u001b[0mself\u001b[0m\u001b[1;33m)\u001b[0m\u001b[1;33m:\u001b[0m\u001b[1;33m\u001b[0m\u001b[0m\n",
      "\u001b[0;32mC:\\Users\\Steve\\Anaconda3\\lib\\site-packages\\sklearn\\model_selection\\_validation.py\u001b[0m in \u001b[0;36m_fit_and_score\u001b[0;34m(estimator, X, y, scorer, train, test, verbose, parameters, fit_params, return_train_score, return_parameters, return_n_test_samples, return_times, error_score)\u001b[0m\n\u001b[1;32m    236\u001b[0m             \u001b[0mestimator\u001b[0m\u001b[1;33m.\u001b[0m\u001b[0mfit\u001b[0m\u001b[1;33m(\u001b[0m\u001b[0mX_train\u001b[0m\u001b[1;33m,\u001b[0m \u001b[1;33m**\u001b[0m\u001b[0mfit_params\u001b[0m\u001b[1;33m)\u001b[0m\u001b[1;33m\u001b[0m\u001b[0m\n\u001b[1;32m    237\u001b[0m         \u001b[1;32melse\u001b[0m\u001b[1;33m:\u001b[0m\u001b[1;33m\u001b[0m\u001b[0m\n\u001b[0;32m--> 238\u001b[0;31m             \u001b[0mestimator\u001b[0m\u001b[1;33m.\u001b[0m\u001b[0mfit\u001b[0m\u001b[1;33m(\u001b[0m\u001b[0mX_train\u001b[0m\u001b[1;33m,\u001b[0m \u001b[0my_train\u001b[0m\u001b[1;33m,\u001b[0m \u001b[1;33m**\u001b[0m\u001b[0mfit_params\u001b[0m\u001b[1;33m)\u001b[0m\u001b[1;33m\u001b[0m\u001b[0m\n\u001b[0m\u001b[1;32m    239\u001b[0m \u001b[1;33m\u001b[0m\u001b[0m\n\u001b[1;32m    240\u001b[0m     \u001b[1;32mexcept\u001b[0m \u001b[0mException\u001b[0m \u001b[1;32mas\u001b[0m \u001b[0me\u001b[0m\u001b[1;33m:\u001b[0m\u001b[1;33m\u001b[0m\u001b[0m\n",
      "\u001b[0;32mC:\\Users\\Steve\\Anaconda3\\lib\\site-packages\\sklearn\\ensemble\\forest.py\u001b[0m in \u001b[0;36mfit\u001b[0;34m(self, X, y, sample_weight)\u001b[0m\n\u001b[1;32m    245\u001b[0m         \"\"\"\n\u001b[1;32m    246\u001b[0m         \u001b[1;31m# Validate or convert input data\u001b[0m\u001b[1;33m\u001b[0m\u001b[1;33m\u001b[0m\u001b[0m\n\u001b[0;32m--> 247\u001b[0;31m         \u001b[0mX\u001b[0m \u001b[1;33m=\u001b[0m \u001b[0mcheck_array\u001b[0m\u001b[1;33m(\u001b[0m\u001b[0mX\u001b[0m\u001b[1;33m,\u001b[0m \u001b[0maccept_sparse\u001b[0m\u001b[1;33m=\u001b[0m\u001b[1;34m\"csc\"\u001b[0m\u001b[1;33m,\u001b[0m \u001b[0mdtype\u001b[0m\u001b[1;33m=\u001b[0m\u001b[0mDTYPE\u001b[0m\u001b[1;33m)\u001b[0m\u001b[1;33m\u001b[0m\u001b[0m\n\u001b[0m\u001b[1;32m    248\u001b[0m         \u001b[0my\u001b[0m \u001b[1;33m=\u001b[0m \u001b[0mcheck_array\u001b[0m\u001b[1;33m(\u001b[0m\u001b[0my\u001b[0m\u001b[1;33m,\u001b[0m \u001b[0maccept_sparse\u001b[0m\u001b[1;33m=\u001b[0m\u001b[1;34m'csc'\u001b[0m\u001b[1;33m,\u001b[0m \u001b[0mensure_2d\u001b[0m\u001b[1;33m=\u001b[0m\u001b[1;32mFalse\u001b[0m\u001b[1;33m,\u001b[0m \u001b[0mdtype\u001b[0m\u001b[1;33m=\u001b[0m\u001b[1;32mNone\u001b[0m\u001b[1;33m)\u001b[0m\u001b[1;33m\u001b[0m\u001b[0m\n\u001b[1;32m    249\u001b[0m         \u001b[1;32mif\u001b[0m \u001b[0missparse\u001b[0m\u001b[1;33m(\u001b[0m\u001b[0mX\u001b[0m\u001b[1;33m)\u001b[0m\u001b[1;33m:\u001b[0m\u001b[1;33m\u001b[0m\u001b[0m\n",
      "\u001b[0;32mC:\\Users\\Steve\\Anaconda3\\lib\\site-packages\\sklearn\\utils\\validation.py\u001b[0m in \u001b[0;36mcheck_array\u001b[0;34m(array, accept_sparse, dtype, order, copy, force_all_finite, ensure_2d, allow_nd, ensure_min_samples, ensure_min_features, warn_on_dtype, estimator)\u001b[0m\n\u001b[1;32m    380\u001b[0m                                       force_all_finite)\n\u001b[1;32m    381\u001b[0m     \u001b[1;32melse\u001b[0m\u001b[1;33m:\u001b[0m\u001b[1;33m\u001b[0m\u001b[0m\n\u001b[0;32m--> 382\u001b[0;31m         \u001b[0marray\u001b[0m \u001b[1;33m=\u001b[0m \u001b[0mnp\u001b[0m\u001b[1;33m.\u001b[0m\u001b[0marray\u001b[0m\u001b[1;33m(\u001b[0m\u001b[0marray\u001b[0m\u001b[1;33m,\u001b[0m \u001b[0mdtype\u001b[0m\u001b[1;33m=\u001b[0m\u001b[0mdtype\u001b[0m\u001b[1;33m,\u001b[0m \u001b[0morder\u001b[0m\u001b[1;33m=\u001b[0m\u001b[0morder\u001b[0m\u001b[1;33m,\u001b[0m \u001b[0mcopy\u001b[0m\u001b[1;33m=\u001b[0m\u001b[0mcopy\u001b[0m\u001b[1;33m)\u001b[0m\u001b[1;33m\u001b[0m\u001b[0m\n\u001b[0m\u001b[1;32m    383\u001b[0m \u001b[1;33m\u001b[0m\u001b[0m\n\u001b[1;32m    384\u001b[0m         \u001b[1;32mif\u001b[0m \u001b[0mensure_2d\u001b[0m\u001b[1;33m:\u001b[0m\u001b[1;33m\u001b[0m\u001b[0m\n",
      "\u001b[0;32mC:\\Users\\Steve\\Anaconda3\\lib\\site-packages\\pandas\\core\\generic.py\u001b[0m in \u001b[0;36m__array__\u001b[0;34m(self, dtype)\u001b[0m\n\u001b[1;32m    945\u001b[0m \u001b[1;33m\u001b[0m\u001b[0m\n\u001b[1;32m    946\u001b[0m     \u001b[1;32mdef\u001b[0m \u001b[0m__array__\u001b[0m\u001b[1;33m(\u001b[0m\u001b[0mself\u001b[0m\u001b[1;33m,\u001b[0m \u001b[0mdtype\u001b[0m\u001b[1;33m=\u001b[0m\u001b[1;32mNone\u001b[0m\u001b[1;33m)\u001b[0m\u001b[1;33m:\u001b[0m\u001b[1;33m\u001b[0m\u001b[0m\n\u001b[0;32m--> 947\u001b[0;31m         \u001b[1;32mreturn\u001b[0m \u001b[0m_values_from_object\u001b[0m\u001b[1;33m(\u001b[0m\u001b[0mself\u001b[0m\u001b[1;33m)\u001b[0m\u001b[1;33m\u001b[0m\u001b[0m\n\u001b[0m\u001b[1;32m    948\u001b[0m \u001b[1;33m\u001b[0m\u001b[0m\n\u001b[1;32m    949\u001b[0m     \u001b[1;32mdef\u001b[0m \u001b[0m__array_wrap__\u001b[0m\u001b[1;33m(\u001b[0m\u001b[0mself\u001b[0m\u001b[1;33m,\u001b[0m \u001b[0mresult\u001b[0m\u001b[1;33m,\u001b[0m \u001b[0mcontext\u001b[0m\u001b[1;33m=\u001b[0m\u001b[1;32mNone\u001b[0m\u001b[1;33m)\u001b[0m\u001b[1;33m:\u001b[0m\u001b[1;33m\u001b[0m\u001b[0m\n",
      "\u001b[0;32mpandas\\lib.pyx\u001b[0m in \u001b[0;36mpandas.lib.values_from_object (pandas\\lib.c:4652)\u001b[0;34m()\u001b[0m\n",
      "\u001b[0;32mC:\\Users\\Steve\\Anaconda3\\lib\\site-packages\\pandas\\core\\generic.py\u001b[0m in \u001b[0;36mget_values\u001b[0;34m(self)\u001b[0m\n\u001b[1;32m   2938\u001b[0m     \u001b[1;32mdef\u001b[0m \u001b[0mget_values\u001b[0m\u001b[1;33m(\u001b[0m\u001b[0mself\u001b[0m\u001b[1;33m)\u001b[0m\u001b[1;33m:\u001b[0m\u001b[1;33m\u001b[0m\u001b[0m\n\u001b[1;32m   2939\u001b[0m         \u001b[1;34m\"\"\"same as values (but handles sparseness conversions)\"\"\"\u001b[0m\u001b[1;33m\u001b[0m\u001b[0m\n\u001b[0;32m-> 2940\u001b[0;31m         \u001b[1;32mreturn\u001b[0m \u001b[0mself\u001b[0m\u001b[1;33m.\u001b[0m\u001b[0mas_matrix\u001b[0m\u001b[1;33m(\u001b[0m\u001b[1;33m)\u001b[0m\u001b[1;33m\u001b[0m\u001b[0m\n\u001b[0m\u001b[1;32m   2941\u001b[0m \u001b[1;33m\u001b[0m\u001b[0m\n\u001b[1;32m   2942\u001b[0m     \u001b[1;32mdef\u001b[0m \u001b[0mget_dtype_counts\u001b[0m\u001b[1;33m(\u001b[0m\u001b[0mself\u001b[0m\u001b[1;33m)\u001b[0m\u001b[1;33m:\u001b[0m\u001b[1;33m\u001b[0m\u001b[0m\n",
      "\u001b[0;32mC:\\Users\\Steve\\Anaconda3\\lib\\site-packages\\pandas\\core\\generic.py\u001b[0m in \u001b[0;36mas_matrix\u001b[0;34m(self, columns)\u001b[0m\n\u001b[1;32m   2905\u001b[0m         \u001b[0mself\u001b[0m\u001b[1;33m.\u001b[0m\u001b[0m_consolidate_inplace\u001b[0m\u001b[1;33m(\u001b[0m\u001b[1;33m)\u001b[0m\u001b[1;33m\u001b[0m\u001b[0m\n\u001b[1;32m   2906\u001b[0m         \u001b[1;32mif\u001b[0m \u001b[0mself\u001b[0m\u001b[1;33m.\u001b[0m\u001b[0m_AXIS_REVERSED\u001b[0m\u001b[1;33m:\u001b[0m\u001b[1;33m\u001b[0m\u001b[0m\n\u001b[0;32m-> 2907\u001b[0;31m             \u001b[1;32mreturn\u001b[0m \u001b[0mself\u001b[0m\u001b[1;33m.\u001b[0m\u001b[0m_data\u001b[0m\u001b[1;33m.\u001b[0m\u001b[0mas_matrix\u001b[0m\u001b[1;33m(\u001b[0m\u001b[0mcolumns\u001b[0m\u001b[1;33m)\u001b[0m\u001b[1;33m.\u001b[0m\u001b[0mT\u001b[0m\u001b[1;33m\u001b[0m\u001b[0m\n\u001b[0m\u001b[1;32m   2908\u001b[0m         \u001b[1;32mreturn\u001b[0m \u001b[0mself\u001b[0m\u001b[1;33m.\u001b[0m\u001b[0m_data\u001b[0m\u001b[1;33m.\u001b[0m\u001b[0mas_matrix\u001b[0m\u001b[1;33m(\u001b[0m\u001b[0mcolumns\u001b[0m\u001b[1;33m)\u001b[0m\u001b[1;33m\u001b[0m\u001b[0m\n\u001b[1;32m   2909\u001b[0m \u001b[1;33m\u001b[0m\u001b[0m\n",
      "\u001b[0;32mC:\\Users\\Steve\\Anaconda3\\lib\\site-packages\\pandas\\core\\internals.py\u001b[0m in \u001b[0;36mas_matrix\u001b[0;34m(self, items)\u001b[0m\n\u001b[1;32m   3401\u001b[0m             \u001b[1;32mreturn\u001b[0m \u001b[0mmgr\u001b[0m\u001b[1;33m.\u001b[0m\u001b[0mblocks\u001b[0m\u001b[1;33m[\u001b[0m\u001b[1;36m0\u001b[0m\u001b[1;33m]\u001b[0m\u001b[1;33m.\u001b[0m\u001b[0mget_values\u001b[0m\u001b[1;33m(\u001b[0m\u001b[1;33m)\u001b[0m\u001b[1;33m\u001b[0m\u001b[0m\n\u001b[1;32m   3402\u001b[0m         \u001b[1;32melse\u001b[0m\u001b[1;33m:\u001b[0m\u001b[1;33m\u001b[0m\u001b[0m\n\u001b[0;32m-> 3403\u001b[0;31m             \u001b[1;32mreturn\u001b[0m \u001b[0mmgr\u001b[0m\u001b[1;33m.\u001b[0m\u001b[0m_interleave\u001b[0m\u001b[1;33m(\u001b[0m\u001b[1;33m)\u001b[0m\u001b[1;33m\u001b[0m\u001b[0m\n\u001b[0m\u001b[1;32m   3404\u001b[0m \u001b[1;33m\u001b[0m\u001b[0m\n\u001b[1;32m   3405\u001b[0m     \u001b[1;32mdef\u001b[0m \u001b[0m_interleave\u001b[0m\u001b[1;33m(\u001b[0m\u001b[0mself\u001b[0m\u001b[1;33m)\u001b[0m\u001b[1;33m:\u001b[0m\u001b[1;33m\u001b[0m\u001b[0m\n",
      "\u001b[0;32mC:\\Users\\Steve\\Anaconda3\\lib\\site-packages\\pandas\\core\\internals.py\u001b[0m in \u001b[0;36m_interleave\u001b[0;34m(self)\u001b[0m\n\u001b[1;32m   3428\u001b[0m         \u001b[1;32mfor\u001b[0m \u001b[0mblk\u001b[0m \u001b[1;32min\u001b[0m \u001b[0mself\u001b[0m\u001b[1;33m.\u001b[0m\u001b[0mblocks\u001b[0m\u001b[1;33m:\u001b[0m\u001b[1;33m\u001b[0m\u001b[0m\n\u001b[1;32m   3429\u001b[0m             \u001b[0mrl\u001b[0m \u001b[1;33m=\u001b[0m \u001b[0mblk\u001b[0m\u001b[1;33m.\u001b[0m\u001b[0mmgr_locs\u001b[0m\u001b[1;33m\u001b[0m\u001b[0m\n\u001b[0;32m-> 3430\u001b[0;31m             \u001b[0mresult\u001b[0m\u001b[1;33m[\u001b[0m\u001b[0mrl\u001b[0m\u001b[1;33m.\u001b[0m\u001b[0mindexer\u001b[0m\u001b[1;33m]\u001b[0m \u001b[1;33m=\u001b[0m \u001b[0mblk\u001b[0m\u001b[1;33m.\u001b[0m\u001b[0mget_values\u001b[0m\u001b[1;33m(\u001b[0m\u001b[0mdtype\u001b[0m\u001b[1;33m)\u001b[0m\u001b[1;33m\u001b[0m\u001b[0m\n\u001b[0m\u001b[1;32m   3431\u001b[0m             \u001b[0mitemmask\u001b[0m\u001b[1;33m[\u001b[0m\u001b[0mrl\u001b[0m\u001b[1;33m.\u001b[0m\u001b[0mindexer\u001b[0m\u001b[1;33m]\u001b[0m \u001b[1;33m=\u001b[0m \u001b[1;36m1\u001b[0m\u001b[1;33m\u001b[0m\u001b[0m\n\u001b[1;32m   3432\u001b[0m \u001b[1;33m\u001b[0m\u001b[0m\n",
      "\u001b[0;31mKeyboardInterrupt\u001b[0m: "
     ]
    }
   ],
   "source": [
    "param_grid = {'n_estimators': [50, 100, 150],\n",
    "              'max_features':  ['auto', 'log2', .5],\n",
    "              'min_samples_split': [100, 200, 300],\n",
    "              'max_depth': [None, 5, 10],\n",
    "              'criterion': [\"gini\", \"entropy\"]\n",
    "              }\n",
    "rfc = RandomForestClassifier(n_jobs=-1, oob_score=True)\n",
    "cv_rfc = GridSearchCV(estimator=rfc, param_grid=param_grid, scoring = 'f1', verbose = 2)\n",
    "cv_rfc.fit(model_train[features], model_train['broke_from_party'])\n",
    "print(cv_rfc.best_params_)\n",
    "rfc = RandomForestClassifier(n_jobs=2, oob_score=True, **cv_rfc.best_params_)\n",
    "rfc.fit(model_train[features], model_train['broke_from_party'])"
   ]
  }
 ],
 "metadata": {
  "kernelspec": {
   "display_name": "Python 3",
   "language": "python",
   "name": "python3"
  },
  "language_info": {
   "codemirror_mode": {
    "name": "ipython",
    "version": 3
   },
   "file_extension": ".py",
   "mimetype": "text/x-python",
   "name": "python",
   "nbconvert_exporter": "python",
   "pygments_lexer": "ipython3",
   "version": "3.6.0"
  }
 },
 "nbformat": 4,
 "nbformat_minor": 2
}
