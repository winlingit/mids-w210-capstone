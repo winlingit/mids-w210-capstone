{
 "cells": [
  {
   "cell_type": "code",
   "execution_count": 48,
   "metadata": {
    "collapsed": true
   },
   "outputs": [],
   "source": [
    "import pandas as pd\n",
    "import numpy as np\n",
    "import pickle\n",
    "import os\n",
    "from sklearn import metrics\n",
    "from sklearn.preprocessing import PolynomialFeatures\n",
    "from sklearn.linear_model import LogisticRegression\n",
    "import seaborn as sns\n",
    "from sklearn.ensemble import RandomForestClassifier\n",
    "from collections import defaultdict\n",
    "%matplotlib inline"
   ]
  },
  {
   "cell_type": "markdown",
   "metadata": {},
   "source": [
    "# Vote History Model\n",
    "This model will primarily focus on predicting voting behaviour based on previous voting behavior. Specifically, it will look at:\n",
    "1. the percent that a member votes with their party in a current session (up to the vote in question)\n",
    "2. The percent that the member and cosponsors vote together in the current session (up to current vote)\n",
    "3. Repeat points 1 and 2, but with a specific committee\n",
    "\n",
    "## Feature Construction"
   ]
  },
  {
   "cell_type": "code",
   "execution_count": 5,
   "metadata": {
    "collapsed": false
   },
   "outputs": [],
   "source": [
    "def get_full_set():\n",
    "    for dataset in ['train','dev','test']:\n",
    "        df = pd.read_csv('../data/model/' + dataset + '.csv', encoding = 'latin1')\n",
    "        if dataset == 'train':\n",
    "            df_votes = df\n",
    "        else:\n",
    "            df_votes = pd.concat([df_votes, df])\n",
    "    return df_votes\n",
    "df_votes = get_full_set()\n",
    "df_votes['s_roll'] = df_votes.session * 10000 + df_votes.roll_call\n",
    "df_votes['voted'] = 1\n",
    "df_votes.sort_values(['congress', 's_roll'], inplace=True)\n",
    "df_votes.set_index('full_set_id', inplace=True)"
   ]
  },
  {
   "cell_type": "markdown",
   "metadata": {},
   "source": [
    "### Cum Avg of Vote with Party Percent"
   ]
  },
  {
   "cell_type": "markdown",
   "metadata": {},
   "source": [
    "#### Overall"
   ]
  },
  {
   "cell_type": "code",
   "execution_count": 35,
   "metadata": {
    "collapsed": true
   },
   "outputs": [],
   "source": [
    "df_party = df_votes.groupby(['congress','member_id']).cumsum()[['broke_from_party','voted']]\n",
    "df_party['broke_cum_pct'] = df_party.broke_from_party / df_party.voted\n",
    "df_party.columns = [\"party_\" + x for x in df_party.columns]"
   ]
  },
  {
   "cell_type": "code",
   "execution_count": 47,
   "metadata": {
    "collapsed": false
   },
   "outputs": [
    {
     "data": {
      "text/html": [
       "<div>\n",
       "<table border=\"1\" class=\"dataframe\">\n",
       "  <thead>\n",
       "    <tr style=\"text-align: right;\">\n",
       "      <th></th>\n",
       "      <th>party_broke_from_party</th>\n",
       "      <th>party_voted</th>\n",
       "      <th>party_broke_cum_pct</th>\n",
       "    </tr>\n",
       "    <tr>\n",
       "      <th>full_set_id</th>\n",
       "      <th></th>\n",
       "      <th></th>\n",
       "      <th></th>\n",
       "    </tr>\n",
       "  </thead>\n",
       "  <tbody>\n",
       "    <tr>\n",
       "      <th>1933669</th>\n",
       "      <td>0</td>\n",
       "      <td>223</td>\n",
       "      <td>0.000000</td>\n",
       "    </tr>\n",
       "    <tr>\n",
       "      <th>1933751</th>\n",
       "      <td>1</td>\n",
       "      <td>223</td>\n",
       "      <td>0.004484</td>\n",
       "    </tr>\n",
       "    <tr>\n",
       "      <th>1933912</th>\n",
       "      <td>5</td>\n",
       "      <td>216</td>\n",
       "      <td>0.023148</td>\n",
       "    </tr>\n",
       "    <tr>\n",
       "      <th>1933633</th>\n",
       "      <td>0</td>\n",
       "      <td>211</td>\n",
       "      <td>0.000000</td>\n",
       "    </tr>\n",
       "    <tr>\n",
       "      <th>1933681</th>\n",
       "      <td>0</td>\n",
       "      <td>221</td>\n",
       "      <td>0.000000</td>\n",
       "    </tr>\n",
       "  </tbody>\n",
       "</table>\n",
       "</div>"
      ],
      "text/plain": [
       "             party_broke_from_party  party_voted  party_broke_cum_pct\n",
       "full_set_id                                                          \n",
       "1933669                           0          223             0.000000\n",
       "1933751                           1          223             0.004484\n",
       "1933912                           5          216             0.023148\n",
       "1933633                           0          211             0.000000\n",
       "1933681                           0          221             0.000000"
      ]
     },
     "execution_count": 47,
     "metadata": {},
     "output_type": "execute_result"
    }
   ],
   "source": [
    "df_party.tail()"
   ]
  },
  {
   "cell_type": "code",
   "execution_count": 46,
   "metadata": {
    "collapsed": false
   },
   "outputs": [
    {
     "data": {
      "text/plain": [
       "count    1.940619e+08\n",
       "mean     5.559150e+00\n",
       "std      6.369770e+00\n",
       "min      0.000000e+00\n",
       "25%      1.098901e+00\n",
       "50%      3.735632e+00\n",
       "75%      7.926829e+00\n",
       "max      1.000000e+02\n",
       "Name: party_broke_cum_pct, dtype: float64"
      ]
     },
     "execution_count": 46,
     "metadata": {},
     "output_type": "execute_result"
    }
   ],
   "source": [
    "df_party.party_broke_cum_pct.describe() * 100"
   ]
  },
  {
   "cell_type": "code",
   "execution_count": 84,
   "metadata": {
    "collapsed": false
   },
   "outputs": [
    {
     "data": {
      "text/html": [
       "<div>\n",
       "<table border=\"1\" class=\"dataframe\">\n",
       "  <thead>\n",
       "    <tr style=\"text-align: right;\">\n",
       "      <th></th>\n",
       "      <th>member_id</th>\n",
       "      <th>party</th>\n",
       "      <th>vote_position</th>\n",
       "      <th>congress</th>\n",
       "      <th>roll_call</th>\n",
       "      <th>chamber</th>\n",
       "      <th>session</th>\n",
       "      <th>bill_id</th>\n",
       "      <th>majority_pos_rep</th>\n",
       "      <th>majority_pos_dem</th>\n",
       "      <th>broke_from_party</th>\n",
       "      <th>s_roll</th>\n",
       "      <th>voted</th>\n",
       "    </tr>\n",
       "    <tr>\n",
       "      <th>full_set_id</th>\n",
       "      <th></th>\n",
       "      <th></th>\n",
       "      <th></th>\n",
       "      <th></th>\n",
       "      <th></th>\n",
       "      <th></th>\n",
       "      <th></th>\n",
       "      <th></th>\n",
       "      <th></th>\n",
       "      <th></th>\n",
       "      <th></th>\n",
       "      <th></th>\n",
       "      <th></th>\n",
       "    </tr>\n",
       "  </thead>\n",
       "  <tbody>\n",
       "    <tr>\n",
       "      <th>62</th>\n",
       "      <td>L000447</td>\n",
       "      <td>R</td>\n",
       "      <td>Yes</td>\n",
       "      <td>101.0</td>\n",
       "      <td>12.0</td>\n",
       "      <td>Senate</td>\n",
       "      <td>1.0</td>\n",
       "      <td>hjres129-101</td>\n",
       "      <td>Yes</td>\n",
       "      <td>Yes</td>\n",
       "      <td>0</td>\n",
       "      <td>10012.0</td>\n",
       "      <td>1</td>\n",
       "    </tr>\n",
       "    <tr>\n",
       "      <th>10</th>\n",
       "      <td>B000780</td>\n",
       "      <td>D</td>\n",
       "      <td>Yes</td>\n",
       "      <td>101.0</td>\n",
       "      <td>12.0</td>\n",
       "      <td>Senate</td>\n",
       "      <td>1.0</td>\n",
       "      <td>hjres129-101</td>\n",
       "      <td>Yes</td>\n",
       "      <td>Yes</td>\n",
       "      <td>0</td>\n",
       "      <td>10012.0</td>\n",
       "      <td>1</td>\n",
       "    </tr>\n",
       "    <tr>\n",
       "      <th>33</th>\n",
       "      <td>F000329</td>\n",
       "      <td>D</td>\n",
       "      <td>Yes</td>\n",
       "      <td>101.0</td>\n",
       "      <td>12.0</td>\n",
       "      <td>Senate</td>\n",
       "      <td>1.0</td>\n",
       "      <td>hjres129-101</td>\n",
       "      <td>Yes</td>\n",
       "      <td>Yes</td>\n",
       "      <td>0</td>\n",
       "      <td>10012.0</td>\n",
       "      <td>1</td>\n",
       "    </tr>\n",
       "    <tr>\n",
       "      <th>53</th>\n",
       "      <td>K000019</td>\n",
       "      <td>R</td>\n",
       "      <td>Yes</td>\n",
       "      <td>101.0</td>\n",
       "      <td>12.0</td>\n",
       "      <td>Senate</td>\n",
       "      <td>1.0</td>\n",
       "      <td>hjres129-101</td>\n",
       "      <td>Yes</td>\n",
       "      <td>Yes</td>\n",
       "      <td>0</td>\n",
       "      <td>10012.0</td>\n",
       "      <td>1</td>\n",
       "    </tr>\n",
       "    <tr>\n",
       "      <th>27</th>\n",
       "      <td>D000388</td>\n",
       "      <td>D</td>\n",
       "      <td>No</td>\n",
       "      <td>101.0</td>\n",
       "      <td>12.0</td>\n",
       "      <td>Senate</td>\n",
       "      <td>1.0</td>\n",
       "      <td>hjres129-101</td>\n",
       "      <td>Yes</td>\n",
       "      <td>Yes</td>\n",
       "      <td>1</td>\n",
       "      <td>10012.0</td>\n",
       "      <td>1</td>\n",
       "    </tr>\n",
       "  </tbody>\n",
       "</table>\n",
       "</div>"
      ],
      "text/plain": [
       "            member_id party vote_position  congress  roll_call chamber  \\\n",
       "full_set_id                                                              \n",
       "62            L000447     R           Yes     101.0       12.0  Senate   \n",
       "10            B000780     D           Yes     101.0       12.0  Senate   \n",
       "33            F000329     D           Yes     101.0       12.0  Senate   \n",
       "53            K000019     R           Yes     101.0       12.0  Senate   \n",
       "27            D000388     D            No     101.0       12.0  Senate   \n",
       "\n",
       "             session       bill_id majority_pos_rep majority_pos_dem  \\\n",
       "full_set_id                                                            \n",
       "62               1.0  hjres129-101              Yes              Yes   \n",
       "10               1.0  hjres129-101              Yes              Yes   \n",
       "33               1.0  hjres129-101              Yes              Yes   \n",
       "53               1.0  hjres129-101              Yes              Yes   \n",
       "27               1.0  hjres129-101              Yes              Yes   \n",
       "\n",
       "             broke_from_party   s_roll  voted  \n",
       "full_set_id                                    \n",
       "62                          0  10012.0      1  \n",
       "10                          0  10012.0      1  \n",
       "33                          0  10012.0      1  \n",
       "53                          0  10012.0      1  \n",
       "27                          1  10012.0      1  "
      ]
     },
     "execution_count": 84,
     "metadata": {},
     "output_type": "execute_result"
    }
   ],
   "source": [
    "df_votes.head()"
   ]
  },
  {
   "cell_type": "code",
   "execution_count": 108,
   "metadata": {
    "collapsed": false
   },
   "outputs": [],
   "source": [
    "roll_calls = df_votes[df_votes.congress == 112].s_roll.unique()"
   ]
  },
  {
   "cell_type": "code",
   "execution_count": 114,
   "metadata": {
    "collapsed": false
   },
   "outputs": [
    {
     "data": {
      "text/plain": [
       "array([ 10039.,  10375.,  10852.,  20195.])"
      ]
     },
     "execution_count": 114,
     "metadata": {},
     "output_type": "execute_result"
    }
   ],
   "source": [
    "percentiles = [.05, .1, .25,.50,.75]\n",
    "j = [int(len(roll_calls) * x) for x in percentiles]\n",
    "roll_calls[j]"
   ]
  },
  {
   "cell_type": "markdown",
   "metadata": {},
   "source": [
    "### Vote with Cosponsors\n",
    "\n",
    "Construct cumulative vote concurrence between all members of congress. Can't think of a great way to do this without looping :-("
   ]
  },
  {
   "cell_type": "code",
   "execution_count": 149,
   "metadata": {
    "collapsed": false
   },
   "outputs": [
    {
     "data": {
      "text/plain": [
       "True"
      ]
     },
     "execution_count": 149,
     "metadata": {},
     "output_type": "execute_result"
    }
   ],
   "source": [
    "(1.0, 'senate') == (1, 'senate')"
   ]
  },
  {
   "cell_type": "code",
   "execution_count": 211,
   "metadata": {
    "collapsed": false
   },
   "outputs": [],
   "source": [
    "def vote_concurrence(df):\n",
    "    \"\"\"To save on memory. Only record every \"\"\"\n",
    "    cumulative = defaultdict(lambda: defaultdict(lambda: (defaultdict(int))))\n",
    "    vote_conc = defaultdict(lambda: defaultdict(lambda: defaultdict(lambda: (defaultdict(int)))))\n",
    "    \n",
    "    check_points = {}\n",
    "    roll_calls = df.groupby(['congress', 'chamber']).s_roll.agg(lambda x: set(x))\n",
    "    for i, value in roll_calls.iteritems():\n",
    "        cp = np.sort(np.asarray(list((value))))\n",
    "        percentiles = [.05, .1, .25,.50,.75]\n",
    "        j = [int(len(cp) * x) for x in percentiles]\n",
    "        cp = list(cp[j])\n",
    "        check_points[i] = cp\n",
    "        \n",
    "\n",
    "    for i1, m1 in df.iterrows():\n",
    "        for i2, m2 in df[df.bill_id == m1.bill_id].iterrows():\n",
    "            if m1.member_id == m2.member_id: \n",
    "                continue\n",
    "            total_votes = cumulative[int(m1.congress)][(m1.member_id, m2.member_id)]['total']\n",
    "            votes_incommon = cumulative[int(m1.congress)][(m1.member_id, m2.member_id)]['together']\n",
    "            cumulative[int(m1.congress)][(m1.member_id, m2.member_id)]['total'] += 1\n",
    "            if m1.vote_position == m2.vote_position:\n",
    "                cumulative[int(m1.congress)][(m1.member_id, m2.member_id)]['together'] += 1\n",
    "            \n",
    "            # for early in congress, record votes every 10 roll calls\n",
    "            \n",
    "            if m1.s_roll in check_points[(m1.congress, m1.chamber)]:\n",
    "                vote_conc[int(m1.congress)][(m1.chamber, m1.s_roll)][(m1.member_id, m2.member_id)]['together'] = votes_incommon\n",
    "                vote_conc[int(m1.congress)][(m1.chamber, m1.s_roll)][(m1.member_id, m2.member_id)]['total'] = total_votes\n",
    "    return vote_conc\n",
    "                    \n",
    "            \n"
   ]
  },
  {
   "cell_type": "code",
   "execution_count": 212,
   "metadata": {
    "collapsed": false
   },
   "outputs": [
    {
     "ename": "KeyboardInterrupt",
     "evalue": "",
     "output_type": "error",
     "traceback": [
      "\u001b[0;31m---------------------------------------------------------------------------\u001b[0m",
      "\u001b[0;31mKeyboardInterrupt\u001b[0m                         Traceback (most recent call last)",
      "\u001b[0;32m<ipython-input-212-1df068bf88d4>\u001b[0m in \u001b[0;36m<module>\u001b[0;34m()\u001b[0m\n\u001b[0;32m----> 1\u001b[0;31m \u001b[0mmember_votes_incommon\u001b[0m \u001b[1;33m=\u001b[0m \u001b[0mvote_concurrence\u001b[0m\u001b[1;33m(\u001b[0m\u001b[0mdf_votes\u001b[0m\u001b[1;33m)\u001b[0m\u001b[1;33m\u001b[0m\u001b[0m\n\u001b[0m",
      "\u001b[0;32m<ipython-input-211-d5bf49e9f410>\u001b[0m in \u001b[0;36mvote_concurrence\u001b[0;34m(df)\u001b[0m\n\u001b[1;32m     15\u001b[0m \u001b[1;33m\u001b[0m\u001b[0m\n\u001b[1;32m     16\u001b[0m     \u001b[1;32mfor\u001b[0m \u001b[0mi1\u001b[0m\u001b[1;33m,\u001b[0m \u001b[0mm1\u001b[0m \u001b[1;32min\u001b[0m \u001b[0mdf\u001b[0m\u001b[1;33m.\u001b[0m\u001b[0miterrows\u001b[0m\u001b[1;33m(\u001b[0m\u001b[1;33m)\u001b[0m\u001b[1;33m:\u001b[0m\u001b[1;33m\u001b[0m\u001b[0m\n\u001b[0;32m---> 17\u001b[0;31m         \u001b[1;32mfor\u001b[0m \u001b[0mi2\u001b[0m\u001b[1;33m,\u001b[0m \u001b[0mm2\u001b[0m \u001b[1;32min\u001b[0m \u001b[0mdf\u001b[0m\u001b[1;33m[\u001b[0m\u001b[0mdf\u001b[0m\u001b[1;33m.\u001b[0m\u001b[0mbill_id\u001b[0m \u001b[1;33m==\u001b[0m \u001b[0mm1\u001b[0m\u001b[1;33m.\u001b[0m\u001b[0mbill_id\u001b[0m\u001b[1;33m]\u001b[0m\u001b[1;33m.\u001b[0m\u001b[0miterrows\u001b[0m\u001b[1;33m(\u001b[0m\u001b[1;33m)\u001b[0m\u001b[1;33m:\u001b[0m\u001b[1;33m\u001b[0m\u001b[0m\n\u001b[0m\u001b[1;32m     18\u001b[0m             \u001b[1;32mif\u001b[0m \u001b[0mm1\u001b[0m\u001b[1;33m.\u001b[0m\u001b[0mmember_id\u001b[0m \u001b[1;33m==\u001b[0m \u001b[0mm2\u001b[0m\u001b[1;33m.\u001b[0m\u001b[0mmember_id\u001b[0m\u001b[1;33m:\u001b[0m\u001b[1;33m\u001b[0m\u001b[0m\n\u001b[1;32m     19\u001b[0m                 \u001b[1;32mcontinue\u001b[0m\u001b[1;33m\u001b[0m\u001b[0m\n",
      "\u001b[0;32mC:\\Users\\Steve\\Anaconda3\\lib\\site-packages\\pandas\\core\\ops.py\u001b[0m in \u001b[0;36mwrapper\u001b[0;34m(self, other, axis)\u001b[0m\n\u001b[1;32m    853\u001b[0m \u001b[1;33m\u001b[0m\u001b[0m\n\u001b[1;32m    854\u001b[0m             \u001b[1;32mwith\u001b[0m \u001b[0mnp\u001b[0m\u001b[1;33m.\u001b[0m\u001b[0merrstate\u001b[0m\u001b[1;33m(\u001b[0m\u001b[0mall\u001b[0m\u001b[1;33m=\u001b[0m\u001b[1;34m'ignore'\u001b[0m\u001b[1;33m)\u001b[0m\u001b[1;33m:\u001b[0m\u001b[1;33m\u001b[0m\u001b[0m\n\u001b[0;32m--> 855\u001b[0;31m                 \u001b[0mres\u001b[0m \u001b[1;33m=\u001b[0m \u001b[0mna_op\u001b[0m\u001b[1;33m(\u001b[0m\u001b[0mvalues\u001b[0m\u001b[1;33m,\u001b[0m \u001b[0mother\u001b[0m\u001b[1;33m)\u001b[0m\u001b[1;33m\u001b[0m\u001b[0m\n\u001b[0m\u001b[1;32m    856\u001b[0m             \u001b[1;32mif\u001b[0m \u001b[0misscalar\u001b[0m\u001b[1;33m(\u001b[0m\u001b[0mres\u001b[0m\u001b[1;33m)\u001b[0m\u001b[1;33m:\u001b[0m\u001b[1;33m\u001b[0m\u001b[0m\n\u001b[1;32m    857\u001b[0m                 raise TypeError('Could not compare %s type with Series' %\n",
      "\u001b[0;32mC:\\Users\\Steve\\Anaconda3\\lib\\site-packages\\pandas\\core\\ops.py\u001b[0m in \u001b[0;36mna_op\u001b[0;34m(x, y)\u001b[0m\n\u001b[1;32m    757\u001b[0m \u001b[1;33m\u001b[0m\u001b[0m\n\u001b[1;32m    758\u001b[0m         \u001b[1;32mif\u001b[0m \u001b[0mis_object_dtype\u001b[0m\u001b[1;33m(\u001b[0m\u001b[0mx\u001b[0m\u001b[1;33m.\u001b[0m\u001b[0mdtype\u001b[0m\u001b[1;33m)\u001b[0m\u001b[1;33m:\u001b[0m\u001b[1;33m\u001b[0m\u001b[0m\n\u001b[0;32m--> 759\u001b[0;31m             \u001b[0mresult\u001b[0m \u001b[1;33m=\u001b[0m \u001b[0m_comp_method_OBJECT_ARRAY\u001b[0m\u001b[1;33m(\u001b[0m\u001b[0mop\u001b[0m\u001b[1;33m,\u001b[0m \u001b[0mx\u001b[0m\u001b[1;33m,\u001b[0m \u001b[0my\u001b[0m\u001b[1;33m)\u001b[0m\u001b[1;33m\u001b[0m\u001b[0m\n\u001b[0m\u001b[1;32m    760\u001b[0m         \u001b[1;32melse\u001b[0m\u001b[1;33m:\u001b[0m\u001b[1;33m\u001b[0m\u001b[0m\n\u001b[1;32m    761\u001b[0m \u001b[1;33m\u001b[0m\u001b[0m\n",
      "\u001b[0;31mKeyboardInterrupt\u001b[0m: "
     ]
    }
   ],
   "source": [
    "member_votes_incommon = vote_concurrence(df_votes)"
   ]
  },
  {
   "cell_type": "code",
   "execution_count": null,
   "metadata": {
    "collapsed": true
   },
   "outputs": [],
   "source": [
    "print(\"im done\")"
   ]
  },
  {
   "cell_type": "code",
   "execution_count": 210,
   "metadata": {
    "collapsed": false
   },
   "outputs": [
    {
     "data": {
      "text/plain": [
       "congress  chamber\n",
       "101.0     Senate     {10051.0, 10044.0, 10024.0, 10025.0, 10057.0, ...\n",
       "Name: s_roll, dtype: object"
      ]
     },
     "execution_count": 210,
     "metadata": {},
     "output_type": "execute_result"
    }
   ],
   "source": [
    "member_votes_incommon"
   ]
  },
  {
   "cell_type": "code",
   "execution_count": null,
   "metadata": {
    "collapsed": true
   },
   "outputs": [],
   "source": []
  },
  {
   "cell_type": "code",
   "execution_count": 178,
   "metadata": {
    "collapsed": false
   },
   "outputs": [
    {
     "data": {
      "text/plain": [
       "dict_keys([('Senate', 10012.0), ('Senate', 10024.0), ('Senate', 10025.0), ('Senate', 10044.0), ('Senate', 10062.0)])"
      ]
     },
     "execution_count": 178,
     "metadata": {},
     "output_type": "execute_result"
    }
   ],
   "source": [
    "member_votes_incommon[101].keys()"
   ]
  },
  {
   "cell_type": "code",
   "execution_count": 181,
   "metadata": {
    "collapsed": false
   },
   "outputs": [],
   "source": [
    "check_points = vote_concurrence(df_votes)"
   ]
  },
  {
   "cell_type": "code",
   "execution_count": 175,
   "metadata": {
    "collapsed": false
   },
   "outputs": [
    {
     "data": {
      "text/plain": [
       "False"
      ]
     },
     "execution_count": 175,
     "metadata": {},
     "output_type": "execute_result"
    }
   ],
   "source": [
    "10024.0 in check_points[(101, 'Senate')]"
   ]
  },
  {
   "cell_type": "code",
   "execution_count": 187,
   "metadata": {
    "collapsed": false
   },
   "outputs": [
    {
     "data": {
      "text/plain": [
       "{(101.0, 'Senate'): [10044.0, 10065.0, 10205.0, 20002.0, 20204.0],\n",
       " (102.0, 'House'): [10021.0, 10025.0, 10072.0, 20092.0, 20122.0],\n",
       " (102.0, 'Senate'): [10020.0, 10045.0, 20062.0, 20067.0, 20100.0],\n",
       " (103.0, 'House'): [10158.0, 10217.0, 10439.0, 20007.0, 20259.0],\n",
       " (103.0, 'Senate'): [10114.0, 10158.0, 10281.0, 20034.0, 20133.0],\n",
       " (104.0, 'House'): [10145.0, 10218.0, 10499.0, 10836.0, 20182.0],\n",
       " (104.0, 'Senate'): [10064.0, 10115.0, 10295.0, 10588.0, 20158.0],\n",
       " (105.0, 'House'): [10048.0, 10078.0, 10248.0, 10533.0, 20083.0],\n",
       " (105.0, 'Senate'): [10024.0, 10031.0, 10071.0, 10201.0, 20037.0],\n",
       " (106.0, 'House'): [10020.0, 10033.0, 10120.0, 10362.0, 10608.0],\n",
       " (106.0, 'Senate'): [10026.0, 10028.0, 10067.0, 10168.0, 10325.0],\n",
       " (107.0, 'House'): [10031.0, 10063.0, 10196.0, 10498.0, 20229.0],\n",
       " (107.0, 'Senate'): [10012.0, 10047.0, 10275.0, 10313.0, 20130.0],\n",
       " (108.0, 'House'): [10030.0, 10047.0, 10085.0, 10214.0, 10288.0],\n",
       " (108.0, 'Senate'): [10028.0, 10030.0, 10043.0, 10142.0, 10220.0],\n",
       " (109.0, 'House'): [10094.0, 10136.0, 10538.0, 20068.0, 20404.0],\n",
       " (109.0, 'Senate'): [10044.0, 10082.0, 10235.0, 10365.0, 20205.0],\n",
       " (110.0, 'House'): [10080.0, 10162.0, 10413.0, 11025.0, 20345.0],\n",
       " (110.0, 'Senate'): [10042.0, 10073.0, 10135.0, 10338.0, 20087.0],\n",
       " (111.0, 'House'): [10114.0, 10170.0, 10551.0, 10973.0, 20293.0],\n",
       " (111.0, 'Senate'): [10106.0, 10154.0, 10217.0, 10334.0, 20105.0],\n",
       " (112.0, 'House'): [10149.0, 10198.0, 10462.0, 10861.0, 20224.0],\n",
       " (112.0, 'Senate'): [10003.0, 10006.0, 10059.0, 10163.0, 20096.0],\n",
       " (113.0, 'House'): [10058.0, 10109.0, 10309.0, 10617.0, 20271.0],\n",
       " (113.0, 'Senate'): [10002.0, 10011.0, 10124.0, 10219.0, 20093.0],\n",
       " (114.0, 'House'): [10093.0, 10149.0, 10392.0, 20066.0, 20334.0],\n",
       " (114.0, 'Senate'): [10062.0, 10135.0, 10179.0, 10307.0, 20082.0],\n",
       " (115.0, 'House'): [10084.0, 10098.0, 10189.0, 10289.0, 10437.0],\n",
       " (115.0, 'Senate'): [10051.0, 10066.0, 10083.0, 10098.0, 10147.0]}"
      ]
     },
     "execution_count": 187,
     "metadata": {},
     "output_type": "execute_result"
    }
   ],
   "source": [
    "check_points"
   ]
  },
  {
   "cell_type": "code",
   "execution_count": 98,
   "metadata": {
    "collapsed": false
   },
   "outputs": [
    {
     "data": {
      "text/plain": [
       "10900"
      ]
     },
     "execution_count": 98,
     "metadata": {},
     "output_type": "execute_result"
    }
   ],
   "source": [
    "n = 10901\n",
    "rem = n % 100\n",
    "n - rem"
   ]
  },
  {
   "cell_type": "code",
   "execution_count": 51,
   "metadata": {
    "collapsed": false
   },
   "outputs": [
    {
     "ename": "TypeError",
     "evalue": "first argument must be callable or None",
     "output_type": "error",
     "traceback": [
      "\u001b[0;31m---------------------------------------------------------------------------\u001b[0m",
      "\u001b[0;31mTypeError\u001b[0m                                 Traceback (most recent call last)",
      "\u001b[0;32m<ipython-input-51-b0d0a73c17e7>\u001b[0m in \u001b[0;36m<module>\u001b[0;34m()\u001b[0m\n\u001b[0;32m----> 1\u001b[0;31m \u001b[0mdefaultdict\u001b[0m\u001b[1;33m(\u001b[0m\u001b[0mdefaultdict\u001b[0m\u001b[1;33m(\u001b[0m\u001b[0mint\u001b[0m\u001b[1;33m)\u001b[0m\u001b[1;33m)\u001b[0m\u001b[1;33m\u001b[0m\u001b[0m\n\u001b[0m",
      "\u001b[0;31mTypeError\u001b[0m: first argument must be callable or None"
     ]
    }
   ],
   "source": [
    "defaultdict(int)"
   ]
  },
  {
   "cell_type": "code",
   "execution_count": 54,
   "metadata": {
    "collapsed": false
   },
   "outputs": [
    {
     "data": {
      "text/plain": [
       "defaultdict(collections.defaultdict, {})"
      ]
     },
     "execution_count": 54,
     "metadata": {},
     "output_type": "execute_result"
    }
   ],
   "source": [
    "defaultdict(defaultdict)"
   ]
  },
  {
   "cell_type": "code",
   "execution_count": 71,
   "metadata": {
    "collapsed": true
   },
   "outputs": [],
   "source": [
    "test2 = defaultdict(lambda: defaultdict(lambda: (defaultdict(int))))"
   ]
  },
  {
   "cell_type": "code",
   "execution_count": 64,
   "metadata": {
    "collapsed": false
   },
   "outputs": [],
   "source": [
    "test = defaultdict(lambda: defaultdict(lambda: defaultdict(lambda: (defaultdict(int)))))"
   ]
  },
  {
   "cell_type": "code",
   "execution_count": 61,
   "metadata": {
    "collapsed": false
   },
   "outputs": [],
   "source": [
    "test = defaultdict(lambda: defaultdict(lambda: defaultdict(list(int, int))))"
   ]
  },
  {
   "cell_type": "code",
   "execution_count": 65,
   "metadata": {
    "collapsed": false
   },
   "outputs": [],
   "source": [
    "test['115']['bill'][('mem1','mem2')]['votes'] += 1"
   ]
  },
  {
   "cell_type": "code",
   "execution_count": 91,
   "metadata": {
    "collapsed": true
   },
   "outputs": [],
   "source": [
    "test2['115'][('mem1','mem2')]['total'] +=1"
   ]
  },
  {
   "cell_type": "code",
   "execution_count": 93,
   "metadata": {
    "collapsed": true
   },
   "outputs": [],
   "source": [
    "a = test2['115'][('mem1','mem2')]['total']"
   ]
  },
  {
   "cell_type": "code",
   "execution_count": 94,
   "metadata": {
    "collapsed": false
   },
   "outputs": [
    {
     "data": {
      "text/plain": [
       "3"
      ]
     },
     "execution_count": 94,
     "metadata": {},
     "output_type": "execute_result"
    }
   ],
   "source": [
    "a"
   ]
  },
  {
   "cell_type": "code",
   "execution_count": 73,
   "metadata": {
    "collapsed": false
   },
   "outputs": [
    {
     "data": {
      "text/plain": [
       "defaultdict(<function __main__.<lambda>>,\n",
       "            {'115': defaultdict(<function __main__.<lambda>.<locals>.<lambda>>,\n",
       "                         {('mem1', 'mem2'): defaultdict(int, {'total': 1})})})"
      ]
     },
     "execution_count": 73,
     "metadata": {},
     "output_type": "execute_result"
    }
   ],
   "source": [
    "test2"
   ]
  },
  {
   "cell_type": "code",
   "execution_count": 67,
   "metadata": {
    "collapsed": true
   },
   "outputs": [],
   "source": [
    "test['115']['bill'][('mem1','mem2')]['together'] += 1"
   ]
  },
  {
   "cell_type": "code",
   "execution_count": 82,
   "metadata": {
    "collapsed": true
   },
   "outputs": [],
   "source": [
    "test['115']['bill'][('mem2','mem3')]['together'] += a"
   ]
  },
  {
   "cell_type": "code",
   "execution_count": 83,
   "metadata": {
    "collapsed": false
   },
   "outputs": [
    {
     "data": {
      "text/plain": [
       "defaultdict(<function __main__.<lambda>>,\n",
       "            {'115': defaultdict(<function __main__.<lambda>.<locals>.<lambda>>,\n",
       "                         {'bill': defaultdict(<function __main__.<lambda>.<locals>.<lambda>.<locals>.<lambda>>,\n",
       "                                      {('mem1', 'mem2'): defaultdict(int,\n",
       "                                                   {'together': 1,\n",
       "                                                    'votes': 1}),\n",
       "                                       ('mem2', 'mem3'): defaultdict(int,\n",
       "                                                   {'together': 4})})})})"
      ]
     },
     "execution_count": 83,
     "metadata": {},
     "output_type": "execute_result"
    }
   ],
   "source": [
    "test"
   ]
  }
 ],
 "metadata": {
  "kernelspec": {
   "display_name": "Python 3",
   "language": "python",
   "name": "python3"
  },
  "language_info": {
   "codemirror_mode": {
    "name": "ipython",
    "version": 3
   },
   "file_extension": ".py",
   "mimetype": "text/x-python",
   "name": "python",
   "nbconvert_exporter": "python",
   "pygments_lexer": "ipython3",
   "version": "3.6.0"
  }
 },
 "nbformat": 4,
 "nbformat_minor": 2
}
