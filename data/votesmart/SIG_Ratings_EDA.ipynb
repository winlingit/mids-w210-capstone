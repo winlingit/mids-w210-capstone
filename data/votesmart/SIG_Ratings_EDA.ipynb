{
 "cells": [
  {
   "cell_type": "markdown",
   "metadata": {},
   "source": [
    "# Special Interest Group Ratings EDA\n",
    "\n"
   ]
  },
  {
   "cell_type": "code",
   "execution_count": 27,
   "metadata": {
    "collapsed": true
   },
   "outputs": [],
   "source": [
    "%matplotlib inline\n",
    "import pandas as pd\n",
    "import seaborn as sns\n",
    "import numpy as np"
   ]
  },
  {
   "cell_type": "code",
   "execution_count": 43,
   "metadata": {},
   "outputs": [],
   "source": [
    "df = pd.read_csv('data/votesmart_denormalized.csv')"
   ]
  },
  {
   "cell_type": "code",
   "execution_count": 44,
   "metadata": {},
   "outputs": [],
   "source": [
    "# Data prep and filtering\n",
    "df = df[df['party'].isin(['Republican', 'Democrat'])]\n",
    "df['rating'] = pd.to_numeric(df['rating'], errors='coerce')\n",
    "df = df[~np.isnan(df['rating'])]"
   ]
  },
  {
   "cell_type": "code",
   "execution_count": 45,
   "metadata": {},
   "outputs": [
    {
     "data": {
      "text/html": [
       "<div>\n",
       "<style>\n",
       "    .dataframe thead tr:only-child th {\n",
       "        text-align: right;\n",
       "    }\n",
       "\n",
       "    .dataframe thead th {\n",
       "        text-align: left;\n",
       "    }\n",
       "\n",
       "    .dataframe tbody tr th {\n",
       "        vertical-align: top;\n",
       "    }\n",
       "</style>\n",
       "<table border=\"1\" class=\"dataframe\">\n",
       "  <thead>\n",
       "    <tr style=\"text-align: right;\">\n",
       "      <th></th>\n",
       "      <th>Unnamed: 0</th>\n",
       "      <th>Unnamed: 0left</th>\n",
       "      <th>candidateIdleft</th>\n",
       "      <th>rating</th>\n",
       "      <th>ratingIdleft</th>\n",
       "      <th>last_name</th>\n",
       "      <th>first_name</th>\n",
       "      <th>gender</th>\n",
       "      <th>type</th>\n",
       "      <th>state</th>\n",
       "      <th>...</th>\n",
       "      <th>sigIdleft2</th>\n",
       "      <th>nameleft2</th>\n",
       "      <th>Unnamed: 0left.1</th>\n",
       "      <th>categoryIdleft</th>\n",
       "      <th>nameleft</th>\n",
       "      <th>sigId</th>\n",
       "      <th>sigParentId</th>\n",
       "      <th>Unnamed: 0.1</th>\n",
       "      <th>categoryId</th>\n",
       "      <th>name</th>\n",
       "    </tr>\n",
       "  </thead>\n",
       "  <tbody>\n",
       "    <tr>\n",
       "      <th>5</th>\n",
       "      <td>209603</td>\n",
       "      <td>209603</td>\n",
       "      <td>2919</td>\n",
       "      <td>79.0</td>\n",
       "      <td>5953</td>\n",
       "      <td>Chamberlain</td>\n",
       "      <td>Ebenezer</td>\n",
       "      <td>M</td>\n",
       "      <td>rep</td>\n",
       "      <td>IN</td>\n",
       "      <td>...</td>\n",
       "      <td>211</td>\n",
       "      <td>Rhode Island National Federation of Independen...</td>\n",
       "      <td>211</td>\n",
       "      <td>4</td>\n",
       "      <td>National Association of Wheat Growers</td>\n",
       "      <td>684</td>\n",
       "      <td>-1</td>\n",
       "      <td>4</td>\n",
       "      <td>7</td>\n",
       "      <td>Arts, Entertainment, and History</td>\n",
       "    </tr>\n",
       "    <tr>\n",
       "      <th>7</th>\n",
       "      <td>209614</td>\n",
       "      <td>209614</td>\n",
       "      <td>6098</td>\n",
       "      <td>31.0</td>\n",
       "      <td>5953</td>\n",
       "      <td>Jones</td>\n",
       "      <td>James</td>\n",
       "      <td>M</td>\n",
       "      <td>sen</td>\n",
       "      <td>AR</td>\n",
       "      <td>...</td>\n",
       "      <td>211</td>\n",
       "      <td>Rhode Island National Federation of Independen...</td>\n",
       "      <td>211</td>\n",
       "      <td>4</td>\n",
       "      <td>National Association of Wheat Growers</td>\n",
       "      <td>684</td>\n",
       "      <td>-1</td>\n",
       "      <td>4</td>\n",
       "      <td>7</td>\n",
       "      <td>Arts, Entertainment, and History</td>\n",
       "    </tr>\n",
       "    <tr>\n",
       "      <th>8</th>\n",
       "      <td>209615</td>\n",
       "      <td>209615</td>\n",
       "      <td>379</td>\n",
       "      <td>52.0</td>\n",
       "      <td>5953</td>\n",
       "      <td>Maloney</td>\n",
       "      <td>Sean</td>\n",
       "      <td>M</td>\n",
       "      <td>rep</td>\n",
       "      <td>NY</td>\n",
       "      <td>...</td>\n",
       "      <td>211</td>\n",
       "      <td>Rhode Island National Federation of Independen...</td>\n",
       "      <td>211</td>\n",
       "      <td>4</td>\n",
       "      <td>National Association of Wheat Growers</td>\n",
       "      <td>684</td>\n",
       "      <td>-1</td>\n",
       "      <td>4</td>\n",
       "      <td>7</td>\n",
       "      <td>Arts, Entertainment, and History</td>\n",
       "    </tr>\n",
       "    <tr>\n",
       "      <th>10</th>\n",
       "      <td>209616</td>\n",
       "      <td>209616</td>\n",
       "      <td>515</td>\n",
       "      <td>41.0</td>\n",
       "      <td>5953</td>\n",
       "      <td>Gottheimer</td>\n",
       "      <td>Josh</td>\n",
       "      <td>M</td>\n",
       "      <td>rep</td>\n",
       "      <td>NJ</td>\n",
       "      <td>...</td>\n",
       "      <td>211</td>\n",
       "      <td>Rhode Island National Federation of Independen...</td>\n",
       "      <td>211</td>\n",
       "      <td>4</td>\n",
       "      <td>National Association of Wheat Growers</td>\n",
       "      <td>684</td>\n",
       "      <td>-1</td>\n",
       "      <td>4</td>\n",
       "      <td>7</td>\n",
       "      <td>Arts, Entertainment, and History</td>\n",
       "    </tr>\n",
       "    <tr>\n",
       "      <th>11</th>\n",
       "      <td>209616</td>\n",
       "      <td>209616</td>\n",
       "      <td>515</td>\n",
       "      <td>41.0</td>\n",
       "      <td>5953</td>\n",
       "      <td>Van Horne</td>\n",
       "      <td>Archibald</td>\n",
       "      <td>M</td>\n",
       "      <td>rep</td>\n",
       "      <td>MD</td>\n",
       "      <td>...</td>\n",
       "      <td>211</td>\n",
       "      <td>Rhode Island National Federation of Independen...</td>\n",
       "      <td>211</td>\n",
       "      <td>4</td>\n",
       "      <td>National Association of Wheat Growers</td>\n",
       "      <td>684</td>\n",
       "      <td>-1</td>\n",
       "      <td>4</td>\n",
       "      <td>7</td>\n",
       "      <td>Arts, Entertainment, and History</td>\n",
       "    </tr>\n",
       "  </tbody>\n",
       "</table>\n",
       "<p>5 rows × 27 columns</p>\n",
       "</div>"
      ],
      "text/plain": [
       "    Unnamed: 0  Unnamed: 0left  candidateIdleft  rating  ratingIdleft  \\\n",
       "5       209603          209603             2919    79.0          5953   \n",
       "7       209614          209614             6098    31.0          5953   \n",
       "8       209615          209615              379    52.0          5953   \n",
       "10      209616          209616              515    41.0          5953   \n",
       "11      209616          209616              515    41.0          5953   \n",
       "\n",
       "      last_name first_name gender type state  \\\n",
       "5   Chamberlain   Ebenezer      M  rep    IN   \n",
       "7         Jones      James      M  sen    AR   \n",
       "8       Maloney       Sean      M  rep    NY   \n",
       "10   Gottheimer       Josh      M  rep    NJ   \n",
       "11    Van Horne  Archibald      M  rep    MD   \n",
       "\n",
       "                  ...                sigIdleft2  \\\n",
       "5                 ...                       211   \n",
       "7                 ...                       211   \n",
       "8                 ...                       211   \n",
       "10                ...                       211   \n",
       "11                ...                       211   \n",
       "\n",
       "                                            nameleft2  Unnamed: 0left.1  \\\n",
       "5   Rhode Island National Federation of Independen...               211   \n",
       "7   Rhode Island National Federation of Independen...               211   \n",
       "8   Rhode Island National Federation of Independen...               211   \n",
       "10  Rhode Island National Federation of Independen...               211   \n",
       "11  Rhode Island National Federation of Independen...               211   \n",
       "\n",
       "    categoryIdleft                               nameleft sigId  sigParentId  \\\n",
       "5                4  National Association of Wheat Growers   684           -1   \n",
       "7                4  National Association of Wheat Growers   684           -1   \n",
       "8                4  National Association of Wheat Growers   684           -1   \n",
       "10               4  National Association of Wheat Growers   684           -1   \n",
       "11               4  National Association of Wheat Growers   684           -1   \n",
       "\n",
       "    Unnamed: 0.1 categoryId                              name  \n",
       "5              4          7  Arts, Entertainment, and History  \n",
       "7              4          7  Arts, Entertainment, and History  \n",
       "8              4          7  Arts, Entertainment, and History  \n",
       "10             4          7  Arts, Entertainment, and History  \n",
       "11             4          7  Arts, Entertainment, and History  \n",
       "\n",
       "[5 rows x 27 columns]"
      ]
     },
     "execution_count": 45,
     "metadata": {},
     "output_type": "execute_result"
    }
   ],
   "source": [
    "df.head()"
   ]
  },
  {
   "cell_type": "code",
   "execution_count": 46,
   "metadata": {},
   "outputs": [
    {
     "data": {
      "text/plain": [
       "(102105, 27)"
      ]
     },
     "execution_count": 46,
     "metadata": {},
     "output_type": "execute_result"
    }
   ],
   "source": [
    "df.shape"
   ]
  },
  {
   "cell_type": "code",
   "execution_count": 47,
   "metadata": {},
   "outputs": [
    {
     "data": {
      "text/plain": [
       "Index(['Unnamed: 0', 'Unnamed: 0left', 'candidateIdleft', 'rating',\n",
       "       'ratingIdleft', 'last_name', 'first_name', 'gender', 'type', 'state',\n",
       "       'party', 'candidateId', 'sigIdleft', 'ratingId', 'ratingName',\n",
       "       'timespan', 'Unnamed: 0left2', 'sigIdleft2', 'nameleft2',\n",
       "       'Unnamed: 0left.1', 'categoryIdleft', 'nameleft', 'sigId',\n",
       "       'sigParentId', 'Unnamed: 0.1', 'categoryId', 'name'],\n",
       "      dtype='object')"
      ]
     },
     "execution_count": 47,
     "metadata": {},
     "output_type": "execute_result"
    }
   ],
   "source": [
    "df.columns"
   ]
  },
  {
   "cell_type": "code",
   "execution_count": 48,
   "metadata": {
    "scrolled": true
   },
   "outputs": [
    {
     "data": {
      "text/plain": [
       "name                                    party     \n",
       "Agriculture and Food                    Democrat      57.743181\n",
       "                                        Republican    56.549253\n",
       "Animals and Wildlife                    Democrat      52.005814\n",
       "                                        Republican    59.822134\n",
       "Arts, Entertainment, and History        Democrat      53.494505\n",
       "                                        Republican    52.275910\n",
       "Business and Consumers                  Democrat      55.851417\n",
       "                                        Republican    54.844023\n",
       "Civil Liberties and Civil Rights        Democrat      59.635514\n",
       "                                        Republican    58.642626\n",
       "Drugs                                   Democrat      56.239687\n",
       "                                        Republican    55.222114\n",
       "Education                               Democrat      69.604651\n",
       "                                        Republican    77.320513\n",
       "Employment and Affirmative Action       Democrat      58.766479\n",
       "                                        Republican    58.754313\n",
       "Federal, State and Local Relations      Democrat      49.283871\n",
       "                                        Republican    45.935115\n",
       "Guns                                    Democrat      49.224638\n",
       "                                        Republican    47.761770\n",
       "Housing and Property                    Democrat      49.380301\n",
       "                                        Republican    51.157970\n",
       "Labor Unions                            Democrat      59.058333\n",
       "                                        Republican    58.223881\n",
       "Marriage, Family, and Children          Democrat      56.279582\n",
       "                                        Republican    50.812325\n",
       "National Security                       Democrat      50.053286\n",
       "                                        Republican    54.555556\n",
       "Science                                 Democrat      58.643062\n",
       "                                        Republican    57.792022\n",
       "Senior Citizens                         Democrat      59.857236\n",
       "                                        Republican    59.134403\n",
       "Sexual Orientation and Gender Identity  Democrat      59.248963\n",
       "                                        Republican    55.977273\n",
       "Unemployed and Low-Income               Democrat      59.667313\n",
       "                                        Republican    57.875859\n",
       "Veterans                                Democrat      57.467700\n",
       "                                        Republican    56.001551\n",
       "Women                                   Democrat      59.269889\n",
       "                                        Republican    57.723646\n",
       "Name: rating, dtype: float64"
      ]
     },
     "execution_count": 48,
     "metadata": {},
     "output_type": "execute_result"
    }
   ],
   "source": [
    "df.groupby(['name', 'party'])['rating'].mean()"
   ]
  },
  {
   "cell_type": "code",
   "execution_count": 49,
   "metadata": {},
   "outputs": [
    {
     "data": {
      "text/plain": [
       "Ttest_indResult(statistic=-5.3513668733862891, pvalue=8.747986748487695e-08)"
      ]
     },
     "execution_count": 49,
     "metadata": {},
     "output_type": "execute_result"
    }
   ],
   "source": [
    "from scipy.stats import ttest_ind\n",
    "\n",
    "result = ttest_ind(df[df['party']=='Republican']['rating'], df[df['party']=='Democrat']['rating'])\n",
    "result"
   ]
  },
  {
   "cell_type": "code",
   "execution_count": 50,
   "metadata": {},
   "outputs": [
    {
     "data": {
      "text/plain": [
       "Republican    59169\n",
       "Democrat      42936\n",
       "Name: party, dtype: int64"
      ]
     },
     "execution_count": 50,
     "metadata": {},
     "output_type": "execute_result"
    }
   ],
   "source": [
    "df['party'].value_counts()"
   ]
  },
  {
   "cell_type": "code",
   "execution_count": null,
   "metadata": {
    "collapsed": true
   },
   "outputs": [],
   "source": []
  }
 ],
 "metadata": {
  "kernelspec": {
   "display_name": "Python 3",
   "language": "python",
   "name": "python3"
  },
  "language_info": {
   "codemirror_mode": {
    "name": "ipython",
    "version": 3
   },
   "file_extension": ".py",
   "mimetype": "text/x-python",
   "name": "python",
   "nbconvert_exporter": "python",
   "pygments_lexer": "ipython3",
   "version": "3.6.1"
  }
 },
 "nbformat": 4,
 "nbformat_minor": 2
}
