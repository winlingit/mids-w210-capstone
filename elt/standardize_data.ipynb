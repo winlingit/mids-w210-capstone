{
 "cells": [
  {
   "cell_type": "markdown",
   "metadata": {},
   "source": [
    "# FEC Election Results Data\n",
    "Election results are stored in excel files with slightly different formats across years. Purpose of this notebook is to:\n",
    "1. Combine data into one flat file\n",
    "2. Only keep data on candidates who won a seat\n",
    "3. Do some basic cleaning\n",
    "\n",
    "Data was downloaded from here: https://transition.fec.gov/pubrec/electionresults.shtml"
   ]
  },
  {
   "cell_type": "code",
   "execution_count": 1,
   "metadata": {
    "collapsed": true
   },
   "outputs": [],
   "source": [
    "import pandas as pd\n",
    "import numpy as np\n",
    "pd.options.display.max_columns = 100"
   ]
  },
  {
   "cell_type": "markdown",
   "metadata": {},
   "source": [
    "## 2014 Results"
   ]
  },
  {
   "cell_type": "code",
   "execution_count": 110,
   "metadata": {
    "collapsed": true
   },
   "outputs": [],
   "source": [
    "df_14_senate = pd.read_excel('raw/results14.xls', sheetname='2014 US Senate Results by State')\n",
    "df_14_senate = df_14_senate[df_14_senate['GE WINNER INDICATOR'] == 'W']\n",
    "df_14_house = pd.read_excel('raw/results14.xls', sheetname='2014 US House Results by State')\n",
    "df_14_house = df_14_house[df_14_house['GE WINNER INDICATOR'] == 'W']\n",
    "df_master = pd.concat([df_14_house,df_14_senate])\n",
    "df_master['election_year'] = 2014"
   ]
  },
  {
   "cell_type": "markdown",
   "metadata": {},
   "source": [
    "## 2012 Results"
   ]
  },
  {
   "cell_type": "code",
   "execution_count": 111,
   "metadata": {
    "collapsed": false
   },
   "outputs": [],
   "source": [
    "df_12_combined = pd.read_excel('raw/2012congresults.xls', sheetname='2012 US House & Senate Results')\n",
    "df_12_combined = df_12_combined[df_12_combined['GE WINNER INDICATOR'] == 'W']\n",
    "df_12_combined['election_year'] = 2012\n",
    "df_master = pd.concat([df_master, df_12_combined])"
   ]
  },
  {
   "cell_type": "markdown",
   "metadata": {},
   "source": [
    "## 2010 Results"
   ]
  },
  {
   "cell_type": "code",
   "execution_count": 112,
   "metadata": {
    "collapsed": true
   },
   "outputs": [],
   "source": [
    "df_10_combined = pd.read_excel('raw/results10.xls', sheetname='2010 US House & Senate Results')\n",
    "df_10_combined.dropna(subset=['GENERAL %'], inplace=True)\n",
    "df_10_combined['election_year'] = 2010\n",
    "election_winners = df_10_combined.groupby(['STATE','DISTRICT'])['GENERAL %'].apply(lambda x: x.argmax()).tolist()\n",
    "df_10_combined = df_10_combined.loc[election_winners]\n",
    "df_10_combined['GE WINNER INDICATOR'] = 'W'\n",
    "df_10_combined.rename(columns={'CANDIDATE NAME (Last, First)': 'CANDIDATE NAME', \n",
    "                               'DISTRICT': 'D', \n",
    "                               'GENERAL ': 'GENERAL VOTES ', \n",
    "                               'INCUMBENT INDICATOR (I)':'(I)', \n",
    "                               'PRIMARY': 'PRIMARY VOTES', \n",
    "                               'RUNOFF':'RUNOFF VOTES'}, inplace = True)\n",
    "df_10_combined.drop('Unnamed: 20', axis = 1, inplace=True)\n",
    "df_master = pd.concat([df_master, df_10_combined])"
   ]
  },
  {
   "cell_type": "markdown",
   "metadata": {},
   "source": [
    "## 2008 Results"
   ]
  },
  {
   "cell_type": "code",
   "execution_count": 113,
   "metadata": {
    "collapsed": true
   },
   "outputs": [],
   "source": [
    "df_08_combined = pd.read_excel('raw/2008congresults.xls', sheetname='2008 House and Senate Results')\n",
    "df_08_combined['GENERAL %'] = pd.to_numeric(df_08_combined['GENERAL %'], errors='coerce')\n",
    "df_08_combined.dropna(subset=['GENERAL %'], inplace=True)\n",
    "df_08_combined['election_year'] = 2008\n",
    "election_winners = df_08_combined.groupby(['STATE','DISTRICT'])['GENERAL %'].apply(lambda x: x.argmax()).tolist()\n",
    "df_08_combined = df_08_combined.loc[election_winners]\n",
    "df_08_combined['GE WINNER INDICATOR'] = 'W'\n",
    "df_08_combined.rename(columns={'Candidate Name (Last)': 'CANDIDATE NAME (Last)', \n",
    "                               'DISTRICT': 'D', \n",
    "                               'GENERAL ': 'GENERAL VOTES ', \n",
    "                               'INCUMBENT INDICATOR (I)':'(I)', \n",
    "                               'PRIMARY': 'PRIMARY VOTES', \n",
    "                               'RUNOFF':'RUNOFF VOTES'}, inplace = True)\n",
    "#df_08_combined.drop(['GE RUNOFF','GE RUNOFF %' ], axis = 1, inplace=True)\n",
    "df_master = pd.concat([df_master, df_08_combined])"
   ]
  },
  {
   "cell_type": "markdown",
   "metadata": {},
   "source": [
    "## 2006 Results"
   ]
  },
  {
   "cell_type": "code",
   "execution_count": 114,
   "metadata": {
    "collapsed": true
   },
   "outputs": [],
   "source": [
    "df_06_combined = pd.read_excel('raw/results06.xls', sheetname='2006 US House & Senate Results')\n",
    "df_06_combined.dropna(subset=['GENERAL %'], inplace=True)\n",
    "df_06_combined['election_year'] = 2006\n",
    "election_winners = df_06_combined.groupby(['STATE','DISTRICT'])['GENERAL %'].apply(lambda x: x.argmax()).tolist()\n",
    "df_06_combined = df_06_combined.loc[election_winners]\n",
    "df_06_combined['GE WINNER INDICATOR'] = 'W'\n",
    "df_06_combined.rename(columns={'#': 1, \n",
    "                               'DISTRICT': 'D', \n",
    "                               'FEC ID': 'FEC ID#', \n",
    "                               'FIRST NAME': 'CANDIDATE NAME (First)', \n",
    "                               'LAST NAME': 'CANDIDATE NAME (Last)',\n",
    "                               'GENERAL': 'GENERAL VOTES ', \n",
    "                               'INCUMBENT INDICATOR':'(I)', \n",
    "                               'PRIMARY': 'PRIMARY VOTES', \n",
    "                               'RUNOFF':'RUNOFF VOTES', \n",
    "                               'Notes (See Endnotes Tab)':'FOOTNOTES', \n",
    "                               'LAST NAME, FIRST':'CANDIDATE NAME'}, inplace = True)\n",
    "df_master = pd.concat([df_master, df_06_combined])"
   ]
  },
  {
   "cell_type": "markdown",
   "metadata": {},
   "source": [
    "## 2004 Results"
   ]
  },
  {
   "cell_type": "code",
   "execution_count": 121,
   "metadata": {
    "collapsed": true
   },
   "outputs": [],
   "source": [
    "df_04_combined = pd.read_excel('raw/2004congresults.xls', sheetname='2004 US HOUSE & SENATE RESULTS')\n",
    "df_04_combined.dropna(subset=['GENERAL %'], inplace=True)\n",
    "df_04_combined['election_year'] = 2004\n",
    "election_winners = df_04_combined.groupby(['STATE','DISTRICT'])['GENERAL %'].apply(lambda x: x.argmax()).tolist()\n",
    "df_04_combined = df_04_combined.loc[election_winners]\n",
    "df_04_combined['GE WINNER INDICATOR'] = 'W'\n",
    "df_04_combined.rename(columns={'#': 1, \n",
    "                               'DISTRICT': 'D', \n",
    "                               'FEC ID': 'FEC ID#', \n",
    "                               'FIRST NAME': 'CANDIDATE NAME (First)', \n",
    "                               'LAST NAME': 'CANDIDATE NAME (Last)',\n",
    "                               'GENERAL': 'GENERAL VOTES ', \n",
    "                               'INCUMBENT INDICATOR':'(I)', \n",
    "                               'PRIMARY': 'PRIMARY VOTES', \n",
    "                               'RUNOFF':'RUNOFF VOTES', \n",
    "                               'Notes (See Endnotes Tab)':'FOOTNOTES', \n",
    "                               'LAST NAME, FIRST':'CANDIDATE NAME'}, inplace = True)\n",
    "df_master = pd.concat([df_master, df_04_combined])"
   ]
  },
  {
   "cell_type": "markdown",
   "metadata": {},
   "source": [
    "## 2002 Results"
   ]
  },
  {
   "cell_type": "code",
   "execution_count": 149,
   "metadata": {
    "collapsed": false
   },
   "outputs": [],
   "source": [
    "df_02_combined = pd.read_excel('raw/2002fedresults.xls', sheetname='2002 House & Senate Results')\n",
    "df_02_combined['GENERAL %'] = pd.to_numeric(df_02_combined['GENERAL %'], errors='coerce')\n",
    "df_02_combined.dropna(subset=['GENERAL %'], inplace=True)\n",
    "df_02_combined['election_year'] = 2002\n",
    "election_winners = df_02_combined.groupby(['STATE','DISTRICT'])['GENERAL %'].apply(lambda x: x.argmax()).tolist()\n",
    "df_02_combined = df_02_combined.loc[election_winners]\n",
    "df_02_combined['GE WINNER INDICATOR'] = 'W'\n",
    "df_02_combined.rename(columns={'DISTRICT': 'D', \n",
    "                               'FEC ID': 'FEC ID#', \n",
    "                               'FIRST NAME': 'CANDIDATE NAME (First)', \n",
    "                               'LAST NAME': 'CANDIDATE NAME (Last)',\n",
    "                               'LAST NAME,  FIRST': 'CANDIDATE NAME',\n",
    "                               'GENERAL RESULTS': 'GENERAL VOTES ', \n",
    "                               'INCUMBENT INDICATOR':'(I)', \n",
    "                               'PRIMARY RESULTS': 'PRIMARY VOTES', \n",
    "                               'RUNOFF RESULTS':'RUNOFF VOTES', \n",
    "                               'NOTES (See Endnotes Page)':'FOOTNOTES', \n",
    "                               'LAST NAME, FIRST':'CANDIDATE NAME',\n",
    "                               'GENERAL RUNOFF %':'GE RUNOFF %',\n",
    "                               'GENERAL RUNOFF RESULTS':'GE RUNOFF',\n",
    "                               'STATE':'STATE ABBREVIATION'}, inplace = True)\n",
    "df_master = pd.concat([df_master, df_02_combined])"
   ]
  },
  {
   "cell_type": "markdown",
   "metadata": {},
   "source": [
    "## Standardize and Export"
   ]
  },
  {
   "cell_type": "code",
   "execution_count": 151,
   "metadata": {
    "collapsed": false
   },
   "outputs": [
    {
     "data": {
      "text/plain": [
       "(3378, 30)"
      ]
     },
     "execution_count": 151,
     "metadata": {},
     "output_type": "execute_result"
    }
   ],
   "source": [
    "df_master.shape"
   ]
  },
  {
   "cell_type": "code",
   "execution_count": 152,
   "metadata": {
    "collapsed": false
   },
   "outputs": [
    {
     "data": {
      "text/plain": [
       "2014    517\n",
       "2012    482\n",
       "2010    479\n",
       "2006    478\n",
       "2008    476\n",
       "2002    476\n",
       "2004    470\n",
       "Name: election_year, dtype: int64"
      ]
     },
     "execution_count": 152,
     "metadata": {},
     "output_type": "execute_result"
    }
   ],
   "source": [
    "df_master.election_year.value_counts()"
   ]
  },
  {
   "cell_type": "code",
   "execution_count": null,
   "metadata": {
    "collapsed": true
   },
   "outputs": [],
   "source": [
    "from string import ascii_letters\n",
    "new_cols = []\n",
    "for col in df_master.columns:\n",
    "    col = str(col)\n",
    "    col = col.replace('%', 'percent')\n",
    "    col = col.replace(' ', '_')\n",
    "    col = \"\".join([x for x in col if x in ascii_letters + '1234567890_'])\n",
    "    col = col.lower()\n",
    "    if col == 'i':\n",
    "        col = 'incumbent'\n",
    "    if col == 'd':\n",
    "        col = 'district'\n",
    "    new_cols.append(col)\n",
    "df_master.rename(columns=dict(zip(df_master.columns, new_cols)), inplace=True)\n",
    "\n",
    "df_master['state'] = df_master.state.replace({'District of Columbi': 'District of Columbia', \n",
    "                                              'TX': 'Texas'})\n",
    "df_master['incumbent'] = df_master.incumbent.replace({'(I)':1, ' (I)':1})\n",
    "df_master.incumbent.fillna(0, inplace=True)"
   ]
  },
  {
   "cell_type": "code",
   "execution_count": 3,
   "metadata": {
    "collapsed": false
   },
   "outputs": [],
   "source": [
    "df_master = pd.read_csv('fec_election_results.csv', encoding='latin1')"
   ]
  },
  {
   "cell_type": "code",
   "execution_count": 192,
   "metadata": {
    "collapsed": false
   },
   "outputs": [],
   "source": [
    "df_master['party_cleaner'] = df_master.party.replace({'REP': 'R','DEM': 'D'})"
   ]
  },
  {
   "cell_type": "code",
   "execution_count": 129,
   "metadata": {
    "collapsed": false
   },
   "outputs": [
    {
     "data": {
      "text/html": [
       "<div>\n",
       "<table border=\"1\" class=\"dataframe\">\n",
       "  <thead>\n",
       "    <tr style=\"text-align: right;\">\n",
       "      <th></th>\n",
       "      <th>1</th>\n",
       "      <th>state_abbreviation</th>\n",
       "      <th>state</th>\n",
       "      <th>district</th>\n",
       "      <th>fec_id</th>\n",
       "      <th>incumbent</th>\n",
       "      <th>candidate_name_first</th>\n",
       "      <th>candidate_name_last</th>\n",
       "      <th>candidate_name</th>\n",
       "      <th>total_votes</th>\n",
       "      <th>party</th>\n",
       "      <th>primary_votes</th>\n",
       "      <th>primary_percent</th>\n",
       "      <th>runoff_votes</th>\n",
       "      <th>runoff_percent</th>\n",
       "      <th>general_votes_</th>\n",
       "      <th>general_percent</th>\n",
       "      <th>ge_runoff_election_votes_la</th>\n",
       "      <th>ge_runoff_election_percent_la</th>\n",
       "      <th>combined_ge_party_totals_ct_ny_sc</th>\n",
       "      <th>combined_percent_ct_ny_sc</th>\n",
       "      <th>ge_winner_indicator</th>\n",
       "      <th>footnotes</th>\n",
       "      <th>election_year</th>\n",
       "      <th>ge_runoff</th>\n",
       "      <th>ge_runoff_percent</th>\n",
       "      <th>combined_ge_party_totals_ct_ny</th>\n",
       "      <th>combined_percent_ct_ny</th>\n",
       "      <th>combined_ge_party_totals_ny_sc</th>\n",
       "      <th>combined_percent_ny_sc</th>\n",
       "      <th>party_cleaner</th>\n",
       "    </tr>\n",
       "  </thead>\n",
       "  <tbody>\n",
       "    <tr>\n",
       "      <th>0</th>\n",
       "      <td>2.0</td>\n",
       "      <td>AL</td>\n",
       "      <td>Alabama</td>\n",
       "      <td>01</td>\n",
       "      <td>H4AL01123</td>\n",
       "      <td>1.0</td>\n",
       "      <td>Bradley</td>\n",
       "      <td>Byrne</td>\n",
       "      <td>Byrne, Bradley</td>\n",
       "      <td>NaN</td>\n",
       "      <td>R</td>\n",
       "      <td>Unopposed</td>\n",
       "      <td>NaN</td>\n",
       "      <td>NaN</td>\n",
       "      <td>NaN</td>\n",
       "      <td>103758</td>\n",
       "      <td>0.681569</td>\n",
       "      <td>NaN</td>\n",
       "      <td>NaN</td>\n",
       "      <td>NaN</td>\n",
       "      <td>NaN</td>\n",
       "      <td>W</td>\n",
       "      <td>NaN</td>\n",
       "      <td>2014</td>\n",
       "      <td>NaN</td>\n",
       "      <td>NaN</td>\n",
       "      <td>NaN</td>\n",
       "      <td>NaN</td>\n",
       "      <td>NaN</td>\n",
       "      <td>NaN</td>\n",
       "      <td>R</td>\n",
       "    </tr>\n",
       "    <tr>\n",
       "      <th>1</th>\n",
       "      <td>7.0</td>\n",
       "      <td>AL</td>\n",
       "      <td>Alabama</td>\n",
       "      <td>02</td>\n",
       "      <td>H0AL02087</td>\n",
       "      <td>1.0</td>\n",
       "      <td>Martha</td>\n",
       "      <td>Roby</td>\n",
       "      <td>Roby, Martha</td>\n",
       "      <td>NaN</td>\n",
       "      <td>R</td>\n",
       "      <td>Unopposed</td>\n",
       "      <td>NaN</td>\n",
       "      <td>NaN</td>\n",
       "      <td>NaN</td>\n",
       "      <td>113103</td>\n",
       "      <td>0.673425</td>\n",
       "      <td>NaN</td>\n",
       "      <td>NaN</td>\n",
       "      <td>NaN</td>\n",
       "      <td>NaN</td>\n",
       "      <td>W</td>\n",
       "      <td>NaN</td>\n",
       "      <td>2014</td>\n",
       "      <td>NaN</td>\n",
       "      <td>NaN</td>\n",
       "      <td>NaN</td>\n",
       "      <td>NaN</td>\n",
       "      <td>NaN</td>\n",
       "      <td>NaN</td>\n",
       "      <td>R</td>\n",
       "    </tr>\n",
       "    <tr>\n",
       "      <th>2</th>\n",
       "      <td>12.0</td>\n",
       "      <td>AL</td>\n",
       "      <td>Alabama</td>\n",
       "      <td>03</td>\n",
       "      <td>H2AL03032</td>\n",
       "      <td>1.0</td>\n",
       "      <td>Mike</td>\n",
       "      <td>Rogers</td>\n",
       "      <td>Rogers, Mike</td>\n",
       "      <td>NaN</td>\n",
       "      <td>R</td>\n",
       "      <td>50372</td>\n",
       "      <td>0.7589459251781652</td>\n",
       "      <td>NaN</td>\n",
       "      <td>NaN</td>\n",
       "      <td>103558</td>\n",
       "      <td>0.661205</td>\n",
       "      <td>NaN</td>\n",
       "      <td>NaN</td>\n",
       "      <td>NaN</td>\n",
       "      <td>NaN</td>\n",
       "      <td>W</td>\n",
       "      <td>NaN</td>\n",
       "      <td>2014</td>\n",
       "      <td>NaN</td>\n",
       "      <td>NaN</td>\n",
       "      <td>NaN</td>\n",
       "      <td>NaN</td>\n",
       "      <td>NaN</td>\n",
       "      <td>NaN</td>\n",
       "      <td>R</td>\n",
       "    </tr>\n",
       "    <tr>\n",
       "      <th>3</th>\n",
       "      <td>19.0</td>\n",
       "      <td>AL</td>\n",
       "      <td>Alabama</td>\n",
       "      <td>04</td>\n",
       "      <td>H6AL04098</td>\n",
       "      <td>1.0</td>\n",
       "      <td>Robert</td>\n",
       "      <td>Aderholt</td>\n",
       "      <td>Aderholt, Robert</td>\n",
       "      <td>NaN</td>\n",
       "      <td>R</td>\n",
       "      <td>Unopposed</td>\n",
       "      <td>NaN</td>\n",
       "      <td>NaN</td>\n",
       "      <td>NaN</td>\n",
       "      <td>132831</td>\n",
       "      <td>0.985744</td>\n",
       "      <td>NaN</td>\n",
       "      <td>NaN</td>\n",
       "      <td>NaN</td>\n",
       "      <td>NaN</td>\n",
       "      <td>W</td>\n",
       "      <td>NaN</td>\n",
       "      <td>2014</td>\n",
       "      <td>NaN</td>\n",
       "      <td>NaN</td>\n",
       "      <td>NaN</td>\n",
       "      <td>NaN</td>\n",
       "      <td>NaN</td>\n",
       "      <td>NaN</td>\n",
       "      <td>R</td>\n",
       "    </tr>\n",
       "    <tr>\n",
       "      <th>4</th>\n",
       "      <td>23.0</td>\n",
       "      <td>AL</td>\n",
       "      <td>Alabama</td>\n",
       "      <td>05</td>\n",
       "      <td>H0AL05163</td>\n",
       "      <td>1.0</td>\n",
       "      <td>Mo</td>\n",
       "      <td>Brooks</td>\n",
       "      <td>Brooks, Mo</td>\n",
       "      <td>NaN</td>\n",
       "      <td>R</td>\n",
       "      <td>49117</td>\n",
       "      <td>0.8031559152971957</td>\n",
       "      <td>NaN</td>\n",
       "      <td>NaN</td>\n",
       "      <td>115338</td>\n",
       "      <td>0.744241</td>\n",
       "      <td>NaN</td>\n",
       "      <td>NaN</td>\n",
       "      <td>NaN</td>\n",
       "      <td>NaN</td>\n",
       "      <td>W</td>\n",
       "      <td>NaN</td>\n",
       "      <td>2014</td>\n",
       "      <td>NaN</td>\n",
       "      <td>NaN</td>\n",
       "      <td>NaN</td>\n",
       "      <td>NaN</td>\n",
       "      <td>NaN</td>\n",
       "      <td>NaN</td>\n",
       "      <td>R</td>\n",
       "    </tr>\n",
       "  </tbody>\n",
       "</table>\n",
       "</div>"
      ],
      "text/plain": [
       "      1 state_abbreviation    state district     fec_id  incumbent  \\\n",
       "0   2.0                 AL  Alabama       01  H4AL01123        1.0   \n",
       "1   7.0                 AL  Alabama       02  H0AL02087        1.0   \n",
       "2  12.0                 AL  Alabama       03  H2AL03032        1.0   \n",
       "3  19.0                 AL  Alabama       04  H6AL04098        1.0   \n",
       "4  23.0                 AL  Alabama       05  H0AL05163        1.0   \n",
       "\n",
       "  candidate_name_first candidate_name_last    candidate_name  total_votes  \\\n",
       "0              Bradley               Byrne    Byrne, Bradley          NaN   \n",
       "1               Martha                Roby      Roby, Martha          NaN   \n",
       "2                 Mike              Rogers      Rogers, Mike          NaN   \n",
       "3               Robert            Aderholt  Aderholt, Robert          NaN   \n",
       "4                   Mo              Brooks        Brooks, Mo          NaN   \n",
       "\n",
       "  party primary_votes     primary_percent runoff_votes runoff_percent  \\\n",
       "0     R     Unopposed                 NaN          NaN            NaN   \n",
       "1     R     Unopposed                 NaN          NaN            NaN   \n",
       "2     R         50372  0.7589459251781652          NaN            NaN   \n",
       "3     R     Unopposed                 NaN          NaN            NaN   \n",
       "4     R         49117  0.8031559152971957          NaN            NaN   \n",
       "\n",
       "  general_votes_  general_percent  ge_runoff_election_votes_la  \\\n",
       "0         103758         0.681569                          NaN   \n",
       "1         113103         0.673425                          NaN   \n",
       "2         103558         0.661205                          NaN   \n",
       "3         132831         0.985744                          NaN   \n",
       "4         115338         0.744241                          NaN   \n",
       "\n",
       "   ge_runoff_election_percent_la  combined_ge_party_totals_ct_ny_sc  \\\n",
       "0                            NaN                                NaN   \n",
       "1                            NaN                                NaN   \n",
       "2                            NaN                                NaN   \n",
       "3                            NaN                                NaN   \n",
       "4                            NaN                                NaN   \n",
       "\n",
       "   combined_percent_ct_ny_sc ge_winner_indicator footnotes  election_year  \\\n",
       "0                        NaN                   W       NaN           2014   \n",
       "1                        NaN                   W       NaN           2014   \n",
       "2                        NaN                   W       NaN           2014   \n",
       "3                        NaN                   W       NaN           2014   \n",
       "4                        NaN                   W       NaN           2014   \n",
       "\n",
       "  ge_runoff  ge_runoff_percent  combined_ge_party_totals_ct_ny  \\\n",
       "0       NaN                NaN                             NaN   \n",
       "1       NaN                NaN                             NaN   \n",
       "2       NaN                NaN                             NaN   \n",
       "3       NaN                NaN                             NaN   \n",
       "4       NaN                NaN                             NaN   \n",
       "\n",
       "   combined_percent_ct_ny  combined_ge_party_totals_ny_sc  \\\n",
       "0                     NaN                             NaN   \n",
       "1                     NaN                             NaN   \n",
       "2                     NaN                             NaN   \n",
       "3                     NaN                             NaN   \n",
       "4                     NaN                             NaN   \n",
       "\n",
       "   combined_percent_ny_sc party_cleaner  \n",
       "0                     NaN             R  \n",
       "1                     NaN             R  \n",
       "2                     NaN             R  \n",
       "3                     NaN             R  \n",
       "4                     NaN             R  "
      ]
     },
     "execution_count": 129,
     "metadata": {},
     "output_type": "execute_result"
    }
   ],
   "source": [
    "df_master.head()"
   ]
  },
  {
   "cell_type": "code",
   "execution_count": 48,
   "metadata": {
    "collapsed": false
   },
   "outputs": [
    {
     "name": "stderr",
     "output_type": "stream",
     "text": [
      "C:\\Users\\Steve\\Anaconda3\\lib\\site-packages\\ipykernel\\__main__.py:3: SettingWithCopyWarning: \n",
      "A value is trying to be set on a copy of a slice from a DataFrame.\n",
      "Try using .loc[row_indexer,col_indexer] = value instead\n",
      "\n",
      "See the caveats in the documentation: http://pandas.pydata.org/pandas-docs/stable/indexing.html#indexing-view-versus-copy\n",
      "  app.launch_new_instance()\n"
     ]
    }
   ],
   "source": [
    "columns = ['fec_id','election_year','primary_votes','primary_percent','general_votes_', 'general_percent']\n",
    "df_limited = df_master[columns]\n",
    "df_limited['primary_percent'] = pd.to_numeric(df_limited.primary_percent.fillna(df_limited.primary_votes).replace({'Unopposed':1}), errors='coerce')\n",
    "df_limited.loc[df_limited['primary_percent'] > 1,'primary_percent'] = np.nan\n",
    "df_limited['primary_votes'] = pd.to_numeric(df_limited.primary_votes, errors='coerce')\n",
    "df_limited['general_votes'] = pd.to_numeric(df_limited.general_votes_, errors='coerce')\n",
    "df_limited = df_limited.pivot_table(index='fec_id', columns='election_year')\n",
    "df_limited.to_csv('fec_election_results_wide.csv')"
   ]
  },
  {
   "cell_type": "code",
   "execution_count": 57,
   "metadata": {
    "collapsed": false
   },
   "outputs": [],
   "source": []
  },
  {
   "cell_type": "code",
   "execution_count": 62,
   "metadata": {
    "collapsed": true
   },
   "outputs": [],
   "source": [
    "df_test = pd.read_csv('fec_election_results_wide.csv', header=[0,1], index_col=0)"
   ]
  },
  {
   "cell_type": "markdown",
   "metadata": {},
   "source": [
    "## Check if has predictive potential"
   ]
  },
  {
   "cell_type": "code",
   "execution_count": null,
   "metadata": {
    "collapsed": true
   },
   "outputs": [],
   "source": [
    "from congress import Congress\n",
    "import seaborn as sns\n",
    "import statsmodels.formula.api as smf\n",
    "%matplotlib inline"
   ]
  },
  {
   "cell_type": "code",
   "execution_count": null,
   "metadata": {
    "collapsed": true
   },
   "outputs": [],
   "source": [
    "path = 'c:/Users/Steve/Documents/mids/w_210/data/member/'\n",
    "cw = pd.read_csv(path + 'fec_cid_cw.csv')"
   ]
  },
  {
   "cell_type": "code",
   "execution_count": 118,
   "metadata": {
    "collapsed": true
   },
   "outputs": [],
   "source": [
    "congress = Congress('NGLoQNiF7aiAHB6vL1XGvdSQ7KB0CbPWxkLNv5Cz')\n",
    "members = congress.members.fetch('114/house/members.json')\n",
    "members = pd.DataFrame(members['members'])\n",
    "members.to_csv(path + 'members_114.csv', index = False)\n",
    "members = members[['fec_candidate_id', 'votes_with_party_pct']]"
   ]
  },
  {
   "cell_type": "code",
   "execution_count": 119,
   "metadata": {
    "collapsed": true
   },
   "outputs": [],
   "source": [
    "elec_2014 = pd.concat([df_limited['primary_percent'][2014], \n",
    "                       df_limited['general_percent'][2014]], \n",
    "                      axis = 1).reset_index()\n",
    "elec_2014.columns = ['fec_candidate_id','primary_percent','general_percent']\n",
    "members = pd.merge(members, elec_2014, how = 'left', on='fec_candidate_id')"
   ]
  },
  {
   "cell_type": "code",
   "execution_count": 130,
   "metadata": {
    "collapsed": false
   },
   "outputs": [
    {
     "data": {
      "text/plain": [
       "<seaborn.axisgrid.FacetGrid at 0xbe75a89f28>"
      ]
     },
     "execution_count": 130,
     "metadata": {},
     "output_type": "execute_result"
    },
    {
     "data": {
      "image/png": "[encoded data removed]",
      "text/plain": [
       "<matplotlib.figure.Figure at 0xbe75a899e8>"
      ]
     },
     "metadata": {},
     "output_type": "display_data"
    }
   ],
   "source": [
    "sns.lmplot(data=members[members.general_percent > .4], x = 'general_percent', y = 'votes_with_party_pct')"
   ]
  },
  {
   "cell_type": "code",
   "execution_count": 128,
   "metadata": {
    "collapsed": false
   },
   "outputs": [
    {
     "data": {
      "text/html": [
       "<div>\n",
       "<table border=\"1\" class=\"dataframe\">\n",
       "  <thead>\n",
       "    <tr style=\"text-align: right;\">\n",
       "      <th></th>\n",
       "      <th>fec_candidate_id</th>\n",
       "      <th>votes_with_party_pct</th>\n",
       "      <th>primary_percent</th>\n",
       "      <th>general_percent</th>\n",
       "    </tr>\n",
       "  </thead>\n",
       "  <tbody>\n",
       "    <tr>\n",
       "      <th>72</th>\n",
       "      <td>H8NY29032</td>\n",
       "      <td>94.51</td>\n",
       "      <td>1.000000</td>\n",
       "      <td>0.236809</td>\n",
       "    </tr>\n",
       "    <tr>\n",
       "      <th>82</th>\n",
       "      <td>H2CT02112</td>\n",
       "      <td>95.11</td>\n",
       "      <td>NaN</td>\n",
       "      <td>0.311377</td>\n",
       "    </tr>\n",
       "    <tr>\n",
       "      <th>98</th>\n",
       "      <td>H0CT03072</td>\n",
       "      <td>97.00</td>\n",
       "      <td>NaN</td>\n",
       "      <td>0.334585</td>\n",
       "    </tr>\n",
       "    <tr>\n",
       "      <th>122</th>\n",
       "      <td>H2CT05131</td>\n",
       "      <td>95.52</td>\n",
       "      <td>NaN</td>\n",
       "      <td>0.266206</td>\n",
       "    </tr>\n",
       "    <tr>\n",
       "      <th>145</th>\n",
       "      <td>H0NY20095</td>\n",
       "      <td>76.69</td>\n",
       "      <td>1.000000</td>\n",
       "      <td>0.214841</td>\n",
       "    </tr>\n",
       "    <tr>\n",
       "      <th>178</th>\n",
       "      <td>H4NY27076</td>\n",
       "      <td>96.90</td>\n",
       "      <td>1.000000</td>\n",
       "      <td>0.340739</td>\n",
       "    </tr>\n",
       "    <tr>\n",
       "      <th>180</th>\n",
       "      <td>H8CT04172</td>\n",
       "      <td>94.05</td>\n",
       "      <td>NaN</td>\n",
       "      <td>0.134404</td>\n",
       "    </tr>\n",
       "    <tr>\n",
       "      <th>193</th>\n",
       "      <td>H0NY02085</td>\n",
       "      <td>95.71</td>\n",
       "      <td>1.000000</td>\n",
       "      <td>0.182574</td>\n",
       "    </tr>\n",
       "    <tr>\n",
       "      <th>208</th>\n",
       "      <td>H4NY24073</td>\n",
       "      <td>85.30</td>\n",
       "      <td>1.000000</td>\n",
       "      <td>0.198228</td>\n",
       "    </tr>\n",
       "    <tr>\n",
       "      <th>217</th>\n",
       "      <td>H2NY03089</td>\n",
       "      <td>90.60</td>\n",
       "      <td>1.000000</td>\n",
       "      <td>0.227702</td>\n",
       "    </tr>\n",
       "    <tr>\n",
       "      <th>231</th>\n",
       "      <td>H8CT01046</td>\n",
       "      <td>95.82</td>\n",
       "      <td>NaN</td>\n",
       "      <td>0.311695</td>\n",
       "    </tr>\n",
       "    <tr>\n",
       "      <th>246</th>\n",
       "      <td>H8NY20056</td>\n",
       "      <td>96.40</td>\n",
       "      <td>1.000000</td>\n",
       "      <td>0.281953</td>\n",
       "    </tr>\n",
       "    <tr>\n",
       "      <th>254</th>\n",
       "      <td>H2NY22139</td>\n",
       "      <td>90.23</td>\n",
       "      <td>1.000000</td>\n",
       "      <td>0.248457</td>\n",
       "    </tr>\n",
       "    <tr>\n",
       "      <th>255</th>\n",
       "      <td>H2NY14037</td>\n",
       "      <td>96.79</td>\n",
       "      <td>1.000000</td>\n",
       "      <td>0.399382</td>\n",
       "    </tr>\n",
       "    <tr>\n",
       "      <th>330</th>\n",
       "      <td>H0NY29054</td>\n",
       "      <td>90.96</td>\n",
       "      <td>1.000000</td>\n",
       "      <td>0.205525</td>\n",
       "    </tr>\n",
       "    <tr>\n",
       "      <th>334</th>\n",
       "      <td>H4NY04075</td>\n",
       "      <td>92.64</td>\n",
       "      <td>0.786483</td>\n",
       "      <td>0.263943</td>\n",
       "    </tr>\n",
       "    <tr>\n",
       "      <th>383</th>\n",
       "      <td>H6NY03031</td>\n",
       "      <td>95.56</td>\n",
       "      <td>1.000000</td>\n",
       "      <td>0.250823</td>\n",
       "    </tr>\n",
       "    <tr>\n",
       "      <th>390</th>\n",
       "      <td>H4NY21079</td>\n",
       "      <td>88.28</td>\n",
       "      <td>0.804124</td>\n",
       "      <td>0.183636</td>\n",
       "    </tr>\n",
       "    <tr>\n",
       "      <th>404</th>\n",
       "      <td>H8NY21203</td>\n",
       "      <td>95.87</td>\n",
       "      <td>1.000000</td>\n",
       "      <td>0.204101</td>\n",
       "    </tr>\n",
       "    <tr>\n",
       "      <th>446</th>\n",
       "      <td>H8NY01148</td>\n",
       "      <td>91.89</td>\n",
       "      <td>0.806681</td>\n",
       "      <td>0.271990</td>\n",
       "    </tr>\n",
       "  </tbody>\n",
       "</table>\n",
       "</div>"
      ],
      "text/plain": [
       "    fec_candidate_id  votes_with_party_pct  primary_percent  general_percent\n",
       "72         H8NY29032                 94.51         1.000000         0.236809\n",
       "82         H2CT02112                 95.11              NaN         0.311377\n",
       "98         H0CT03072                 97.00              NaN         0.334585\n",
       "122        H2CT05131                 95.52              NaN         0.266206\n",
       "145        H0NY20095                 76.69         1.000000         0.214841\n",
       "178        H4NY27076                 96.90         1.000000         0.340739\n",
       "180        H8CT04172                 94.05              NaN         0.134404\n",
       "193        H0NY02085                 95.71         1.000000         0.182574\n",
       "208        H4NY24073                 85.30         1.000000         0.198228\n",
       "217        H2NY03089                 90.60         1.000000         0.227702\n",
       "231        H8CT01046                 95.82              NaN         0.311695\n",
       "246        H8NY20056                 96.40         1.000000         0.281953\n",
       "254        H2NY22139                 90.23         1.000000         0.248457\n",
       "255        H2NY14037                 96.79         1.000000         0.399382\n",
       "330        H0NY29054                 90.96         1.000000         0.205525\n",
       "334        H4NY04075                 92.64         0.786483         0.263943\n",
       "383        H6NY03031                 95.56         1.000000         0.250823\n",
       "390        H4NY21079                 88.28         0.804124         0.183636\n",
       "404        H8NY21203                 95.87         1.000000         0.204101\n",
       "446        H8NY01148                 91.89         0.806681         0.271990"
      ]
     },
     "execution_count": 128,
     "metadata": {},
     "output_type": "execute_result"
    }
   ],
   "source": [
    "members[members.general_percent < .4]"
   ]
  },
  {
   "cell_type": "code",
   "execution_count": 123,
   "metadata": {
    "collapsed": false
   },
   "outputs": [
    {
     "data": {
      "text/plain": [
       "<seaborn.axisgrid.FacetGrid at 0xbe74958048>"
      ]
     },
     "execution_count": 123,
     "metadata": {},
     "output_type": "execute_result"
    },
    {
     "data": {
      "image/png": "[encoded data removed]",
      "text/plain": [
       "<matplotlib.figure.Figure at 0xbe74958cf8>"
      ]
     },
     "metadata": {},
     "output_type": "display_data"
    }
   ],
   "source": [
    "sns.lmplot(data=members, x = 'primary_percent', y = 'votes_with_party_pct')"
   ]
  },
  {
   "cell_type": "code",
   "execution_count": 131,
   "metadata": {
    "collapsed": false
   },
   "outputs": [
    {
     "name": "stdout",
     "output_type": "stream",
     "text": [
      "                             OLS Regression Results                             \n",
      "================================================================================\n",
      "Dep. Variable:     votes_with_party_pct   R-squared:                       0.014\n",
      "Model:                              OLS   Adj. R-squared:                  0.007\n",
      "Method:                   Least Squares   F-statistic:                     1.983\n",
      "Date:                  Sat, 28 Oct 2017   Prob (F-statistic):              0.140\n",
      "Time:                          23:57:25   Log-Likelihood:                -810.29\n",
      "No. Observations:                   286   AIC:                             1627.\n",
      "Df Residuals:                       283   BIC:                             1638.\n",
      "Df Model:                             2                                         \n",
      "Covariance Type:              nonrobust                                         \n",
      "===================================================================================\n",
      "                      coef    std err          t      P>|t|      [95.0% Conf. Int.]\n",
      "-----------------------------------------------------------------------------------\n",
      "Intercept          91.9210      1.471     62.478      0.000        89.025    94.817\n",
      "primary_percent    -0.8246      1.119     -0.737      0.462        -3.026     1.377\n",
      "general_percent     3.6623      1.895      1.932      0.054        -0.068     7.393\n",
      "==============================================================================\n",
      "Omnibus:                      232.125   Durbin-Watson:                   1.733\n",
      "Prob(Omnibus):                  0.000   Jarque-Bera (JB):             3226.170\n",
      "Skew:                          -3.321   Prob(JB):                         0.00\n",
      "Kurtosis:                      18.053   Cond. No.                         13.5\n",
      "==============================================================================\n",
      "\n",
      "Warnings:\n",
      "[1] Standard Errors assume that the covariance matrix of the errors is correctly specified.\n"
     ]
    }
   ],
   "source": [
    "results = smf.ols('votes_with_party_pct ~ primary_percent + general_percent', data = members[members.general_percent > .4]).fit()\n",
    "print(results.summary())"
   ]
  },
  {
   "cell_type": "code",
   "execution_count": 132,
   "metadata": {
    "collapsed": false
   },
   "outputs": [
    {
     "name": "stdout",
     "output_type": "stream",
     "text": [
      "                             OLS Regression Results                             \n",
      "================================================================================\n",
      "Dep. Variable:     votes_with_party_pct   R-squared:                       0.012\n",
      "Model:                              OLS   Adj. R-squared:                  0.008\n",
      "Method:                   Least Squares   F-statistic:                     3.497\n",
      "Date:                  Sun, 29 Oct 2017   Prob (F-statistic):             0.0625\n",
      "Time:                          17:26:30   Log-Likelihood:                -829.86\n",
      "No. Observations:                   294   AIC:                             1664.\n",
      "Df Residuals:                       292   BIC:                             1671.\n",
      "Df Model:                             1                                         \n",
      "Covariance Type:              nonrobust                                         \n",
      "===================================================================================\n",
      "                      coef    std err          t      P>|t|      [95.0% Conf. Int.]\n",
      "-----------------------------------------------------------------------------------\n",
      "Intercept          91.4453      1.261     72.527      0.000        88.964    93.927\n",
      "general_percent     3.4472      1.843      1.870      0.062        -0.181     7.075\n",
      "==============================================================================\n",
      "Omnibus:                      241.029   Durbin-Watson:                   1.759\n",
      "Prob(Omnibus):                  0.000   Jarque-Bera (JB):             3496.678\n",
      "Skew:                          -3.370   Prob(JB):                         0.00\n",
      "Kurtosis:                      18.493   Cond. No.                         11.3\n",
      "==============================================================================\n",
      "\n",
      "Warnings:\n",
      "[1] Standard Errors assume that the covariance matrix of the errors is correctly specified.\n"
     ]
    }
   ],
   "source": [
    "results = smf.ols('votes_with_party_pct ~ general_percent', data = members[members.general_percent > .4]).fit()\n",
    "print(results.summary())"
   ]
  },
  {
   "cell_type": "code",
   "execution_count": 105,
   "metadata": {
    "collapsed": false
   },
   "outputs": [
    {
     "data": {
      "text/plain": [
       "fec_id\n",
       " H6WA03135         NaN\n",
       "H0AL02087          NaN\n",
       "H0AL05049          NaN\n",
       "H0AL05163      49117.0\n",
       "H0AL07060          NaN\n",
       "H0AL07086      74953.0\n",
       "H0AR01083          NaN\n",
       "H0AR02107          NaN\n",
       "H0AR03055          NaN\n",
       "H0AR03055          NaN\n",
       "H0AR04038          NaN\n",
       "H0AS00018          NaN\n",
       "H0AZ01184          NaN\n",
       "H0AZ01259          NaN\n",
       "H0AZ01259      65354.0\n",
       "H0AZ03362          NaN\n",
       "H0CA03078      51878.0\n",
       "H0CA10073      59605.0\n",
       "H0CA10149      54672.0\n",
       "H0CA11022          NaN\n",
       "H0CA14042          NaN\n",
       "H0CA15148      43607.0\n",
       "H0CA17045          NaN\n",
       "H0CA19173      44237.0\n",
       "H0CA27085      46004.0\n",
       "H0CA31087          NaN\n",
       "H0CA32101      39915.0\n",
       "H0CA33117      47639.0\n",
       "H0CA33117          NaN\n",
       "H0CA45012          NaN\n",
       "                ...   \n",
       "S8CT00022          NaN\n",
       "S8DE00012          NaN\n",
       "S8DE00079          NaN\n",
       "S8FL00166          NaN\n",
       "S8ID00027          NaN\n",
       "S8ID00092          NaN\n",
       "S8ID00092     119209.0\n",
       "S8IN00049          NaN\n",
       "S8KY00118          NaN\n",
       "S8MI00158          NaN\n",
       "S8MI00281          NaN\n",
       "S8MN00438          NaN\n",
       "S8MN00438     182720.0\n",
       "S8MS00055     156313.0\n",
       "S8MS00162          NaN\n",
       "S8MS00196          NaN\n",
       "S8MT00010          NaN\n",
       "S8NC00239          NaN\n",
       "S8NE00117          NaN\n",
       "S8NM00010          NaN\n",
       "S8NM00184     113502.0\n",
       "S8NV00073          NaN\n",
       "S8NY00082          NaN\n",
       "S8OH00011          NaN\n",
       "S8OR00207          NaN\n",
       "S8OR00207     277120.0\n",
       "S8VA00107          NaN\n",
       "S8WA00194          NaN\n",
       "S8WI00026          NaN\n",
       "n/a                NaN\n",
       "Name: 2014, dtype: float64"
      ]
     },
     "execution_count": 105,
     "metadata": {},
     "output_type": "execute_result"
    }
   ],
   "source": [
    "df_limited['primary_votes'][2014]"
   ]
  }
 ],
 "metadata": {
  "kernelspec": {
   "display_name": "Python 3",
   "language": "python",
   "name": "python3"
  },
  "language_info": {
   "codemirror_mode": {
    "name": "ipython",
    "version": 3
   },
   "file_extension": ".py",
   "mimetype": "text/x-python",
   "name": "python",
   "nbconvert_exporter": "python",
   "pygments_lexer": "ipython3",
   "version": "3.6.0"
  }
 },
 "nbformat": 4,
 "nbformat_minor": 2
}
