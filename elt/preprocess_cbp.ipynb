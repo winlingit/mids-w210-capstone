{
 "cells": [
  {
   "cell_type": "code",
   "execution_count": 21,
   "metadata": {
    "collapsed": true
   },
   "outputs": [],
   "source": [
    "import pandas as pd\n",
    "import numpy as np\n",
    "from sklearn.decomposition import TruncatedSVD\n",
    "pd.options.display.max_columns = 100\n",
    "from sklearn.metrics.pairwise import cosine_similarity\n",
    "import os\n",
    "import us"
   ]
  },
  {
   "cell_type": "markdown",
   "metadata": {},
   "source": [
    "# Pre Process CBP Data\n",
    "The County Business Patttern (CBP) data set provides an economic overview of a congressional district by industry. Data can be downloaded here:https://www.census.gov/data/datasets/2013/econ/cbp/2013-cbp.html. This notebook will:\n",
    "1. Calculate cosign similarity between districts.\n",
    "2. Compute industry percent of total employment for each district.\n",
    "3. Groupby state and perform the same calculations for senators\n",
    "4. Merge in Propublica IDs"
   ]
  },
  {
   "cell_type": "code",
   "execution_count": 154,
   "metadata": {
    "collapsed": false
   },
   "outputs": [],
   "source": [
    "# get propublica id for district representative\n",
    "members_house = pd.read_csv('../propublica/members_house.csv')\n",
    "members_senate = pd.read_csv('../propublica/members_senate.csv')\n",
    "members_house = members_house[['id','session','state','district']]\n",
    "members_house['district'] = members_house.district.replace({'At-Large': 0})\n",
    "members_house['dist_full'] = members_house.apply(lambda x: x.state + \"_\" + str(x.district), axis=1)\n",
    "members_house.drop(['state', 'district'], axis = 1, inplace=True)\n",
    "members_house.rename(columns={'dist_full': 'district'}, inplace = True)\n",
    "members_senate = members_senate[['id','session','state']]\n",
    "members_senate.rename(columns = {'state':'state_abbr'}, inplace = True)\n",
    "\n",
    "path = 'cbp/'\n",
    "cw = us.states.mapping('name','abbr')\n",
    "for file in os.listdir(path):\n",
    "    if file.endswith('_2.xlsx'):\n",
    "        \n",
    "        # load and clean data\n",
    "        df = pd.read_excel(path + file)\n",
    "        congress = int(\"1\" + file[3:5])\n",
    "        code = [col for col in df.columns if col.lower().endswith('naics code')][0]\n",
    "        district = [col for col in df.columns if col.lower().count('dist') > 0][0]\n",
    "        df.rename(columns={'Unnamed: 1': 'state_full'}, inplace = True)\n",
    "        df['state_full'] = df.state_full.str.strip()\n",
    "        df = df[df[code] != '------']\n",
    "        df['state_abbr'] = df.state_full.replace(cw)\n",
    "        df['district'] = df.state_abbr + df[district].apply(lambda x: \"_\" + str(x))\n",
    "        df['Employment'] =  pd.to_numeric(df.Employment, errors = 'coerce')\n",
    "        \n",
    "        # get relative industry composition\n",
    "        # for both house and senate\n",
    "        for gb in ['district', 'state_abbr']:\n",
    "            df_wide = df.groupby([gb, code]).Employment.mean().unstack()\n",
    "            df_wide.fillna(0, inplace=True)\n",
    "            totals = df_wide.sum(axis = 1)\n",
    "            df_wide = df_wide.apply(lambda x: x/totals * 100)\n",
    "            \n",
    "            # cosign similarity\n",
    "            df_cosign = pd.DataFrame(cosine_similarity(df_wide), columns=df_wide.index, index=df_wide.index)\n",
    "            df_cosign = df_cosign.unstack()\n",
    "            df_cosign.index.names = ['d1','d2']\n",
    "            df_cosign = pd.DataFrame(df_cosign).reset_index().rename(columns = {0: 'cosine'})\n",
    "            \n",
    "            if gb == 'district':\n",
    "                df_ids = members_house\n",
    "                body = 'house'\n",
    "            else:\n",
    "                df_ids = members_senate\n",
    "                body = 'senate'\n",
    "            df_ids = df_ids[df_ids.session == congress]    \n",
    "            \n",
    "            # merge propub id\n",
    "            df_cosign = pd.merge(df_ids,df_cosign, how = 'left', left_on=gb, right_on='d1')\n",
    "            df_cosign = pd.merge(df_ids,df_cosign, how = 'left', left_on=gb, right_on='d2', suffixes=(['_d1','_d2']))\n",
    "            df_wide = df_wide.reset_index()\n",
    "            df_wide = pd.merge(df_ids,df_wide, how = 'left', on=gb)\n",
    "            \n",
    "            # export files\n",
    "            export_file = 'cbp_preprocessed/' + body + \"_\" + str(congress)\n",
    "            df_cosign.to_csv(export_file + \"_cosine.csv\", index =False)\n",
    "            df_wide.to_csv(export_file + \"composition.csv\", index = False)"
   ]
  },
  {
   "cell_type": "code",
   "execution_count": null,
   "metadata": {
    "collapsed": true
   },
   "outputs": [],
   "source": []
  }
 ],
 "metadata": {
  "kernelspec": {
   "display_name": "Python 3",
   "language": "python",
   "name": "python3"
  },
  "language_info": {
   "codemirror_mode": {
    "name": "ipython",
    "version": 3
   },
   "file_extension": ".py",
   "mimetype": "text/x-python",
   "name": "python",
   "nbconvert_exporter": "python",
   "pygments_lexer": "ipython3",
   "version": "3.6.0"
  }
 },
 "nbformat": 4,
 "nbformat_minor": 2
}
