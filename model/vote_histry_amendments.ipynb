{
 "cells": [
  {
   "cell_type": "code",
   "execution_count": 3,
   "metadata": {
    "collapsed": true
   },
   "outputs": [],
   "source": [
    "import pandas as pd\n",
    "import numpy as np\n",
    "import pickle\n",
    "import os\n",
    "from sklearn import metrics\n",
    "from sklearn.preprocessing import PolynomialFeatures\n",
    "from sklearn.linear_model import LogisticRegression\n",
    "import seaborn as sns\n",
    "from sklearn.ensemble import RandomForestClassifier\n",
    "from sklearn.utils import shuffle\n",
    "pd.options.display.max_columns = 100\n",
    "%matplotlib inline"
   ]
  },
  {
   "cell_type": "markdown",
   "metadata": {},
   "source": [
    "# Amendment Voting Model\n",
    "This model will use how a member votes on a bill's amendments to predict they will vote on the bill itself.\n",
    "## Feature Construction"
   ]
  },
  {
   "cell_type": "code",
   "execution_count": 4,
   "metadata": {
    "collapsed": false
   },
   "outputs": [],
   "source": [
    "# pull in model set row numbers\n",
    "def get_full_set(path):\n",
    "    for dataset in ['train','dev','test']:\n",
    "        df = pd.read_csv(path + dataset + '.csv', encoding = 'latin1')\n",
    "        if dataset == 'train':\n",
    "            df_votes = df\n",
    "        else:\n",
    "            df_votes = pd.concat([df_votes, df])\n",
    "    return df_votes\n",
    "df_votes = get_full_set('../data/model/')"
   ]
  },
  {
   "cell_type": "code",
   "execution_count": 7,
   "metadata": {
    "collapsed": false
   },
   "outputs": [
    {
     "data": {
      "text/plain": [
       "(1648863, 12)"
      ]
     },
     "execution_count": 7,
     "metadata": {},
     "output_type": "execute_result"
    }
   ],
   "source": [
    "df_votes.shape"
   ]
  },
  {
   "cell_type": "code",
   "execution_count": 19,
   "metadata": {
    "collapsed": true
   },
   "outputs": [],
   "source": [
    "# get all roll call votes with 'amendment' in the title for bills in model\n",
    "df_rc = pd.read_csv('../data/propublica/votes_both.csv')\n",
    "df_bills = pd.read_csv('../data/propublica/billsfull_model.csv', encoding = 'latin1')\n",
    "df_rc = pd.merge(df_bills[['bill_id', 'last_vote']], df_rc, how = 'left', on = 'bill_id')\n",
    "del df_bills\n",
    "df_rc.dropna(subset=['question'], inplace = True)\n",
    "df_rc = df_rc[df_rc.question.str.lower().str.contains(\"amendment\")]\n",
    "df_rc.reset_index(inplace = True, drop = True)"
   ]
  },
  {
   "cell_type": "code",
   "execution_count": 25,
   "metadata": {
    "collapsed": true
   },
   "outputs": [],
   "source": [
    "# get all member votes for amendment roll call votes\n",
    "path = '../data/propublica/raw/'\n",
    "errors = []\n",
    "for i, row in df_rc.iterrows():\n",
    "    # read in member amendment votes\n",
    "    try:\n",
    "        fname = row.chamber.lower()\n",
    "        fname += \"_\" + str(int(row.congress))\n",
    "        fname += \"_\" + str(int(row.session))\n",
    "        fname += \"_\" + str(int(row.roll_call))\n",
    "        df = pd.read_csv(path + \"votes_roll_call_\" + fname + '.csv')\n",
    "    except:\n",
    "        errors.append(i)\n",
    "        continue\n",
    "    columns = ['member_id', 'party', 'vote_position', \n",
    "               'congress', 'roll_call', 'session', 'date', \n",
    "               'majority_pos_rep', 'majority_pos_dem']\n",
    "    df = df[columns]\n",
    "    df['rc'] = fname\n",
    "    df['bill_id'] = row.bill_id\n",
    "    df['question'] = row.question\n",
    "    df['result'] = row.result\n",
    "    \n",
    "    if i == 0:\n",
    "        df_master = df\n",
    "    else:\n",
    "        df_master = pd.concat([df_master,df])\n",
    "    \n",
    "df_master.to_csv('../data/model/vote_history/amendment_votes_raw.csv', index = False)\n",
    "\n",
    "# verify, filter, and standardize data\n",
    "c1 = df_master.vote_position != 'Speaker'\n",
    "c2 = df_master.vote_position != 'Present'\n",
    "df_master = df_master[c1 & c2]\n",
    "recode = {'Agreed to': 'Agreed', \n",
    "          'Passed': 'Agreed', \n",
    "          'Rejected': 'Failed', \n",
    "          'Amendment Rejected': 'Failed', \n",
    "          'Amendment Agreed to': 'Agreed', \n",
    "          'Motion Agreed to': 'Agreed'}\n",
    "df_master['result'] = df_master.result.replace(recode)\n",
    "df_master = df_master[df_master.result.isin(list(recode.values()))]\n",
    "df_master = df_master[df_master.party.isin(['R', 'D'])]\n",
    "\n",
    "def broke_am(row):\n",
    "    party_position = row[{'R':'majority_pos_rep', 'D': 'majority_pos_dem'}[row.party]]\n",
    "    if row.vote_position == party_position:\n",
    "        return 0\n",
    "    elif row.vote_position == 'Not Voting':\n",
    "        return 0\n",
    "    else:\n",
    "        return 1\n",
    "df_master['am_broke_wparty'] = df_master.apply(broke_am, axis = 1)"
   ]
  },
  {
   "cell_type": "code",
   "execution_count": 41,
   "metadata": {
    "collapsed": false,
    "scrolled": true
   },
   "outputs": [
    {
     "data": {
      "text/plain": [
       "No            810061\n",
       "Yes           792150\n",
       "Not Voting     49004\n",
       "Name: vote_position, dtype: int64"
      ]
     },
     "execution_count": 41,
     "metadata": {},
     "output_type": "execute_result"
    }
   ],
   "source": [
    "df_master.vote_position.value_counts()"
   ]
  },
  {
   "cell_type": "code",
   "execution_count": 52,
   "metadata": {
    "collapsed": false,
    "scrolled": true
   },
   "outputs": [
    {
     "data": {
      "text/plain": [
       "Failed    1067997\n",
       "Agreed     583018\n",
       "Name: result, dtype: int64"
      ]
     },
     "execution_count": 52,
     "metadata": {},
     "output_type": "execute_result"
    }
   ],
   "source": [
    "df_master.result.value_counts()"
   ]
  },
  {
   "cell_type": "code",
   "execution_count": 68,
   "metadata": {
    "collapsed": false
   },
   "outputs": [
    {
     "data": {
      "text/plain": [
       "0.11607886209449374"
      ]
     },
     "execution_count": 68,
     "metadata": {},
     "output_type": "execute_result"
    }
   ],
   "source": [
    "df_master.am_broke_wparty.mean()"
   ]
  },
  {
   "cell_type": "code",
   "execution_count": 96,
   "metadata": {
    "collapsed": false
   },
   "outputs": [],
   "source": [
    "# perform groupbys to get relevant statistics for each bill X member combination\n",
    "row_id = ['member_id', 'bill_id']\n",
    "df = df_master.groupby(row_id + ['vote_position', 'result']).size().unstack().unstack().reset_index()\n",
    "\n",
    "def format_vote_count(row, outcome):\n",
    "    \"\"\"Calculates vote percent for each amendment outcome type\n",
    "        There is def a fancy pandas way of doing this, but i'm lazy\"\"\"\n",
    "    if row[outcome].isnull().all():\n",
    "        return [-1,-1,-1, 0]\n",
    "    am_count = row[outcome].sum()\n",
    "    vote_count = row[outcome].fillna(0)\n",
    "    vote_count = vote_count / am_count\n",
    "    \n",
    "    return vote_count.tolist() + [am_count]\n",
    "\n",
    "df_ams = df[row_id]\n",
    "for outcome in ['Agreed','Failed']:\n",
    "    df_sub = df.apply(format_vote_count, outcome = outcome, axis = 1).tolist()\n",
    "    cols = [outcome + x for x in ['_no','_skipped', '_yes', '_amcount']]\n",
    "    df_sub = pd.DataFrame(df_sub, columns=cols)\n",
    "    df_ams = pd.concat([df_ams, df_sub], axis = 1)\n",
    "df_ams.rename(columns={('member_id',\"\"): 'member_id', ('bill_id',\"\"): 'bill_id'}, inplace = True)\n",
    "\n",
    "df = df_master.groupby(row_id + ['result']).am_broke_wparty.mean().unstack()\n",
    "df.columns = [x + \"_broke_pct\" for x in df.columns]\n",
    "df = df.reset_index()\n",
    "df.fillna(-1, inplace = True)\n",
    "df_ams = pd.merge(df_ams, df, on = row_id)\n",
    "df = pd.DataFrame(df_master.groupby(row_id).am_broke_wparty.mean())\n",
    "df.reset_index(inplace=True)\n",
    "df_ams = pd.merge(df_ams, df, on = row_id)"
   ]
  },
  {
   "cell_type": "code",
   "execution_count": 124,
   "metadata": {
    "collapsed": false
   },
   "outputs": [],
   "source": [
    "# pull in model set row numbers\n",
    "def get_full_set(path):\n",
    "    for dataset in ['train','dev','test']:\n",
    "        df = pd.read_csv(path + dataset + '.csv', encoding = 'latin1')\n",
    "        if dataset == 'train':\n",
    "            df_votes = df\n",
    "        else:\n",
    "            df_votes = pd.concat([df_votes, df])\n",
    "    return df_votes\n",
    "\n",
    "df_votes = get_full_set('../data/model/')\n",
    "df_votes = df_votes.drop_duplicates(subset=row_id)[row_id + ['full_set_id']]\n",
    "df_ams = pd.merge(df_ams, df_votes, how = 'left', on = row_id)\n",
    "df_ams.to_csv('../data/model/vote_history/amendment_votes_processed.csv', index = False)\n",
    "df_ams.drop(row_id, axis = 1, inplace=True)"
   ]
  },
  {
   "cell_type": "markdown",
   "metadata": {},
   "source": [
    "## Model"
   ]
  },
  {
   "cell_type": "code",
   "execution_count": 141,
   "metadata": {
    "collapsed": true
   },
   "outputs": [],
   "source": [
    "features = [x for x in df_ams.columns if x not in ['full_set_id', 'member_id', 'bill_id']]"
   ]
  },
  {
   "cell_type": "code",
   "execution_count": 139,
   "metadata": {
    "collapsed": false
   },
   "outputs": [],
   "source": [
    "test = pd.read_csv('../data/model/test.csv')\n",
    "train = pd.read_csv('../data/model/train.csv')\n",
    "dev = pd.read_csv('../data/model/dev.csv')\n",
    "dfs = [train, dev, test]\n",
    "def join_features(df):\n",
    "    df = pd.merge(df, df_ams, on = 'full_set_id', how = 'left').dropna(subset = ['Agreed_no'])\n",
    "    return df\n",
    "model_train, model_dev, model_test =  map(join_features, dfs)"
   ]
  },
  {
   "cell_type": "code",
   "execution_count": 161,
   "metadata": {
    "collapsed": false
   },
   "outputs": [
    {
     "data": {
      "text/plain": [
       "0.09317976141505553"
      ]
     },
     "execution_count": 161,
     "metadata": {},
     "output_type": "execute_result"
    }
   ],
   "source": [
    "# break with party rate is much higher for this subset of data (bills with ammendment votes)\n",
    "model_train.broke_from_party.mean()"
   ]
  },
  {
   "cell_type": "code",
   "execution_count": 142,
   "metadata": {
    "collapsed": false
   },
   "outputs": [
    {
     "name": "stdout",
     "output_type": "stream",
     "text": [
      "             precision    recall  f1-score   support\n",
      "\n",
      "          0     0.9074    0.9063    0.9069     81750\n",
      "          1     0.0865    0.0876    0.0871      8283\n",
      "\n",
      "avg / total     0.8319    0.8310    0.8314     90033\n",
      "\n"
     ]
    }
   ],
   "source": [
    "# baseline if randomly assign 1 at level proportional to overall rate\n",
    "t = [1] * int(len(model_dev) * model_train.broke_from_party.mean())\n",
    "t += ([0] *(len(model_dev) - len(t)))\n",
    "t = shuffle(t)\n",
    "print(metrics.classification_report(model_dev['broke_from_party'], t, digits=4))"
   ]
  },
  {
   "cell_type": "code",
   "execution_count": 154,
   "metadata": {
    "collapsed": false
   },
   "outputs": [
    {
     "data": {
      "text/plain": [
       "RandomForestClassifier(bootstrap=True, class_weight='balanced',\n",
       "            criterion='gini', max_depth=None, max_features='auto',\n",
       "            max_leaf_nodes=None, min_impurity_split=1e-07,\n",
       "            min_samples_leaf=1, min_samples_split=40,\n",
       "            min_weight_fraction_leaf=0.0, n_estimators=10, n_jobs=1,\n",
       "            oob_score=False, random_state=None, verbose=0,\n",
       "            warm_start=False)"
      ]
     },
     "execution_count": 154,
     "metadata": {},
     "output_type": "execute_result"
    }
   ],
   "source": [
    "rfc = RandomForestClassifier(class_weight='balanced', min_samples_split=40)\n",
    "rfc.fit(model_train[features], model_train['broke_from_party'])"
   ]
  },
  {
   "cell_type": "code",
   "execution_count": 155,
   "metadata": {
    "collapsed": false
   },
   "outputs": [
    {
     "name": "stderr",
     "output_type": "stream",
     "text": [
      "C:\\Users\\Steve\\Anaconda3\\lib\\site-packages\\statsmodels\\nonparametric\\kdetools.py:20: VisibleDeprecationWarning: using a non-integer number instead of an integer will result in an error in the future\n",
      "  y = X[:m/2+1] + np.r_[0,X[m/2+1:],0]*1j\n"
     ]
    },
    {
     "data": {
      "text/plain": [
       "<matplotlib.axes._subplots.AxesSubplot at 0x6c16ae6748>"
      ]
     },
     "execution_count": 155,
     "metadata": {},
     "output_type": "execute_result"
    },
    {
     "data": {
      "image/png": "[encoded data removed]",
      "text/plain": [
       "<matplotlib.figure.Figure at 0x6c16c32ba8>"
      ]
     },
     "metadata": {},
     "output_type": "display_data"
    }
   ],
   "source": [
    "probs_dev = rfc.predict_proba(model_dev[features])[:,1]\n",
    "probs_train = rfc.predict_proba(model_train[features])[:,1]\n",
    "sns.distplot(probs_dev)"
   ]
  },
  {
   "cell_type": "code",
   "execution_count": 158,
   "metadata": {
    "collapsed": false
   },
   "outputs": [
    {
     "name": "stdout",
     "output_type": "stream",
     "text": [
      "7810\n",
      "             precision    recall  f1-score   support\n",
      "\n",
      "          0     0.9396    0.9451    0.9424     81750\n",
      "          1     0.4251    0.4008    0.4126      8283\n",
      "\n",
      "avg / total     0.8923    0.8950    0.8936     90033\n",
      "\n"
     ]
    }
   ],
   "source": [
    "thresh = .73\n",
    "print((probs_dev >= thresh).sum())\n",
    "print(metrics.classification_report(model_dev['broke_from_party'], probs_dev >= thresh, digits=4))"
   ]
  },
  {
   "cell_type": "code",
   "execution_count": 162,
   "metadata": {
    "collapsed": false
   },
   "outputs": [],
   "source": [
    "def export_predictions(dfs, model, file_name, \n",
    "                       path = \"../data/model/model_predictions/\", \n",
    "                       predictors = features):\n",
    "    \"\"\"Exports probabilities for all sets\n",
    "    Args:\n",
    "        dfs: train, dev, test sets. in that order.\n",
    "        model: sklearn model to get predictions\n",
    "        path: where to export\n",
    "        predictors: Column set to use as predictors\n",
    "    \"\"\"\n",
    "    labels = ['train', 'dev', 'test']\n",
    "    for label, df in zip(labels, dfs):\n",
    "        probs = model.predict_proba(df[predictors])[:,1]\n",
    "        probs = pd.DataFrame(probs, index = df.full_set_id, columns=['pred_probs'])\n",
    "        probs.to_csv(path + file_name + \"_\" + label + \".csv\")\n",
    "\n",
    "with open('../data/model/vote_history/rfc_amendments.pickle', 'wb') as f:\n",
    "    pickle.dump(rfc, f)\n",
    "dfs = [model_train, model_dev, model_test]\n",
    "export_predictions(dfs, rfc, 'amendment_votes', predictors=features)"
   ]
  },
  {
   "cell_type": "code",
   "execution_count": 20,
   "metadata": {
    "collapsed": false
   },
   "outputs": [
    {
     "data": {
      "text/html": [
       "<div>\n",
       "<table border=\"1\" class=\"dataframe\">\n",
       "  <thead>\n",
       "    <tr style=\"text-align: right;\">\n",
       "      <th></th>\n",
       "      <th>bill_id</th>\n",
       "      <th>last_vote</th>\n",
       "      <th>bill</th>\n",
       "      <th>chamber</th>\n",
       "      <th>congress</th>\n",
       "      <th>date</th>\n",
       "      <th>democratic</th>\n",
       "      <th>description</th>\n",
       "      <th>independent</th>\n",
       "      <th>question</th>\n",
       "      <th>republican</th>\n",
       "      <th>result</th>\n",
       "      <th>roll_call</th>\n",
       "      <th>session</th>\n",
       "      <th>source</th>\n",
       "      <th>time</th>\n",
       "      <th>total</th>\n",
       "      <th>url</th>\n",
       "      <th>vote_type</th>\n",
       "      <th>vote_uri</th>\n",
       "      <th>sponsor_id</th>\n",
       "      <th>majority_pos_rep</th>\n",
       "      <th>majority_pos_dem</th>\n",
       "      <th>majority_pos_ind</th>\n",
       "    </tr>\n",
       "  </thead>\n",
       "  <tbody>\n",
       "    <tr>\n",
       "      <th>0</th>\n",
       "      <td>hr1432-105</td>\n",
       "      <td>1998-03-11</td>\n",
       "      <td>{u'api_uri': u'https://api.propublica.org/cong...</td>\n",
       "      <td>House</td>\n",
       "      <td>105.0</td>\n",
       "      <td>1998-03-11</td>\n",
       "      <td>{u'not_voting': 12, u'yes': 25, u'majority_pos...</td>\n",
       "      <td>Bereuter of Nebraska Amendment, As Modified</td>\n",
       "      <td>{u'not_voting': 0, u'yes': 0, u'present': 0, u...</td>\n",
       "      <td>On Agreeing to the Amendment</td>\n",
       "      <td>{u'not_voting': 4, u'yes': 131, u'majority_pos...</td>\n",
       "      <td>Failed</td>\n",
       "      <td>45.0</td>\n",
       "      <td>2.0</td>\n",
       "      <td>http://clerk.house.gov/evs/1998/roll045.xml</td>\n",
       "      <td>16:31:00</td>\n",
       "      <td>{u'not_voting': 16, u'yes': 156, u'present': 0...</td>\n",
       "      <td>http://clerk.house.gov/evs/1998/roll045.xml</td>\n",
       "      <td>RECORDED VOTE</td>\n",
       "      <td>https://api.propublica.org/congress/v1/105/hou...</td>\n",
       "      <td>C000873</td>\n",
       "      <td>Yes</td>\n",
       "      <td>No</td>\n",
       "      <td>No</td>\n",
       "    </tr>\n",
       "    <tr>\n",
       "      <th>1</th>\n",
       "      <td>hr1432-105</td>\n",
       "      <td>1998-03-11</td>\n",
       "      <td>{u'api_uri': u'https://api.propublica.org/cong...</td>\n",
       "      <td>House</td>\n",
       "      <td>105.0</td>\n",
       "      <td>1998-03-11</td>\n",
       "      <td>{u'not_voting': 10, u'yes': 77, u'majority_pos...</td>\n",
       "      <td>Waters of California Amendment</td>\n",
       "      <td>{u'not_voting': 0, u'yes': 1, u'present': 0, u...</td>\n",
       "      <td>On Agreeing to the Amendment</td>\n",
       "      <td>{u'not_voting': 5, u'yes': 3, u'majority_posit...</td>\n",
       "      <td>Failed</td>\n",
       "      <td>44.0</td>\n",
       "      <td>2.0</td>\n",
       "      <td>http://clerk.house.gov/evs/1998/roll044.xml</td>\n",
       "      <td>16:23:00</td>\n",
       "      <td>{u'not_voting': 15, u'yes': 81, u'present': 0,...</td>\n",
       "      <td>http://clerk.house.gov/evs/1998/roll044.xml</td>\n",
       "      <td>RECORDED VOTE</td>\n",
       "      <td>https://api.propublica.org/congress/v1/105/hou...</td>\n",
       "      <td>C000873</td>\n",
       "      <td>No</td>\n",
       "      <td>No</td>\n",
       "      <td>Yes</td>\n",
       "    </tr>\n",
       "    <tr>\n",
       "      <th>2</th>\n",
       "      <td>hr503-109</td>\n",
       "      <td>2006-09-07</td>\n",
       "      <td>{u'api_uri': u'https://api.propublica.org/cong...</td>\n",
       "      <td>House</td>\n",
       "      <td>109.0</td>\n",
       "      <td>2006-09-07</td>\n",
       "      <td>{u'not_voting': 11, u'yes': 36, u'majority_pos...</td>\n",
       "      <td>King of Iowa Amendment</td>\n",
       "      <td>{u'not_voting': 0, u'yes': 0, u'present': 0, u...</td>\n",
       "      <td>On Agreeing to the Amendment</td>\n",
       "      <td>{u'not_voting': 15, u'yes': 113, u'majority_po...</td>\n",
       "      <td>Failed</td>\n",
       "      <td>432.0</td>\n",
       "      <td>2.0</td>\n",
       "      <td>http://clerk.house.gov/evs/2006/roll432.xml</td>\n",
       "      <td>14:40:00</td>\n",
       "      <td>{u'not_voting': 26, u'yes': 149, u'present': 1...</td>\n",
       "      <td>http://clerk.house.gov/evs/2006/roll432.xml</td>\n",
       "      <td>RECORDED VOTE</td>\n",
       "      <td>https://api.propublica.org/congress/v1/109/hou...</td>\n",
       "      <td>S001149</td>\n",
       "      <td>None</td>\n",
       "      <td>No</td>\n",
       "      <td>No</td>\n",
       "    </tr>\n",
       "    <tr>\n",
       "      <th>3</th>\n",
       "      <td>hr503-109</td>\n",
       "      <td>2006-09-07</td>\n",
       "      <td>{u'api_uri': u'https://api.propublica.org/cong...</td>\n",
       "      <td>House</td>\n",
       "      <td>109.0</td>\n",
       "      <td>2006-09-07</td>\n",
       "      <td>{u'not_voting': 11, u'yes': 46, u'majority_pos...</td>\n",
       "      <td>Goodlatte of Virginia Amendment</td>\n",
       "      <td>{u'not_voting': 0, u'yes': 0, u'present': 0, u...</td>\n",
       "      <td>On Agreeing to the Amendment</td>\n",
       "      <td>{u'not_voting': 14, u'yes': 131, u'majority_po...</td>\n",
       "      <td>Failed</td>\n",
       "      <td>431.0</td>\n",
       "      <td>2.0</td>\n",
       "      <td>http://clerk.house.gov/evs/2006/roll431.xml</td>\n",
       "      <td>14:32:00</td>\n",
       "      <td>{u'not_voting': 25, u'yes': 177, u'present': 1...</td>\n",
       "      <td>http://clerk.house.gov/evs/2006/roll431.xml</td>\n",
       "      <td>RECORDED VOTE</td>\n",
       "      <td>https://api.propublica.org/congress/v1/109/hou...</td>\n",
       "      <td>S001149</td>\n",
       "      <td>Yes</td>\n",
       "      <td>No</td>\n",
       "      <td>No</td>\n",
       "    </tr>\n",
       "    <tr>\n",
       "      <th>4</th>\n",
       "      <td>s679-112</td>\n",
       "      <td>2012-07-31</td>\n",
       "      <td>{u'api_uri': u'https://api.propublica.org/cong...</td>\n",
       "      <td>Senate</td>\n",
       "      <td>112.0</td>\n",
       "      <td>2011-06-29</td>\n",
       "      <td>{u'not_voting': 1, u'yes': 2, u'majority_posit...</td>\n",
       "      <td>To enhance accountability and transparency amo...</td>\n",
       "      <td>{u'not_voting': 0, u'yes': 0, u'present': 0, u...</td>\n",
       "      <td>On the Amendment</td>\n",
       "      <td>{u'not_voting': 0, u'yes': 23, u'majority_posi...</td>\n",
       "      <td>Amendment Rejected</td>\n",
       "      <td>100.0</td>\n",
       "      <td>1.0</td>\n",
       "      <td>https://www.senate.gov/legislative/LIS/roll_ca...</td>\n",
       "      <td>11:35:00</td>\n",
       "      <td>{u'not_voting': 1, u'yes': 25, u'present': 0, ...</td>\n",
       "      <td>https://www.senate.gov/legislative/LIS/roll_ca...</td>\n",
       "      <td>1/2</td>\n",
       "      <td>https://api.propublica.org/congress/v1/112/sen...</td>\n",
       "      <td>S000148</td>\n",
       "      <td>No</td>\n",
       "      <td>No</td>\n",
       "      <td>No</td>\n",
       "    </tr>\n",
       "  </tbody>\n",
       "</table>\n",
       "</div>"
      ],
      "text/plain": [
       "      bill_id   last_vote                                               bill  \\\n",
       "0  hr1432-105  1998-03-11  {u'api_uri': u'https://api.propublica.org/cong...   \n",
       "1  hr1432-105  1998-03-11  {u'api_uri': u'https://api.propublica.org/cong...   \n",
       "2   hr503-109  2006-09-07  {u'api_uri': u'https://api.propublica.org/cong...   \n",
       "3   hr503-109  2006-09-07  {u'api_uri': u'https://api.propublica.org/cong...   \n",
       "4    s679-112  2012-07-31  {u'api_uri': u'https://api.propublica.org/cong...   \n",
       "\n",
       "  chamber  congress        date  \\\n",
       "0   House     105.0  1998-03-11   \n",
       "1   House     105.0  1998-03-11   \n",
       "2   House     109.0  2006-09-07   \n",
       "3   House     109.0  2006-09-07   \n",
       "4  Senate     112.0  2011-06-29   \n",
       "\n",
       "                                          democratic  \\\n",
       "0  {u'not_voting': 12, u'yes': 25, u'majority_pos...   \n",
       "1  {u'not_voting': 10, u'yes': 77, u'majority_pos...   \n",
       "2  {u'not_voting': 11, u'yes': 36, u'majority_pos...   \n",
       "3  {u'not_voting': 11, u'yes': 46, u'majority_pos...   \n",
       "4  {u'not_voting': 1, u'yes': 2, u'majority_posit...   \n",
       "\n",
       "                                         description  \\\n",
       "0        Bereuter of Nebraska Amendment, As Modified   \n",
       "1                     Waters of California Amendment   \n",
       "2                             King of Iowa Amendment   \n",
       "3                    Goodlatte of Virginia Amendment   \n",
       "4  To enhance accountability and transparency amo...   \n",
       "\n",
       "                                         independent  \\\n",
       "0  {u'not_voting': 0, u'yes': 0, u'present': 0, u...   \n",
       "1  {u'not_voting': 0, u'yes': 1, u'present': 0, u...   \n",
       "2  {u'not_voting': 0, u'yes': 0, u'present': 0, u...   \n",
       "3  {u'not_voting': 0, u'yes': 0, u'present': 0, u...   \n",
       "4  {u'not_voting': 0, u'yes': 0, u'present': 0, u...   \n",
       "\n",
       "                       question  \\\n",
       "0  On Agreeing to the Amendment   \n",
       "1  On Agreeing to the Amendment   \n",
       "2  On Agreeing to the Amendment   \n",
       "3  On Agreeing to the Amendment   \n",
       "4              On the Amendment   \n",
       "\n",
       "                                          republican              result  \\\n",
       "0  {u'not_voting': 4, u'yes': 131, u'majority_pos...              Failed   \n",
       "1  {u'not_voting': 5, u'yes': 3, u'majority_posit...              Failed   \n",
       "2  {u'not_voting': 15, u'yes': 113, u'majority_po...              Failed   \n",
       "3  {u'not_voting': 14, u'yes': 131, u'majority_po...              Failed   \n",
       "4  {u'not_voting': 0, u'yes': 23, u'majority_posi...  Amendment Rejected   \n",
       "\n",
       "   roll_call  session                                             source  \\\n",
       "0       45.0      2.0        http://clerk.house.gov/evs/1998/roll045.xml   \n",
       "1       44.0      2.0        http://clerk.house.gov/evs/1998/roll044.xml   \n",
       "2      432.0      2.0        http://clerk.house.gov/evs/2006/roll432.xml   \n",
       "3      431.0      2.0        http://clerk.house.gov/evs/2006/roll431.xml   \n",
       "4      100.0      1.0  https://www.senate.gov/legislative/LIS/roll_ca...   \n",
       "\n",
       "       time                                              total  \\\n",
       "0  16:31:00  {u'not_voting': 16, u'yes': 156, u'present': 0...   \n",
       "1  16:23:00  {u'not_voting': 15, u'yes': 81, u'present': 0,...   \n",
       "2  14:40:00  {u'not_voting': 26, u'yes': 149, u'present': 1...   \n",
       "3  14:32:00  {u'not_voting': 25, u'yes': 177, u'present': 1...   \n",
       "4  11:35:00  {u'not_voting': 1, u'yes': 25, u'present': 0, ...   \n",
       "\n",
       "                                                 url      vote_type  \\\n",
       "0        http://clerk.house.gov/evs/1998/roll045.xml  RECORDED VOTE   \n",
       "1        http://clerk.house.gov/evs/1998/roll044.xml  RECORDED VOTE   \n",
       "2        http://clerk.house.gov/evs/2006/roll432.xml  RECORDED VOTE   \n",
       "3        http://clerk.house.gov/evs/2006/roll431.xml  RECORDED VOTE   \n",
       "4  https://www.senate.gov/legislative/LIS/roll_ca...            1/2   \n",
       "\n",
       "                                            vote_uri sponsor_id  \\\n",
       "0  https://api.propublica.org/congress/v1/105/hou...    C000873   \n",
       "1  https://api.propublica.org/congress/v1/105/hou...    C000873   \n",
       "2  https://api.propublica.org/congress/v1/109/hou...    S001149   \n",
       "3  https://api.propublica.org/congress/v1/109/hou...    S001149   \n",
       "4  https://api.propublica.org/congress/v1/112/sen...    S000148   \n",
       "\n",
       "  majority_pos_rep majority_pos_dem majority_pos_ind  \n",
       "0              Yes               No               No  \n",
       "1               No               No              Yes  \n",
       "2             None               No               No  \n",
       "3              Yes               No               No  \n",
       "4               No               No               No  "
      ]
     },
     "execution_count": 20,
     "metadata": {},
     "output_type": "execute_result"
    }
   ],
   "source": [
    "df_rc.head()"
   ]
  },
  {
   "cell_type": "code",
   "execution_count": 13,
   "metadata": {
    "collapsed": false
   },
   "outputs": [],
   "source": []
  }
 ],
 "metadata": {
  "kernelspec": {
   "display_name": "Python 3",
   "language": "python",
   "name": "python3"
  },
  "language_info": {
   "codemirror_mode": {
    "name": "ipython",
    "version": 3
   },
   "file_extension": ".py",
   "mimetype": "text/x-python",
   "name": "python",
   "nbconvert_exporter": "python",
   "pygments_lexer": "ipython3",
   "version": "3.6.0"
  }
 },
 "nbformat": 4,
 "nbformat_minor": 2
}
