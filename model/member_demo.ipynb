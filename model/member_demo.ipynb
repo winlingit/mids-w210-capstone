{
 "cells": [
  {
   "cell_type": "code",
   "execution_count": 78,
   "metadata": {
    "collapsed": true
   },
   "outputs": [],
   "source": [
    "import pandas as pd\n",
    "import numpy as np\n",
    "import pickle\n",
    "import os\n",
    "from sklearn import metrics\n",
    "from sklearn.preprocessing import PolynomialFeatures\n",
    "from sklearn.linear_model import LogisticRegression\n",
    "import seaborn as sns\n",
    "from sklearn.ensemble import RandomForestClassifier\n",
    "from sklearn.utils import shuffle\n",
    "from collections import defaultdict\n",
    "pd.options.display.max_columns = 100\n",
    "%matplotlib inline"
   ]
  },
  {
   "cell_type": "markdown",
   "metadata": {},
   "source": [
    "# Member Info Model\n",
    "This model will mostly use demographic characteristics of the member to predict voting behavior. Most data is from the Propublica member api endpoint.\n",
    "## Feature Construction"
   ]
  },
  {
   "cell_type": "code",
   "execution_count": 47,
   "metadata": {
    "collapsed": false
   },
   "outputs": [
    {
     "name": "stderr",
     "output_type": "stream",
     "text": [
      "C:\\Users\\Steve\\Anaconda3\\lib\\site-packages\\pandas\\tools\\merge.py:536: UserWarning: merging between different levels can give an unintended result (1 levels on the left, 2 on the right)\n",
      "  warnings.warn(msg, UserWarning)\n",
      "C:\\Users\\Steve\\Anaconda3\\lib\\site-packages\\pandas\\tools\\merge.py:862: PerformanceWarning: dropping on a non-lexsorted multi-index without a level parameter may impact performance.\n",
      "  self.right = self.right.drop(right_drop, axis=1)\n"
     ]
    }
   ],
   "source": [
    "df_members = pd.read_csv('../data/propublica/members_bio.csv', encoding = 'latin1')\n",
    "columns = ['gender','last_name','member_id',\n",
    "           'office','seniority', 'short_title', \n",
    "           'bills_cosponsored', 'bills_sponsored', \n",
    "           'congress', 'date_of_birth']\n",
    "df_members = df_members.loc[df_members.congress >= 105, columns]\n",
    "df_members['date_of_birth'] = pd.to_datetime(df_members.date_of_birth)\n",
    "c1 = df_members.short_title == 'Rep.'\n",
    "c2 = df_members.short_title == 'Sen.'\n",
    "df_members = df_members[c1 | c2]\n",
    "gb = ['congress', 'short_title']\n",
    "df_avg = df_members.groupby(gb).agg(['mean', 'std']).drop('seniority', axis = 1).reset_index()\n",
    "df_members = pd.merge(df_members, df_avg, how = 'left', on = gb)\n",
    "\n",
    "# get sponsorship count zscore\n",
    "df_members['cosponsored_z'] = (df_members.bills_cosponsored - df_members[('bills_cosponsored', 'mean')]) / df_members[('bills_cosponsored', 'std')]\n",
    "df_members['sponsored_z']  = (df_members.bills_sponsored - df_members[('bills_sponsored', 'mean')]) / df_members[('bills_sponsored', 'std')]\n",
    "df_members = df_members[[x for x in df_members.columns if type(x) == str]]\n",
    "df_members.reset_index(drop=True, inplace = True)\n",
    "\n",
    "# extract office info\n",
    "office = df_members.office.str.split(\" \", expand = True)\n",
    "office.rename(columns={0: 'room',1:'building'}, inplace = True)\n",
    "office = office[['room', 'building']]\n",
    "df_members = pd.concat([df_members, office], axis = 1)\n",
    "\n",
    "# get order in which they vote\n",
    "# previous research has found this to be significant\n",
    "df_members.sort_values(['congress','short_title', 'last_name'], inplace=True)\n",
    "vote_order = []\n",
    "last_v = 'Rep.'\n",
    "order = 0\n",
    "for i, row in df_members.iterrows():\n",
    "    if row.short_title != last_v:\n",
    "        order = 0\n",
    "    last_v = row.short_title\n",
    "    vote_order.append(order)\n",
    "    order += 1\n",
    "df_members['vote_order'] = vote_order\n",
    "\n",
    "# get vote data\n",
    "def get_full_set(path):\n",
    "    for dataset in ['train','dev','test']:\n",
    "        df = pd.read_csv(path + dataset + '.csv', encoding = 'latin1')\n",
    "        if dataset == 'train':\n",
    "            df_votes = df\n",
    "        else:\n",
    "            df_votes = pd.concat([df_votes, df])\n",
    "    return df_votes\n",
    "df_votes = get_full_set('../data/model/')\n",
    "df_votes = pd.merge(df_votes, df_members, how = 'left', on = ['member_id', 'congress'])\n",
    "\n",
    "# get age of member at vote time\n",
    "df_vote_date = pd.read_csv('../data/propublica/votes_both.csv')\n",
    "cols = ['chamber', 'congress', 'session', 'roll_call']\n",
    "df_vote_date = df_vote_date[cols + ['date']]\n",
    "df_vote_date.drop_duplicates(subset=cols, inplace = True)\n",
    "df_votes = pd.merge(df_votes, df_vote_date, how = 'left', on = cols)\n",
    "df_votes.dropna(subset=['date_of_birth'], inplace = True)\n",
    "df_votes['date'] = pd.to_datetime(df_votes.date)\n",
    "df_votes['age'] = ((df_votes.date - df_votes.date_of_birth).dt.days / 365).apply(lambda x: int(x))\n",
    "\n",
    "# grab cosponsor list\n",
    "df_bills = pd.read_csv('../data/propublica/billsfull_model.csv', encoding = 'latin1')\n",
    "df_bills.dropna(subset=['sponsor_id'], inplace = True)\n",
    "def fix_eval(row):\n",
    "    \"\"\"Combination of different API pulls from different people resulted in lists being inconsistenly stored\n",
    "        Also append the sponsor id\n",
    "    \"\"\"\n",
    "    try:\n",
    "        new = eval(row.cosponsor)\n",
    "        if type(new[0]) == list:\n",
    "            new = new[0]\n",
    "    except NameError:\n",
    "        new = row.cosponsor.replace('[', \"\")\n",
    "        new = new.replace(']', \"\")\n",
    "        new = new.split(', ')\n",
    "    except:\n",
    "        if type(row.cosponsor) == float:\n",
    "            new = []\n",
    "        else:\n",
    "            new = row.cosponsor\n",
    "    new.append(row.sponsor_id)\n",
    "    return new\n",
    "df_bills['cosponsor_ids'] = df_bills.apply(fix_eval, axis = 1)\n",
    "cols = ['sponsor_party', 'cosponsor_ids', 'rsponsor', 'dsponsor', 'bill_id']\n",
    "df_bills = df_bills[cols].dropna(subset = ['bill_id'])\n",
    "df_votes = pd.merge(df_votes, df_bills, how = 'left', on = 'bill_id')\n",
    "def calc_party_alignment(row):\n",
    "    \"\"\"Get ratio of cosponsor party relative to member party\"\"\"\n",
    "    r_count = row.rsponsor\n",
    "    d_count = row.dsponsor\n",
    "    if row.sponsor_party == 'R':\n",
    "        r_count += 1\n",
    "    elif row.sponsor_party == 'D':\n",
    "        d_count += 1\n",
    "    \n",
    "    denom = d_count + r_count\n",
    "    if denom == 0:\n",
    "        return np.nan\n",
    "    if row.party == 'R':\n",
    "        return r_count / denom\n",
    "    elif row.party == 'D':\n",
    "        return d_count / denom\n",
    "df_votes['spon_party_ratio'] = df_votes.apply(calc_party_alignment, axis = 1)\n",
    "\n",
    "# Get a bunch of info on cosponsors\n",
    "df_votes.dropna(subset=['cosponsor_ids'], inplace = True)\n",
    "df_votes['cs_count'] = df_votes.cosponsor_ids.apply(lambda x: len(x))\n",
    "member_info = defaultdict(lambda: defaultdict(dict))\n",
    "for i, row in df_members.iterrows():\n",
    "    info = row[['building', 'gender','seniority','room']].to_dict()\n",
    "    member_info[row.member_id][row.congress] = info\n",
    "df_votes.reset_index(inplace=True, drop=True)\n",
    "cs_stats = []\n",
    "for i, row in df_votes.iterrows():\n",
    "    buildings = []\n",
    "    genders = []\n",
    "    rooms = []\n",
    "    seniorities = []\n",
    "    for cosponsor in row.cosponsor_ids:\n",
    "        cs_info = member_info[cosponsor][row.congress]\n",
    "        if cs_info:\n",
    "            buildings.append(cs_info['building'])\n",
    "            genders.append(cs_info['gender'])\n",
    "            rooms.append(cs_info['room'])\n",
    "            seniorities.append(cs_info['seniority'])\n",
    "    male_percent = len([x for x in genders if x == 'M']) / row.cs_count\n",
    "    sen_stats = pd.Series(seniorities).describe().to_dict()\n",
    "    sen_stats = {'sen_' + a: b for a,b in sen_stats.items() if a not in ['std','count']}\n",
    "    \n",
    "    if row.building:\n",
    "        same_building = np.mean([x==row.building for x in buildings])\n",
    "        room_1 = str(row.room)\n",
    "        same_floor = []\n",
    "        for room in rooms:\n",
    "            room = str(room)\n",
    "            if len(room_1) != len(room):\n",
    "                same_floor.append(False)\n",
    "            if len(room_1) == 3:\n",
    "                if room_1[0] == room[0]:\n",
    "                    same_floor.append(True)\n",
    "                else:\n",
    "                    same_floor.append(False)\n",
    "            if len(room_1) == 4:\n",
    "                if room_1[:2] == room[:2]:\n",
    "                    same_floor.append(True)\n",
    "                else:\n",
    "                    same_floor.append(False)\n",
    "        same_floor = np.mean(same_floor)\n",
    "    else:\n",
    "        same_building = -1\n",
    "        same_floor = -1\n",
    "    stats = {'male_percent': male_percent, \n",
    "             'same_building': same_building, \n",
    "             'same_floor': same_floor}\n",
    "    cs_stats.append({**stats, **sen_stats})\n",
    "cs_stats = pd.DataFrame(cs_stats)\n",
    "df_votes = pd.concat([df_votes, cs_stats], axis = 1)\n",
    "\n",
    "# checkpoint export\n",
    "df_votes.to_csv('../data/model/member_demo/features1.csv', index = False)\n",
    "columns = cs_stats.columns.tolist()\n",
    "columns += ['full_set_id', 'gender', 'seniority', 'short_title', \n",
    "            'cosponsored_z', 'sponsored_z', 'vote_order', 'age', \n",
    "            'spon_party_ratio', 'cs_count']\n",
    "df_votes = df_votes[columns].dropna()\n",
    "df_votes.to_csv('../data/model/member_demo/features2.csv', index = False)"
   ]
  },
  {
   "cell_type": "markdown",
   "metadata": {},
   "source": [
    "## Modeling"
   ]
  },
  {
   "cell_type": "code",
   "execution_count": 194,
   "metadata": {
    "collapsed": false
   },
   "outputs": [],
   "source": [
    "test = pd.read_csv('../data/model/test.csv')\n",
    "train = pd.read_csv('../data/model/train.csv')\n",
    "dev = pd.read_csv('../data/model/dev.csv')\n",
    "dfs = [train, dev, test]\n",
    "def join_features(df):\n",
    "    df = pd.merge(df, df_votes, on = 'full_set_id', how = 'left').dropna(subset = ['male_percent'])\n",
    "    return df\n",
    "model_train, model_dev, model_test =  map(join_features, dfs)"
   ]
  },
  {
   "cell_type": "code",
   "execution_count": 186,
   "metadata": {
    "collapsed": false
   },
   "outputs": [
    {
     "name": "stdout",
     "output_type": "stream",
     "text": [
      "             precision    recall  f1-score   support\n",
      "\n",
      "          0     0.9464    0.9459    0.9461    465682\n",
      "          1     0.0516    0.0521    0.0518     26317\n",
      "\n",
      "avg / total     0.8985    0.8980    0.8983    491999\n",
      "\n"
     ]
    }
   ],
   "source": [
    "# baseline if randomly assign 1 at level proportional to overall rate\n",
    "t = [1] * int(len(model_dev) * model_train.broke_from_party.mean())\n",
    "t += ([0] *(len(model_dev) - len(t)))\n",
    "t = shuffle(t)\n",
    "print(metrics.classification_report(model_dev['broke_from_party'], t, digits=4))"
   ]
  },
  {
   "cell_type": "code",
   "execution_count": 195,
   "metadata": {
    "collapsed": false
   },
   "outputs": [],
   "source": [
    "def bill_type(df):\n",
    "    \"\"\"Get bill type from bill id\"\"\"\n",
    "    df['bill_type'] = df.bill_id.str.replace('[0-9]', '').str.replace(\"-\", \"\")\n",
    "    recode = {\"hres\": 'res', 'hconres': \"conres\", 'hjres': 'jres', \n",
    "              'sres': 'res', 'sconres':'conres', 'sjres': 'jres', \n",
    "              \"s\":'bill', 'hr': 'bill',\n",
    "              \"\": \"other\", 'motion': \"other\", 'treatydoc':'other'}\n",
    "    df['bill_type'] = df.bill_type.replace(recode)\n",
    "    df = pd.concat([df, pd.get_dummies(df.bill_type, prefix='btype_')], \n",
    "                   axis = 1)\n",
    "    return df\n",
    "dfs = [model_train, model_dev, model_test]\n",
    "model_train, model_dev, model_test =  map(bill_type, dfs)\n",
    "def dummy_body(df):\n",
    "    df = pd.concat([df, pd.get_dummies(df.short_title, prefix='title_')], \n",
    "                   axis = 1)\n",
    "    df['is_male'] = df.gender == 'M'\n",
    "    return df\n",
    "dfs = [model_train, model_dev, model_test]\n",
    "model_train, model_dev, model_test =  map(dummy_body, dfs)"
   ]
  },
  {
   "cell_type": "code",
   "execution_count": 196,
   "metadata": {
    "collapsed": false
   },
   "outputs": [
    {
     "data": {
      "text/html": [
       "<div>\n",
       "<table border=\"1\" class=\"dataframe\">\n",
       "  <thead>\n",
       "    <tr style=\"text-align: right;\">\n",
       "      <th></th>\n",
       "      <th>male_percent</th>\n",
       "      <th>same_building</th>\n",
       "      <th>same_floor</th>\n",
       "      <th>sen_25%</th>\n",
       "      <th>sen_50%</th>\n",
       "      <th>sen_75%</th>\n",
       "      <th>sen_max</th>\n",
       "      <th>sen_mean</th>\n",
       "      <th>sen_min</th>\n",
       "      <th>seniority</th>\n",
       "      <th>cosponsored_z</th>\n",
       "      <th>sponsored_z</th>\n",
       "      <th>vote_order</th>\n",
       "      <th>age</th>\n",
       "      <th>spon_party_ratio</th>\n",
       "      <th>cs_count</th>\n",
       "      <th>btype__bill</th>\n",
       "      <th>btype__conres</th>\n",
       "      <th>btype__jres</th>\n",
       "      <th>btype__res</th>\n",
       "      <th>title__Rep.</th>\n",
       "      <th>title__Sen.</th>\n",
       "      <th>is_male</th>\n",
       "    </tr>\n",
       "  </thead>\n",
       "  <tbody>\n",
       "    <tr>\n",
       "      <th>0</th>\n",
       "      <td>1.0</td>\n",
       "      <td>-1.0</td>\n",
       "      <td>-1.0</td>\n",
       "      <td>27.0</td>\n",
       "      <td>34.0</td>\n",
       "      <td>41.0</td>\n",
       "      <td>48.0</td>\n",
       "      <td>34.0</td>\n",
       "      <td>20.0</td>\n",
       "      <td>6.0</td>\n",
       "      <td>0.249868</td>\n",
       "      <td>1.403126</td>\n",
       "      <td>44.0</td>\n",
       "      <td>53.0</td>\n",
       "      <td>1.0</td>\n",
       "      <td>2.0</td>\n",
       "      <td>1</td>\n",
       "      <td>0</td>\n",
       "      <td>0</td>\n",
       "      <td>0</td>\n",
       "      <td>1</td>\n",
       "      <td>0</td>\n",
       "      <td>True</td>\n",
       "    </tr>\n",
       "  </tbody>\n",
       "</table>\n",
       "</div>"
      ],
      "text/plain": [
       "   male_percent  same_building  same_floor  sen_25%  sen_50%  sen_75%  \\\n",
       "0           1.0           -1.0        -1.0     27.0     34.0     41.0   \n",
       "\n",
       "   sen_max  sen_mean  sen_min  seniority  cosponsored_z  sponsored_z  \\\n",
       "0     48.0      34.0     20.0        6.0       0.249868     1.403126   \n",
       "\n",
       "   vote_order   age  spon_party_ratio  cs_count  btype__bill  btype__conres  \\\n",
       "0        44.0  53.0               1.0       2.0            1              0   \n",
       "\n",
       "   btype__jres  btype__res  title__Rep.  title__Sen. is_male  \n",
       "0            0           0            1            0    True  "
      ]
     },
     "execution_count": 196,
     "metadata": {},
     "output_type": "execute_result"
    }
   ],
   "source": [
    "features = [x for x in columns if x not in ['full_set_id', 'short_title', 'gender']]\n",
    "features += [x for x in model_dev.columns if x.startswith('btype_')]\n",
    "features += [x for x in model_dev.columns if x.startswith('title_')]\n",
    "features += ['is_male']\n",
    "rfc = RandomForestClassifier(class_weight='balanced', min_samples_split=200)\n",
    "rfc.fit(model_train[features], model_train['broke_from_party'])\n",
    "model_dev[features].head(1)"
   ]
  },
  {
   "cell_type": "code",
   "execution_count": 197,
   "metadata": {
    "collapsed": false
   },
   "outputs": [
    {
     "name": "stderr",
     "output_type": "stream",
     "text": [
      "C:\\Users\\Steve\\Anaconda3\\lib\\site-packages\\statsmodels\\nonparametric\\kdetools.py:20: VisibleDeprecationWarning: using a non-integer number instead of an integer will result in an error in the future\n",
      "  y = X[:m/2+1] + np.r_[0,X[m/2+1:],0]*1j\n"
     ]
    },
    {
     "data": {
      "text/plain": [
       "<matplotlib.axes._subplots.AxesSubplot at 0xe42988a940>"
      ]
     },
     "execution_count": 197,
     "metadata": {},
     "output_type": "execute_result"
    },
    {
     "data": {
      "image/png": "[encoded data removed]",
      "text/plain": [
       "<matplotlib.figure.Figure at 0xe413522ba8>"
      ]
     },
     "metadata": {},
     "output_type": "display_data"
    }
   ],
   "source": [
    "probs_dev = rfc.predict_proba(model_dev[features])[:,1]\n",
    "probs_train = rfc.predict_proba(model_train[features])[:,1]\n",
    "sns.distplot(probs_dev)"
   ]
  },
  {
   "cell_type": "code",
   "execution_count": 198,
   "metadata": {
    "collapsed": false
   },
   "outputs": [
    {
     "name": "stdout",
     "output_type": "stream",
     "text": [
      "26754\n",
      "             precision    recall  f1-score   support\n",
      "\n",
      "          0     0.9648    0.9639    0.9643    465682\n",
      "          1     0.3715    0.3777    0.3746     26317\n",
      "\n",
      "avg / total     0.9331    0.9325    0.9328    491999\n",
      "\n"
     ]
    }
   ],
   "source": [
    "thresh = .75\n",
    "print((probs_dev >= thresh).sum())\n",
    "print(metrics.classification_report(model_dev['broke_from_party'], probs_dev >= thresh, digits=4))"
   ]
  },
  {
   "cell_type": "code",
   "execution_count": 200,
   "metadata": {
    "collapsed": true
   },
   "outputs": [],
   "source": [
    "def export_predictions(dfs, model, file_name, \n",
    "                       path = \"../data/model/model_predictions/\", \n",
    "                       predictors = features):\n",
    "    \"\"\"Exports probabilities for all sets\n",
    "    Args:\n",
    "        dfs: train, dev, test sets. in that order.\n",
    "        model: sklearn model to get predictions\n",
    "        path: where to export\n",
    "        predictors: Column set to use as predictors\n",
    "    \"\"\"\n",
    "    labels = ['train', 'dev', 'test']\n",
    "    for label, df in zip(labels, dfs):\n",
    "        probs = model.predict_proba(df[predictors])[:,1]\n",
    "        probs = pd.DataFrame(probs, index = df.full_set_id, columns=['pred_probs'])\n",
    "        probs.to_csv(path + file_name + \"_\" + label + \".csv\")\n",
    "\n",
    "with open('../data/model/member_demo/rfc_member_demos.pickle', 'wb') as f:\n",
    "    pickle.dump(rfc, f)\n",
    "dfs = [model_train, model_dev, model_test]\n",
    "export_predictions(dfs, rfc, 'member_demos', predictors=features)"
   ]
  }
 ],
 "metadata": {
  "kernelspec": {
   "display_name": "Python 3",
   "language": "python",
   "name": "python3"
  },
  "language_info": {
   "codemirror_mode": {
    "name": "ipython",
    "version": 3
   },
   "file_extension": ".py",
   "mimetype": "text/x-python",
   "name": "python",
   "nbconvert_exporter": "python",
   "pygments_lexer": "ipython3",
   "version": "3.6.0"
  }
 },
 "nbformat": 4,
 "nbformat_minor": 2
}
