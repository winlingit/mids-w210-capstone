{
 "cells": [
  {
   "cell_type": "code",
   "execution_count": 1,
   "metadata": {
    "collapsed": true
   },
   "outputs": [],
   "source": [
    "import pandas as pd\n",
    "import numpy as np\n",
    "import pickle\n",
    "from sklearn import metrics\n",
    "from sklearn.preprocessing import PolynomialFeatures\n",
    "from sklearn.linear_model import LogisticRegression\n",
    "import statsmodels.formula.api as smf\n",
    "import seaborn as sns\n",
    "%matplotlib inline"
   ]
  },
  {
   "cell_type": "code",
   "execution_count": 201,
   "metadata": {
    "collapsed": true
   },
   "outputs": [],
   "source": [
    "df_votes = pd.read_csv('../propublica/toyset.csv')\n",
    "df_cosponsors = pd.read_csv('../propublica/member_votes_bills_cosponsors.csv')\n",
    "with open('../campaign_contributions/open_secrets/processed/cosign_all_industries.pickle', 'rb') as f:\n",
    "    contributions = pickle.load(f)\n",
    "df_votes = pd.merge(df_votes, df_cosponsors, how = 'left', on = 'bill_id')\n",
    "df_votes = df_votes.dropna(subset = ['cosponsor_ids'])"
   ]
  },
  {
   "cell_type": "code",
   "execution_count": 202,
   "metadata": {
    "collapsed": false
   },
   "outputs": [],
   "source": [
    "def sponsor_cosign(row, span):\n",
    "    \"\"\"Looks up the cosign similarity between the member and the sponsor\"\"\"\n",
    "    try:\n",
    "        if row.bill_type == 's':\n",
    "            body = 'senate'\n",
    "        else:\n",
    "            body = 'house'\n",
    "        cong_n = int(row.congress)\n",
    "        members = (row.id, row.sponsor_id_y)\n",
    "        \n",
    "        cosign = contributions[body][cong_n][span][members]\n",
    "        return cosign\n",
    "    except:\n",
    "        return np.nan\n",
    "\n",
    "def cs_same_party(row):\n",
    "    \"\"\"Calculates the percentage of cosponsors that are of same party\"\"\"\n",
    "    try:\n",
    "        cs_parties = eval(row.cosponsors_by_party)\n",
    "        mem_party = row.party\n",
    "        numerator = 0\n",
    "        if cs_parties:\n",
    "            for party in cs_parties:\n",
    "                if party['party']['id'] == mem_party:\n",
    "                    numerator = party['party']['sponsors']\n",
    "            return int(numerator) / int(row.number_of_cosponsors)\n",
    "        else:\n",
    "            return 0\n",
    "    except:\n",
    "        return np.nan\n",
    "\n",
    "def cosponsor_cosign(row, span):\n",
    "    \"\"\"Get central tendency stats of cosign similarities between cosponsors and member\"\"\"\n",
    "    cosponsors = eval(row.cosponsor_ids)\n",
    "    \n",
    "    if cosponsors:\n",
    "        cosponsors.append(row.sponsor_id_y)\n",
    "    else:\n",
    "        cosponsors = [row.sponsor_id_y]\n",
    "    \n",
    "    cosigns = []\n",
    "    for cosponsor in cosponsors:\n",
    "        try:\n",
    "            if row.bill_type == 's':\n",
    "                body = 'senate'\n",
    "            else:\n",
    "                body = 'house'\n",
    "            cong_n = int(row.congress)\n",
    "            members = (row.id, cosponsor)\n",
    "\n",
    "            cosign = contributions[body][cong_n][span][members]\n",
    "        except:\n",
    "            cosign = np.nan\n",
    "        cosigns.append(cosign)\n",
    "    stats = pd.Series(cosigns).describe().to_dict()\n",
    "    if pd.isnull(stats['std']):\n",
    "        stats['std'] = 0\n",
    "    return stats\n",
    "\n",
    "def is_sponsor(row):\n",
    "    \"\"\"check if member sponsored or cosponsored bill\"\"\"\n",
    "    if row.id == row.sponsor_id_y:\n",
    "        return 1\n",
    "    elif row.id in eval(row.cosponsor_ids):\n",
    "        return 1\n",
    "    else:\n",
    "        return 0"
   ]
  },
  {
   "cell_type": "code",
   "execution_count": 203,
   "metadata": {
    "collapsed": false
   },
   "outputs": [],
   "source": [
    "df_votes['sponsor_cs_current'] = df_votes.apply(sponsor_cosign, span = 'current', axis = 1)\n",
    "df_votes['sponsor_cs_p3'] = df_votes.apply(sponsor_cosign, span = 'p3', axis = 1)\n",
    "df_votes['sponsor_same_party'] = df_votes.party == df_votes.sponsor_party\n",
    "df_votes['cosponsor_same_party'] = df_votes.apply(cs_same_party, axis =1)\n",
    "for span in ['p3', 'current']:\n",
    "    df_cosponsor_cosign = df_votes.apply(cosponsor_cosign, span = span, axis = 1)\n",
    "    df_cosponsor_cosign = pd.DataFrame(df_cosponsor_cosign.tolist(), index=df_cosponsor_cosign.index)\n",
    "    df_cosponsor_cosign.columns = [\"cs_\" + span + \"_\" + x for x in df_cosponsor_cosign.columns]\n",
    "    df_votes = pd.concat([df_votes, df_cosponsor_cosign], axis = 1)\n",
    "df_votes['is_sponsor'] = df_votes.apply(is_sponsor, axis = 1)"
   ]
  },
  {
   "cell_type": "code",
   "execution_count": 204,
   "metadata": {
    "collapsed": false
   },
   "outputs": [
    {
     "data": {
      "text/html": [
       "<div>\n",
       "<table border=\"1\" class=\"dataframe\">\n",
       "  <thead>\n",
       "    <tr style=\"text-align: right;\">\n",
       "      <th></th>\n",
       "      <th>id</th>\n",
       "      <th>bill_id</th>\n",
       "      <th>date</th>\n",
       "      <th>party</th>\n",
       "      <th>voted_against_party</th>\n",
       "      <th>position</th>\n",
       "      <th>sponsor_id_x</th>\n",
       "      <th>source</th>\n",
       "      <th>bill_slug</th>\n",
       "      <th>bill_type</th>\n",
       "      <th>congress</th>\n",
       "      <th>cosponsor_ids</th>\n",
       "      <th>cosponsors_by_party</th>\n",
       "      <th>house_passage_vote</th>\n",
       "      <th>introduced_date</th>\n",
       "      <th>number_of_cosponsors</th>\n",
       "      <th>sponsor_id_y</th>\n",
       "      <th>sponsor_party</th>\n",
       "      <th>sponsor_cs_current</th>\n",
       "      <th>sponsor_cs_p3</th>\n",
       "      <th>sponsor_same_party</th>\n",
       "      <th>cosponsor_same_party</th>\n",
       "      <th>cs_p3_25%</th>\n",
       "      <th>cs_p3_50%</th>\n",
       "      <th>cs_p3_75%</th>\n",
       "      <th>cs_p3_count</th>\n",
       "      <th>cs_p3_max</th>\n",
       "      <th>cs_p3_mean</th>\n",
       "      <th>cs_p3_min</th>\n",
       "      <th>cs_p3_std</th>\n",
       "      <th>cs_current_25%</th>\n",
       "      <th>cs_current_50%</th>\n",
       "      <th>cs_current_75%</th>\n",
       "      <th>cs_current_count</th>\n",
       "      <th>cs_current_max</th>\n",
       "      <th>cs_current_mean</th>\n",
       "      <th>cs_current_min</th>\n",
       "      <th>cs_current_std</th>\n",
       "    </tr>\n",
       "  </thead>\n",
       "  <tbody>\n",
       "    <tr>\n",
       "      <th>0</th>\n",
       "      <td>F000460</td>\n",
       "      <td>hres601-115</td>\n",
       "      <td>2017-11-02</td>\n",
       "      <td>R</td>\n",
       "      <td>0</td>\n",
       "      <td>Yes</td>\n",
       "      <td>B001248</td>\n",
       "      <td>Train</td>\n",
       "      <td>hres601</td>\n",
       "      <td>hres</td>\n",
       "      <td>115.0</td>\n",
       "      <td>[]</td>\n",
       "      <td>[]</td>\n",
       "      <td>2017-11-02</td>\n",
       "      <td>2017-11-01</td>\n",
       "      <td>0.0</td>\n",
       "      <td>B001248</td>\n",
       "      <td>R</td>\n",
       "      <td>0.894840</td>\n",
       "      <td>0.795151</td>\n",
       "      <td>True</td>\n",
       "      <td>0.000000</td>\n",
       "      <td>0.795151</td>\n",
       "      <td>0.795151</td>\n",
       "      <td>0.795151</td>\n",
       "      <td>1.0</td>\n",
       "      <td>0.795151</td>\n",
       "      <td>0.795151</td>\n",
       "      <td>0.795151</td>\n",
       "      <td>0.000000</td>\n",
       "      <td>0.894840</td>\n",
       "      <td>0.894840</td>\n",
       "      <td>0.894840</td>\n",
       "      <td>1.0</td>\n",
       "      <td>0.894840</td>\n",
       "      <td>0.894840</td>\n",
       "      <td>0.894840</td>\n",
       "      <td>0.000000</td>\n",
       "    </tr>\n",
       "    <tr>\n",
       "      <th>1</th>\n",
       "      <td>A000366</td>\n",
       "      <td>hr6443-112</td>\n",
       "      <td>2012-12-20</td>\n",
       "      <td>R</td>\n",
       "      <td>0</td>\n",
       "      <td>Yes</td>\n",
       "      <td>W000797</td>\n",
       "      <td>Train</td>\n",
       "      <td>hr6443</td>\n",
       "      <td>hr</td>\n",
       "      <td>112.0</td>\n",
       "      <td>['D000610', 'W000808', 'B000911', 'H000324', '...</td>\n",
       "      <td>[{'party': {'id': 'D', 'sponsors': '5'}}, {'pa...</td>\n",
       "      <td>2012-12-20</td>\n",
       "      <td>2012-09-19</td>\n",
       "      <td>24.0</td>\n",
       "      <td>W000797</td>\n",
       "      <td>D</td>\n",
       "      <td>NaN</td>\n",
       "      <td>NaN</td>\n",
       "      <td>False</td>\n",
       "      <td>0.791667</td>\n",
       "      <td>NaN</td>\n",
       "      <td>NaN</td>\n",
       "      <td>NaN</td>\n",
       "      <td>0.0</td>\n",
       "      <td>NaN</td>\n",
       "      <td>NaN</td>\n",
       "      <td>NaN</td>\n",
       "      <td>0.000000</td>\n",
       "      <td>NaN</td>\n",
       "      <td>NaN</td>\n",
       "      <td>NaN</td>\n",
       "      <td>0.0</td>\n",
       "      <td>NaN</td>\n",
       "      <td>NaN</td>\n",
       "      <td>NaN</td>\n",
       "      <td>0.000000</td>\n",
       "    </tr>\n",
       "    <tr>\n",
       "      <th>2</th>\n",
       "      <td>M001163</td>\n",
       "      <td>hr3043-115</td>\n",
       "      <td>2017-11-08</td>\n",
       "      <td>D</td>\n",
       "      <td>0</td>\n",
       "      <td>Yes</td>\n",
       "      <td>M001159</td>\n",
       "      <td>Train</td>\n",
       "      <td>hr3043</td>\n",
       "      <td>hr</td>\n",
       "      <td>115.0</td>\n",
       "      <td>[]</td>\n",
       "      <td>[]</td>\n",
       "      <td>2017-11-08</td>\n",
       "      <td>2017-06-23</td>\n",
       "      <td>0.0</td>\n",
       "      <td>M001159</td>\n",
       "      <td>R</td>\n",
       "      <td>0.682422</td>\n",
       "      <td>0.613091</td>\n",
       "      <td>False</td>\n",
       "      <td>0.000000</td>\n",
       "      <td>0.613091</td>\n",
       "      <td>0.613091</td>\n",
       "      <td>0.613091</td>\n",
       "      <td>1.0</td>\n",
       "      <td>0.613091</td>\n",
       "      <td>0.613091</td>\n",
       "      <td>0.613091</td>\n",
       "      <td>0.000000</td>\n",
       "      <td>0.682422</td>\n",
       "      <td>0.682422</td>\n",
       "      <td>0.682422</td>\n",
       "      <td>1.0</td>\n",
       "      <td>0.682422</td>\n",
       "      <td>0.682422</td>\n",
       "      <td>0.682422</td>\n",
       "      <td>0.000000</td>\n",
       "    </tr>\n",
       "    <tr>\n",
       "      <th>4</th>\n",
       "      <td>M001177</td>\n",
       "      <td>hr1066-115</td>\n",
       "      <td>2017-11-06</td>\n",
       "      <td>R</td>\n",
       "      <td>0</td>\n",
       "      <td>Yes</td>\n",
       "      <td>K000381</td>\n",
       "      <td>Train</td>\n",
       "      <td>hr1066</td>\n",
       "      <td>hr</td>\n",
       "      <td>115.0</td>\n",
       "      <td>['N000189', 'K000382', 'R000586', 'B001284', '...</td>\n",
       "      <td>[{'party': {'id': 'D', 'sponsors': '4'}}, {'pa...</td>\n",
       "      <td>2017-11-06</td>\n",
       "      <td>2017-02-15</td>\n",
       "      <td>10.0</td>\n",
       "      <td>K000381</td>\n",
       "      <td>D</td>\n",
       "      <td>0.243556</td>\n",
       "      <td>0.331429</td>\n",
       "      <td>False</td>\n",
       "      <td>0.600000</td>\n",
       "      <td>0.290205</td>\n",
       "      <td>0.347987</td>\n",
       "      <td>0.713559</td>\n",
       "      <td>11.0</td>\n",
       "      <td>0.905337</td>\n",
       "      <td>0.494583</td>\n",
       "      <td>0.248274</td>\n",
       "      <td>0.249574</td>\n",
       "      <td>0.242376</td>\n",
       "      <td>0.307674</td>\n",
       "      <td>0.457873</td>\n",
       "      <td>11.0</td>\n",
       "      <td>0.861923</td>\n",
       "      <td>0.361851</td>\n",
       "      <td>0.065824</td>\n",
       "      <td>0.215294</td>\n",
       "    </tr>\n",
       "    <tr>\n",
       "      <th>5</th>\n",
       "      <td>L000567</td>\n",
       "      <td>hres607-115</td>\n",
       "      <td>2017-11-07</td>\n",
       "      <td>R</td>\n",
       "      <td>0</td>\n",
       "      <td>Yes</td>\n",
       "      <td>B001289</td>\n",
       "      <td>Train</td>\n",
       "      <td>hres607</td>\n",
       "      <td>hres</td>\n",
       "      <td>115.0</td>\n",
       "      <td>[]</td>\n",
       "      <td>[]</td>\n",
       "      <td>2017-11-07</td>\n",
       "      <td>2017-11-06</td>\n",
       "      <td>0.0</td>\n",
       "      <td>B001289</td>\n",
       "      <td>R</td>\n",
       "      <td>0.765137</td>\n",
       "      <td>0.773235</td>\n",
       "      <td>True</td>\n",
       "      <td>0.000000</td>\n",
       "      <td>0.773235</td>\n",
       "      <td>0.773235</td>\n",
       "      <td>0.773235</td>\n",
       "      <td>1.0</td>\n",
       "      <td>0.773235</td>\n",
       "      <td>0.773235</td>\n",
       "      <td>0.773235</td>\n",
       "      <td>0.000000</td>\n",
       "      <td>0.765137</td>\n",
       "      <td>0.765137</td>\n",
       "      <td>0.765137</td>\n",
       "      <td>1.0</td>\n",
       "      <td>0.765137</td>\n",
       "      <td>0.765137</td>\n",
       "      <td>0.765137</td>\n",
       "      <td>0.000000</td>\n",
       "    </tr>\n",
       "  </tbody>\n",
       "</table>\n",
       "</div>"
      ],
      "text/plain": [
       "        id      bill_id        date party  voted_against_party position  \\\n",
       "0  F000460  hres601-115  2017-11-02     R                    0      Yes   \n",
       "1  A000366   hr6443-112  2012-12-20     R                    0      Yes   \n",
       "2  M001163   hr3043-115  2017-11-08     D                    0      Yes   \n",
       "4  M001177   hr1066-115  2017-11-06     R                    0      Yes   \n",
       "5  L000567  hres607-115  2017-11-07     R                    0      Yes   \n",
       "\n",
       "  sponsor_id_x source bill_slug bill_type  congress  \\\n",
       "0      B001248  Train   hres601      hres     115.0   \n",
       "1      W000797  Train    hr6443        hr     112.0   \n",
       "2      M001159  Train    hr3043        hr     115.0   \n",
       "4      K000381  Train    hr1066        hr     115.0   \n",
       "5      B001289  Train   hres607      hres     115.0   \n",
       "\n",
       "                                       cosponsor_ids  \\\n",
       "0                                                 []   \n",
       "1  ['D000610', 'W000808', 'B000911', 'H000324', '...   \n",
       "2                                                 []   \n",
       "4  ['N000189', 'K000382', 'R000586', 'B001284', '...   \n",
       "5                                                 []   \n",
       "\n",
       "                                 cosponsors_by_party house_passage_vote  \\\n",
       "0                                                 []         2017-11-02   \n",
       "1  [{'party': {'id': 'D', 'sponsors': '5'}}, {'pa...         2012-12-20   \n",
       "2                                                 []         2017-11-08   \n",
       "4  [{'party': {'id': 'D', 'sponsors': '4'}}, {'pa...         2017-11-06   \n",
       "5                                                 []         2017-11-07   \n",
       "\n",
       "  introduced_date  number_of_cosponsors sponsor_id_y sponsor_party  \\\n",
       "0      2017-11-01                   0.0      B001248             R   \n",
       "1      2012-09-19                  24.0      W000797             D   \n",
       "2      2017-06-23                   0.0      M001159             R   \n",
       "4      2017-02-15                  10.0      K000381             D   \n",
       "5      2017-11-06                   0.0      B001289             R   \n",
       "\n",
       "   sponsor_cs_current  sponsor_cs_p3 sponsor_same_party  cosponsor_same_party  \\\n",
       "0            0.894840       0.795151               True              0.000000   \n",
       "1                 NaN            NaN              False              0.791667   \n",
       "2            0.682422       0.613091              False              0.000000   \n",
       "4            0.243556       0.331429              False              0.600000   \n",
       "5            0.765137       0.773235               True              0.000000   \n",
       "\n",
       "   cs_p3_25%  cs_p3_50%  cs_p3_75%  cs_p3_count  cs_p3_max  cs_p3_mean  \\\n",
       "0   0.795151   0.795151   0.795151          1.0   0.795151    0.795151   \n",
       "1        NaN        NaN        NaN          0.0        NaN         NaN   \n",
       "2   0.613091   0.613091   0.613091          1.0   0.613091    0.613091   \n",
       "4   0.290205   0.347987   0.713559         11.0   0.905337    0.494583   \n",
       "5   0.773235   0.773235   0.773235          1.0   0.773235    0.773235   \n",
       "\n",
       "   cs_p3_min  cs_p3_std  cs_current_25%  cs_current_50%  cs_current_75%  \\\n",
       "0   0.795151   0.000000        0.894840        0.894840        0.894840   \n",
       "1        NaN   0.000000             NaN             NaN             NaN   \n",
       "2   0.613091   0.000000        0.682422        0.682422        0.682422   \n",
       "4   0.248274   0.249574        0.242376        0.307674        0.457873   \n",
       "5   0.773235   0.000000        0.765137        0.765137        0.765137   \n",
       "\n",
       "   cs_current_count  cs_current_max  cs_current_mean  cs_current_min  \\\n",
       "0               1.0        0.894840         0.894840        0.894840   \n",
       "1               0.0             NaN              NaN             NaN   \n",
       "2               1.0        0.682422         0.682422        0.682422   \n",
       "4              11.0        0.861923         0.361851        0.065824   \n",
       "5               1.0        0.765137         0.765137        0.765137   \n",
       "\n",
       "   cs_current_std  \n",
       "0        0.000000  \n",
       "1        0.000000  \n",
       "2        0.000000  \n",
       "4        0.215294  \n",
       "5        0.000000  "
      ]
     },
     "execution_count": 204,
     "metadata": {},
     "output_type": "execute_result"
    }
   ],
   "source": [
    "df_votes.head()"
   ]
  },
  {
   "cell_type": "code",
   "execution_count": 205,
   "metadata": {
    "collapsed": false
   },
   "outputs": [
    {
     "data": {
      "text/plain": [
       "Index(['id', 'bill_id', 'date', 'party', 'voted_against_party', 'position',\n",
       "       'sponsor_id_x', 'source', 'bill_slug', 'bill_type', 'congress',\n",
       "       'cosponsor_ids', 'cosponsors_by_party', 'house_passage_vote',\n",
       "       'introduced_date', 'number_of_cosponsors', 'sponsor_id_y',\n",
       "       'sponsor_party', 'sponsor_cs_current', 'sponsor_cs_p3',\n",
       "       'sponsor_same_party', 'cosponsor_same_party', 'cs_p3_25%', 'cs_p3_50%',\n",
       "       'cs_p3_75%', 'cs_p3_count', 'cs_p3_max', 'cs_p3_mean', 'cs_p3_min',\n",
       "       'cs_p3_std', 'cs_current_25%', 'cs_current_50%', 'cs_current_75%',\n",
       "       'cs_current_count', 'cs_current_max', 'cs_current_mean',\n",
       "       'cs_current_min', 'cs_current_std'],\n",
       "      dtype='object')"
      ]
     },
     "execution_count": 205,
     "metadata": {},
     "output_type": "execute_result"
    }
   ],
   "source": [
    "df_votes.columns"
   ]
  },
  {
   "cell_type": "code",
   "execution_count": 239,
   "metadata": {
    "collapsed": false
   },
   "outputs": [
    {
     "name": "stderr",
     "output_type": "stream",
     "text": [
      "C:\\Users\\Steve\\Anaconda3\\lib\\site-packages\\ipykernel\\__main__.py:6: SettingWithCopyWarning: \n",
      "A value is trying to be set on a copy of a slice from a DataFrame\n",
      "\n",
      "See the caveats in the documentation: http://pandas.pydata.org/pandas-docs/stable/indexing.html#indexing-view-versus-copy\n"
     ]
    }
   ],
   "source": [
    "columns = ['voted_against_party','source','sponsor_same_party',\n",
    "           'sponsor_cs_current','sponsor_cs_p3', 'number_of_cosponsors',\n",
    "           'cosponsor_same_party', 'is_sponsor']\n",
    "columns += [x for x in df_votes.columns if x.startswith('cs_')]\n",
    "df_model = df_votes[columns]\n",
    "df_model.dropna(inplace=True)\n",
    "df_model.reset_index(inplace = True, drop=True)"
   ]
  },
  {
   "cell_type": "code",
   "execution_count": 240,
   "metadata": {
    "collapsed": false
   },
   "outputs": [],
   "source": [
    "columns = ['sponsor_cs_current','sponsor_cs_p3']\n",
    "interactions = df_model[columns].mul(df_model.sponsor_same_party, axis = 0)\n",
    "df_model = pd.concat([df_model, interactions], axis = 1)\n",
    "\n",
    "columns = [x for x in df_votes.columns if x.startswith('cs_')]\n",
    "interactions = df_model[columns].mul(df_model.cosponsor_same_party, axis = 0)\n",
    "df_model = pd.concat([df_model, interactions], axis = 1)"
   ]
  },
  {
   "cell_type": "code",
   "execution_count": 216,
   "metadata": {
    "collapsed": false
   },
   "outputs": [
    {
     "data": {
      "text/html": [
       "<div>\n",
       "<table border=\"1\" class=\"dataframe\">\n",
       "  <thead>\n",
       "    <tr style=\"text-align: right;\">\n",
       "      <th></th>\n",
       "      <th>voted_against_party</th>\n",
       "      <th>source</th>\n",
       "      <th>sponsor_same_party</th>\n",
       "      <th>sponsor_cs_current</th>\n",
       "      <th>sponsor_cs_p3</th>\n",
       "      <th>number_of_cosponsors</th>\n",
       "      <th>cosponsor_same_party</th>\n",
       "      <th>cs_p3_25%</th>\n",
       "      <th>cs_p3_50%</th>\n",
       "      <th>cs_p3_75%</th>\n",
       "      <th>cs_p3_count</th>\n",
       "      <th>cs_p3_max</th>\n",
       "      <th>cs_p3_mean</th>\n",
       "      <th>cs_p3_min</th>\n",
       "      <th>cs_p3_std</th>\n",
       "      <th>cs_current_25%</th>\n",
       "      <th>cs_current_50%</th>\n",
       "      <th>cs_current_75%</th>\n",
       "      <th>cs_current_count</th>\n",
       "      <th>cs_current_max</th>\n",
       "      <th>cs_current_mean</th>\n",
       "      <th>cs_current_min</th>\n",
       "      <th>cs_current_std</th>\n",
       "      <th>sponsor_cs_current</th>\n",
       "      <th>sponsor_cs_p3</th>\n",
       "      <th>cs_p3_25%</th>\n",
       "      <th>cs_p3_50%</th>\n",
       "      <th>cs_p3_75%</th>\n",
       "      <th>cs_p3_count</th>\n",
       "      <th>cs_p3_max</th>\n",
       "      <th>cs_p3_mean</th>\n",
       "      <th>cs_p3_min</th>\n",
       "      <th>cs_p3_std</th>\n",
       "      <th>cs_current_25%</th>\n",
       "      <th>cs_current_50%</th>\n",
       "      <th>cs_current_75%</th>\n",
       "      <th>cs_current_count</th>\n",
       "      <th>cs_current_max</th>\n",
       "      <th>cs_current_mean</th>\n",
       "      <th>cs_current_min</th>\n",
       "      <th>cs_current_std</th>\n",
       "    </tr>\n",
       "  </thead>\n",
       "  <tbody>\n",
       "    <tr>\n",
       "      <th>0</th>\n",
       "      <td>0</td>\n",
       "      <td>Train</td>\n",
       "      <td>True</td>\n",
       "      <td>0.894840</td>\n",
       "      <td>0.795151</td>\n",
       "      <td>0.0</td>\n",
       "      <td>0.0</td>\n",
       "      <td>0.795151</td>\n",
       "      <td>0.795151</td>\n",
       "      <td>0.795151</td>\n",
       "      <td>1.0</td>\n",
       "      <td>0.795151</td>\n",
       "      <td>0.795151</td>\n",
       "      <td>0.795151</td>\n",
       "      <td>0.000000</td>\n",
       "      <td>0.894840</td>\n",
       "      <td>0.894840</td>\n",
       "      <td>0.894840</td>\n",
       "      <td>1.0</td>\n",
       "      <td>0.894840</td>\n",
       "      <td>0.894840</td>\n",
       "      <td>0.894840</td>\n",
       "      <td>0.000000</td>\n",
       "      <td>0.894840</td>\n",
       "      <td>0.795151</td>\n",
       "      <td>0.000000</td>\n",
       "      <td>0.000000</td>\n",
       "      <td>0.000000</td>\n",
       "      <td>0.0</td>\n",
       "      <td>0.000000</td>\n",
       "      <td>0.00000</td>\n",
       "      <td>0.000000</td>\n",
       "      <td>0.000000</td>\n",
       "      <td>0.000000</td>\n",
       "      <td>0.000000</td>\n",
       "      <td>0.000000</td>\n",
       "      <td>0.0</td>\n",
       "      <td>0.000000</td>\n",
       "      <td>0.000000</td>\n",
       "      <td>0.000000</td>\n",
       "      <td>0.000000</td>\n",
       "    </tr>\n",
       "    <tr>\n",
       "      <th>1</th>\n",
       "      <td>0</td>\n",
       "      <td>Train</td>\n",
       "      <td>False</td>\n",
       "      <td>0.682422</td>\n",
       "      <td>0.613091</td>\n",
       "      <td>0.0</td>\n",
       "      <td>0.0</td>\n",
       "      <td>0.613091</td>\n",
       "      <td>0.613091</td>\n",
       "      <td>0.613091</td>\n",
       "      <td>1.0</td>\n",
       "      <td>0.613091</td>\n",
       "      <td>0.613091</td>\n",
       "      <td>0.613091</td>\n",
       "      <td>0.000000</td>\n",
       "      <td>0.682422</td>\n",
       "      <td>0.682422</td>\n",
       "      <td>0.682422</td>\n",
       "      <td>1.0</td>\n",
       "      <td>0.682422</td>\n",
       "      <td>0.682422</td>\n",
       "      <td>0.682422</td>\n",
       "      <td>0.000000</td>\n",
       "      <td>0.000000</td>\n",
       "      <td>0.000000</td>\n",
       "      <td>0.000000</td>\n",
       "      <td>0.000000</td>\n",
       "      <td>0.000000</td>\n",
       "      <td>0.0</td>\n",
       "      <td>0.000000</td>\n",
       "      <td>0.00000</td>\n",
       "      <td>0.000000</td>\n",
       "      <td>0.000000</td>\n",
       "      <td>0.000000</td>\n",
       "      <td>0.000000</td>\n",
       "      <td>0.000000</td>\n",
       "      <td>0.0</td>\n",
       "      <td>0.000000</td>\n",
       "      <td>0.000000</td>\n",
       "      <td>0.000000</td>\n",
       "      <td>0.000000</td>\n",
       "    </tr>\n",
       "    <tr>\n",
       "      <th>2</th>\n",
       "      <td>0</td>\n",
       "      <td>Train</td>\n",
       "      <td>False</td>\n",
       "      <td>0.243556</td>\n",
       "      <td>0.331429</td>\n",
       "      <td>10.0</td>\n",
       "      <td>0.6</td>\n",
       "      <td>0.290205</td>\n",
       "      <td>0.347987</td>\n",
       "      <td>0.713559</td>\n",
       "      <td>11.0</td>\n",
       "      <td>0.905337</td>\n",
       "      <td>0.494583</td>\n",
       "      <td>0.248274</td>\n",
       "      <td>0.249574</td>\n",
       "      <td>0.242376</td>\n",
       "      <td>0.307674</td>\n",
       "      <td>0.457873</td>\n",
       "      <td>11.0</td>\n",
       "      <td>0.861923</td>\n",
       "      <td>0.361851</td>\n",
       "      <td>0.065824</td>\n",
       "      <td>0.215294</td>\n",
       "      <td>0.000000</td>\n",
       "      <td>0.000000</td>\n",
       "      <td>0.174123</td>\n",
       "      <td>0.208792</td>\n",
       "      <td>0.428136</td>\n",
       "      <td>6.6</td>\n",
       "      <td>0.543202</td>\n",
       "      <td>0.29675</td>\n",
       "      <td>0.148964</td>\n",
       "      <td>0.149745</td>\n",
       "      <td>0.145425</td>\n",
       "      <td>0.184604</td>\n",
       "      <td>0.274724</td>\n",
       "      <td>6.6</td>\n",
       "      <td>0.517154</td>\n",
       "      <td>0.217111</td>\n",
       "      <td>0.039494</td>\n",
       "      <td>0.129177</td>\n",
       "    </tr>\n",
       "    <tr>\n",
       "      <th>3</th>\n",
       "      <td>0</td>\n",
       "      <td>Train</td>\n",
       "      <td>True</td>\n",
       "      <td>0.765137</td>\n",
       "      <td>0.773235</td>\n",
       "      <td>0.0</td>\n",
       "      <td>0.0</td>\n",
       "      <td>0.773235</td>\n",
       "      <td>0.773235</td>\n",
       "      <td>0.773235</td>\n",
       "      <td>1.0</td>\n",
       "      <td>0.773235</td>\n",
       "      <td>0.773235</td>\n",
       "      <td>0.773235</td>\n",
       "      <td>0.000000</td>\n",
       "      <td>0.765137</td>\n",
       "      <td>0.765137</td>\n",
       "      <td>0.765137</td>\n",
       "      <td>1.0</td>\n",
       "      <td>0.765137</td>\n",
       "      <td>0.765137</td>\n",
       "      <td>0.765137</td>\n",
       "      <td>0.000000</td>\n",
       "      <td>0.765137</td>\n",
       "      <td>0.773235</td>\n",
       "      <td>0.000000</td>\n",
       "      <td>0.000000</td>\n",
       "      <td>0.000000</td>\n",
       "      <td>0.0</td>\n",
       "      <td>0.000000</td>\n",
       "      <td>0.00000</td>\n",
       "      <td>0.000000</td>\n",
       "      <td>0.000000</td>\n",
       "      <td>0.000000</td>\n",
       "      <td>0.000000</td>\n",
       "      <td>0.000000</td>\n",
       "      <td>0.0</td>\n",
       "      <td>0.000000</td>\n",
       "      <td>0.000000</td>\n",
       "      <td>0.000000</td>\n",
       "      <td>0.000000</td>\n",
       "    </tr>\n",
       "    <tr>\n",
       "      <th>4</th>\n",
       "      <td>0</td>\n",
       "      <td>Train</td>\n",
       "      <td>True</td>\n",
       "      <td>0.848394</td>\n",
       "      <td>0.860215</td>\n",
       "      <td>1.0</td>\n",
       "      <td>0.0</td>\n",
       "      <td>0.663887</td>\n",
       "      <td>0.729330</td>\n",
       "      <td>0.794772</td>\n",
       "      <td>2.0</td>\n",
       "      <td>0.860215</td>\n",
       "      <td>0.729330</td>\n",
       "      <td>0.598445</td>\n",
       "      <td>0.185099</td>\n",
       "      <td>0.707406</td>\n",
       "      <td>0.754402</td>\n",
       "      <td>0.801398</td>\n",
       "      <td>2.0</td>\n",
       "      <td>0.848394</td>\n",
       "      <td>0.754402</td>\n",
       "      <td>0.660410</td>\n",
       "      <td>0.132925</td>\n",
       "      <td>0.848394</td>\n",
       "      <td>0.860215</td>\n",
       "      <td>0.000000</td>\n",
       "      <td>0.000000</td>\n",
       "      <td>0.000000</td>\n",
       "      <td>0.0</td>\n",
       "      <td>0.000000</td>\n",
       "      <td>0.00000</td>\n",
       "      <td>0.000000</td>\n",
       "      <td>0.000000</td>\n",
       "      <td>0.000000</td>\n",
       "      <td>0.000000</td>\n",
       "      <td>0.000000</td>\n",
       "      <td>0.0</td>\n",
       "      <td>0.000000</td>\n",
       "      <td>0.000000</td>\n",
       "      <td>0.000000</td>\n",
       "      <td>0.000000</td>\n",
       "    </tr>\n",
       "  </tbody>\n",
       "</table>\n",
       "</div>"
      ],
      "text/plain": [
       "   voted_against_party source sponsor_same_party  sponsor_cs_current  \\\n",
       "0                    0  Train               True            0.894840   \n",
       "1                    0  Train              False            0.682422   \n",
       "2                    0  Train              False            0.243556   \n",
       "3                    0  Train               True            0.765137   \n",
       "4                    0  Train               True            0.848394   \n",
       "\n",
       "   sponsor_cs_p3  number_of_cosponsors  cosponsor_same_party  cs_p3_25%  \\\n",
       "0       0.795151                   0.0                   0.0   0.795151   \n",
       "1       0.613091                   0.0                   0.0   0.613091   \n",
       "2       0.331429                  10.0                   0.6   0.290205   \n",
       "3       0.773235                   0.0                   0.0   0.773235   \n",
       "4       0.860215                   1.0                   0.0   0.663887   \n",
       "\n",
       "   cs_p3_50%  cs_p3_75%  cs_p3_count  cs_p3_max  cs_p3_mean  cs_p3_min  \\\n",
       "0   0.795151   0.795151          1.0   0.795151    0.795151   0.795151   \n",
       "1   0.613091   0.613091          1.0   0.613091    0.613091   0.613091   \n",
       "2   0.347987   0.713559         11.0   0.905337    0.494583   0.248274   \n",
       "3   0.773235   0.773235          1.0   0.773235    0.773235   0.773235   \n",
       "4   0.729330   0.794772          2.0   0.860215    0.729330   0.598445   \n",
       "\n",
       "   cs_p3_std  cs_current_25%  cs_current_50%  cs_current_75%  \\\n",
       "0   0.000000        0.894840        0.894840        0.894840   \n",
       "1   0.000000        0.682422        0.682422        0.682422   \n",
       "2   0.249574        0.242376        0.307674        0.457873   \n",
       "3   0.000000        0.765137        0.765137        0.765137   \n",
       "4   0.185099        0.707406        0.754402        0.801398   \n",
       "\n",
       "   cs_current_count  cs_current_max  cs_current_mean  cs_current_min  \\\n",
       "0               1.0        0.894840         0.894840        0.894840   \n",
       "1               1.0        0.682422         0.682422        0.682422   \n",
       "2              11.0        0.861923         0.361851        0.065824   \n",
       "3               1.0        0.765137         0.765137        0.765137   \n",
       "4               2.0        0.848394         0.754402        0.660410   \n",
       "\n",
       "   cs_current_std  sponsor_cs_current  sponsor_cs_p3  cs_p3_25%  cs_p3_50%  \\\n",
       "0        0.000000            0.894840       0.795151   0.000000   0.000000   \n",
       "1        0.000000            0.000000       0.000000   0.000000   0.000000   \n",
       "2        0.215294            0.000000       0.000000   0.174123   0.208792   \n",
       "3        0.000000            0.765137       0.773235   0.000000   0.000000   \n",
       "4        0.132925            0.848394       0.860215   0.000000   0.000000   \n",
       "\n",
       "   cs_p3_75%  cs_p3_count  cs_p3_max  cs_p3_mean  cs_p3_min  cs_p3_std  \\\n",
       "0   0.000000          0.0   0.000000     0.00000   0.000000   0.000000   \n",
       "1   0.000000          0.0   0.000000     0.00000   0.000000   0.000000   \n",
       "2   0.428136          6.6   0.543202     0.29675   0.148964   0.149745   \n",
       "3   0.000000          0.0   0.000000     0.00000   0.000000   0.000000   \n",
       "4   0.000000          0.0   0.000000     0.00000   0.000000   0.000000   \n",
       "\n",
       "   cs_current_25%  cs_current_50%  cs_current_75%  cs_current_count  \\\n",
       "0        0.000000        0.000000        0.000000               0.0   \n",
       "1        0.000000        0.000000        0.000000               0.0   \n",
       "2        0.145425        0.184604        0.274724               6.6   \n",
       "3        0.000000        0.000000        0.000000               0.0   \n",
       "4        0.000000        0.000000        0.000000               0.0   \n",
       "\n",
       "   cs_current_max  cs_current_mean  cs_current_min  cs_current_std  \n",
       "0        0.000000         0.000000        0.000000        0.000000  \n",
       "1        0.000000         0.000000        0.000000        0.000000  \n",
       "2        0.517154         0.217111        0.039494        0.129177  \n",
       "3        0.000000         0.000000        0.000000        0.000000  \n",
       "4        0.000000         0.000000        0.000000        0.000000  "
      ]
     },
     "execution_count": 216,
     "metadata": {},
     "output_type": "execute_result"
    }
   ],
   "source": [
    "df_model.head()"
   ]
  },
  {
   "cell_type": "code",
   "execution_count": 241,
   "metadata": {
    "collapsed": true
   },
   "outputs": [],
   "source": [
    "drop = ['voted_against_party','source']\n",
    "columns = [x for x in df_model.columns if x not in drop]\n",
    "lgr = LogisticRegression()\n",
    "x_train = df_model.loc[df_model.source == 'Train', columns]"
   ]
  },
  {
   "cell_type": "code",
   "execution_count": 242,
   "metadata": {
    "collapsed": false
   },
   "outputs": [
    {
     "data": {
      "text/plain": [
       "LogisticRegression(C=1.0, class_weight=None, dual=False, fit_intercept=True,\n",
       "          intercept_scaling=1, max_iter=100, multi_class='ovr', n_jobs=1,\n",
       "          penalty='l2', random_state=None, solver='liblinear', tol=0.0001,\n",
       "          verbose=0, warm_start=False)"
      ]
     },
     "execution_count": 242,
     "metadata": {},
     "output_type": "execute_result"
    }
   ],
   "source": [
    "drop = ['voted_against_party','source']\n",
    "columns = [x for x in df_model.columns if x not in drop]\n",
    "lgr = LogisticRegression()\n",
    "x_train = df_model.loc[df_model.source == 'Train', columns]\n",
    "y_train = df_model[df_model.source == 'Train'].voted_against_party\n",
    "x_test = df_model.loc[df_model.source == 'Test', columns]\n",
    "y_test = df_model[df_model.source == 'Test'].voted_against_party\n",
    "\n",
    "lgr.fit(x_train, y_train)"
   ]
  },
  {
   "cell_type": "code",
   "execution_count": 254,
   "metadata": {
    "collapsed": false
   },
   "outputs": [
    {
     "data": {
      "text/plain": [
       "0.0001125"
      ]
     },
     "execution_count": 254,
     "metadata": {},
     "output_type": "execute_result"
    }
   ],
   "source": [
    "18000/160000000"
   ]
  },
  {
   "cell_type": "code",
   "execution_count": 243,
   "metadata": {
    "collapsed": false
   },
   "outputs": [
    {
     "name": "stdout",
     "output_type": "stream",
     "text": [
      "             precision    recall  f1-score   support\n",
      "\n",
      "          0       0.83      1.00      0.91      1535\n",
      "          1       0.00      0.00      0.00       321\n",
      "\n",
      "avg / total       0.68      0.83      0.75      1856\n",
      "\n"
     ]
    },
    {
     "name": "stderr",
     "output_type": "stream",
     "text": [
      "C:\\Users\\Steve\\Anaconda3\\lib\\site-packages\\sklearn\\metrics\\classification.py:1113: UndefinedMetricWarning: Precision and F-score are ill-defined and being set to 0.0 in labels with no predicted samples.\n",
      "  'precision', 'predicted', average, warn_for)\n"
     ]
    }
   ],
   "source": [
    "# baseline\n",
    "print(metrics.classification_report(y_test, np.zeros(len(y_test))))"
   ]
  },
  {
   "cell_type": "code",
   "execution_count": 244,
   "metadata": {
    "collapsed": false
   },
   "outputs": [
    {
     "name": "stdout",
     "output_type": "stream",
     "text": [
      "             precision    recall  f1-score   support\n",
      "\n",
      "          0       0.85      0.96      0.90      1535\n",
      "          1       0.48      0.17      0.25       321\n",
      "\n",
      "avg / total       0.78      0.82      0.79      1856\n",
      "\n"
     ]
    }
   ],
   "source": [
    "print(metrics.classification_report(y_test, lgr.predict(x_test)))"
   ]
  },
  {
   "cell_type": "code",
   "execution_count": 245,
   "metadata": {
    "collapsed": false
   },
   "outputs": [
    {
     "name": "stdout",
     "output_type": "stream",
     "text": [
      "             precision    recall  f1-score   support\n",
      "\n",
      "          0       0.88      0.88      0.88      1535\n",
      "          1       0.42      0.42      0.42       321\n",
      "\n",
      "avg / total       0.80      0.80      0.80      1856\n",
      "\n"
     ]
    }
   ],
   "source": [
    "probs = lgr.predict_proba(x_train)[:,1]\n",
    "cuts = [np.percentile(probs,x) for x in np.linspace(20,100,20)]\n",
    "f1 = []\n",
    "for threshold in cuts:\n",
    "    pred = probs >= threshold\n",
    "    f1.append([threshold, metrics.f1_score(y_train,pred, average='weighted')])\n",
    "f1 = pd.DataFrame(f1, columns=['threshold','f1'])\n",
    "threshold = f1.threshold[f1.f1.idxmax()]\n",
    "p = lgr.predict_proba(x_test)[:,1] > threshold\n",
    "print(metrics.classification_report(y_test, p))"
   ]
  },
  {
   "cell_type": "code",
   "execution_count": 247,
   "metadata": {
    "collapsed": false
   },
   "outputs": [
    {
     "data": {
      "text/plain": [
       "0.28255694349691268"
      ]
     },
     "execution_count": 247,
     "metadata": {},
     "output_type": "execute_result"
    }
   ],
   "source": [
    "threshold"
   ]
  },
  {
   "cell_type": "code",
   "execution_count": 229,
   "metadata": {
    "collapsed": false
   },
   "outputs": [],
   "source": [
    "probs = lgr.predict_proba(x_test)[:,1]"
   ]
  },
  {
   "cell_type": "code",
   "execution_count": 234,
   "metadata": {
    "collapsed": false
   },
   "outputs": [
    {
     "data": {
      "text/plain": [
       "0.00044477446007927529"
      ]
     },
     "execution_count": 234,
     "metadata": {},
     "output_type": "execute_result"
    }
   ],
   "source": [
    "probs.min()"
   ]
  },
  {
   "cell_type": "code",
   "execution_count": 253,
   "metadata": {
    "collapsed": false
   },
   "outputs": [
    {
     "name": "stderr",
     "output_type": "stream",
     "text": [
      "C:\\Users\\Steve\\Anaconda3\\lib\\site-packages\\statsmodels\\nonparametric\\kdetools.py:20: VisibleDeprecationWarning: using a non-integer number instead of an integer will result in an error in the future\n",
      "  y = X[:m/2+1] + np.r_[0,X[m/2+1:],0]*1j\n"
     ]
    },
    {
     "data": {
      "image/png": "[encoded data removed]",
      "text/plain": [
       "<matplotlib.figure.Figure at 0x7a426dff98>"
      ]
     },
     "metadata": {},
     "output_type": "display_data"
    }
   ],
   "source": [
    "ax = sns.distplot(probs, hist=False)\n",
    "ax.set(ylabel='Density',xlabel = \"Flip Probability Estimate\", \n",
    "       title = 'Toy Model Probability Estimates: Campaign Contributions')\n",
    "ax.figure.savefig(\"prop_estimates.jpg\")"
   ]
  },
  {
   "cell_type": "code",
   "execution_count": null,
   "metadata": {
    "collapsed": true
   },
   "outputs": [],
   "source": []
  },
  {
   "cell_type": "code",
   "execution_count": null,
   "metadata": {
    "collapsed": true
   },
   "outputs": [],
   "source": []
  },
  {
   "cell_type": "code",
   "execution_count": null,
   "metadata": {
    "collapsed": true
   },
   "outputs": [],
   "source": []
  },
  {
   "cell_type": "code",
   "execution_count": null,
   "metadata": {
    "collapsed": true
   },
   "outputs": [],
   "source": []
  },
  {
   "cell_type": "code",
   "execution_count": null,
   "metadata": {
    "collapsed": true
   },
   "outputs": [],
   "source": []
  },
  {
   "cell_type": "code",
   "execution_count": null,
   "metadata": {
    "collapsed": true
   },
   "outputs": [],
   "source": []
  },
  {
   "cell_type": "code",
   "execution_count": null,
   "metadata": {
    "collapsed": true
   },
   "outputs": [],
   "source": []
  },
  {
   "cell_type": "code",
   "execution_count": 61,
   "metadata": {
    "collapsed": false
   },
   "outputs": [
    {
     "name": "stdout",
     "output_type": "stream",
     "text": [
      "             precision    recall  f1-score   support\n",
      "\n",
      "          0       0.82      1.00      0.90      2273\n",
      "          1       0.00      0.00      0.00       503\n",
      "\n",
      "avg / total       0.67      0.82      0.74      2776\n",
      "\n"
     ]
    },
    {
     "name": "stderr",
     "output_type": "stream",
     "text": [
      "C:\\Users\\Steve\\Anaconda3\\lib\\site-packages\\sklearn\\metrics\\classification.py:1113: UndefinedMetricWarning: Precision and F-score are ill-defined and being set to 0.0 in labels with no predicted samples.\n",
      "  'precision', 'predicted', average, warn_for)\n"
     ]
    }
   ],
   "source": [
    "y_test = df_votes[df_votes.source == 'Test'].voted_against_party\n",
    "print(metrics.classification_report(y_test, [0] * len(y_test)))"
   ]
  },
  {
   "cell_type": "code",
   "execution_count": 73,
   "metadata": {
    "collapsed": false
   },
   "outputs": [
    {
     "name": "stderr",
     "output_type": "stream",
     "text": [
      "C:\\Users\\Steve\\Anaconda3\\lib\\site-packages\\ipykernel\\__main__.py:3: SettingWithCopyWarning: \n",
      "A value is trying to be set on a copy of a slice from a DataFrame\n",
      "\n",
      "See the caveats in the documentation: http://pandas.pydata.org/pandas-docs/stable/indexing.html#indexing-view-versus-copy\n",
      "  app.launch_new_instance()\n"
     ]
    }
   ],
   "source": [
    "columns = ['voted_against_party','source','sponsor_same_party',\n",
    "           'sponsor_cs_current','sponsor_cs_p3']\n",
    "df_model = df_votes[columns]\n",
    "df_model.dropna(inplace=True)\n",
    "df_model.reset_index(inplace = True, drop=True)"
   ]
  },
  {
   "cell_type": "code",
   "execution_count": 74,
   "metadata": {
    "collapsed": false
   },
   "outputs": [
    {
     "data": {
      "text/html": [
       "<div>\n",
       "<table border=\"1\" class=\"dataframe\">\n",
       "  <thead>\n",
       "    <tr style=\"text-align: right;\">\n",
       "      <th></th>\n",
       "      <th>index</th>\n",
       "      <th>voted_against_party</th>\n",
       "      <th>source</th>\n",
       "      <th>sponsor_same_party</th>\n",
       "      <th>sponsor_cs_current</th>\n",
       "      <th>sponsor_cs_p3</th>\n",
       "    </tr>\n",
       "  </thead>\n",
       "  <tbody>\n",
       "    <tr>\n",
       "      <th>0</th>\n",
       "      <td>0</td>\n",
       "      <td>0</td>\n",
       "      <td>Train</td>\n",
       "      <td>True</td>\n",
       "      <td>0.894840</td>\n",
       "      <td>0.795151</td>\n",
       "    </tr>\n",
       "    <tr>\n",
       "      <th>1</th>\n",
       "      <td>2</td>\n",
       "      <td>0</td>\n",
       "      <td>Train</td>\n",
       "      <td>False</td>\n",
       "      <td>0.682422</td>\n",
       "      <td>0.613091</td>\n",
       "    </tr>\n",
       "    <tr>\n",
       "      <th>2</th>\n",
       "      <td>4</td>\n",
       "      <td>0</td>\n",
       "      <td>Train</td>\n",
       "      <td>False</td>\n",
       "      <td>0.243556</td>\n",
       "      <td>0.331429</td>\n",
       "    </tr>\n",
       "    <tr>\n",
       "      <th>3</th>\n",
       "      <td>5</td>\n",
       "      <td>0</td>\n",
       "      <td>Train</td>\n",
       "      <td>True</td>\n",
       "      <td>0.765137</td>\n",
       "      <td>0.773235</td>\n",
       "    </tr>\n",
       "    <tr>\n",
       "      <th>4</th>\n",
       "      <td>6</td>\n",
       "      <td>0</td>\n",
       "      <td>Train</td>\n",
       "      <td>True</td>\n",
       "      <td>0.848394</td>\n",
       "      <td>0.860215</td>\n",
       "    </tr>\n",
       "    <tr>\n",
       "      <th>5</th>\n",
       "      <td>8</td>\n",
       "      <td>0</td>\n",
       "      <td>Train</td>\n",
       "      <td>False</td>\n",
       "      <td>0.163571</td>\n",
       "      <td>0.375138</td>\n",
       "    </tr>\n",
       "    <tr>\n",
       "      <th>6</th>\n",
       "      <td>14</td>\n",
       "      <td>0</td>\n",
       "      <td>Train</td>\n",
       "      <td>False</td>\n",
       "      <td>0.726237</td>\n",
       "      <td>0.609512</td>\n",
       "    </tr>\n",
       "    <tr>\n",
       "      <th>7</th>\n",
       "      <td>15</td>\n",
       "      <td>0</td>\n",
       "      <td>Train</td>\n",
       "      <td>True</td>\n",
       "      <td>0.868371</td>\n",
       "      <td>0.737725</td>\n",
       "    </tr>\n",
       "    <tr>\n",
       "      <th>8</th>\n",
       "      <td>16</td>\n",
       "      <td>0</td>\n",
       "      <td>Train</td>\n",
       "      <td>False</td>\n",
       "      <td>0.468702</td>\n",
       "      <td>0.530630</td>\n",
       "    </tr>\n",
       "    <tr>\n",
       "      <th>9</th>\n",
       "      <td>17</td>\n",
       "      <td>1</td>\n",
       "      <td>Train</td>\n",
       "      <td>True</td>\n",
       "      <td>0.788900</td>\n",
       "      <td>0.853579</td>\n",
       "    </tr>\n",
       "    <tr>\n",
       "      <th>10</th>\n",
       "      <td>20</td>\n",
       "      <td>0</td>\n",
       "      <td>Train</td>\n",
       "      <td>True</td>\n",
       "      <td>0.885172</td>\n",
       "      <td>0.899368</td>\n",
       "    </tr>\n",
       "    <tr>\n",
       "      <th>11</th>\n",
       "      <td>23</td>\n",
       "      <td>0</td>\n",
       "      <td>Train</td>\n",
       "      <td>True</td>\n",
       "      <td>0.542515</td>\n",
       "      <td>0.572691</td>\n",
       "    </tr>\n",
       "    <tr>\n",
       "      <th>12</th>\n",
       "      <td>25</td>\n",
       "      <td>0</td>\n",
       "      <td>Train</td>\n",
       "      <td>True</td>\n",
       "      <td>0.708460</td>\n",
       "      <td>0.709333</td>\n",
       "    </tr>\n",
       "    <tr>\n",
       "      <th>13</th>\n",
       "      <td>26</td>\n",
       "      <td>0</td>\n",
       "      <td>Train</td>\n",
       "      <td>True</td>\n",
       "      <td>0.681163</td>\n",
       "      <td>0.655366</td>\n",
       "    </tr>\n",
       "    <tr>\n",
       "      <th>14</th>\n",
       "      <td>27</td>\n",
       "      <td>0</td>\n",
       "      <td>Train</td>\n",
       "      <td>True</td>\n",
       "      <td>0.742629</td>\n",
       "      <td>0.943230</td>\n",
       "    </tr>\n",
       "    <tr>\n",
       "      <th>15</th>\n",
       "      <td>28</td>\n",
       "      <td>0</td>\n",
       "      <td>Train</td>\n",
       "      <td>True</td>\n",
       "      <td>0.732020</td>\n",
       "      <td>0.722532</td>\n",
       "    </tr>\n",
       "    <tr>\n",
       "      <th>16</th>\n",
       "      <td>29</td>\n",
       "      <td>0</td>\n",
       "      <td>Train</td>\n",
       "      <td>True</td>\n",
       "      <td>0.693601</td>\n",
       "      <td>0.677640</td>\n",
       "    </tr>\n",
       "    <tr>\n",
       "      <th>17</th>\n",
       "      <td>30</td>\n",
       "      <td>0</td>\n",
       "      <td>Train</td>\n",
       "      <td>False</td>\n",
       "      <td>0.538127</td>\n",
       "      <td>0.419911</td>\n",
       "    </tr>\n",
       "    <tr>\n",
       "      <th>18</th>\n",
       "      <td>33</td>\n",
       "      <td>0</td>\n",
       "      <td>Train</td>\n",
       "      <td>False</td>\n",
       "      <td>0.390546</td>\n",
       "      <td>0.370667</td>\n",
       "    </tr>\n",
       "    <tr>\n",
       "      <th>19</th>\n",
       "      <td>36</td>\n",
       "      <td>0</td>\n",
       "      <td>Train</td>\n",
       "      <td>True</td>\n",
       "      <td>0.869322</td>\n",
       "      <td>0.837776</td>\n",
       "    </tr>\n",
       "    <tr>\n",
       "      <th>20</th>\n",
       "      <td>38</td>\n",
       "      <td>0</td>\n",
       "      <td>Train</td>\n",
       "      <td>False</td>\n",
       "      <td>0.520845</td>\n",
       "      <td>0.388088</td>\n",
       "    </tr>\n",
       "    <tr>\n",
       "      <th>21</th>\n",
       "      <td>40</td>\n",
       "      <td>0</td>\n",
       "      <td>Train</td>\n",
       "      <td>True</td>\n",
       "      <td>0.824287</td>\n",
       "      <td>0.826108</td>\n",
       "    </tr>\n",
       "    <tr>\n",
       "      <th>22</th>\n",
       "      <td>41</td>\n",
       "      <td>0</td>\n",
       "      <td>Train</td>\n",
       "      <td>True</td>\n",
       "      <td>0.659318</td>\n",
       "      <td>0.654848</td>\n",
       "    </tr>\n",
       "    <tr>\n",
       "      <th>23</th>\n",
       "      <td>44</td>\n",
       "      <td>1</td>\n",
       "      <td>Train</td>\n",
       "      <td>True</td>\n",
       "      <td>0.912882</td>\n",
       "      <td>0.923579</td>\n",
       "    </tr>\n",
       "    <tr>\n",
       "      <th>24</th>\n",
       "      <td>47</td>\n",
       "      <td>1</td>\n",
       "      <td>Train</td>\n",
       "      <td>True</td>\n",
       "      <td>0.938368</td>\n",
       "      <td>0.756014</td>\n",
       "    </tr>\n",
       "    <tr>\n",
       "      <th>25</th>\n",
       "      <td>49</td>\n",
       "      <td>0</td>\n",
       "      <td>Train</td>\n",
       "      <td>False</td>\n",
       "      <td>0.439936</td>\n",
       "      <td>0.331979</td>\n",
       "    </tr>\n",
       "    <tr>\n",
       "      <th>26</th>\n",
       "      <td>50</td>\n",
       "      <td>0</td>\n",
       "      <td>Train</td>\n",
       "      <td>True</td>\n",
       "      <td>0.819387</td>\n",
       "      <td>0.808965</td>\n",
       "    </tr>\n",
       "    <tr>\n",
       "      <th>27</th>\n",
       "      <td>55</td>\n",
       "      <td>0</td>\n",
       "      <td>Train</td>\n",
       "      <td>False</td>\n",
       "      <td>0.350952</td>\n",
       "      <td>0.434893</td>\n",
       "    </tr>\n",
       "    <tr>\n",
       "      <th>28</th>\n",
       "      <td>58</td>\n",
       "      <td>0</td>\n",
       "      <td>Train</td>\n",
       "      <td>True</td>\n",
       "      <td>0.902203</td>\n",
       "      <td>0.859105</td>\n",
       "    </tr>\n",
       "    <tr>\n",
       "      <th>29</th>\n",
       "      <td>60</td>\n",
       "      <td>0</td>\n",
       "      <td>Train</td>\n",
       "      <td>False</td>\n",
       "      <td>0.281987</td>\n",
       "      <td>0.306371</td>\n",
       "    </tr>\n",
       "    <tr>\n",
       "      <th>...</th>\n",
       "      <td>...</td>\n",
       "      <td>...</td>\n",
       "      <td>...</td>\n",
       "      <td>...</td>\n",
       "      <td>...</td>\n",
       "      <td>...</td>\n",
       "    </tr>\n",
       "    <tr>\n",
       "      <th>7391</th>\n",
       "      <td>17929</td>\n",
       "      <td>0</td>\n",
       "      <td>Test</td>\n",
       "      <td>True</td>\n",
       "      <td>0.722896</td>\n",
       "      <td>0.701209</td>\n",
       "    </tr>\n",
       "    <tr>\n",
       "      <th>7392</th>\n",
       "      <td>17938</td>\n",
       "      <td>0</td>\n",
       "      <td>Test</td>\n",
       "      <td>False</td>\n",
       "      <td>0.309454</td>\n",
       "      <td>0.200748</td>\n",
       "    </tr>\n",
       "    <tr>\n",
       "      <th>7393</th>\n",
       "      <td>17939</td>\n",
       "      <td>1</td>\n",
       "      <td>Test</td>\n",
       "      <td>False</td>\n",
       "      <td>0.470431</td>\n",
       "      <td>0.508645</td>\n",
       "    </tr>\n",
       "    <tr>\n",
       "      <th>7394</th>\n",
       "      <td>17943</td>\n",
       "      <td>0</td>\n",
       "      <td>Test</td>\n",
       "      <td>True</td>\n",
       "      <td>0.414862</td>\n",
       "      <td>0.567028</td>\n",
       "    </tr>\n",
       "    <tr>\n",
       "      <th>7395</th>\n",
       "      <td>17945</td>\n",
       "      <td>0</td>\n",
       "      <td>Test</td>\n",
       "      <td>True</td>\n",
       "      <td>0.817544</td>\n",
       "      <td>0.951160</td>\n",
       "    </tr>\n",
       "    <tr>\n",
       "      <th>7396</th>\n",
       "      <td>17949</td>\n",
       "      <td>0</td>\n",
       "      <td>Test</td>\n",
       "      <td>False</td>\n",
       "      <td>0.608973</td>\n",
       "      <td>0.587946</td>\n",
       "    </tr>\n",
       "    <tr>\n",
       "      <th>7397</th>\n",
       "      <td>17951</td>\n",
       "      <td>0</td>\n",
       "      <td>Test</td>\n",
       "      <td>True</td>\n",
       "      <td>0.876302</td>\n",
       "      <td>0.757779</td>\n",
       "    </tr>\n",
       "    <tr>\n",
       "      <th>7398</th>\n",
       "      <td>17956</td>\n",
       "      <td>1</td>\n",
       "      <td>Test</td>\n",
       "      <td>False</td>\n",
       "      <td>0.237709</td>\n",
       "      <td>0.336550</td>\n",
       "    </tr>\n",
       "    <tr>\n",
       "      <th>7399</th>\n",
       "      <td>17958</td>\n",
       "      <td>0</td>\n",
       "      <td>Test</td>\n",
       "      <td>False</td>\n",
       "      <td>0.247260</td>\n",
       "      <td>0.174262</td>\n",
       "    </tr>\n",
       "    <tr>\n",
       "      <th>7400</th>\n",
       "      <td>17960</td>\n",
       "      <td>1</td>\n",
       "      <td>Test</td>\n",
       "      <td>True</td>\n",
       "      <td>0.803207</td>\n",
       "      <td>0.822929</td>\n",
       "    </tr>\n",
       "    <tr>\n",
       "      <th>7401</th>\n",
       "      <td>17965</td>\n",
       "      <td>0</td>\n",
       "      <td>Test</td>\n",
       "      <td>True</td>\n",
       "      <td>0.436883</td>\n",
       "      <td>0.471847</td>\n",
       "    </tr>\n",
       "    <tr>\n",
       "      <th>7402</th>\n",
       "      <td>17966</td>\n",
       "      <td>0</td>\n",
       "      <td>Test</td>\n",
       "      <td>True</td>\n",
       "      <td>0.672122</td>\n",
       "      <td>0.935784</td>\n",
       "    </tr>\n",
       "    <tr>\n",
       "      <th>7403</th>\n",
       "      <td>17970</td>\n",
       "      <td>1</td>\n",
       "      <td>Test</td>\n",
       "      <td>True</td>\n",
       "      <td>0.590261</td>\n",
       "      <td>0.727357</td>\n",
       "    </tr>\n",
       "    <tr>\n",
       "      <th>7404</th>\n",
       "      <td>17977</td>\n",
       "      <td>0</td>\n",
       "      <td>Test</td>\n",
       "      <td>False</td>\n",
       "      <td>0.231225</td>\n",
       "      <td>0.327814</td>\n",
       "    </tr>\n",
       "    <tr>\n",
       "      <th>7405</th>\n",
       "      <td>17978</td>\n",
       "      <td>0</td>\n",
       "      <td>Test</td>\n",
       "      <td>False</td>\n",
       "      <td>0.537139</td>\n",
       "      <td>0.410235</td>\n",
       "    </tr>\n",
       "    <tr>\n",
       "      <th>7406</th>\n",
       "      <td>17980</td>\n",
       "      <td>0</td>\n",
       "      <td>Test</td>\n",
       "      <td>True</td>\n",
       "      <td>0.765464</td>\n",
       "      <td>0.776882</td>\n",
       "    </tr>\n",
       "    <tr>\n",
       "      <th>7407</th>\n",
       "      <td>17987</td>\n",
       "      <td>0</td>\n",
       "      <td>Test</td>\n",
       "      <td>True</td>\n",
       "      <td>0.745986</td>\n",
       "      <td>0.793060</td>\n",
       "    </tr>\n",
       "    <tr>\n",
       "      <th>7408</th>\n",
       "      <td>17990</td>\n",
       "      <td>0</td>\n",
       "      <td>Test</td>\n",
       "      <td>True</td>\n",
       "      <td>0.680444</td>\n",
       "      <td>0.698280</td>\n",
       "    </tr>\n",
       "    <tr>\n",
       "      <th>7409</th>\n",
       "      <td>17992</td>\n",
       "      <td>0</td>\n",
       "      <td>Test</td>\n",
       "      <td>True</td>\n",
       "      <td>0.635771</td>\n",
       "      <td>0.855683</td>\n",
       "    </tr>\n",
       "    <tr>\n",
       "      <th>7410</th>\n",
       "      <td>17994</td>\n",
       "      <td>0</td>\n",
       "      <td>Test</td>\n",
       "      <td>False</td>\n",
       "      <td>0.644773</td>\n",
       "      <td>0.511775</td>\n",
       "    </tr>\n",
       "    <tr>\n",
       "      <th>7411</th>\n",
       "      <td>17997</td>\n",
       "      <td>1</td>\n",
       "      <td>Test</td>\n",
       "      <td>False</td>\n",
       "      <td>0.629321</td>\n",
       "      <td>0.544733</td>\n",
       "    </tr>\n",
       "    <tr>\n",
       "      <th>7412</th>\n",
       "      <td>17999</td>\n",
       "      <td>0</td>\n",
       "      <td>Test</td>\n",
       "      <td>False</td>\n",
       "      <td>0.699034</td>\n",
       "      <td>0.567658</td>\n",
       "    </tr>\n",
       "    <tr>\n",
       "      <th>7413</th>\n",
       "      <td>18001</td>\n",
       "      <td>1</td>\n",
       "      <td>Test</td>\n",
       "      <td>True</td>\n",
       "      <td>0.727667</td>\n",
       "      <td>0.805710</td>\n",
       "    </tr>\n",
       "    <tr>\n",
       "      <th>7414</th>\n",
       "      <td>18002</td>\n",
       "      <td>0</td>\n",
       "      <td>Test</td>\n",
       "      <td>True</td>\n",
       "      <td>0.678642</td>\n",
       "      <td>0.708712</td>\n",
       "    </tr>\n",
       "    <tr>\n",
       "      <th>7415</th>\n",
       "      <td>18005</td>\n",
       "      <td>0</td>\n",
       "      <td>Test</td>\n",
       "      <td>False</td>\n",
       "      <td>0.378694</td>\n",
       "      <td>0.294964</td>\n",
       "    </tr>\n",
       "    <tr>\n",
       "      <th>7416</th>\n",
       "      <td>18008</td>\n",
       "      <td>0</td>\n",
       "      <td>Test</td>\n",
       "      <td>True</td>\n",
       "      <td>0.703326</td>\n",
       "      <td>0.741481</td>\n",
       "    </tr>\n",
       "    <tr>\n",
       "      <th>7417</th>\n",
       "      <td>18011</td>\n",
       "      <td>0</td>\n",
       "      <td>Test</td>\n",
       "      <td>False</td>\n",
       "      <td>0.324590</td>\n",
       "      <td>0.322035</td>\n",
       "    </tr>\n",
       "    <tr>\n",
       "      <th>7418</th>\n",
       "      <td>18019</td>\n",
       "      <td>0</td>\n",
       "      <td>Test</td>\n",
       "      <td>False</td>\n",
       "      <td>0.759878</td>\n",
       "      <td>0.717659</td>\n",
       "    </tr>\n",
       "    <tr>\n",
       "      <th>7419</th>\n",
       "      <td>18020</td>\n",
       "      <td>0</td>\n",
       "      <td>Test</td>\n",
       "      <td>False</td>\n",
       "      <td>0.795367</td>\n",
       "      <td>0.751188</td>\n",
       "    </tr>\n",
       "    <tr>\n",
       "      <th>7420</th>\n",
       "      <td>18024</td>\n",
       "      <td>0</td>\n",
       "      <td>Test</td>\n",
       "      <td>True</td>\n",
       "      <td>0.620365</td>\n",
       "      <td>0.610913</td>\n",
       "    </tr>\n",
       "  </tbody>\n",
       "</table>\n",
       "<p>7421 rows × 6 columns</p>\n",
       "</div>"
      ],
      "text/plain": [
       "      index  voted_against_party source sponsor_same_party  \\\n",
       "0         0                    0  Train               True   \n",
       "1         2                    0  Train              False   \n",
       "2         4                    0  Train              False   \n",
       "3         5                    0  Train               True   \n",
       "4         6                    0  Train               True   \n",
       "5         8                    0  Train              False   \n",
       "6        14                    0  Train              False   \n",
       "7        15                    0  Train               True   \n",
       "8        16                    0  Train              False   \n",
       "9        17                    1  Train               True   \n",
       "10       20                    0  Train               True   \n",
       "11       23                    0  Train               True   \n",
       "12       25                    0  Train               True   \n",
       "13       26                    0  Train               True   \n",
       "14       27                    0  Train               True   \n",
       "15       28                    0  Train               True   \n",
       "16       29                    0  Train               True   \n",
       "17       30                    0  Train              False   \n",
       "18       33                    0  Train              False   \n",
       "19       36                    0  Train               True   \n",
       "20       38                    0  Train              False   \n",
       "21       40                    0  Train               True   \n",
       "22       41                    0  Train               True   \n",
       "23       44                    1  Train               True   \n",
       "24       47                    1  Train               True   \n",
       "25       49                    0  Train              False   \n",
       "26       50                    0  Train               True   \n",
       "27       55                    0  Train              False   \n",
       "28       58                    0  Train               True   \n",
       "29       60                    0  Train              False   \n",
       "...     ...                  ...    ...                ...   \n",
       "7391  17929                    0   Test               True   \n",
       "7392  17938                    0   Test              False   \n",
       "7393  17939                    1   Test              False   \n",
       "7394  17943                    0   Test               True   \n",
       "7395  17945                    0   Test               True   \n",
       "7396  17949                    0   Test              False   \n",
       "7397  17951                    0   Test               True   \n",
       "7398  17956                    1   Test              False   \n",
       "7399  17958                    0   Test              False   \n",
       "7400  17960                    1   Test               True   \n",
       "7401  17965                    0   Test               True   \n",
       "7402  17966                    0   Test               True   \n",
       "7403  17970                    1   Test               True   \n",
       "7404  17977                    0   Test              False   \n",
       "7405  17978                    0   Test              False   \n",
       "7406  17980                    0   Test               True   \n",
       "7407  17987                    0   Test               True   \n",
       "7408  17990                    0   Test               True   \n",
       "7409  17992                    0   Test               True   \n",
       "7410  17994                    0   Test              False   \n",
       "7411  17997                    1   Test              False   \n",
       "7412  17999                    0   Test              False   \n",
       "7413  18001                    1   Test               True   \n",
       "7414  18002                    0   Test               True   \n",
       "7415  18005                    0   Test              False   \n",
       "7416  18008                    0   Test               True   \n",
       "7417  18011                    0   Test              False   \n",
       "7418  18019                    0   Test              False   \n",
       "7419  18020                    0   Test              False   \n",
       "7420  18024                    0   Test               True   \n",
       "\n",
       "      sponsor_cs_current  sponsor_cs_p3  \n",
       "0               0.894840       0.795151  \n",
       "1               0.682422       0.613091  \n",
       "2               0.243556       0.331429  \n",
       "3               0.765137       0.773235  \n",
       "4               0.848394       0.860215  \n",
       "5               0.163571       0.375138  \n",
       "6               0.726237       0.609512  \n",
       "7               0.868371       0.737725  \n",
       "8               0.468702       0.530630  \n",
       "9               0.788900       0.853579  \n",
       "10              0.885172       0.899368  \n",
       "11              0.542515       0.572691  \n",
       "12              0.708460       0.709333  \n",
       "13              0.681163       0.655366  \n",
       "14              0.742629       0.943230  \n",
       "15              0.732020       0.722532  \n",
       "16              0.693601       0.677640  \n",
       "17              0.538127       0.419911  \n",
       "18              0.390546       0.370667  \n",
       "19              0.869322       0.837776  \n",
       "20              0.520845       0.388088  \n",
       "21              0.824287       0.826108  \n",
       "22              0.659318       0.654848  \n",
       "23              0.912882       0.923579  \n",
       "24              0.938368       0.756014  \n",
       "25              0.439936       0.331979  \n",
       "26              0.819387       0.808965  \n",
       "27              0.350952       0.434893  \n",
       "28              0.902203       0.859105  \n",
       "29              0.281987       0.306371  \n",
       "...                  ...            ...  \n",
       "7391            0.722896       0.701209  \n",
       "7392            0.309454       0.200748  \n",
       "7393            0.470431       0.508645  \n",
       "7394            0.414862       0.567028  \n",
       "7395            0.817544       0.951160  \n",
       "7396            0.608973       0.587946  \n",
       "7397            0.876302       0.757779  \n",
       "7398            0.237709       0.336550  \n",
       "7399            0.247260       0.174262  \n",
       "7400            0.803207       0.822929  \n",
       "7401            0.436883       0.471847  \n",
       "7402            0.672122       0.935784  \n",
       "7403            0.590261       0.727357  \n",
       "7404            0.231225       0.327814  \n",
       "7405            0.537139       0.410235  \n",
       "7406            0.765464       0.776882  \n",
       "7407            0.745986       0.793060  \n",
       "7408            0.680444       0.698280  \n",
       "7409            0.635771       0.855683  \n",
       "7410            0.644773       0.511775  \n",
       "7411            0.629321       0.544733  \n",
       "7412            0.699034       0.567658  \n",
       "7413            0.727667       0.805710  \n",
       "7414            0.678642       0.708712  \n",
       "7415            0.378694       0.294964  \n",
       "7416            0.703326       0.741481  \n",
       "7417            0.324590       0.322035  \n",
       "7418            0.759878       0.717659  \n",
       "7419            0.795367       0.751188  \n",
       "7420            0.620365       0.610913  \n",
       "\n",
       "[7421 rows x 6 columns]"
      ]
     },
     "execution_count": 74,
     "metadata": {},
     "output_type": "execute_result"
    }
   ],
   "source": [
    "df_model"
   ]
  },
  {
   "cell_type": "code",
   "execution_count": 75,
   "metadata": {
    "collapsed": false
   },
   "outputs": [],
   "source": [
    "columns = ['sponsor_same_party','sponsor_cs_current','sponsor_cs_p3']\n",
    "poly = PolynomialFeatures(interaction_only=True)\n",
    "test = poly.fit_transform(df_model[columns])"
   ]
  },
  {
   "cell_type": "code",
   "execution_count": 87,
   "metadata": {
    "collapsed": false
   },
   "outputs": [
    {
     "data": {
      "text/plain": [
       "LogisticRegression(C=1.0, class_weight=None, dual=False, fit_intercept=True,\n",
       "          intercept_scaling=1, max_iter=100, multi_class='ovr', n_jobs=1,\n",
       "          penalty='l2', random_state=None, solver='liblinear', tol=0.0001,\n",
       "          verbose=0, warm_start=False)"
      ]
     },
     "execution_count": 87,
     "metadata": {},
     "output_type": "execute_result"
    }
   ],
   "source": [
    "lgr = LogisticRegression()\n",
    "x_train = pd.DataFrame(test)[df_model.source == 'Train']\n",
    "y_train = df_model[df_model.source == 'Train'].voted_against_party\n",
    "x_test = pd.DataFrame(test)[df_model.source == 'Test']\n",
    "y_test = df_model[df_model.source == 'Test'].voted_against_party\n",
    "\n",
    "lgr.fit(x_train, y_train)"
   ]
  },
  {
   "cell_type": "code",
   "execution_count": 112,
   "metadata": {
    "collapsed": false
   },
   "outputs": [
    {
     "name": "stdout",
     "output_type": "stream",
     "text": [
      "             precision    recall  f1-score   support\n",
      "\n",
      "          0       0.83      0.94      0.88      1535\n",
      "          1       0.19      0.07      0.10       321\n",
      "\n",
      "avg / total       0.72      0.79      0.75      1856\n",
      "\n"
     ]
    }
   ],
   "source": [
    "probs = lgr.predict_proba(x_train)[:,1]\n",
    "cuts = [np.percentile(probs,x) for x in np.linspace(50,100,9)]\n",
    "f1 = []\n",
    "for threshold in cuts:\n",
    "    pred = probs >= threshold\n",
    "    f1.append([threshold, metrics.f1_score(y_train,pred, average='weighted')])\n",
    "f1 = pd.DataFrame(f1, columns=['threshold','f1'])\n",
    "threshold = f1.threshold[f1.f1.idxmax()]\n",
    "p = lgr.predict_proba(x_test)[:,1] > threshold\n",
    "print(metrics.classification_report(y_test, p))"
   ]
  },
  {
   "cell_type": "code",
   "execution_count": 104,
   "metadata": {
    "collapsed": false
   },
   "outputs": [
    {
     "name": "stdout",
     "output_type": "stream",
     "text": [
      "             precision    recall  f1-score   support\n",
      "\n",
      "          0       0.83      1.00      0.91      1535\n",
      "          1       0.00      0.00      0.00       321\n",
      "\n",
      "avg / total       0.68      0.83      0.75      1856\n",
      "\n"
     ]
    },
    {
     "name": "stderr",
     "output_type": "stream",
     "text": [
      "C:\\Users\\Steve\\Anaconda3\\lib\\site-packages\\sklearn\\metrics\\classification.py:1113: UndefinedMetricWarning: Precision and F-score are ill-defined and being set to 0.0 in labels with no predicted samples.\n",
      "  'precision', 'predicted', average, warn_for)\n"
     ]
    }
   ],
   "source": [
    "print(metrics.classification_report(y_test, [0] * len(y_test)))"
   ]
  },
  {
   "cell_type": "code",
   "execution_count": 113,
   "metadata": {
    "collapsed": true
   },
   "outputs": [],
   "source": []
  },
  {
   "cell_type": "code",
   "execution_count": 121,
   "metadata": {
    "collapsed": false
   },
   "outputs": [],
   "source": [
    "r = results.predict(df_model[df_model.source == 'Test'])"
   ]
  },
  {
   "cell_type": "code",
   "execution_count": 129,
   "metadata": {
    "collapsed": false
   },
   "outputs": [
    {
     "name": "stdout",
     "output_type": "stream",
     "text": [
      "             precision    recall  f1-score   support\n",
      "\n",
      "          0       0.83      1.00      0.90      1535\n",
      "          1       0.29      0.01      0.01       321\n",
      "\n",
      "avg / total       0.73      0.83      0.75      1856\n",
      "\n"
     ]
    }
   ],
   "source": [
    "p = r > .35\n",
    "print(metrics.classification_report(y_test, p))"
   ]
  },
  {
   "cell_type": "code",
   "execution_count": 118,
   "metadata": {
    "collapsed": false
   },
   "outputs": [
    {
     "name": "stdout",
     "output_type": "stream",
     "text": [
      "Optimization terminated successfully.\n",
      "         Current function value: 0.459527\n",
      "         Iterations 6\n",
      "                            Logit Regression Results                           \n",
      "===============================================================================\n",
      "Dep. Variable:     voted_against_party   No. Observations:                 5565\n",
      "Model:                           Logit   Df Residuals:                     5559\n",
      "Method:                            MLE   Df Model:                            5\n",
      "Date:                 Mon, 13 Nov 2017   Pseudo R-squ.:                 0.01677\n",
      "Time:                         02:07:34   Log-Likelihood:                -2557.3\n",
      "converged:                        True   LL-Null:                       -2600.9\n",
      "                                         LLR p-value:                 2.561e-17\n",
      "=================================================================================================================\n",
      "                                                    coef    std err          z      P>|z|      [95.0% Conf. Int.]\n",
      "-----------------------------------------------------------------------------------------------------------------\n",
      "Intercept                                        -2.2569      0.166    -13.584      0.000        -2.583    -1.931\n",
      "sponsor_same_party[T.True]                        1.1303      0.311      3.630      0.000         0.520     1.741\n",
      "sponsor_cs_current                               -1.8166      0.589     -3.086      0.002        -2.970    -0.663\n",
      "sponsor_cs_current:sponsor_same_party[T.True]     4.1165      0.750      5.489      0.000         2.647     5.587\n",
      "sponsor_cs_p3                                     3.7063      0.655      5.658      0.000         2.422     4.990\n",
      "sponsor_cs_p3:sponsor_same_party[T.True]         -6.5466      0.820     -7.983      0.000        -8.154    -4.939\n",
      "=================================================================================================================\n"
     ]
    }
   ],
   "source": [
    "results = smf.logit('voted_against_party ~ sponsor_same_party + sponsor_cs_current + sponsor_cs_p3 + sponsor_cs_p3 * sponsor_same_party + sponsor_cs_current * sponsor_same_party' , data = df_model[df_model.source == 'Train']).fit()\n",
    "print(results.summary())"
   ]
  },
  {
   "cell_type": "code",
   "execution_count": 115,
   "metadata": {
    "collapsed": false
   },
   "outputs": [
    {
     "data": {
      "text/plain": [
       "Index(['index', 'voted_against_party', 'source', 'sponsor_same_party',\n",
       "       'sponsor_cs_current', 'sponsor_cs_p3'],\n",
       "      dtype='object')"
      ]
     },
     "execution_count": 115,
     "metadata": {},
     "output_type": "execute_result"
    }
   ],
   "source": [
    "df_model.columns"
   ]
  },
  {
   "cell_type": "code",
   "execution_count": 103,
   "metadata": {
    "collapsed": false
   },
   "outputs": [
    {
     "data": {
      "text/plain": [
       "0.22142667461828827"
      ]
     },
     "execution_count": 103,
     "metadata": {},
     "output_type": "execute_result"
    }
   ],
   "source": [
    "threshold"
   ]
  },
  {
   "cell_type": "code",
   "execution_count": 108,
   "metadata": {
    "collapsed": false
   },
   "outputs": [
    {
     "data": {
      "text/plain": [
       "array([ 50.,  55.,  60.,  65.,  70.,  75.,  80.,  85.,  90.])"
      ]
     },
     "execution_count": 108,
     "metadata": {},
     "output_type": "execute_result"
    }
   ],
   "source": [
    "np.linspace(50,90,9)"
   ]
  },
  {
   "cell_type": "code",
   "execution_count": 111,
   "metadata": {
    "collapsed": false
   },
   "outputs": [
    {
     "data": {
      "text/plain": [
       "0.22142667461828827"
      ]
     },
     "execution_count": 111,
     "metadata": {},
     "output_type": "execute_result"
    }
   ],
   "source": [
    "np.percentile(probs,90)"
   ]
  },
  {
   "cell_type": "code",
   "execution_count": 132,
   "metadata": {
    "collapsed": false
   },
   "outputs": [
    {
     "data": {
      "text/plain": [
       "0.070284286175330946"
      ]
     },
     "execution_count": 132,
     "metadata": {},
     "output_type": "execute_result"
    }
   ],
   "source": [
    "probs.min()"
   ]
  },
  {
   "cell_type": "code",
   "execution_count": 131,
   "metadata": {
    "collapsed": false
   },
   "outputs": [
    {
     "data": {
      "text/plain": [
       "0.32768386731992205"
      ]
     },
     "execution_count": 131,
     "metadata": {},
     "output_type": "execute_result"
    }
   ],
   "source": [
    "probs.max()"
   ]
  },
  {
   "cell_type": "code",
   "execution_count": 71,
   "metadata": {
    "collapsed": false
   },
   "outputs": [
    {
     "data": {
      "text/plain": [
       "PolynomialFeatures(degree=      sponsor_same_party  sponsor_cs_current  sponsor_cs_p3\n",
       "0                   True            0.894840       0.795151\n",
       "1                  False                 NaN            NaN\n",
       "2                  False            0.682422       0.613091\n",
       "4                  False            0.243556       0....      0.751188\n",
       "18024               True            0.620365       0.610913\n",
       "\n",
       "[11137 rows x 3 columns],\n",
       "          include_bias=True, interaction_only=True)"
      ]
     },
     "execution_count": 71,
     "metadata": {},
     "output_type": "execute_result"
    }
   ],
   "source": [
    "test"
   ]
  },
  {
   "cell_type": "code",
   "execution_count": 30,
   "metadata": {
    "collapsed": false
   },
   "outputs": [
    {
     "data": {
      "text/plain": [
       "array(['hr', 'hres', 'hjres', 's'], dtype=object)"
      ]
     },
     "execution_count": 30,
     "metadata": {},
     "output_type": "execute_result"
    }
   ],
   "source": [
    "df_votes.bill_type.unique()"
   ]
  }
 ],
 "metadata": {
  "kernelspec": {
   "display_name": "Python 3",
   "language": "python",
   "name": "python3"
  },
  "language_info": {
   "codemirror_mode": {
    "name": "ipython",
    "version": 3
   },
   "file_extension": ".py",
   "mimetype": "text/x-python",
   "name": "python",
   "nbconvert_exporter": "python",
   "pygments_lexer": "ipython3",
   "version": "3.6.0"
  }
 },
 "nbformat": 4,
 "nbformat_minor": 2
}
